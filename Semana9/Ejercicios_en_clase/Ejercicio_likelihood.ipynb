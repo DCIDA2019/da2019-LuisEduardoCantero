{
 "cells": [
  {
   "cell_type": "markdown",
   "metadata": {},
   "source": [
    "# CODIGOS PARA OBTENER EL LIKELIHOOD Y EL POSTERIOR DE UN CONJUNTO DE DATOS"
   ]
  },
  {
   "cell_type": "code",
   "execution_count": 1,
   "metadata": {},
   "outputs": [],
   "source": [
    "# Importamos las librerias que se utilizaran\n",
    "import numpy as np\n",
    "import emcee\n",
    "import matplotlib.pyplot as plt\n",
    "import scipy.stats as st\n",
    "import math\n",
    "import random\n",
    "import scipy.optimize as op\n",
    "import corner\n",
    "import matplotlib\n",
    "plt.style.use('classic')"
   ]
  },
  {
   "cell_type": "markdown",
   "metadata": {},
   "source": [
    "Se cargan datos experimentales"
   ]
  },
  {
   "cell_type": "markdown",
   "metadata": {},
   "source": [
    "Valores verdaderos:\n",
    "    a=-0.95\n",
    "    b=4.29"
   ]
  },
  {
   "cell_type": "code",
   "execution_count": 2,
   "metadata": {},
   "outputs": [],
   "source": [
    "data = np.load('fit_ejercise.npy')"
   ]
  },
  {
   "cell_type": "markdown",
   "metadata": {},
   "source": [
    "Se grafican los datos"
   ]
  },
  {
   "cell_type": "code",
   "execution_count": 4,
   "metadata": {},
   "outputs": [
    {
     "data": {
      "text/plain": [
       "[<matplotlib.lines.Line2D at 0x7f1517b486a0>]"
      ]
     },
     "execution_count": 4,
     "metadata": {},
     "output_type": "execute_result"
    },
    {
     "data": {
      "image/png": "[encoded data removed]",
      "text/plain": [
       "<Figure size 432x288 with 1 Axes>"
      ]
     },
     "metadata": {},
     "output_type": "display_data"
    }
   ],
   "source": [
    "plt.scatter(data[0], data[1], color='red')\n",
    "plt.plot(data[0], data[1], color='green')"
   ]
  },
  {
   "cell_type": "markdown",
   "metadata": {},
   "source": [
    "Definimos una funcion llamada linea que corresponde al modelo a evaluar en este ejercicio"
   ]
  },
  {
   "cell_type": "code",
   "execution_count": 5,
   "metadata": {},
   "outputs": [],
   "source": [
    "def line(x, m, b):\n",
    "    return(m*x + b)"
   ]
  },
  {
   "cell_type": "markdown",
   "metadata": {},
   "source": [
    "Graficamos el conjunto original y con el error asociado"
   ]
  },
  {
   "cell_type": "code",
   "execution_count": 31,
   "metadata": {
    "scrolled": true
   },
   "outputs": [
    {
     "data": {
      "text/plain": [
       "<function matplotlib.pyplot.show(*args, **kw)>"
      ]
     },
     "execution_count": 31,
     "metadata": {},
     "output_type": "execute_result"
    },
    {
     "data": {
      "image/png": "[encoded data removed]",
      "text/plain": [
       "<Figure size 432x288 with 1 Axes>"
      ]
     },
     "metadata": {},
     "output_type": "display_data"
    }
   ],
   "source": [
    "fig, ax = plt.subplots()\n",
    "ax.errorbar(data[0], data[1], yerr=data[2],fmt='o', c='red')\n",
    "plt.xlabel('X')\n",
    "plt.ylabel('Y')\n",
    "plt.show"
   ]
  },
  {
   "cell_type": "markdown",
   "metadata": {},
   "source": [
    "Se definen las siguientes funciones para obtener el logaritmo natural de likelihood, evaluar una cadena de Markov, obtener el prior y el logaritmo de posterior. "
   ]
  },
  {
   "cell_type": "code",
   "execution_count": 37,
   "metadata": {},
   "outputs": [],
   "source": [
    "def lnlh(theta):\n",
    "    modelo=line(data[0], theta[0],theta[1]) # Se evalua el modelo en todos los datos independientes o 'x' del experimento\n",
    "    diferencia = data[1] - modelo # Se compara el modelo con los datos\n",
    "    u=0\n",
    "    u = np.dot(diferencia, data[2]) # Se multiplica la diferencia por la matriz de desviaciones\n",
    "    u = np.dot(u,diferencia) # Se multiplica el valor pasado por la diferencia\n",
    "    u = -0.5 * np.sum(u) #Se multiplica por -1/2 y se suman los valores\n",
    "    return u\n",
    "\n",
    "def Markov(theta1, thetap): # Se ingresa con un punto inicial y con un punto de prueba\n",
    "    p1 = lnlh(theta1) # Se evalua el likelihood para el primer punto\n",
    "    pp = lnlh(thetap) # Se evalua el likelihood para el segundo punto\n",
    "    if(pp>p1): # Se acepta el nuevo punto si el likelihood es mayor al punto anterior\n",
    "        return thetap\n",
    "    else: #Si es menor, segenera un punto aleatorio entre 0 y 1\n",
    "        w = np.random.rand()\n",
    "        if(pp-p1>np.log(w)): # Si la diferencia entre los likelihoods del nuevo punto menos el punto antorior es mayor al\n",
    "                            # aleatorio, se acepta el nuevo punto\n",
    "            return thetap\n",
    "        else:\n",
    "            return theta1 # Si no es mayor, se rechaza y se genera otro punto en otra cadena\n",
    "    return\n"
   ]
  },
  {
   "cell_type": "code",
   "execution_count": 41,
   "metadata": {},
   "outputs": [],
   "source": [
    "Nmuestras = 40000\n",
    "sigma1 = 0.05\n",
    "sigma2 = 0.05\n",
    "\n",
    "Ncadenas = 8\n",
    "thetas = [-2,0.1]\n",
    "cadenas = []\n",
    "\n",
    "for j in range(Ncadenas):\n",
    "    thetas = np.array([np.random.normal(np.random.uniform(-1, .0100), sigma1), np.random.normal(thetas[1], sigma2)])\n",
    "    for i in range(Nmuestras):\n",
    "        if i==0:\n",
    "            cadena = thetas\n",
    "        else:\n",
    "            thetat = np.array([np.random.normal(thetas[0], sigma1), np.random.normal(thetas[1], sigma2)])\n",
    "            thetanuevo = Markov(thetas, thetat)\n",
    "            cadena = np.vstack((cadena, thetanuevo))\n",
    "            thetas = thetanuevo\n",
    "    if j==0:\n",
    "        cadenas = cadena\n",
    "    else:\n",
    "        cadenas = np.vstack((cadenas, cadena))"
   ]
  },
  {
   "cell_type": "markdown",
   "metadata": {},
   "source": [
    "Se hace una separacion de cada cadena"
   ]
  },
  {
   "cell_type": "code",
   "execution_count": 42,
   "metadata": {},
   "outputs": [],
   "source": [
    "x1 = cadenas[0:Nmuestras,0]\n",
    "y1 = cadenas[0:Nmuestras,1]\n",
    "x2 = cadenas[Nmuestras+1:Nmuestras*2,0]\n",
    "y2 = cadenas[Nmuestras+1:Nmuestras*2,1]\n",
    "x3 = cadenas[2*Nmuestras+1:Nmuestras*3,0]\n",
    "y3 = cadenas[2*Nmuestras+1:Nmuestras*3,1]\n",
    "x4 = cadenas[3*Nmuestras+1:Nmuestras*4,0]\n",
    "y4 = cadenas[3*Nmuestras+1:Nmuestras*4,1]\n",
    "x5 = cadenas[4*Nmuestras+1:Nmuestras*5,0]\n",
    "y5 = cadenas[4*Nmuestras+1:Nmuestras*5,1]\n",
    "x6 = cadenas[5*Nmuestras+1:Nmuestras*6,0]\n",
    "y6 = cadenas[5*Nmuestras+1:Nmuestras*6,1]\n",
    "x7 = cadenas[6*Nmuestras+1:Nmuestras*7,0]\n",
    "y7 = cadenas[6*Nmuestras+1:Nmuestras*7,1]\n",
    "x8 = cadenas[7*Nmuestras+1:Nmuestras*8,0]\n",
    "y8 = cadenas[7*Nmuestras+1:Nmuestras*8,1]"
   ]
  },
  {
   "cell_type": "code",
   "execution_count": 43,
   "metadata": {},
   "outputs": [
    {
     "data": {
      "text/plain": [
       "Text(0,0.5,'b')"
      ]
     },
     "execution_count": 43,
     "metadata": {},
     "output_type": "execute_result"
    },
    {
     "data": {
      "image/png": "[encoded data removed]",
      "text/plain": [
       "<Figure size 1080x576 with 1 Axes>"
      ]
     },
     "metadata": {},
     "output_type": "display_data"
    }
   ],
   "source": [
    "plt.rcParams[\"figure.figsize\"] = (15,8)\n",
    "plt.rcParams.update({'font.size':15})\n",
    "plt.scatter(x1, y1, color = 'g',s=1)\n",
    "plt.scatter(x2, y2, color = 'r',s=1)\n",
    "plt.scatter(x3, y3, color = 'y',s=1)\n",
    "plt.scatter(x4, y4, color = 'b',s=1)\n",
    "plt.scatter(x5, y5, color = 'c',s=1)\n",
    "plt.scatter(x6, y6, color = 'm',s=1)\n",
    "plt.scatter(x7, y7, color = 'k',s=1)\n",
    "plt.scatter(x8, y8, color = 'w',s=1)\n",
    "plt.xlabel('a')\n",
    "plt.ylabel('b')\n"
   ]
  },
  {
   "cell_type": "markdown",
   "metadata": {},
   "source": [
    "Se hace un histograma del numero de muestras para el parametro 'a'. Se hace un 'burning' de un tercio de las muestras."
   ]
  },
  {
   "cell_type": "code",
   "execution_count": null,
   "metadata": {},
   "outputs": [],
   "source": [
    "nb = 8\n",
    "plt.rcParams[\"figure.figsize\"] = (15,8)\n",
    "plt.rcParams.update({'font.size':15})\n",
    "plt.hist(x1[int(Nmuestras/3):], alpha = 0.5, label = 'W_1', bins=nb)\n",
    "plt.hist(x2[int(Nmuestras/3):], alpha = 0.5, label = 'W_2', bins=nb)\n",
    "plt.hist(x3[int(Nmuestras/3):], alpha = 0.5, label = 'W_2', bins=nb)\n",
    "plt.hist(x4[int(Nmuestras/3):], alpha = 0.5, label = 'W_2', bins=nb)\n",
    "plt.hist(x5[int(Nmuestras/3):], alpha = 0.5, label = 'W_2', bins=nb)\n",
    "plt.hist(x6[int(Nmuestras/3):], alpha = 0.5, label = 'W_2', bins=nb)\n",
    "plt.hist(x7[int(Nmuestras/3):], alpha = 0.5, label = 'W_2', bins=nb)\n",
    "plt.hist(x8[int(Nmuestras/3):], alpha = 0.5, label = 'W_2', bins=nb)\n",
    "plt.xlabel('a')\n",
    "plt.ylabel('Muestras')\n",
    "plt.legend()"
   ]
  },
  {
   "cell_type": "markdown",
   "metadata": {},
   "source": [
    "Se hace un histograma del numero de muestras para el parametro 'b'. Se hace un 'burning' de un tercio de las muestras."
   ]
  },
  {
   "cell_type": "code",
   "execution_count": null,
   "metadata": {},
   "outputs": [],
   "source": [
    "nb = 8\n",
    "plt.rcParams[\"figure.figsize\"] = (15,8)\n",
    "plt.rcParams.update({'font.size':15})\n",
    "plt.hist(y1[int(Nmuestras/2):], alpha = 0.5, label = 'W_1', bins=nb)\n",
    "plt.hist(y2[int(Nmuestras/2):], alpha = 0.5, label = 'W_2', bins=nb)\n",
    "plt.hist(y3[int(Nmuestras/2):], alpha = 0.5, label = 'W_3', bins=nb)\n",
    "plt.hist(y4[int(Nmuestras/2):], alpha = 0.5, label = 'W_4', bins=nb)\n",
    "plt.hist(y5[int(Nmuestras/2):], alpha = 0.5, label = 'W_5', bins=nb)\n",
    "plt.hist(y6[int(Nmuestras/2):], alpha = 0.5, label = 'W_6', bins=nb)\n",
    "plt.hist(y7[int(Nmuestras/2):], alpha = 0.5, label = 'W_7', bins=nb)\n",
    "plt.hist(y8[int(Nmuestras/2):], alpha = 0.5, label = 'W_8', bins=nb)\n",
    "plt.xlabel('b')\n",
    "plt.ylabel('Muestras')\n",
    "plt.legend()"
   ]
  },
  {
   "cell_type": "markdown",
   "metadata": {},
   "source": [
    "Se grafica un solo caminador para generar la grafica de esquina. Se hace un 'burning' de un tercio de las muestras."
   ]
  },
  {
   "cell_type": "code",
   "execution_count": null,
   "metadata": {},
   "outputs": [],
   "source": [
    "plt.rcParams[\"figure.figsize\"] = (15,8)\n",
    "plt.rcParams.update({'font.size':15})\n",
    "plt.xlabel('a')\n",
    "plt.ylabel('b')\n",
    "plt.scatter(x1[int(Nmuestras/3):], y1[int(Nmuestras/3):], color = 'g', s=1) # primer caminador"
   ]
  },
  {
   "cell_type": "markdown",
   "metadata": {},
   "source": [
    "Se genera la grafica de esquina usando la libreria corner. Se hace un 'burning' de un tercio de las muestras."
   ]
  },
  {
   "cell_type": "code",
   "execution_count": null,
   "metadata": {},
   "outputs": [],
   "source": [
    "camino1 = np.array([x1[int(Nmuestras/3):], y1[int(Nmuestras/3):]])\n",
    "fig = corner.corner(camino1.T,labels=[\"$a$\", \"$b$\"], truths=[3, 2])\n",
    "fig.show()"
   ]
  },
  {
   "cell_type": "markdown",
   "metadata": {},
   "source": [
    "Se generan las grafias de corner para cuatro caminadores mas. Se hace un 'burning' de un medio de las muestras."
   ]
  },
  {
   "cell_type": "code",
   "execution_count": null,
   "metadata": {},
   "outputs": [],
   "source": [
    "camino2 = np.array([x2[int(Nmuestras/2):], y2[int(Nmuestras/2):]])\n",
    "camino3 = np.array([x3[int(Nmuestras/2):], y3[int(Nmuestras/2):]])\n",
    "camino4 = np.array([x4[int(Nmuestras/2):], y4[int(Nmuestras/2):]])\n",
    "camino5 = np.array([x5[int(Nmuestras/2):], y5[int(Nmuestras/2):]])\n",
    "\n",
    "\n",
    "fig = corner.corner(camino2.T,labels=[\"$a$\", \"$b$\"], truths=[3, 2])\n",
    "fig = corner.corner(camino3.T,labels=[\"$a$\", \"$b$\"], truths=[3, 2])\n",
    "fig = corner.corner(camino4.T,labels=[\"$a$\", \"$b$\"], truths=[3, 2])\n",
    "fig = corner.corner(camino5.T,labels=[\"$a$\", \"$b$\"], truths=[3, 2])\n",
    "\n",
    "fig.show()"
   ]
  },
  {
   "cell_type": "markdown",
   "metadata": {},
   "source": [
    "Se hace una grafica del numero de pasos - valor del parametro, se puede ver como los puntos se mueven alrededor de un valor definido. Se hace un 'burning' de un medio de las muestras."
   ]
  },
  {
   "cell_type": "code",
   "execution_count": null,
   "metadata": {},
   "outputs": [],
   "source": [
    "# Caminador 1\n",
    "plt.rcParams[\"figure.figsize\"] = (10,5)\n",
    "plt.rcParams.update({'font.size':15})\n",
    "plt.plot(np.arange(len(x1[int(Nmuestras/2):])), x1[int(Nmuestras/2):], color = 'g')\n",
    "plt.xlabel('step')\n",
    "plt.ylabel('a')"
   ]
  },
  {
   "cell_type": "code",
   "execution_count": null,
   "metadata": {},
   "outputs": [],
   "source": [
    "# Caminador 1\n",
    "plt.rcParams[\"figure.figsize\"] = (10,5)\n",
    "plt.rcParams.update({'font.size':15})\n",
    "plt.plot(np.arange(len(x1[int(Nmuestras/2):])), y1[int(Nmuestras/2):], color = 'g')\n",
    "plt.xlabel('step')\n",
    "plt.ylabel('b')"
   ]
  },
  {
   "cell_type": "markdown",
   "metadata": {},
   "source": [
    "Se hacen las mismas graficas para otra muestra"
   ]
  },
  {
   "cell_type": "code",
   "execution_count": null,
   "metadata": {},
   "outputs": [],
   "source": [
    "#Caminadr 2\n",
    "plt.rcParams[\"figure.figsize\"] = (10,5)\n",
    "plt.rcParams.update({'font.size':15})\n",
    "plt.plot(np.arange(len(x2[int(Nmuestras/2):])), x2[int(Nmuestras/2):], color = 'r')\n",
    "plt.xlabel('step')\n",
    "plt.ylabel('a')"
   ]
  },
  {
   "cell_type": "code",
   "execution_count": null,
   "metadata": {},
   "outputs": [],
   "source": [
    "#Camindaor 2\n",
    "plt.rcParams[\"figure.figsize\"] = (10,5)\n",
    "plt.rcParams.update({'font.size':15})\n",
    "plt.plot(np.arange(len(x2[int(Nmuestras/2):])), y2[int(Nmuestras/2):], color = 'r')\n",
    "plt.xlabel('step')\n",
    "plt.ylabel('b')"
   ]
  }
 ],
 "metadata": {
  "kernelspec": {
   "display_name": "Python 3",
   "language": "python",
   "name": "python3"
  },
  "language_info": {
   "codemirror_mode": {
    "name": "ipython",
    "version": 3
   },
   "file_extension": ".py",
   "mimetype": "text/x-python",
   "name": "python",
   "nbconvert_exporter": "python",
   "pygments_lexer": "ipython3",
   "version": "3.6.5"
  }
 },
 "nbformat": 4,
 "nbformat_minor": 2
}
