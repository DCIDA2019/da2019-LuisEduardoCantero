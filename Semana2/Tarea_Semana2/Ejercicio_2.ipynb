{
 "cells": [
  {
   "cell_type": "markdown",
   "metadata": {},
   "source": [
    "# Manipulacion de datos con Pandas"
   ]
  },
  {
   "cell_type": "code",
   "execution_count": 3,
   "metadata": {},
   "outputs": [],
   "source": [
    "# Impotamos las lbrerias necesarias\n",
    "import numpy as np\n",
    "import math as mt\n",
    "import matplotlib.pyplot as plt\n",
    "import pandas as pd\n",
    "import requests\n",
    "import os"
   ]
  },
  {
   "cell_type": "code",
   "execution_count": 7,
   "metadata": {},
   "outputs": [],
   "source": [
    "pd?"
   ]
  },
  {
   "cell_type": "markdown",
   "metadata": {},
   "source": [
    "## INTRODUCCION A LOS OBJETOS DE PANDAS"
   ]
  },
  {
   "cell_type": "markdown",
   "metadata": {},
   "source": [
    "### EL OBJETO SERIES DE PANDAS"
   ]
  },
  {
   "cell_type": "markdown",
   "metadata": {},
   "source": [
    "Una serie de Pandas es un arreglo de una dimension de datos con indices. Ejemplo de creacion:"
   ]
  },
  {
   "cell_type": "code",
   "execution_count": 9,
   "metadata": {},
   "outputs": [
    {
     "data": {
      "text/plain": [
       "0    0.25\n",
       "1    0.50\n",
       "2    0.75\n",
       "3    1.00\n",
       "dtype: float64"
      ]
     },
     "execution_count": 9,
     "metadata": {},
     "output_type": "execute_result"
    }
   ],
   "source": [
    "# ARREGLO CON FLOTANTES\n",
    "data = pd.Series([0.25, 0.5, 0.75, 1.0])\n",
    "data"
   ]
  },
  {
   "cell_type": "code",
   "execution_count": 10,
   "metadata": {},
   "outputs": [
    {
     "data": {
      "text/plain": [
       "0     50\n",
       "1    100\n",
       "2    -50\n",
       "3   -200\n",
       "dtype: int64"
      ]
     },
     "execution_count": 10,
     "metadata": {},
     "output_type": "execute_result"
    }
   ],
   "source": [
    "# ARREGLO CON ENTEROS\n",
    "data1 = pd.Series([50, 100, -50, -200])\n",
    "data1"
   ]
  },
  {
   "cell_type": "markdown",
   "metadata": {},
   "source": [
    "Los datos de salida son una lista con un indice. Se puede acceder a estos valores de la siguiente manera:"
   ]
  },
  {
   "cell_type": "code",
   "execution_count": 11,
   "metadata": {},
   "outputs": [
    {
     "data": {
      "text/plain": [
       "array([0.25, 0.5 , 0.75, 1.  ])"
      ]
     },
     "execution_count": 11,
     "metadata": {},
     "output_type": "execute_result"
    }
   ],
   "source": [
    "data.values"
   ]
  },
  {
   "cell_type": "code",
   "execution_count": 12,
   "metadata": {},
   "outputs": [
    {
     "data": {
      "text/plain": [
       "array([  50,  100,  -50, -200])"
      ]
     },
     "execution_count": 12,
     "metadata": {},
     "output_type": "execute_result"
    }
   ],
   "source": [
    "data1.values"
   ]
  },
  {
   "cell_type": "code",
   "execution_count": 13,
   "metadata": {},
   "outputs": [
    {
     "data": {
      "text/plain": [
       "RangeIndex(start=0, stop=4, step=1)"
      ]
     },
     "execution_count": 13,
     "metadata": {},
     "output_type": "execute_result"
    }
   ],
   "source": [
    "data.index"
   ]
  },
  {
   "cell_type": "code",
   "execution_count": 14,
   "metadata": {},
   "outputs": [
    {
     "data": {
      "text/plain": [
       "RangeIndex(start=0, stop=4, step=1)"
      ]
     },
     "execution_count": 14,
     "metadata": {},
     "output_type": "execute_result"
    }
   ],
   "source": [
    "data1.index"
   ]
  },
  {
   "cell_type": "code",
   "execution_count": 18,
   "metadata": {},
   "outputs": [
    {
     "data": {
      "text/plain": [
       "0.25"
      ]
     },
     "execution_count": 18,
     "metadata": {},
     "output_type": "execute_result"
    }
   ],
   "source": [
    "data[0]"
   ]
  },
  {
   "cell_type": "code",
   "execution_count": 19,
   "metadata": {},
   "outputs": [
    {
     "data": {
      "text/plain": [
       "0    0.25\n",
       "1    0.50\n",
       "2    0.75\n",
       "dtype: float64"
      ]
     },
     "execution_count": 19,
     "metadata": {},
     "output_type": "execute_result"
    }
   ],
   "source": [
    "data[0:3]"
   ]
  },
  {
   "cell_type": "code",
   "execution_count": 20,
   "metadata": {},
   "outputs": [
    {
     "data": {
      "text/plain": [
       "50"
      ]
     },
     "execution_count": 20,
     "metadata": {},
     "output_type": "execute_result"
    }
   ],
   "source": [
    "data1[0]"
   ]
  },
  {
   "cell_type": "code",
   "execution_count": 21,
   "metadata": {},
   "outputs": [
    {
     "data": {
      "text/plain": [
       "0     50\n",
       "1    100\n",
       "2    -50\n",
       "dtype: int64"
      ]
     },
     "execution_count": 21,
     "metadata": {},
     "output_type": "execute_result"
    }
   ],
   "source": [
    "data1[0:3]"
   ]
  },
  {
   "cell_type": "markdown",
   "metadata": {},
   "source": [
    "### LAS SERIES COMO ARREGLOS GENERALIZADOS DE NUMPY"
   ]
  },
  {
   "cell_type": "markdown",
   "metadata": {},
   "source": [
    "Las series no necesariamente llevan un indice con valor numerico, pueden ser una cadena de caracteres, por ejemplo:"
   ]
  },
  {
   "cell_type": "code",
   "execution_count": 22,
   "metadata": {},
   "outputs": [
    {
     "data": {
      "text/plain": [
       "hola1    10\n",
       "hola2    20\n",
       "hola3    30\n",
       "hola4    40\n",
       "dtype: int64"
      ]
     },
     "execution_count": 22,
     "metadata": {},
     "output_type": "execute_result"
    }
   ],
   "source": [
    "data3 = pd.Series([10, 20, 30, 40],\n",
    "                 index=['hola1', 'hola2', 'hola3', 'hola4'])\n",
    "data3"
   ]
  },
  {
   "cell_type": "markdown",
   "metadata": {},
   "source": [
    "Ejemplo de como accesar a esta serie mediante su indice:"
   ]
  },
  {
   "cell_type": "code",
   "execution_count": 24,
   "metadata": {},
   "outputs": [
    {
     "data": {
      "text/plain": [
       "30"
      ]
     },
     "execution_count": 24,
     "metadata": {},
     "output_type": "execute_result"
    }
   ],
   "source": [
    "data3['hola3']"
   ]
  },
  {
   "cell_type": "markdown",
   "metadata": {},
   "source": [
    "### SERIES COMO DICCIONARIOS ESPECIALIZADOS"
   ]
  },
  {
   "cell_type": "markdown",
   "metadata": {},
   "source": [
    "En algunas ocasiones en que se manipulan series, es conveniente trabajarlas como diccionarios, que son basicamente series con indices en forma de cadenas de texto. Estas series pueden construirse apartir de objetos directamente desde un diccionario de Python. Por ejemplo:"
   ]
  },
  {
   "cell_type": "code",
   "execution_count": 25,
   "metadata": {},
   "outputs": [
    {
     "data": {
      "text/plain": [
       "masa1           383.32521\n",
       "peso1           264.48193\n",
       "volumen1        196.51127\n",
       "temperatura1    195.52860\n",
       "presion1        128.82135\n",
       "dtype: float64"
      ]
     },
     "execution_count": 25,
     "metadata": {},
     "output_type": "execute_result"
    }
   ],
   "source": [
    "medidas = {'masa1': 383.32521,\n",
    "                   'peso1': 264.48193,\n",
    "                   'volumen1': 196.51127,\n",
    "                   'temperatura1': 195.52860,\n",
    "                   'presion1': 128.82135}\n",
    "medida = pd.Series(medidas)\n",
    "medida"
   ]
  },
  {
   "cell_type": "code",
   "execution_count": 26,
   "metadata": {},
   "outputs": [
    {
     "data": {
      "text/plain": [
       "196.51127"
      ]
     },
     "execution_count": 26,
     "metadata": {},
     "output_type": "execute_result"
    }
   ],
   "source": [
    "medida['volumen1']"
   ]
  },
  {
   "cell_type": "markdown",
   "metadata": {},
   "source": [
    "### CONSTRUYENDO AL OBJETO SERIE"
   ]
  },
  {
   "cell_type": "code",
   "execution_count": null,
   "metadata": {},
   "outputs": [],
   "source": [
    "#codigo base\n",
    "pd.Series(data, index=index)\n",
    "# index es un valor opcional"
   ]
  },
  {
   "cell_type": "markdown",
   "metadata": {},
   "source": [
    "Ejemplos:"
   ]
  },
  {
   "cell_type": "code",
   "execution_count": 29,
   "metadata": {},
   "outputs": [
    {
     "data": {
      "text/plain": [
       "0         13\n",
       "1         20\n",
       "2         15\n",
       "3    1111111\n",
       "dtype: int64"
      ]
     },
     "execution_count": 29,
     "metadata": {},
     "output_type": "execute_result"
    }
   ],
   "source": [
    "pd.Series([13,20,15,1111111])"
   ]
  },
  {
   "cell_type": "code",
   "execution_count": 30,
   "metadata": {},
   "outputs": [
    {
     "data": {
      "text/plain": [
       "1      5\n",
       "558    5\n",
       "7      5\n",
       "dtype: int64"
      ]
     },
     "execution_count": 30,
     "metadata": {},
     "output_type": "execute_result"
    }
   ],
   "source": [
    "\n",
    "pd.Series(5, index=[1, 558, 7])"
   ]
  },
  {
   "cell_type": "markdown",
   "metadata": {},
   "source": [
    "### EL OBJETO MARCO DE DATOS DE PANDAS"
   ]
  },
  {
   "cell_type": "markdown",
   "metadata": {},
   "source": [
    "Los marcos de datos de pandas son series que contienen mas de un arreglo de datos con el mismo indice:"
   ]
  },
  {
   "cell_type": "code",
   "execution_count": 6,
   "metadata": {},
   "outputs": [
    {
     "data": {
      "text/plain": [
       "{'ACERO': 'TON',\n",
       " 'CONCRETO': 'TON',\n",
       " 'CARBON': 'TON',\n",
       " 'PETROLEO': 'BARRIL',\n",
       " 'GAS': 'M3',\n",
       " 'GASOLINA': 'LITRO'}"
      ]
     },
     "execution_count": 6,
     "metadata": {},
     "output_type": "execute_result"
    }
   ],
   "source": [
    "unidad = {'ACERO': 'TON',\n",
    "                   'CONCRETO': 'TON',\n",
    "                   'CARBON': 'TON',\n",
    "                   'PETROLEO': 'BARRIL',\n",
    "                   'GAS': 'M3',\n",
    "                   'GASOLINA': 'LITRO'}\n",
    "unidades = pd.Series(unidad)\n",
    "unidad"
   ]
  },
  {
   "cell_type": "code",
   "execution_count": 3,
   "metadata": {},
   "outputs": [
    {
     "data": {
      "text/plain": [
       "ACERO       10000\n",
       "CONCRETO     5000\n",
       "CARBON       2500\n",
       "PETROLEO      300\n",
       "GAS           250\n",
       "GASOLINA       20\n",
       "dtype: int64"
      ]
     },
     "execution_count": 3,
     "metadata": {},
     "output_type": "execute_result"
    }
   ],
   "source": [
    "precio = {'ACERO': 10000, 'CONCRETO': 5000, 'CARBON': 2500, 'PETROLEO': 300, 'GAS': 250, 'GASOLINA': 20}\n",
    "precios = pd.Series(precio)\n",
    "precios"
   ]
  },
  {
   "cell_type": "markdown",
   "metadata": {},
   "source": [
    "Ahora construimos un objeto bidimensional con estas dos series"
   ]
  },
  {
   "cell_type": "code",
   "execution_count": 9,
   "metadata": {},
   "outputs": [
    {
     "data": {
      "text/html": [
       "<div>\n",
       "<style scoped>\n",
       "    .dataframe tbody tr th:only-of-type {\n",
       "        vertical-align: middle;\n",
       "    }\n",
       "\n",
       "    .dataframe tbody tr th {\n",
       "        vertical-align: top;\n",
       "    }\n",
       "\n",
       "    .dataframe thead th {\n",
       "        text-align: right;\n",
       "    }\n",
       "</style>\n",
       "<table border=\"1\" class=\"dataframe\">\n",
       "  <thead>\n",
       "    <tr style=\"text-align: right;\">\n",
       "      <th></th>\n",
       "      <th>precios</th>\n",
       "      <th>unidades</th>\n",
       "    </tr>\n",
       "  </thead>\n",
       "  <tbody>\n",
       "    <tr>\n",
       "      <th>ACERO</th>\n",
       "      <td>10000</td>\n",
       "      <td>TON</td>\n",
       "    </tr>\n",
       "    <tr>\n",
       "      <th>CONCRETO</th>\n",
       "      <td>5000</td>\n",
       "      <td>TON</td>\n",
       "    </tr>\n",
       "    <tr>\n",
       "      <th>CARBON</th>\n",
       "      <td>2500</td>\n",
       "      <td>TON</td>\n",
       "    </tr>\n",
       "    <tr>\n",
       "      <th>PETROLEO</th>\n",
       "      <td>300</td>\n",
       "      <td>BARRIL</td>\n",
       "    </tr>\n",
       "    <tr>\n",
       "      <th>GAS</th>\n",
       "      <td>250</td>\n",
       "      <td>M3</td>\n",
       "    </tr>\n",
       "    <tr>\n",
       "      <th>GASOLINA</th>\n",
       "      <td>20</td>\n",
       "      <td>LITRO</td>\n",
       "    </tr>\n",
       "  </tbody>\n",
       "</table>\n",
       "</div>"
      ],
      "text/plain": [
       "          precios unidades\n",
       "ACERO       10000      TON\n",
       "CONCRETO     5000      TON\n",
       "CARBON       2500      TON\n",
       "PETROLEO      300   BARRIL\n",
       "GAS           250       M3\n",
       "GASOLINA       20    LITRO"
      ]
     },
     "execution_count": 9,
     "metadata": {},
     "output_type": "execute_result"
    }
   ],
   "source": [
    "    productos = pd.DataFrame({'precios': precios,'unidades': unidades,})\n",
    "    productos"
   ]
  },
  {
   "cell_type": "markdown",
   "metadata": {},
   "source": [
    "De forma similar a las series, los marcos de datos tienen un indice que da acceso a las etiquetas:"
   ]
  },
  {
   "cell_type": "code",
   "execution_count": 10,
   "metadata": {},
   "outputs": [
    {
     "data": {
      "text/plain": [
       "Index(['ACERO', 'CONCRETO', 'CARBON', 'PETROLEO', 'GAS', 'GASOLINA'], dtype='object')"
      ]
     },
     "execution_count": 10,
     "metadata": {},
     "output_type": "execute_result"
    }
   ],
   "source": [
    "productos.index"
   ]
  },
  {
   "cell_type": "markdown",
   "metadata": {},
   "source": [
    "Tambien se puede accesar a las columnas:"
   ]
  },
  {
   "cell_type": "code",
   "execution_count": 11,
   "metadata": {},
   "outputs": [
    {
     "data": {
      "text/plain": [
       "Index(['precios', 'unidades'], dtype='object')"
      ]
     },
     "execution_count": 11,
     "metadata": {},
     "output_type": "execute_result"
    }
   ],
   "source": [
    "productos.columns"
   ]
  },
  {
   "cell_type": "markdown",
   "metadata": {},
   "source": [
    "### MARCOS DE DATOS COMO DICCIONARIOS ESPECIALIZADOS"
   ]
  },
  {
   "cell_type": "markdown",
   "metadata": {},
   "source": [
    "A partir de un Dataframe podemos llamar a sus atributos y se obtener una serie original con la que se creo el Dataframe:"
   ]
  },
  {
   "cell_type": "code",
   "execution_count": 12,
   "metadata": {},
   "outputs": [
    {
     "data": {
      "text/plain": [
       "ACERO       10000\n",
       "CONCRETO     5000\n",
       "CARBON       2500\n",
       "PETROLEO      300\n",
       "GAS           250\n",
       "GASOLINA       20\n",
       "Name: precios, dtype: int64"
      ]
     },
     "execution_count": 12,
     "metadata": {},
     "output_type": "execute_result"
    }
   ],
   "source": [
    "productos['precios']"
   ]
  },
  {
   "cell_type": "markdown",
   "metadata": {},
   "source": [
    "### Construyendo Dataframes"
   ]
  },
  {
   "cell_type": "markdown",
   "metadata": {},
   "source": [
    "Existen diversas formas de crear un Dataframe:"
   ]
  },
  {
   "cell_type": "markdown",
   "metadata": {},
   "source": [
    "-Apartir de una simple serie:"
   ]
  },
  {
   "cell_type": "code",
   "execution_count": 13,
   "metadata": {},
   "outputs": [
    {
     "data": {
      "text/html": [
       "<div>\n",
       "<style scoped>\n",
       "    .dataframe tbody tr th:only-of-type {\n",
       "        vertical-align: middle;\n",
       "    }\n",
       "\n",
       "    .dataframe tbody tr th {\n",
       "        vertical-align: top;\n",
       "    }\n",
       "\n",
       "    .dataframe thead th {\n",
       "        text-align: right;\n",
       "    }\n",
       "</style>\n",
       "<table border=\"1\" class=\"dataframe\">\n",
       "  <thead>\n",
       "    <tr style=\"text-align: right;\">\n",
       "      <th></th>\n",
       "      <th>precios</th>\n",
       "    </tr>\n",
       "  </thead>\n",
       "  <tbody>\n",
       "    <tr>\n",
       "      <th>ACERO</th>\n",
       "      <td>10000</td>\n",
       "    </tr>\n",
       "    <tr>\n",
       "      <th>CONCRETO</th>\n",
       "      <td>5000</td>\n",
       "    </tr>\n",
       "    <tr>\n",
       "      <th>CARBON</th>\n",
       "      <td>2500</td>\n",
       "    </tr>\n",
       "    <tr>\n",
       "      <th>PETROLEO</th>\n",
       "      <td>300</td>\n",
       "    </tr>\n",
       "    <tr>\n",
       "      <th>GAS</th>\n",
       "      <td>250</td>\n",
       "    </tr>\n",
       "    <tr>\n",
       "      <th>GASOLINA</th>\n",
       "      <td>20</td>\n",
       "    </tr>\n",
       "  </tbody>\n",
       "</table>\n",
       "</div>"
      ],
      "text/plain": [
       "          precios\n",
       "ACERO       10000\n",
       "CONCRETO     5000\n",
       "CARBON       2500\n",
       "PETROLEO      300\n",
       "GAS           250\n",
       "GASOLINA       20"
      ]
     },
     "execution_count": 13,
     "metadata": {},
     "output_type": "execute_result"
    }
   ],
   "source": [
    "pd.DataFrame(precios, columns=['precios'])"
   ]
  },
  {
   "cell_type": "markdown",
   "metadata": {},
   "source": [
    "-Desde una lista de diccionarios:"
   ]
  },
  {
   "cell_type": "code",
   "execution_count": 15,
   "metadata": {},
   "outputs": [
    {
     "data": {
      "text/html": [
       "<div>\n",
       "<style scoped>\n",
       "    .dataframe tbody tr th:only-of-type {\n",
       "        vertical-align: middle;\n",
       "    }\n",
       "\n",
       "    .dataframe tbody tr th {\n",
       "        vertical-align: top;\n",
       "    }\n",
       "\n",
       "    .dataframe thead th {\n",
       "        text-align: right;\n",
       "    }\n",
       "</style>\n",
       "<table border=\"1\" class=\"dataframe\">\n",
       "  <thead>\n",
       "    <tr style=\"text-align: right;\">\n",
       "      <th></th>\n",
       "      <th>a</th>\n",
       "      <th>b</th>\n",
       "      <th>c</th>\n",
       "    </tr>\n",
       "  </thead>\n",
       "  <tbody>\n",
       "    <tr>\n",
       "      <th>0</th>\n",
       "      <td>0</td>\n",
       "      <td>0</td>\n",
       "      <td>0</td>\n",
       "    </tr>\n",
       "    <tr>\n",
       "      <th>1</th>\n",
       "      <td>1</td>\n",
       "      <td>2</td>\n",
       "      <td>3</td>\n",
       "    </tr>\n",
       "    <tr>\n",
       "      <th>2</th>\n",
       "      <td>2</td>\n",
       "      <td>4</td>\n",
       "      <td>6</td>\n",
       "    </tr>\n",
       "    <tr>\n",
       "      <th>3</th>\n",
       "      <td>3</td>\n",
       "      <td>6</td>\n",
       "      <td>9</td>\n",
       "    </tr>\n",
       "  </tbody>\n",
       "</table>\n",
       "</div>"
      ],
      "text/plain": [
       "   a  b  c\n",
       "0  0  0  0\n",
       "1  1  2  3\n",
       "2  2  4  6\n",
       "3  3  6  9"
      ]
     },
     "execution_count": 15,
     "metadata": {},
     "output_type": "execute_result"
    }
   ],
   "source": [
    "datos = [{'a': i, 'b': 2 * i, 'c': 3 * i, 'c': 3 * i}\n",
    "        for i in range(4)]\n",
    "pd.DataFrame(datos)"
   ]
  },
  {
   "cell_type": "markdown",
   "metadata": {},
   "source": [
    "-Desde un diccionario de objetos Serie:"
   ]
  },
  {
   "cell_type": "code",
   "execution_count": 21,
   "metadata": {},
   "outputs": [
    {
     "data": {
      "text/html": [
       "<div>\n",
       "<style scoped>\n",
       "    .dataframe tbody tr th:only-of-type {\n",
       "        vertical-align: middle;\n",
       "    }\n",
       "\n",
       "    .dataframe tbody tr th {\n",
       "        vertical-align: top;\n",
       "    }\n",
       "\n",
       "    .dataframe thead th {\n",
       "        text-align: right;\n",
       "    }\n",
       "</style>\n",
       "<table border=\"1\" class=\"dataframe\">\n",
       "  <thead>\n",
       "    <tr style=\"text-align: right;\">\n",
       "      <th></th>\n",
       "      <th>precios</th>\n",
       "      <th>unidades</th>\n",
       "    </tr>\n",
       "  </thead>\n",
       "  <tbody>\n",
       "    <tr>\n",
       "      <th>ACERO</th>\n",
       "      <td>10000</td>\n",
       "      <td>TON</td>\n",
       "    </tr>\n",
       "    <tr>\n",
       "      <th>CONCRETO</th>\n",
       "      <td>5000</td>\n",
       "      <td>TON</td>\n",
       "    </tr>\n",
       "    <tr>\n",
       "      <th>CARBON</th>\n",
       "      <td>2500</td>\n",
       "      <td>TON</td>\n",
       "    </tr>\n",
       "    <tr>\n",
       "      <th>PETROLEO</th>\n",
       "      <td>300</td>\n",
       "      <td>BARRIL</td>\n",
       "    </tr>\n",
       "    <tr>\n",
       "      <th>GAS</th>\n",
       "      <td>250</td>\n",
       "      <td>M3</td>\n",
       "    </tr>\n",
       "    <tr>\n",
       "      <th>GASOLINA</th>\n",
       "      <td>20</td>\n",
       "      <td>LITRO</td>\n",
       "    </tr>\n",
       "  </tbody>\n",
       "</table>\n",
       "</div>"
      ],
      "text/plain": [
       "          precios unidades\n",
       "ACERO       10000      TON\n",
       "CONCRETO     5000      TON\n",
       "CARBON       2500      TON\n",
       "PETROLEO      300   BARRIL\n",
       "GAS           250       M3\n",
       "GASOLINA       20    LITRO"
      ]
     },
     "execution_count": 21,
     "metadata": {},
     "output_type": "execute_result"
    }
   ],
   "source": [
    "productos = pd.DataFrame({'precios': precios,'unidades': unidades,})\n",
    "productos"
   ]
  },
  {
   "cell_type": "markdown",
   "metadata": {},
   "source": [
    "-Desde un arreglo bidimensional de numpy:"
   ]
  },
  {
   "cell_type": "code",
   "execution_count": 35,
   "metadata": {},
   "outputs": [
    {
     "data": {
      "text/html": [
       "<div>\n",
       "<style scoped>\n",
       "    .dataframe tbody tr th:only-of-type {\n",
       "        vertical-align: middle;\n",
       "    }\n",
       "\n",
       "    .dataframe tbody tr th {\n",
       "        vertical-align: top;\n",
       "    }\n",
       "\n",
       "    .dataframe thead th {\n",
       "        text-align: right;\n",
       "    }\n",
       "</style>\n",
       "<table border=\"1\" class=\"dataframe\">\n",
       "  <thead>\n",
       "    <tr style=\"text-align: right;\">\n",
       "      <th></th>\n",
       "      <th>UNIDAD</th>\n",
       "      <th>CANTIDAD</th>\n",
       "    </tr>\n",
       "  </thead>\n",
       "  <tbody>\n",
       "    <tr>\n",
       "      <th>CONCRETO</th>\n",
       "      <td>TON</td>\n",
       "      <td>1000</td>\n",
       "    </tr>\n",
       "    <tr>\n",
       "      <th>ACERO</th>\n",
       "      <td>TON</td>\n",
       "      <td>500</td>\n",
       "    </tr>\n",
       "    <tr>\n",
       "      <th>PETROLEO</th>\n",
       "      <td>BARIIL</td>\n",
       "      <td>200</td>\n",
       "    </tr>\n",
       "  </tbody>\n",
       "</table>\n",
       "</div>"
      ],
      "text/plain": [
       "          UNIDAD CANTIDAD\n",
       "CONCRETO     TON     1000\n",
       "ACERO        TON      500\n",
       "PETROLEO  BARIIL      200"
      ]
     },
     "execution_count": 35,
     "metadata": {},
     "output_type": "execute_result"
    }
   ],
   "source": [
    "pd.DataFrame(np.array([('TON', 1000), ('TON', 500), ('BARIIL', 200)]),\n",
    "             columns=['UNIDAD', 'CANTIDAD'],\n",
    "             index=['CONCRETO', 'ACERO', 'PETROLEO'])"
   ]
  },
  {
   "cell_type": "code",
   "execution_count": 31,
   "metadata": {},
   "outputs": [
    {
     "data": {
      "text/html": [
       "<div>\n",
       "<style scoped>\n",
       "    .dataframe tbody tr th:only-of-type {\n",
       "        vertical-align: middle;\n",
       "    }\n",
       "\n",
       "    .dataframe tbody tr th {\n",
       "        vertical-align: top;\n",
       "    }\n",
       "\n",
       "    .dataframe thead th {\n",
       "        text-align: right;\n",
       "    }\n",
       "</style>\n",
       "<table border=\"1\" class=\"dataframe\">\n",
       "  <thead>\n",
       "    <tr style=\"text-align: right;\">\n",
       "      <th></th>\n",
       "      <th>UNIDAD</th>\n",
       "      <th>CANTIDAD</th>\n",
       "    </tr>\n",
       "  </thead>\n",
       "  <tbody>\n",
       "    <tr>\n",
       "      <th>CONCRETO</th>\n",
       "      <td>0.003824</td>\n",
       "      <td>0.465131</td>\n",
       "    </tr>\n",
       "    <tr>\n",
       "      <th>ACERO</th>\n",
       "      <td>0.988109</td>\n",
       "      <td>0.387982</td>\n",
       "    </tr>\n",
       "    <tr>\n",
       "      <th>PETROLEO</th>\n",
       "      <td>0.945354</td>\n",
       "      <td>0.662622</td>\n",
       "    </tr>\n",
       "  </tbody>\n",
       "</table>\n",
       "</div>"
      ],
      "text/plain": [
       "            UNIDAD  CANTIDAD\n",
       "CONCRETO  0.003824  0.465131\n",
       "ACERO     0.988109  0.387982\n",
       "PETROLEO  0.945354  0.662622"
      ]
     },
     "execution_count": 31,
     "metadata": {},
     "output_type": "execute_result"
    }
   ],
   "source": [
    "pd.DataFrame(np.random.rand(3, 2),\n",
    "             columns=['UNIDAD', 'CANTIDAD'],\n",
    "             index=['CONCRETO', 'ACERO', 'PETROLEO'])"
   ]
  },
  {
   "cell_type": "markdown",
   "metadata": {},
   "source": [
    "### EL OBJETO INDICES DE PANDAS"
   ]
  },
  {
   "cell_type": "markdown",
   "metadata": {},
   "source": [
    "Ejemplo de construccion de lista de indices para comenzar a ver sus propiedades:"
   ]
  },
  {
   "cell_type": "code",
   "execution_count": 36,
   "metadata": {},
   "outputs": [
    {
     "data": {
      "text/plain": [
       "Int64Index([2, 2, 5, 7, 11], dtype='int64')"
      ]
     },
     "execution_count": 36,
     "metadata": {},
     "output_type": "execute_result"
    }
   ],
   "source": [
    "ind = pd.Index([2, 2, 5, 7, 11])\n",
    "ind"
   ]
  },
  {
   "cell_type": "markdown",
   "metadata": {},
   "source": [
    "Los indices funcionan como arreglos, podemos usar la notacion de python para obtener un valor:"
   ]
  },
  {
   "cell_type": "code",
   "execution_count": 37,
   "metadata": {},
   "outputs": [
    {
     "data": {
      "text/plain": [
       "11"
      ]
     },
     "execution_count": 37,
     "metadata": {},
     "output_type": "execute_result"
    }
   ],
   "source": [
    "ind[4]"
   ]
  },
  {
   "cell_type": "code",
   "execution_count": 40,
   "metadata": {},
   "outputs": [
    {
     "data": {
      "text/plain": [
       "Int64Index([2, 5, 11], dtype='int64')"
      ]
     },
     "execution_count": 40,
     "metadata": {},
     "output_type": "execute_result"
    }
   ],
   "source": [
    "ind[::2]"
   ]
  },
  {
   "cell_type": "markdown",
   "metadata": {},
   "source": [
    "Los indices no pueden ser modificados con comandos normales:"
   ]
  },
  {
   "cell_type": "code",
   "execution_count": 41,
   "metadata": {},
   "outputs": [
    {
     "ename": "TypeError",
     "evalue": "Index does not support mutable operations",
     "output_type": "error",
     "traceback": [
      "\u001b[0;31m---------------------------------------------------------------------------\u001b[0m",
      "\u001b[0;31mTypeError\u001b[0m                                 Traceback (most recent call last)",
      "\u001b[0;32m<ipython-input-41-906a9fa1424c>\u001b[0m in \u001b[0;36m<module>\u001b[0;34m()\u001b[0m\n\u001b[0;32m----> 1\u001b[0;31m \u001b[0mind\u001b[0m\u001b[0;34m[\u001b[0m\u001b[0;36m1\u001b[0m\u001b[0;34m]\u001b[0m \u001b[0;34m=\u001b[0m \u001b[0;36m0\u001b[0m\u001b[0;34m\u001b[0m\u001b[0m\n\u001b[0m",
      "\u001b[0;32m~/anaconda3/lib/python3.6/site-packages/pandas/core/indexes/base.py\u001b[0m in \u001b[0;36m__setitem__\u001b[0;34m(self, key, value)\u001b[0m\n\u001b[1;32m   2048\u001b[0m \u001b[0;34m\u001b[0m\u001b[0m\n\u001b[1;32m   2049\u001b[0m     \u001b[0;32mdef\u001b[0m \u001b[0m__setitem__\u001b[0m\u001b[0;34m(\u001b[0m\u001b[0mself\u001b[0m\u001b[0;34m,\u001b[0m \u001b[0mkey\u001b[0m\u001b[0;34m,\u001b[0m \u001b[0mvalue\u001b[0m\u001b[0;34m)\u001b[0m\u001b[0;34m:\u001b[0m\u001b[0;34m\u001b[0m\u001b[0m\n\u001b[0;32m-> 2050\u001b[0;31m         \u001b[0;32mraise\u001b[0m \u001b[0mTypeError\u001b[0m\u001b[0;34m(\u001b[0m\u001b[0;34m\"Index does not support mutable operations\"\u001b[0m\u001b[0;34m)\u001b[0m\u001b[0;34m\u001b[0m\u001b[0m\n\u001b[0m\u001b[1;32m   2051\u001b[0m \u001b[0;34m\u001b[0m\u001b[0m\n\u001b[1;32m   2052\u001b[0m     \u001b[0;32mdef\u001b[0m \u001b[0m__getitem__\u001b[0m\u001b[0;34m(\u001b[0m\u001b[0mself\u001b[0m\u001b[0;34m,\u001b[0m \u001b[0mkey\u001b[0m\u001b[0;34m)\u001b[0m\u001b[0;34m:\u001b[0m\u001b[0;34m\u001b[0m\u001b[0m\n",
      "\u001b[0;31mTypeError\u001b[0m: Index does not support mutable operations"
     ]
    }
   ],
   "source": [
    "ind[1] = 0"
   ]
  },
  {
   "cell_type": "markdown",
   "metadata": {},
   "source": [
    "### INDICE COMO CONJUNTO ORDENADO"
   ]
  },
  {
   "cell_type": "markdown",
   "metadata": {},
   "source": [
    "Las uniones, intersecciones, diferencias y otras combinaciones pueden ser obtenidas de forma similar a los comandos con arreglos de python:"
   ]
  },
  {
   "cell_type": "code",
   "execution_count": 45,
   "metadata": {},
   "outputs": [],
   "source": [
    "indA = pd.Index(['ACERO', 'CONCRETO', 'GAS', 'GASOLINA'])\n",
    "indB = pd.Index(['PETROLEO', 'HIERRO', 'CONCRETO', 'NIQUEL'])"
   ]
  },
  {
   "cell_type": "code",
   "execution_count": 46,
   "metadata": {},
   "outputs": [
    {
     "data": {
      "text/plain": [
       "Index(['CONCRETO'], dtype='object')"
      ]
     },
     "execution_count": 46,
     "metadata": {},
     "output_type": "execute_result"
    }
   ],
   "source": [
    "indA & indB  # interseccion"
   ]
  },
  {
   "cell_type": "code",
   "execution_count": 47,
   "metadata": {},
   "outputs": [
    {
     "data": {
      "text/plain": [
       "Index(['ACERO', 'CONCRETO', 'GAS', 'GASOLINA', 'HIERRO', 'NIQUEL', 'PETROLEO'], dtype='object')"
      ]
     },
     "execution_count": 47,
     "metadata": {},
     "output_type": "execute_result"
    }
   ],
   "source": [
    "indA | indB  # union"
   ]
  },
  {
   "cell_type": "code",
   "execution_count": 48,
   "metadata": {},
   "outputs": [
    {
     "data": {
      "text/plain": [
       "Index(['ACERO', 'GAS', 'GASOLINA', 'HIERRO', 'NIQUEL', 'PETROLEO'], dtype='object')"
      ]
     },
     "execution_count": 48,
     "metadata": {},
     "output_type": "execute_result"
    }
   ],
   "source": [
    "indA ^ indB  # diferencia simetrica"
   ]
  },
  {
   "cell_type": "markdown",
   "metadata": {},
   "source": [
    "## SELECCION DE DATOS Y ASIGNACION DE INDICES"
   ]
  },
  {
   "cell_type": "markdown",
   "metadata": {},
   "source": [
    "### SELECCION DE DATOS EN SERIES"
   ]
  },
  {
   "cell_type": "markdown",
   "metadata": {},
   "source": [
    "Para esta seccion se utilizaran los datos de lluvia, temperatura maxima, temperatura minima y temperatura promedio de 2019 obtenidos del INEGI"
   ]
  },
  {
   "cell_type": "code",
   "execution_count": 4,
   "metadata": {},
   "outputs": [],
   "source": [
    "# SE CARGAN LOS ARCHIVOS DE DATOS DE 2019\n",
    "LLUVIA_2019 = pd.read_csv('201901010000Lluv.csv',encoding='latin-1')\n",
    "TMAX_2019 = pd.read_csv('201901010000TMax.csv',encoding='latin-1')\n",
    "TMIN_2019 = pd.read_csv('201901010000TMin.csv',encoding='latin-1')\n",
    "TMED_2019 = pd.read_csv('201901010000TMed.csv',encoding='latin-1')"
   ]
  },
  {
   "cell_type": "markdown",
   "metadata": {},
   "source": [
    "Se pueden utilizar expresiones similares a las de python para examinar los indices y valores:"
   ]
  },
  {
   "cell_type": "code",
   "execution_count": 3,
   "metadata": {},
   "outputs": [
    {
     "data": {
      "text/plain": [
       "True"
      ]
     },
     "execution_count": 3,
     "metadata": {},
     "output_type": "execute_result"
    }
   ],
   "source": [
    "'LON' in LLUVIA_2019"
   ]
  },
  {
   "cell_type": "code",
   "execution_count": 21,
   "metadata": {},
   "outputs": [
    {
     "data": {
      "text/html": [
       "<div>\n",
       "<style scoped>\n",
       "    .dataframe tbody tr th:only-of-type {\n",
       "        vertical-align: middle;\n",
       "    }\n",
       "\n",
       "    .dataframe tbody tr th {\n",
       "        vertical-align: top;\n",
       "    }\n",
       "\n",
       "    .dataframe thead th {\n",
       "        text-align: right;\n",
       "    }\n",
       "</style>\n",
       "<table border=\"1\" class=\"dataframe\">\n",
       "  <thead>\n",
       "    <tr style=\"text-align: right;\">\n",
       "      <th></th>\n",
       "      <th>LON</th>\n",
       "      <th>LAT</th>\n",
       "      <th>EDO</th>\n",
       "      <th>CLAVE_SIH</th>\n",
       "      <th>NOMBRE</th>\n",
       "      <th>ENE</th>\n",
       "    </tr>\n",
       "  </thead>\n",
       "  <tbody>\n",
       "    <tr>\n",
       "      <th>0</th>\n",
       "      <td>-102.309722</td>\n",
       "      <td>21.895000</td>\n",
       "      <td>AGS</td>\n",
       "      <td>AGSAG</td>\n",
       "      <td>Aguascalientes, Ags.</td>\n",
       "      <td>6.61</td>\n",
       "    </tr>\n",
       "    <tr>\n",
       "      <th>1</th>\n",
       "      <td>-102.466944</td>\n",
       "      <td>22.188611</td>\n",
       "      <td>AGS</td>\n",
       "      <td>ANVAG</td>\n",
       "      <td>Cincuenta Aniversario, Ags.</td>\n",
       "      <td>10.60</td>\n",
       "    </tr>\n",
       "    <tr>\n",
       "      <th>2</th>\n",
       "      <td>-102.184167</td>\n",
       "      <td>21.738611</td>\n",
       "      <td>AGS</td>\n",
       "      <td>BRTAG</td>\n",
       "      <td>San Bartolo, Ags.</td>\n",
       "      <td>10.50</td>\n",
       "    </tr>\n",
       "    <tr>\n",
       "      <th>3</th>\n",
       "      <td>-102.712222</td>\n",
       "      <td>21.849167</td>\n",
       "      <td>AGS</td>\n",
       "      <td>CALVILLO</td>\n",
       "      <td>Calvillo, Ags. SMN*</td>\n",
       "      <td>18.17</td>\n",
       "    </tr>\n",
       "    <tr>\n",
       "      <th>4</th>\n",
       "      <td>-102.676944</td>\n",
       "      <td>21.997500</td>\n",
       "      <td>AGS</td>\n",
       "      <td>CDRAG</td>\n",
       "      <td>La Codorniz, Ags.</td>\n",
       "      <td>16.70</td>\n",
       "    </tr>\n",
       "    <tr>\n",
       "      <th>5</th>\n",
       "      <td>-102.197222</td>\n",
       "      <td>22.007222</td>\n",
       "      <td>AGS</td>\n",
       "      <td>CHOAG</td>\n",
       "      <td>Cañada Honda, Ags.</td>\n",
       "      <td>17.30</td>\n",
       "    </tr>\n",
       "    <tr>\n",
       "      <th>6</th>\n",
       "      <td>-102.189167</td>\n",
       "      <td>21.826667</td>\n",
       "      <td>AGS</td>\n",
       "      <td>CLVAG</td>\n",
       "      <td>Calvillo, Ags.</td>\n",
       "      <td>9.20</td>\n",
       "    </tr>\n",
       "    <tr>\n",
       "      <th>7</th>\n",
       "      <td>-102.000000</td>\n",
       "      <td>21.896389</td>\n",
       "      <td>AGS</td>\n",
       "      <td>CNSAG</td>\n",
       "      <td>Los Conos, Ags.</td>\n",
       "      <td>13.20</td>\n",
       "    </tr>\n",
       "    <tr>\n",
       "      <th>8</th>\n",
       "      <td>-102.296667</td>\n",
       "      <td>22.362778</td>\n",
       "      <td>AGS</td>\n",
       "      <td>CSOAG</td>\n",
       "      <td>Cosío, Ags.</td>\n",
       "      <td>7.20</td>\n",
       "    </tr>\n",
       "    <tr>\n",
       "      <th>9</th>\n",
       "      <td>-102.356944</td>\n",
       "      <td>22.121667</td>\n",
       "      <td>AGS</td>\n",
       "      <td>JCQAG</td>\n",
       "      <td>Jocoque, Ags.</td>\n",
       "      <td>6.30</td>\n",
       "    </tr>\n",
       "    <tr>\n",
       "      <th>10</th>\n",
       "      <td>-102.788333</td>\n",
       "      <td>21.807500</td>\n",
       "      <td>AGS</td>\n",
       "      <td>MNLAG</td>\n",
       "      <td>Media Luna, Ags.</td>\n",
       "      <td>24.30</td>\n",
       "    </tr>\n",
       "    <tr>\n",
       "      <th>11</th>\n",
       "      <td>-102.371667</td>\n",
       "      <td>21.780000</td>\n",
       "      <td>AGS</td>\n",
       "      <td>NGRAG</td>\n",
       "      <td>El Niagara, Ags.</td>\n",
       "      <td>5.51</td>\n",
       "    </tr>\n",
       "    <tr>\n",
       "      <th>12</th>\n",
       "      <td>-102.001944</td>\n",
       "      <td>22.020556</td>\n",
       "      <td>AGS</td>\n",
       "      <td>NVLAG</td>\n",
       "      <td>El Novillo, Ags.</td>\n",
       "      <td>15.50</td>\n",
       "    </tr>\n",
       "    <tr>\n",
       "      <th>13</th>\n",
       "      <td>-102.290556</td>\n",
       "      <td>21.850833</td>\n",
       "      <td>AGS</td>\n",
       "      <td>OBSAG</td>\n",
       "      <td>Observatorio de Aguascalientes, Ags.</td>\n",
       "      <td>8.71</td>\n",
       "    </tr>\n",
       "    <tr>\n",
       "      <th>14</th>\n",
       "      <td>-102.465000</td>\n",
       "      <td>22.189167</td>\n",
       "      <td>AGS</td>\n",
       "      <td>P50ANIV</td>\n",
       "      <td>Presa Cincuenta Aniversario, Ags. SMN*</td>\n",
       "      <td>10.40</td>\n",
       "    </tr>\n",
       "    <tr>\n",
       "      <th>15</th>\n",
       "      <td>-101.966667</td>\n",
       "      <td>21.916667</td>\n",
       "      <td>AGS</td>\n",
       "      <td>PALAG</td>\n",
       "      <td>Palo Alto, Ags.</td>\n",
       "      <td>11.00</td>\n",
       "    </tr>\n",
       "    <tr>\n",
       "      <th>16</th>\n",
       "      <td>-102.291944</td>\n",
       "      <td>22.162500</td>\n",
       "      <td>AGS</td>\n",
       "      <td>PBLAG</td>\n",
       "      <td>Pabellón, Ags.</td>\n",
       "      <td>6.80</td>\n",
       "    </tr>\n",
       "    <tr>\n",
       "      <th>17</th>\n",
       "      <td>-102.417222</td>\n",
       "      <td>22.141111</td>\n",
       "      <td>AGS</td>\n",
       "      <td>PECAG</td>\n",
       "      <td>Plutarco Elías Calles, Ags.</td>\n",
       "      <td>6.00</td>\n",
       "    </tr>\n",
       "    <tr>\n",
       "      <th>18</th>\n",
       "      <td>-102.133333</td>\n",
       "      <td>22.202778</td>\n",
       "      <td>AGS</td>\n",
       "      <td>PTOAG</td>\n",
       "      <td>Puerto de la Concepción, Ags.</td>\n",
       "      <td>11.53</td>\n",
       "    </tr>\n",
       "    <tr>\n",
       "      <th>19</th>\n",
       "      <td>-102.437500</td>\n",
       "      <td>22.235000</td>\n",
       "      <td>AGS</td>\n",
       "      <td>PTRAG</td>\n",
       "      <td>Derivadora Pabellón, Ags.</td>\n",
       "      <td>17.41</td>\n",
       "    </tr>\n",
       "    <tr>\n",
       "      <th>20</th>\n",
       "      <td>-102.108889</td>\n",
       "      <td>21.885000</td>\n",
       "      <td>AGS</td>\n",
       "      <td>SNVAG</td>\n",
       "      <td>Sandovales, Ags.</td>\n",
       "      <td>6.00</td>\n",
       "    </tr>\n",
       "    <tr>\n",
       "      <th>21</th>\n",
       "      <td>-102.127778</td>\n",
       "      <td>21.807778</td>\n",
       "      <td>AGS</td>\n",
       "      <td>TNJAG</td>\n",
       "      <td>La Tinaja 2, Ags.</td>\n",
       "      <td>11.00</td>\n",
       "    </tr>\n",
       "    <tr>\n",
       "      <th>22</th>\n",
       "      <td>-102.067500</td>\n",
       "      <td>22.097778</td>\n",
       "      <td>AGS</td>\n",
       "      <td>VJZAG</td>\n",
       "      <td>Villa Juárez, Ags.</td>\n",
       "      <td>22.20</td>\n",
       "    </tr>\n",
       "    <tr>\n",
       "      <th>23</th>\n",
       "      <td>-116.204167</td>\n",
       "      <td>32.271944</td>\n",
       "      <td>BC</td>\n",
       "      <td>AGHBN</td>\n",
       "      <td>Agua Hechicera, B.C.</td>\n",
       "      <td>18.82</td>\n",
       "    </tr>\n",
       "    <tr>\n",
       "      <th>24</th>\n",
       "      <td>-116.908333</td>\n",
       "      <td>32.444722</td>\n",
       "      <td>BC</td>\n",
       "      <td>ALRBN</td>\n",
       "      <td>Abelardo L. Rodríguez, B.C.</td>\n",
       "      <td>48.20</td>\n",
       "    </tr>\n",
       "    <tr>\n",
       "      <th>25</th>\n",
       "      <td>-114.719167</td>\n",
       "      <td>29.727222</td>\n",
       "      <td>BC</td>\n",
       "      <td>CATAVINA</td>\n",
       "      <td>Cataviña, B.C. SMN*</td>\n",
       "      <td>11.31</td>\n",
       "    </tr>\n",
       "    <tr>\n",
       "      <th>26</th>\n",
       "      <td>-116.696944</td>\n",
       "      <td>32.479444</td>\n",
       "      <td>BC</td>\n",
       "      <td>CRRBN</td>\n",
       "      <td>El Carrizo, B.C.</td>\n",
       "      <td>58.70</td>\n",
       "    </tr>\n",
       "    <tr>\n",
       "      <th>27</th>\n",
       "      <td>-116.828333</td>\n",
       "      <td>32.468056</td>\n",
       "      <td>BC</td>\n",
       "      <td>EFLBN</td>\n",
       "      <td>El Florido, B.C.</td>\n",
       "      <td>20.60</td>\n",
       "    </tr>\n",
       "    <tr>\n",
       "      <th>28</th>\n",
       "      <td>-116.602500</td>\n",
       "      <td>31.890278</td>\n",
       "      <td>BC</td>\n",
       "      <td>ELZBN</td>\n",
       "      <td>Emilio López Zamora, B.C.</td>\n",
       "      <td>48.42</td>\n",
       "    </tr>\n",
       "    <tr>\n",
       "      <th>29</th>\n",
       "      <td>-115.150000</td>\n",
       "      <td>32.411111</td>\n",
       "      <td>BC</td>\n",
       "      <td>ENLBN</td>\n",
       "      <td>Ejido Nuevo León, B.C.</td>\n",
       "      <td>8.90</td>\n",
       "    </tr>\n",
       "    <tr>\n",
       "      <th>...</th>\n",
       "      <td>...</td>\n",
       "      <td>...</td>\n",
       "      <td>...</td>\n",
       "      <td>...</td>\n",
       "      <td>...</td>\n",
       "      <td>...</td>\n",
       "    </tr>\n",
       "    <tr>\n",
       "      <th>1211</th>\n",
       "      <td>-103.001944</td>\n",
       "      <td>22.642778</td>\n",
       "      <td>ZAC</td>\n",
       "      <td>JERZC</td>\n",
       "      <td>Jerez, Zac.</td>\n",
       "      <td>6.60</td>\n",
       "    </tr>\n",
       "    <tr>\n",
       "      <th>1212</th>\n",
       "      <td>-102.566944</td>\n",
       "      <td>22.778889</td>\n",
       "      <td>ZAC</td>\n",
       "      <td>LBUZC</td>\n",
       "      <td>La Bufa, Zac.</td>\n",
       "      <td>7.70</td>\n",
       "    </tr>\n",
       "    <tr>\n",
       "      <th>1213</th>\n",
       "      <td>-103.603056</td>\n",
       "      <td>22.686944</td>\n",
       "      <td>ZAC</td>\n",
       "      <td>LFLZC</td>\n",
       "      <td>La Florida, Zac.</td>\n",
       "      <td>2.51</td>\n",
       "    </tr>\n",
       "    <tr>\n",
       "      <th>1214</th>\n",
       "      <td>-102.660556</td>\n",
       "      <td>22.996944</td>\n",
       "      <td>ZAC</td>\n",
       "      <td>LLBZC</td>\n",
       "      <td>Llano Blanco, Zac.</td>\n",
       "      <td>20.80</td>\n",
       "    </tr>\n",
       "    <tr>\n",
       "      <th>1215</th>\n",
       "      <td>-103.382778</td>\n",
       "      <td>22.845278</td>\n",
       "      <td>ZAC</td>\n",
       "      <td>LOBZC</td>\n",
       "      <td>Manuel Felgueres, Zac.</td>\n",
       "      <td>13.50</td>\n",
       "    </tr>\n",
       "    <tr>\n",
       "      <th>1216</th>\n",
       "      <td>-101.985556</td>\n",
       "      <td>22.264722</td>\n",
       "      <td>ZAC</td>\n",
       "      <td>LORZC</td>\n",
       "      <td>Loreto, Zac.</td>\n",
       "      <td>13.61</td>\n",
       "    </tr>\n",
       "    <tr>\n",
       "      <th>1217</th>\n",
       "      <td>-103.216944</td>\n",
       "      <td>23.180000</td>\n",
       "      <td>ZAC</td>\n",
       "      <td>LREZC</td>\n",
       "      <td>Gobernador Leobardo Reynoso, Zac.</td>\n",
       "      <td>8.00</td>\n",
       "    </tr>\n",
       "    <tr>\n",
       "      <th>1218</th>\n",
       "      <td>-103.363889</td>\n",
       "      <td>21.212500</td>\n",
       "      <td>ZAC</td>\n",
       "      <td>MORZC</td>\n",
       "      <td>Mezquital del Oro, Zac.</td>\n",
       "      <td>22.02</td>\n",
       "    </tr>\n",
       "    <tr>\n",
       "      <th>1219</th>\n",
       "      <td>-103.561667</td>\n",
       "      <td>22.306944</td>\n",
       "      <td>ZAC</td>\n",
       "      <td>MRSZC</td>\n",
       "      <td>Monte Escobedo, Zac.</td>\n",
       "      <td>6.02</td>\n",
       "    </tr>\n",
       "    <tr>\n",
       "      <th>1220</th>\n",
       "      <td>-102.845556</td>\n",
       "      <td>21.357500</td>\n",
       "      <td>ZAC</td>\n",
       "      <td>NCTZC</td>\n",
       "      <td>Nochistlán, Zac.</td>\n",
       "      <td>29.70</td>\n",
       "    </tr>\n",
       "    <tr>\n",
       "      <th>1221</th>\n",
       "      <td>-102.615000</td>\n",
       "      <td>24.983056</td>\n",
       "      <td>ZAC</td>\n",
       "      <td>NTAZC</td>\n",
       "      <td>Nuevo Tampico, Zac.</td>\n",
       "      <td>4.80</td>\n",
       "    </tr>\n",
       "    <tr>\n",
       "      <th>1222</th>\n",
       "      <td>-102.798056</td>\n",
       "      <td>22.347778</td>\n",
       "      <td>ZAC</td>\n",
       "      <td>PALZC</td>\n",
       "      <td>Palomas, Zac.</td>\n",
       "      <td>9.80</td>\n",
       "    </tr>\n",
       "    <tr>\n",
       "      <th>1223</th>\n",
       "      <td>-101.399167</td>\n",
       "      <td>22.117500</td>\n",
       "      <td>ZAC</td>\n",
       "      <td>PINZC</td>\n",
       "      <td>Pino Suárez, Zac.</td>\n",
       "      <td>3.50</td>\n",
       "    </tr>\n",
       "    <tr>\n",
       "      <th>1224</th>\n",
       "      <td>-102.903611</td>\n",
       "      <td>21.711111</td>\n",
       "      <td>ZAC</td>\n",
       "      <td>PMOZC</td>\n",
       "      <td>Moraleños, Zac.</td>\n",
       "      <td>15.70</td>\n",
       "    </tr>\n",
       "    <tr>\n",
       "      <th>1225</th>\n",
       "      <td>-103.025833</td>\n",
       "      <td>23.816944</td>\n",
       "      <td>ZAC</td>\n",
       "      <td>RGRZC</td>\n",
       "      <td>Río Grande, Zac.</td>\n",
       "      <td>3.61</td>\n",
       "    </tr>\n",
       "    <tr>\n",
       "      <th>1226</th>\n",
       "      <td>-102.884444</td>\n",
       "      <td>24.322222</td>\n",
       "      <td>ZAC</td>\n",
       "      <td>SFOZC</td>\n",
       "      <td>San Francisco, Zac.</td>\n",
       "      <td>9.70</td>\n",
       "    </tr>\n",
       "    <tr>\n",
       "      <th>1227</th>\n",
       "      <td>-103.506111</td>\n",
       "      <td>24.288611</td>\n",
       "      <td>ZAC</td>\n",
       "      <td>SGOZC</td>\n",
       "      <td>Santiago, Zac.</td>\n",
       "      <td>5.00</td>\n",
       "    </tr>\n",
       "    <tr>\n",
       "      <th>1228</th>\n",
       "      <td>-103.636667</td>\n",
       "      <td>23.638889</td>\n",
       "      <td>ZAC</td>\n",
       "      <td>SOMZC</td>\n",
       "      <td>Sombrerete, Zac.</td>\n",
       "      <td>1.60</td>\n",
       "    </tr>\n",
       "    <tr>\n",
       "      <th>1229</th>\n",
       "      <td>-103.495833</td>\n",
       "      <td>22.326667</td>\n",
       "      <td>ZAC</td>\n",
       "      <td>STEZC</td>\n",
       "      <td>Santa Teresa (Independencia Nacional), Zac.</td>\n",
       "      <td>6.00</td>\n",
       "    </tr>\n",
       "    <tr>\n",
       "      <th>1230</th>\n",
       "      <td>-103.108889</td>\n",
       "      <td>22.923611</td>\n",
       "      <td>ZAC</td>\n",
       "      <td>STRZC</td>\n",
       "      <td>Santa Rosa, Zac.</td>\n",
       "      <td>18.52</td>\n",
       "    </tr>\n",
       "    <tr>\n",
       "      <th>1231</th>\n",
       "      <td>-102.864167</td>\n",
       "      <td>22.120556</td>\n",
       "      <td>ZAC</td>\n",
       "      <td>TAYZC</td>\n",
       "      <td>Ing. Julián Adame Alatorre, Zac.</td>\n",
       "      <td>13.50</td>\n",
       "    </tr>\n",
       "    <tr>\n",
       "      <th>1232</th>\n",
       "      <td>-103.879722</td>\n",
       "      <td>23.471944</td>\n",
       "      <td>ZAC</td>\n",
       "      <td>TCHZC</td>\n",
       "      <td>Chalchihuites, Zac.</td>\n",
       "      <td>3.00</td>\n",
       "    </tr>\n",
       "    <tr>\n",
       "      <th>1233</th>\n",
       "      <td>-103.461944</td>\n",
       "      <td>21.468611</td>\n",
       "      <td>ZAC</td>\n",
       "      <td>TGOZC</td>\n",
       "      <td>Teúl de González Ortega, Zac.</td>\n",
       "      <td>30.10</td>\n",
       "    </tr>\n",
       "    <tr>\n",
       "      <th>1234</th>\n",
       "      <td>-102.786389</td>\n",
       "      <td>21.560556</td>\n",
       "      <td>ZAC</td>\n",
       "      <td>TLAZC</td>\n",
       "      <td>Tlalchichila, Zac.</td>\n",
       "      <td>25.01</td>\n",
       "    </tr>\n",
       "    <tr>\n",
       "      <th>1235</th>\n",
       "      <td>-103.309444</td>\n",
       "      <td>21.773611</td>\n",
       "      <td>ZAC</td>\n",
       "      <td>TLLZC</td>\n",
       "      <td>Tlaltenango, Zac.</td>\n",
       "      <td>14.02</td>\n",
       "    </tr>\n",
       "    <tr>\n",
       "      <th>1236</th>\n",
       "      <td>-102.344167</td>\n",
       "      <td>23.288611</td>\n",
       "      <td>ZAC</td>\n",
       "      <td>VCOZC</td>\n",
       "      <td>Villa de Cos, Zac.</td>\n",
       "      <td>7.00</td>\n",
       "    </tr>\n",
       "    <tr>\n",
       "      <th>1237</th>\n",
       "      <td>-101.916944</td>\n",
       "      <td>22.520278</td>\n",
       "      <td>ZAC</td>\n",
       "      <td>VGOZC</td>\n",
       "      <td>Villa González Ortega, Zac.</td>\n",
       "      <td>32.32</td>\n",
       "    </tr>\n",
       "    <tr>\n",
       "      <th>1238</th>\n",
       "      <td>-101.715833</td>\n",
       "      <td>22.347500</td>\n",
       "      <td>ZAC</td>\n",
       "      <td>VHGZC</td>\n",
       "      <td>Villa Hidalgo, Zac.</td>\n",
       "      <td>9.70</td>\n",
       "    </tr>\n",
       "    <tr>\n",
       "      <th>1239</th>\n",
       "      <td>-103.337500</td>\n",
       "      <td>21.588889</td>\n",
       "      <td>ZAC</td>\n",
       "      <td>VILZC</td>\n",
       "      <td>José María Morelos, Zac.</td>\n",
       "      <td>15.20</td>\n",
       "    </tr>\n",
       "    <tr>\n",
       "      <th>1240</th>\n",
       "      <td>-102.576667</td>\n",
       "      <td>22.761389</td>\n",
       "      <td>ZAC</td>\n",
       "      <td>ZACZC</td>\n",
       "      <td>Zacatecas, Zac.</td>\n",
       "      <td>12.02</td>\n",
       "    </tr>\n",
       "  </tbody>\n",
       "</table>\n",
       "<p>1241 rows × 6 columns</p>\n",
       "</div>"
      ],
      "text/plain": [
       "             LON        LAT  EDO CLAVE_SIH  \\\n",
       "0    -102.309722  21.895000  AGS     AGSAG   \n",
       "1    -102.466944  22.188611  AGS     ANVAG   \n",
       "2    -102.184167  21.738611  AGS     BRTAG   \n",
       "3    -102.712222  21.849167  AGS  CALVILLO   \n",
       "4    -102.676944  21.997500  AGS     CDRAG   \n",
       "5    -102.197222  22.007222  AGS     CHOAG   \n",
       "6    -102.189167  21.826667  AGS     CLVAG   \n",
       "7    -102.000000  21.896389  AGS     CNSAG   \n",
       "8    -102.296667  22.362778  AGS     CSOAG   \n",
       "9    -102.356944  22.121667  AGS     JCQAG   \n",
       "10   -102.788333  21.807500  AGS     MNLAG   \n",
       "11   -102.371667  21.780000  AGS     NGRAG   \n",
       "12   -102.001944  22.020556  AGS     NVLAG   \n",
       "13   -102.290556  21.850833  AGS     OBSAG   \n",
       "14   -102.465000  22.189167  AGS   P50ANIV   \n",
       "15   -101.966667  21.916667  AGS     PALAG   \n",
       "16   -102.291944  22.162500  AGS     PBLAG   \n",
       "17   -102.417222  22.141111  AGS     PECAG   \n",
       "18   -102.133333  22.202778  AGS     PTOAG   \n",
       "19   -102.437500  22.235000  AGS     PTRAG   \n",
       "20   -102.108889  21.885000  AGS     SNVAG   \n",
       "21   -102.127778  21.807778  AGS     TNJAG   \n",
       "22   -102.067500  22.097778  AGS     VJZAG   \n",
       "23   -116.204167  32.271944   BC     AGHBN   \n",
       "24   -116.908333  32.444722   BC     ALRBN   \n",
       "25   -114.719167  29.727222   BC  CATAVINA   \n",
       "26   -116.696944  32.479444   BC     CRRBN   \n",
       "27   -116.828333  32.468056   BC     EFLBN   \n",
       "28   -116.602500  31.890278   BC     ELZBN   \n",
       "29   -115.150000  32.411111   BC     ENLBN   \n",
       "...          ...        ...  ...       ...   \n",
       "1211 -103.001944  22.642778  ZAC     JERZC   \n",
       "1212 -102.566944  22.778889  ZAC     LBUZC   \n",
       "1213 -103.603056  22.686944  ZAC     LFLZC   \n",
       "1214 -102.660556  22.996944  ZAC     LLBZC   \n",
       "1215 -103.382778  22.845278  ZAC     LOBZC   \n",
       "1216 -101.985556  22.264722  ZAC     LORZC   \n",
       "1217 -103.216944  23.180000  ZAC     LREZC   \n",
       "1218 -103.363889  21.212500  ZAC     MORZC   \n",
       "1219 -103.561667  22.306944  ZAC     MRSZC   \n",
       "1220 -102.845556  21.357500  ZAC     NCTZC   \n",
       "1221 -102.615000  24.983056  ZAC     NTAZC   \n",
       "1222 -102.798056  22.347778  ZAC     PALZC   \n",
       "1223 -101.399167  22.117500  ZAC     PINZC   \n",
       "1224 -102.903611  21.711111  ZAC     PMOZC   \n",
       "1225 -103.025833  23.816944  ZAC     RGRZC   \n",
       "1226 -102.884444  24.322222  ZAC     SFOZC   \n",
       "1227 -103.506111  24.288611  ZAC     SGOZC   \n",
       "1228 -103.636667  23.638889  ZAC     SOMZC   \n",
       "1229 -103.495833  22.326667  ZAC     STEZC   \n",
       "1230 -103.108889  22.923611  ZAC     STRZC   \n",
       "1231 -102.864167  22.120556  ZAC     TAYZC   \n",
       "1232 -103.879722  23.471944  ZAC     TCHZC   \n",
       "1233 -103.461944  21.468611  ZAC     TGOZC   \n",
       "1234 -102.786389  21.560556  ZAC     TLAZC   \n",
       "1235 -103.309444  21.773611  ZAC     TLLZC   \n",
       "1236 -102.344167  23.288611  ZAC     VCOZC   \n",
       "1237 -101.916944  22.520278  ZAC     VGOZC   \n",
       "1238 -101.715833  22.347500  ZAC     VHGZC   \n",
       "1239 -103.337500  21.588889  ZAC     VILZC   \n",
       "1240 -102.576667  22.761389  ZAC     ZACZC   \n",
       "\n",
       "                                           NOMBRE    ENE  \n",
       "0                            Aguascalientes, Ags.   6.61  \n",
       "1                     Cincuenta Aniversario, Ags.  10.60  \n",
       "2                               San Bartolo, Ags.  10.50  \n",
       "3                             Calvillo, Ags. SMN*  18.17  \n",
       "4                               La Codorniz, Ags.  16.70  \n",
       "5                              Cañada Honda, Ags.  17.30  \n",
       "6                                  Calvillo, Ags.   9.20  \n",
       "7                                 Los Conos, Ags.  13.20  \n",
       "8                                     Cosío, Ags.   7.20  \n",
       "9                                   Jocoque, Ags.   6.30  \n",
       "10                               Media Luna, Ags.  24.30  \n",
       "11                               El Niagara, Ags.   5.51  \n",
       "12                               El Novillo, Ags.  15.50  \n",
       "13           Observatorio de Aguascalientes, Ags.   8.71  \n",
       "14         Presa Cincuenta Aniversario, Ags. SMN*  10.40  \n",
       "15                                Palo Alto, Ags.  11.00  \n",
       "16                                 Pabellón, Ags.   6.80  \n",
       "17                    Plutarco Elías Calles, Ags.   6.00  \n",
       "18                  Puerto de la Concepción, Ags.  11.53  \n",
       "19                      Derivadora Pabellón, Ags.  17.41  \n",
       "20                               Sandovales, Ags.   6.00  \n",
       "21                              La Tinaja 2, Ags.  11.00  \n",
       "22                             Villa Juárez, Ags.  22.20  \n",
       "23                           Agua Hechicera, B.C.  18.82  \n",
       "24                    Abelardo L. Rodríguez, B.C.  48.20  \n",
       "25                            Cataviña, B.C. SMN*  11.31  \n",
       "26                               El Carrizo, B.C.  58.70  \n",
       "27                               El Florido, B.C.  20.60  \n",
       "28                      Emilio López Zamora, B.C.  48.42  \n",
       "29                         Ejido Nuevo León, B.C.   8.90  \n",
       "...                                           ...    ...  \n",
       "1211                                  Jerez, Zac.   6.60  \n",
       "1212                                La Bufa, Zac.   7.70  \n",
       "1213                             La Florida, Zac.   2.51  \n",
       "1214                           Llano Blanco, Zac.  20.80  \n",
       "1215                       Manuel Felgueres, Zac.  13.50  \n",
       "1216                                 Loreto, Zac.  13.61  \n",
       "1217            Gobernador Leobardo Reynoso, Zac.   8.00  \n",
       "1218                      Mezquital del Oro, Zac.  22.02  \n",
       "1219                         Monte Escobedo, Zac.   6.02  \n",
       "1220                             Nochistlán, Zac.  29.70  \n",
       "1221                          Nuevo Tampico, Zac.   4.80  \n",
       "1222                                Palomas, Zac.   9.80  \n",
       "1223                            Pino Suárez, Zac.   3.50  \n",
       "1224                              Moraleños, Zac.  15.70  \n",
       "1225                             Río Grande, Zac.   3.61  \n",
       "1226                          San Francisco, Zac.   9.70  \n",
       "1227                               Santiago, Zac.   5.00  \n",
       "1228                             Sombrerete, Zac.   1.60  \n",
       "1229  Santa Teresa (Independencia Nacional), Zac.   6.00  \n",
       "1230                             Santa Rosa, Zac.  18.52  \n",
       "1231             Ing. Julián Adame Alatorre, Zac.  13.50  \n",
       "1232                          Chalchihuites, Zac.   3.00  \n",
       "1233                Teúl de González Ortega, Zac.  30.10  \n",
       "1234                           Tlalchichila, Zac.  25.01  \n",
       "1235                            Tlaltenango, Zac.  14.02  \n",
       "1236                           Villa de Cos, Zac.   7.00  \n",
       "1237                  Villa González Ortega, Zac.  32.32  \n",
       "1238                          Villa Hidalgo, Zac.   9.70  \n",
       "1239                     José María Morelos, Zac.  15.20  \n",
       "1240                              Zacatecas, Zac.  12.02  \n",
       "\n",
       "[1241 rows x 6 columns]"
      ]
     },
     "execution_count": 21,
     "metadata": {},
     "output_type": "execute_result"
    }
   ],
   "source": [
    "LLUVIA_2019"
   ]
  },
  {
   "cell_type": "code",
   "execution_count": 4,
   "metadata": {},
   "outputs": [
    {
     "data": {
      "text/plain": [
       "-102.309722"
      ]
     },
     "execution_count": 4,
     "metadata": {},
     "output_type": "execute_result"
    }
   ],
   "source": [
    "LLUVIA_2019.LON[0]"
   ]
  },
  {
   "cell_type": "code",
   "execution_count": 5,
   "metadata": {
    "scrolled": false
   },
   "outputs": [
    {
     "data": {
      "text/plain": [
       "0      -102.309722\n",
       "1      -102.466944\n",
       "2      -102.184167\n",
       "3      -102.712222\n",
       "4      -102.676944\n",
       "5      -102.197222\n",
       "6      -102.189167\n",
       "7      -102.000000\n",
       "8      -102.296667\n",
       "9      -102.356944\n",
       "10     -102.788333\n",
       "11     -102.371667\n",
       "12     -102.001944\n",
       "13     -102.290556\n",
       "14     -102.465000\n",
       "15     -101.966667\n",
       "16     -102.291944\n",
       "17     -102.417222\n",
       "18     -102.133333\n",
       "19     -102.437500\n",
       "20     -102.108889\n",
       "21     -102.127778\n",
       "22     -102.067500\n",
       "23     -116.204167\n",
       "24     -116.908333\n",
       "25     -114.719167\n",
       "26     -116.696944\n",
       "27     -116.828333\n",
       "28     -116.602500\n",
       "29     -115.150000\n",
       "           ...    \n",
       "1211   -103.001944\n",
       "1212   -102.566944\n",
       "1213   -103.603056\n",
       "1214   -102.660556\n",
       "1215   -103.382778\n",
       "1216   -101.985556\n",
       "1217   -103.216944\n",
       "1218   -103.363889\n",
       "1219   -103.561667\n",
       "1220   -102.845556\n",
       "1221   -102.615000\n",
       "1222   -102.798056\n",
       "1223   -101.399167\n",
       "1224   -102.903611\n",
       "1225   -103.025833\n",
       "1226   -102.884444\n",
       "1227   -103.506111\n",
       "1228   -103.636667\n",
       "1229   -103.495833\n",
       "1230   -103.108889\n",
       "1231   -102.864167\n",
       "1232   -103.879722\n",
       "1233   -103.461944\n",
       "1234   -102.786389\n",
       "1235   -103.309444\n",
       "1236   -102.344167\n",
       "1237   -101.916944\n",
       "1238   -101.715833\n",
       "1239   -103.337500\n",
       "1240   -102.576667\n",
       "Name: LON, Length: 1241, dtype: float64"
      ]
     },
     "execution_count": 5,
     "metadata": {},
     "output_type": "execute_result"
    }
   ],
   "source": [
    "LLUVIA_2019.LON"
   ]
  },
  {
   "cell_type": "code",
   "execution_count": 6,
   "metadata": {},
   "outputs": [
    {
     "name": "stdout",
     "output_type": "stream",
     "text": [
      "Index(['LON', 'LAT', 'EDO', 'CLAVE_SIH', 'NOMBRE', 'ENE'], dtype='object')\n"
     ]
    }
   ],
   "source": [
    "print(LLUVIA_2019.keys())"
   ]
  },
  {
   "cell_type": "code",
   "execution_count": 7,
   "metadata": {},
   "outputs": [
    {
     "name": "stdout",
     "output_type": "stream",
     "text": [
      "Index(['Lon', 'Lat', 'Clave', 'Edo', 'Est', 'Tmax'], dtype='object')\n"
     ]
    }
   ],
   "source": [
    "print(TMAX_2019.keys())"
   ]
  },
  {
   "cell_type": "code",
   "execution_count": 8,
   "metadata": {},
   "outputs": [
    {
     "name": "stdout",
     "output_type": "stream",
     "text": [
      "Index(['Lon', 'Lat', 'Clave', 'Edo', 'Est', 'Tmin'], dtype='object')\n"
     ]
    }
   ],
   "source": [
    "print(TMIN_2019.keys())"
   ]
  },
  {
   "cell_type": "code",
   "execution_count": 9,
   "metadata": {},
   "outputs": [
    {
     "name": "stdout",
     "output_type": "stream",
     "text": [
      "Index(['Lon', 'Lat', 'Clave', 'Edo', 'Est', 'Tmed'], dtype='object')\n"
     ]
    }
   ],
   "source": [
    "print(TMED_2019.keys())"
   ]
  },
  {
   "cell_type": "markdown",
   "metadata": {},
   "source": [
    "### SERIES COMO UN ARREGLO DE UNA DIMENSION"
   ]
  },
  {
   "cell_type": "markdown",
   "metadata": {},
   "source": [
    "De forma similar a los comandos de python, se pueden usar comandos para filtrar la informacion de una serie:"
   ]
  },
  {
   "cell_type": "code",
   "execution_count": 10,
   "metadata": {},
   "outputs": [
    {
     "data": {
      "text/plain": [
       "0   -102.309722\n",
       "1   -102.466944\n",
       "2   -102.184167\n",
       "3   -102.712222\n",
       "4   -102.676944\n",
       "Name: LON, dtype: float64"
      ]
     },
     "execution_count": 10,
     "metadata": {},
     "output_type": "execute_result"
    }
   ],
   "source": [
    "LLUVIA_2019.LON[0:5] # corte o slice"
   ]
  },
  {
   "cell_type": "code",
   "execution_count": 11,
   "metadata": {},
   "outputs": [
    {
     "data": {
      "text/plain": [
       "0      -102.309722\n",
       "9      -102.356944\n",
       "11     -102.371667\n",
       "595    -102.371667\n",
       "596    -102.371111\n",
       "628    -102.325000\n",
       "938    -102.371667\n",
       "1202   -102.347222\n",
       "1236   -102.344167\n",
       "Name: LON, dtype: float64"
      ]
     },
     "execution_count": 11,
     "metadata": {},
     "output_type": "execute_result"
    }
   ],
   "source": [
    "LLUVIA_2019.LON[(LLUVIA_2019.LON > -102.4) & (LLUVIA_2019.LON < -102.3)] # masking"
   ]
  },
  {
   "cell_type": "code",
   "execution_count": 12,
   "metadata": {},
   "outputs": [
    {
     "data": {
      "text/plain": [
       "0   -102.309722\n",
       "4   -102.676944\n",
       "Name: LON, dtype: float64"
      ]
     },
     "execution_count": 12,
     "metadata": {},
     "output_type": "execute_result"
    }
   ],
   "source": [
    "LLUVIA_2019.LON[[0, 4]] # fancy indexing"
   ]
  },
  {
   "cell_type": "markdown",
   "metadata": {},
   "source": [
    "### INDEXERS: LOC, ILOC, E IX"
   ]
  },
  {
   "cell_type": "markdown",
   "metadata": {},
   "source": [
    "Las funciones loc, iloc, e ix permiten llamar a los indices de una serie y permitirnos diferenciar entre los indices usados para las Series y los indices usados en python."
   ]
  },
  {
   "cell_type": "markdown",
   "metadata": {},
   "source": [
    "El atributo loc permite indexar y cortar series refernciadas a un indice explcito:"
   ]
  },
  {
   "cell_type": "code",
   "execution_count": 14,
   "metadata": {},
   "outputs": [
    {
     "data": {
      "text/plain": [
       "-102.466944"
      ]
     },
     "execution_count": 14,
     "metadata": {},
     "output_type": "execute_result"
    }
   ],
   "source": [
    "LLUVIA_2019.LON.loc[1]"
   ]
  },
  {
   "cell_type": "code",
   "execution_count": 15,
   "metadata": {},
   "outputs": [
    {
     "data": {
      "text/plain": [
       "1   -102.466944\n",
       "2   -102.184167\n",
       "3   -102.712222\n",
       "Name: LON, dtype: float64"
      ]
     },
     "execution_count": 15,
     "metadata": {},
     "output_type": "execute_result"
    }
   ],
   "source": [
    "LLUVIA_2019.LON.loc[1:3]"
   ]
  },
  {
   "cell_type": "markdown",
   "metadata": {},
   "source": [
    "El atributo iloc permite indexar y cortar series refernciadas a un indice estilo python:"
   ]
  },
  {
   "cell_type": "code",
   "execution_count": 17,
   "metadata": {},
   "outputs": [
    {
     "data": {
      "text/plain": [
       "-102.466944"
      ]
     },
     "execution_count": 17,
     "metadata": {},
     "output_type": "execute_result"
    }
   ],
   "source": [
    "LLUVIA_2019.LON.iloc[1]"
   ]
  },
  {
   "cell_type": "code",
   "execution_count": 18,
   "metadata": {},
   "outputs": [
    {
     "data": {
      "text/plain": [
       "1   -102.466944\n",
       "2   -102.184167\n",
       "Name: LON, dtype: float64"
      ]
     },
     "execution_count": 18,
     "metadata": {},
     "output_type": "execute_result"
    }
   ],
   "source": [
    "LLUVIA_2019.LON.iloc[1:3]"
   ]
  },
  {
   "cell_type": "markdown",
   "metadata": {},
   "source": [
    "El atributo ix es un hibrido entre los dos anteriores:"
   ]
  },
  {
   "cell_type": "code",
   "execution_count": 19,
   "metadata": {},
   "outputs": [
    {
     "name": "stderr",
     "output_type": "stream",
     "text": [
      "/home/luiscantero/anaconda3/lib/python3.6/site-packages/ipykernel_launcher.py:1: DeprecationWarning: \n",
      ".ix is deprecated. Please use\n",
      ".loc for label based indexing or\n",
      ".iloc for positional indexing\n",
      "\n",
      "See the documentation here:\n",
      "http://pandas.pydata.org/pandas-docs/stable/indexing.html#ix-indexer-is-deprecated\n",
      "  \"\"\"Entry point for launching an IPython kernel.\n"
     ]
    },
    {
     "data": {
      "text/plain": [
       "-102.466944"
      ]
     },
     "execution_count": 19,
     "metadata": {},
     "output_type": "execute_result"
    }
   ],
   "source": [
    "LLUVIA_2019.LON.ix[1]"
   ]
  },
  {
   "cell_type": "code",
   "execution_count": 20,
   "metadata": {},
   "outputs": [
    {
     "name": "stderr",
     "output_type": "stream",
     "text": [
      "/home/luiscantero/anaconda3/lib/python3.6/site-packages/ipykernel_launcher.py:1: DeprecationWarning: \n",
      ".ix is deprecated. Please use\n",
      ".loc for label based indexing or\n",
      ".iloc for positional indexing\n",
      "\n",
      "See the documentation here:\n",
      "http://pandas.pydata.org/pandas-docs/stable/indexing.html#ix-indexer-is-deprecated\n",
      "  \"\"\"Entry point for launching an IPython kernel.\n"
     ]
    },
    {
     "data": {
      "text/plain": [
       "1   -102.466944\n",
       "2   -102.184167\n",
       "3   -102.712222\n",
       "Name: LON, dtype: float64"
      ]
     },
     "execution_count": 20,
     "metadata": {},
     "output_type": "execute_result"
    }
   ],
   "source": [
    "LLUVIA_2019.LON.ix[1:3]"
   ]
  },
  {
   "cell_type": "markdown",
   "metadata": {},
   "source": [
    "### Dataframes como arreglos de dos dimensiones:"
   ]
  },
  {
   "cell_type": "code",
   "execution_count": 22,
   "metadata": {},
   "outputs": [
    {
     "data": {
      "text/plain": [
       "True"
      ]
     },
     "execution_count": 22,
     "metadata": {},
     "output_type": "execute_result"
    }
   ],
   "source": [
    "LLUVIA_2019.LON is LLUVIA_2019['LON']"
   ]
  },
  {
   "cell_type": "code",
   "execution_count": 23,
   "metadata": {},
   "outputs": [
    {
     "data": {
      "text/plain": [
       "0      -102.309722\n",
       "1      -102.466944\n",
       "2      -102.184167\n",
       "3      -102.712222\n",
       "4      -102.676944\n",
       "5      -102.197222\n",
       "6      -102.189167\n",
       "7      -102.000000\n",
       "8      -102.296667\n",
       "9      -102.356944\n",
       "10     -102.788333\n",
       "11     -102.371667\n",
       "12     -102.001944\n",
       "13     -102.290556\n",
       "14     -102.465000\n",
       "15     -101.966667\n",
       "16     -102.291944\n",
       "17     -102.417222\n",
       "18     -102.133333\n",
       "19     -102.437500\n",
       "20     -102.108889\n",
       "21     -102.127778\n",
       "22     -102.067500\n",
       "23     -116.204167\n",
       "24     -116.908333\n",
       "25     -114.719167\n",
       "26     -116.696944\n",
       "27     -116.828333\n",
       "28     -116.602500\n",
       "29     -115.150000\n",
       "           ...    \n",
       "1211   -103.001944\n",
       "1212   -102.566944\n",
       "1213   -103.603056\n",
       "1214   -102.660556\n",
       "1215   -103.382778\n",
       "1216   -101.985556\n",
       "1217   -103.216944\n",
       "1218   -103.363889\n",
       "1219   -103.561667\n",
       "1220   -102.845556\n",
       "1221   -102.615000\n",
       "1222   -102.798056\n",
       "1223   -101.399167\n",
       "1224   -102.903611\n",
       "1225   -103.025833\n",
       "1226   -102.884444\n",
       "1227   -103.506111\n",
       "1228   -103.636667\n",
       "1229   -103.495833\n",
       "1230   -103.108889\n",
       "1231   -102.864167\n",
       "1232   -103.879722\n",
       "1233   -103.461944\n",
       "1234   -102.786389\n",
       "1235   -103.309444\n",
       "1236   -102.344167\n",
       "1237   -101.916944\n",
       "1238   -101.715833\n",
       "1239   -103.337500\n",
       "1240   -102.576667\n",
       "Name: LON, Length: 1241, dtype: float64"
      ]
     },
     "execution_count": 23,
     "metadata": {},
     "output_type": "execute_result"
    }
   ],
   "source": [
    "LLUVIA_2019['LON']"
   ]
  },
  {
   "cell_type": "markdown",
   "metadata": {},
   "source": [
    "Recordatorio: Se pueden llamar los valores de una serie en los Data frame con 'values':"
   ]
  },
  {
   "cell_type": "code",
   "execution_count": 24,
   "metadata": {},
   "outputs": [
    {
     "data": {
      "text/plain": [
       "array([-102.309722, -102.466944, -102.184167, ..., -101.715833,\n",
       "       -103.3375  , -102.576667])"
      ]
     },
     "execution_count": 24,
     "metadata": {},
     "output_type": "execute_result"
    }
   ],
   "source": [
    "LLUVIA_2019['LON'].values"
   ]
  },
  {
   "cell_type": "markdown",
   "metadata": {},
   "source": [
    "Ejemplo de como transponer el Dataframe para cambiar filas por columnas:"
   ]
  },
  {
   "cell_type": "code",
   "execution_count": 30,
   "metadata": {},
   "outputs": [
    {
     "data": {
      "text/plain": [
       "0      -102.309722\n",
       "1      -102.466944\n",
       "2      -102.184167\n",
       "3      -102.712222\n",
       "4      -102.676944\n",
       "5      -102.197222\n",
       "6      -102.189167\n",
       "7      -102.000000\n",
       "8      -102.296667\n",
       "9      -102.356944\n",
       "10     -102.788333\n",
       "11     -102.371667\n",
       "12     -102.001944\n",
       "13     -102.290556\n",
       "14     -102.465000\n",
       "15     -101.966667\n",
       "16     -102.291944\n",
       "17     -102.417222\n",
       "18     -102.133333\n",
       "19     -102.437500\n",
       "20     -102.108889\n",
       "21     -102.127778\n",
       "22     -102.067500\n",
       "23     -116.204167\n",
       "24     -116.908333\n",
       "25     -114.719167\n",
       "26     -116.696944\n",
       "27     -116.828333\n",
       "28     -116.602500\n",
       "29     -115.150000\n",
       "           ...    \n",
       "1211   -103.001944\n",
       "1212   -102.566944\n",
       "1213   -103.603056\n",
       "1214   -102.660556\n",
       "1215   -103.382778\n",
       "1216   -101.985556\n",
       "1217   -103.216944\n",
       "1218   -103.363889\n",
       "1219   -103.561667\n",
       "1220   -102.845556\n",
       "1221   -102.615000\n",
       "1222   -102.798056\n",
       "1223   -101.399167\n",
       "1224   -102.903611\n",
       "1225   -103.025833\n",
       "1226   -102.884444\n",
       "1227   -103.506111\n",
       "1228   -103.636667\n",
       "1229   -103.495833\n",
       "1230   -103.108889\n",
       "1231   -102.864167\n",
       "1232   -103.879722\n",
       "1233   -103.461944\n",
       "1234   -102.786389\n",
       "1235   -103.309444\n",
       "1236   -102.344167\n",
       "1237   -101.916944\n",
       "1238   -101.715833\n",
       "1239   -103.337500\n",
       "1240   -102.576667\n",
       "Name: LON, Length: 1241, dtype: float64"
      ]
     },
     "execution_count": 30,
     "metadata": {},
     "output_type": "execute_result"
    }
   ],
   "source": [
    "LLUVIA_2019['LON'].T"
   ]
  },
  {
   "cell_type": "markdown",
   "metadata": {},
   "source": [
    "De esta forma se puede introducir un indice simple para accesar a una fila:"
   ]
  },
  {
   "cell_type": "code",
   "execution_count": 31,
   "metadata": {},
   "outputs": [
    {
     "data": {
      "text/plain": [
       "array([-102.309722, 21.895, 'AGS', 'AGSAG', 'Aguascalientes, Ags.', 6.61],\n",
       "      dtype=object)"
      ]
     },
     "execution_count": 31,
     "metadata": {},
     "output_type": "execute_result"
    }
   ],
   "source": [
    "LLUVIA_2019.values[0]"
   ]
  },
  {
   "cell_type": "markdown",
   "metadata": {},
   "source": [
    "Ahora tmbien se puede pasar un indice a un Dataframe para accesar a una columna:"
   ]
  },
  {
   "cell_type": "code",
   "execution_count": 32,
   "metadata": {},
   "outputs": [
    {
     "data": {
      "text/plain": [
       "0      -102.309722\n",
       "1      -102.466944\n",
       "2      -102.184167\n",
       "3      -102.712222\n",
       "4      -102.676944\n",
       "5      -102.197222\n",
       "6      -102.189167\n",
       "7      -102.000000\n",
       "8      -102.296667\n",
       "9      -102.356944\n",
       "10     -102.788333\n",
       "11     -102.371667\n",
       "12     -102.001944\n",
       "13     -102.290556\n",
       "14     -102.465000\n",
       "15     -101.966667\n",
       "16     -102.291944\n",
       "17     -102.417222\n",
       "18     -102.133333\n",
       "19     -102.437500\n",
       "20     -102.108889\n",
       "21     -102.127778\n",
       "22     -102.067500\n",
       "23     -116.204167\n",
       "24     -116.908333\n",
       "25     -114.719167\n",
       "26     -116.696944\n",
       "27     -116.828333\n",
       "28     -116.602500\n",
       "29     -115.150000\n",
       "           ...    \n",
       "1211   -103.001944\n",
       "1212   -102.566944\n",
       "1213   -103.603056\n",
       "1214   -102.660556\n",
       "1215   -103.382778\n",
       "1216   -101.985556\n",
       "1217   -103.216944\n",
       "1218   -103.363889\n",
       "1219   -103.561667\n",
       "1220   -102.845556\n",
       "1221   -102.615000\n",
       "1222   -102.798056\n",
       "1223   -101.399167\n",
       "1224   -102.903611\n",
       "1225   -103.025833\n",
       "1226   -102.884444\n",
       "1227   -103.506111\n",
       "1228   -103.636667\n",
       "1229   -103.495833\n",
       "1230   -103.108889\n",
       "1231   -102.864167\n",
       "1232   -103.879722\n",
       "1233   -103.461944\n",
       "1234   -102.786389\n",
       "1235   -103.309444\n",
       "1236   -102.344167\n",
       "1237   -101.916944\n",
       "1238   -101.715833\n",
       "1239   -103.337500\n",
       "1240   -102.576667\n",
       "Name: LON, Length: 1241, dtype: float64"
      ]
     },
     "execution_count": 32,
     "metadata": {},
     "output_type": "execute_result"
    }
   ],
   "source": [
    "LLUVIA_2019.LON"
   ]
  },
  {
   "cell_type": "markdown",
   "metadata": {},
   "source": [
    "Usando iloc podemos partir un Dataframe sin que las etiquetas de los indices y las columnas se modifiquen:"
   ]
  },
  {
   "cell_type": "code",
   "execution_count": 34,
   "metadata": {},
   "outputs": [
    {
     "data": {
      "text/html": [
       "<div>\n",
       "<style scoped>\n",
       "    .dataframe tbody tr th:only-of-type {\n",
       "        vertical-align: middle;\n",
       "    }\n",
       "\n",
       "    .dataframe tbody tr th {\n",
       "        vertical-align: top;\n",
       "    }\n",
       "\n",
       "    .dataframe thead th {\n",
       "        text-align: right;\n",
       "    }\n",
       "</style>\n",
       "<table border=\"1\" class=\"dataframe\">\n",
       "  <thead>\n",
       "    <tr style=\"text-align: right;\">\n",
       "      <th></th>\n",
       "      <th>LON</th>\n",
       "      <th>LAT</th>\n",
       "      <th>EDO</th>\n",
       "      <th>CLAVE_SIH</th>\n",
       "      <th>NOMBRE</th>\n",
       "    </tr>\n",
       "  </thead>\n",
       "  <tbody>\n",
       "    <tr>\n",
       "      <th>0</th>\n",
       "      <td>-102.309722</td>\n",
       "      <td>21.895000</td>\n",
       "      <td>AGS</td>\n",
       "      <td>AGSAG</td>\n",
       "      <td>Aguascalientes, Ags.</td>\n",
       "    </tr>\n",
       "    <tr>\n",
       "      <th>1</th>\n",
       "      <td>-102.466944</td>\n",
       "      <td>22.188611</td>\n",
       "      <td>AGS</td>\n",
       "      <td>ANVAG</td>\n",
       "      <td>Cincuenta Aniversario, Ags.</td>\n",
       "    </tr>\n",
       "    <tr>\n",
       "      <th>2</th>\n",
       "      <td>-102.184167</td>\n",
       "      <td>21.738611</td>\n",
       "      <td>AGS</td>\n",
       "      <td>BRTAG</td>\n",
       "      <td>San Bartolo, Ags.</td>\n",
       "    </tr>\n",
       "    <tr>\n",
       "      <th>3</th>\n",
       "      <td>-102.712222</td>\n",
       "      <td>21.849167</td>\n",
       "      <td>AGS</td>\n",
       "      <td>CALVILLO</td>\n",
       "      <td>Calvillo, Ags. SMN*</td>\n",
       "    </tr>\n",
       "    <tr>\n",
       "      <th>4</th>\n",
       "      <td>-102.676944</td>\n",
       "      <td>21.997500</td>\n",
       "      <td>AGS</td>\n",
       "      <td>CDRAG</td>\n",
       "      <td>La Codorniz, Ags.</td>\n",
       "    </tr>\n",
       "  </tbody>\n",
       "</table>\n",
       "</div>"
      ],
      "text/plain": [
       "          LON        LAT  EDO CLAVE_SIH                       NOMBRE\n",
       "0 -102.309722  21.895000  AGS     AGSAG         Aguascalientes, Ags.\n",
       "1 -102.466944  22.188611  AGS     ANVAG  Cincuenta Aniversario, Ags.\n",
       "2 -102.184167  21.738611  AGS     BRTAG            San Bartolo, Ags.\n",
       "3 -102.712222  21.849167  AGS  CALVILLO          Calvillo, Ags. SMN*\n",
       "4 -102.676944  21.997500  AGS     CDRAG            La Codorniz, Ags."
      ]
     },
     "execution_count": 34,
     "metadata": {},
     "output_type": "execute_result"
    }
   ],
   "source": [
    "LLUVIA_2019.iloc[:5, :5]"
   ]
  },
  {
   "cell_type": "code",
   "execution_count": 33,
   "metadata": {},
   "outputs": [
    {
     "data": {
      "text/html": [
       "<div>\n",
       "<style scoped>\n",
       "    .dataframe tbody tr th:only-of-type {\n",
       "        vertical-align: middle;\n",
       "    }\n",
       "\n",
       "    .dataframe tbody tr th {\n",
       "        vertical-align: top;\n",
       "    }\n",
       "\n",
       "    .dataframe thead th {\n",
       "        text-align: right;\n",
       "    }\n",
       "</style>\n",
       "<table border=\"1\" class=\"dataframe\">\n",
       "  <thead>\n",
       "    <tr style=\"text-align: right;\">\n",
       "      <th></th>\n",
       "      <th>LON</th>\n",
       "      <th>LAT</th>\n",
       "    </tr>\n",
       "  </thead>\n",
       "  <tbody>\n",
       "    <tr>\n",
       "      <th>0</th>\n",
       "      <td>-102.309722</td>\n",
       "      <td>21.895000</td>\n",
       "    </tr>\n",
       "    <tr>\n",
       "      <th>1</th>\n",
       "      <td>-102.466944</td>\n",
       "      <td>22.188611</td>\n",
       "    </tr>\n",
       "    <tr>\n",
       "      <th>2</th>\n",
       "      <td>-102.184167</td>\n",
       "      <td>21.738611</td>\n",
       "    </tr>\n",
       "  </tbody>\n",
       "</table>\n",
       "</div>"
      ],
      "text/plain": [
       "          LON        LAT\n",
       "0 -102.309722  21.895000\n",
       "1 -102.466944  22.188611\n",
       "2 -102.184167  21.738611"
      ]
     },
     "execution_count": 33,
     "metadata": {},
     "output_type": "execute_result"
    }
   ],
   "source": [
    "LLUVIA_2019.iloc[:3, :2]"
   ]
  },
  {
   "cell_type": "code",
   "execution_count": 35,
   "metadata": {},
   "outputs": [
    {
     "data": {
      "text/html": [
       "<div>\n",
       "<style scoped>\n",
       "    .dataframe tbody tr th:only-of-type {\n",
       "        vertical-align: middle;\n",
       "    }\n",
       "\n",
       "    .dataframe tbody tr th {\n",
       "        vertical-align: top;\n",
       "    }\n",
       "\n",
       "    .dataframe thead th {\n",
       "        text-align: right;\n",
       "    }\n",
       "</style>\n",
       "<table border=\"1\" class=\"dataframe\">\n",
       "  <thead>\n",
       "    <tr style=\"text-align: right;\">\n",
       "      <th></th>\n",
       "      <th>LAT</th>\n",
       "    </tr>\n",
       "  </thead>\n",
       "  <tbody>\n",
       "    <tr>\n",
       "      <th>1</th>\n",
       "      <td>22.188611</td>\n",
       "    </tr>\n",
       "    <tr>\n",
       "      <th>2</th>\n",
       "      <td>21.738611</td>\n",
       "    </tr>\n",
       "  </tbody>\n",
       "</table>\n",
       "</div>"
      ],
      "text/plain": [
       "         LAT\n",
       "1  22.188611\n",
       "2  21.738611"
      ]
     },
     "execution_count": 35,
     "metadata": {},
     "output_type": "execute_result"
    }
   ],
   "source": [
    "LLUVIA_2019.iloc[1:3, 1:2]"
   ]
  },
  {
   "cell_type": "markdown",
   "metadata": {},
   "source": [
    "Usando loc podemos partir un Dataframe usando el nombre explicito de columnas e indices:"
   ]
  },
  {
   "cell_type": "code",
   "execution_count": 40,
   "metadata": {},
   "outputs": [
    {
     "data": {
      "text/html": [
       "<div>\n",
       "<style scoped>\n",
       "    .dataframe tbody tr th:only-of-type {\n",
       "        vertical-align: middle;\n",
       "    }\n",
       "\n",
       "    .dataframe tbody tr th {\n",
       "        vertical-align: top;\n",
       "    }\n",
       "\n",
       "    .dataframe thead th {\n",
       "        text-align: right;\n",
       "    }\n",
       "</style>\n",
       "<table border=\"1\" class=\"dataframe\">\n",
       "  <thead>\n",
       "    <tr style=\"text-align: right;\">\n",
       "      <th></th>\n",
       "      <th>LON</th>\n",
       "      <th>LAT</th>\n",
       "      <th>EDO</th>\n",
       "      <th>CLAVE_SIH</th>\n",
       "    </tr>\n",
       "  </thead>\n",
       "  <tbody>\n",
       "    <tr>\n",
       "      <th>0</th>\n",
       "      <td>-102.309722</td>\n",
       "      <td>21.895000</td>\n",
       "      <td>AGS</td>\n",
       "      <td>AGSAG</td>\n",
       "    </tr>\n",
       "    <tr>\n",
       "      <th>1</th>\n",
       "      <td>-102.466944</td>\n",
       "      <td>22.188611</td>\n",
       "      <td>AGS</td>\n",
       "      <td>ANVAG</td>\n",
       "    </tr>\n",
       "    <tr>\n",
       "      <th>2</th>\n",
       "      <td>-102.184167</td>\n",
       "      <td>21.738611</td>\n",
       "      <td>AGS</td>\n",
       "      <td>BRTAG</td>\n",
       "    </tr>\n",
       "    <tr>\n",
       "      <th>3</th>\n",
       "      <td>-102.712222</td>\n",
       "      <td>21.849167</td>\n",
       "      <td>AGS</td>\n",
       "      <td>CALVILLO</td>\n",
       "    </tr>\n",
       "  </tbody>\n",
       "</table>\n",
       "</div>"
      ],
      "text/plain": [
       "          LON        LAT  EDO CLAVE_SIH\n",
       "0 -102.309722  21.895000  AGS     AGSAG\n",
       "1 -102.466944  22.188611  AGS     ANVAG\n",
       "2 -102.184167  21.738611  AGS     BRTAG\n",
       "3 -102.712222  21.849167  AGS  CALVILLO"
      ]
     },
     "execution_count": 40,
     "metadata": {},
     "output_type": "execute_result"
    }
   ],
   "source": [
    "LLUVIA_2019.loc[:3, :'CLAVE_SIH']"
   ]
  },
  {
   "cell_type": "markdown",
   "metadata": {},
   "source": [
    "Usando ix podemos partir un Dataframe usando el nombre explicito de columnas e indices o el indice explicito del Dataframe o un combinado:"
   ]
  },
  {
   "cell_type": "code",
   "execution_count": 41,
   "metadata": {},
   "outputs": [
    {
     "data": {
      "text/html": [
       "<div>\n",
       "<style scoped>\n",
       "    .dataframe tbody tr th:only-of-type {\n",
       "        vertical-align: middle;\n",
       "    }\n",
       "\n",
       "    .dataframe tbody tr th {\n",
       "        vertical-align: top;\n",
       "    }\n",
       "\n",
       "    .dataframe thead th {\n",
       "        text-align: right;\n",
       "    }\n",
       "</style>\n",
       "<table border=\"1\" class=\"dataframe\">\n",
       "  <thead>\n",
       "    <tr style=\"text-align: right;\">\n",
       "      <th></th>\n",
       "      <th>LON</th>\n",
       "      <th>LAT</th>\n",
       "      <th>EDO</th>\n",
       "      <th>CLAVE_SIH</th>\n",
       "    </tr>\n",
       "  </thead>\n",
       "  <tbody>\n",
       "    <tr>\n",
       "      <th>0</th>\n",
       "      <td>-102.309722</td>\n",
       "      <td>21.895000</td>\n",
       "      <td>AGS</td>\n",
       "      <td>AGSAG</td>\n",
       "    </tr>\n",
       "    <tr>\n",
       "      <th>1</th>\n",
       "      <td>-102.466944</td>\n",
       "      <td>22.188611</td>\n",
       "      <td>AGS</td>\n",
       "      <td>ANVAG</td>\n",
       "    </tr>\n",
       "    <tr>\n",
       "      <th>2</th>\n",
       "      <td>-102.184167</td>\n",
       "      <td>21.738611</td>\n",
       "      <td>AGS</td>\n",
       "      <td>BRTAG</td>\n",
       "    </tr>\n",
       "    <tr>\n",
       "      <th>3</th>\n",
       "      <td>-102.712222</td>\n",
       "      <td>21.849167</td>\n",
       "      <td>AGS</td>\n",
       "      <td>CALVILLO</td>\n",
       "    </tr>\n",
       "  </tbody>\n",
       "</table>\n",
       "</div>"
      ],
      "text/plain": [
       "          LON        LAT  EDO CLAVE_SIH\n",
       "0 -102.309722  21.895000  AGS     AGSAG\n",
       "1 -102.466944  22.188611  AGS     ANVAG\n",
       "2 -102.184167  21.738611  AGS     BRTAG\n",
       "3 -102.712222  21.849167  AGS  CALVILLO"
      ]
     },
     "execution_count": 41,
     "metadata": {},
     "output_type": "execute_result"
    }
   ],
   "source": [
    "LLUVIA_2019.loc[:3, :'CLAVE_SIH']"
   ]
  },
  {
   "cell_type": "markdown",
   "metadata": {},
   "source": [
    "Cualquier comando de familiar de numpy puede ser usado con estos 'indexers', por ejemplo:"
   ]
  },
  {
   "cell_type": "code",
   "execution_count": 43,
   "metadata": {},
   "outputs": [
    {
     "data": {
      "text/html": [
       "<div>\n",
       "<style scoped>\n",
       "    .dataframe tbody tr th:only-of-type {\n",
       "        vertical-align: middle;\n",
       "    }\n",
       "\n",
       "    .dataframe tbody tr th {\n",
       "        vertical-align: top;\n",
       "    }\n",
       "\n",
       "    .dataframe thead th {\n",
       "        text-align: right;\n",
       "    }\n",
       "</style>\n",
       "<table border=\"1\" class=\"dataframe\">\n",
       "  <thead>\n",
       "    <tr style=\"text-align: right;\">\n",
       "      <th></th>\n",
       "      <th>LAT</th>\n",
       "      <th>EDO</th>\n",
       "      <th>CLAVE_SIH</th>\n",
       "    </tr>\n",
       "  </thead>\n",
       "  <tbody>\n",
       "    <tr>\n",
       "      <th>0</th>\n",
       "      <td>21.895000</td>\n",
       "      <td>AGS</td>\n",
       "      <td>AGSAG</td>\n",
       "    </tr>\n",
       "    <tr>\n",
       "      <th>1</th>\n",
       "      <td>22.188611</td>\n",
       "      <td>AGS</td>\n",
       "      <td>ANVAG</td>\n",
       "    </tr>\n",
       "    <tr>\n",
       "      <th>3</th>\n",
       "      <td>21.849167</td>\n",
       "      <td>AGS</td>\n",
       "      <td>CALVILLO</td>\n",
       "    </tr>\n",
       "    <tr>\n",
       "      <th>4</th>\n",
       "      <td>21.997500</td>\n",
       "      <td>AGS</td>\n",
       "      <td>CDRAG</td>\n",
       "    </tr>\n",
       "    <tr>\n",
       "      <th>5</th>\n",
       "      <td>22.007222</td>\n",
       "      <td>AGS</td>\n",
       "      <td>CHOAG</td>\n",
       "    </tr>\n",
       "    <tr>\n",
       "      <th>6</th>\n",
       "      <td>21.826667</td>\n",
       "      <td>AGS</td>\n",
       "      <td>CLVAG</td>\n",
       "    </tr>\n",
       "    <tr>\n",
       "      <th>7</th>\n",
       "      <td>21.896389</td>\n",
       "      <td>AGS</td>\n",
       "      <td>CNSAG</td>\n",
       "    </tr>\n",
       "    <tr>\n",
       "      <th>8</th>\n",
       "      <td>22.362778</td>\n",
       "      <td>AGS</td>\n",
       "      <td>CSOAG</td>\n",
       "    </tr>\n",
       "    <tr>\n",
       "      <th>9</th>\n",
       "      <td>22.121667</td>\n",
       "      <td>AGS</td>\n",
       "      <td>JCQAG</td>\n",
       "    </tr>\n",
       "    <tr>\n",
       "      <th>10</th>\n",
       "      <td>21.807500</td>\n",
       "      <td>AGS</td>\n",
       "      <td>MNLAG</td>\n",
       "    </tr>\n",
       "    <tr>\n",
       "      <th>12</th>\n",
       "      <td>22.020556</td>\n",
       "      <td>AGS</td>\n",
       "      <td>NVLAG</td>\n",
       "    </tr>\n",
       "    <tr>\n",
       "      <th>13</th>\n",
       "      <td>21.850833</td>\n",
       "      <td>AGS</td>\n",
       "      <td>OBSAG</td>\n",
       "    </tr>\n",
       "    <tr>\n",
       "      <th>14</th>\n",
       "      <td>22.189167</td>\n",
       "      <td>AGS</td>\n",
       "      <td>P50ANIV</td>\n",
       "    </tr>\n",
       "    <tr>\n",
       "      <th>15</th>\n",
       "      <td>21.916667</td>\n",
       "      <td>AGS</td>\n",
       "      <td>PALAG</td>\n",
       "    </tr>\n",
       "    <tr>\n",
       "      <th>16</th>\n",
       "      <td>22.162500</td>\n",
       "      <td>AGS</td>\n",
       "      <td>PBLAG</td>\n",
       "    </tr>\n",
       "    <tr>\n",
       "      <th>17</th>\n",
       "      <td>22.141111</td>\n",
       "      <td>AGS</td>\n",
       "      <td>PECAG</td>\n",
       "    </tr>\n",
       "    <tr>\n",
       "      <th>18</th>\n",
       "      <td>22.202778</td>\n",
       "      <td>AGS</td>\n",
       "      <td>PTOAG</td>\n",
       "    </tr>\n",
       "    <tr>\n",
       "      <th>19</th>\n",
       "      <td>22.235000</td>\n",
       "      <td>AGS</td>\n",
       "      <td>PTRAG</td>\n",
       "    </tr>\n",
       "    <tr>\n",
       "      <th>20</th>\n",
       "      <td>21.885000</td>\n",
       "      <td>AGS</td>\n",
       "      <td>SNVAG</td>\n",
       "    </tr>\n",
       "    <tr>\n",
       "      <th>21</th>\n",
       "      <td>21.807778</td>\n",
       "      <td>AGS</td>\n",
       "      <td>TNJAG</td>\n",
       "    </tr>\n",
       "    <tr>\n",
       "      <th>22</th>\n",
       "      <td>22.097778</td>\n",
       "      <td>AGS</td>\n",
       "      <td>VJZAG</td>\n",
       "    </tr>\n",
       "    <tr>\n",
       "      <th>23</th>\n",
       "      <td>32.271944</td>\n",
       "      <td>BC</td>\n",
       "      <td>AGHBN</td>\n",
       "    </tr>\n",
       "    <tr>\n",
       "      <th>24</th>\n",
       "      <td>32.444722</td>\n",
       "      <td>BC</td>\n",
       "      <td>ALRBN</td>\n",
       "    </tr>\n",
       "    <tr>\n",
       "      <th>25</th>\n",
       "      <td>29.727222</td>\n",
       "      <td>BC</td>\n",
       "      <td>CATAVINA</td>\n",
       "    </tr>\n",
       "    <tr>\n",
       "      <th>26</th>\n",
       "      <td>32.479444</td>\n",
       "      <td>BC</td>\n",
       "      <td>CRRBN</td>\n",
       "    </tr>\n",
       "    <tr>\n",
       "      <th>27</th>\n",
       "      <td>32.468056</td>\n",
       "      <td>BC</td>\n",
       "      <td>EFLBN</td>\n",
       "    </tr>\n",
       "    <tr>\n",
       "      <th>28</th>\n",
       "      <td>31.890278</td>\n",
       "      <td>BC</td>\n",
       "      <td>ELZBN</td>\n",
       "    </tr>\n",
       "    <tr>\n",
       "      <th>29</th>\n",
       "      <td>32.411111</td>\n",
       "      <td>BC</td>\n",
       "      <td>ENLBN</td>\n",
       "    </tr>\n",
       "    <tr>\n",
       "      <th>30</th>\n",
       "      <td>32.705000</td>\n",
       "      <td>BC</td>\n",
       "      <td>JMRBN</td>\n",
       "    </tr>\n",
       "    <tr>\n",
       "      <th>31</th>\n",
       "      <td>32.390000</td>\n",
       "      <td>BC</td>\n",
       "      <td>MXCBN</td>\n",
       "    </tr>\n",
       "    <tr>\n",
       "      <th>...</th>\n",
       "      <td>...</td>\n",
       "      <td>...</td>\n",
       "      <td>...</td>\n",
       "    </tr>\n",
       "    <tr>\n",
       "      <th>1202</th>\n",
       "      <td>22.453056</td>\n",
       "      <td>ZAC</td>\n",
       "      <td>CUAZC</td>\n",
       "    </tr>\n",
       "    <tr>\n",
       "      <th>1203</th>\n",
       "      <td>23.693333</td>\n",
       "      <td>ZAC</td>\n",
       "      <td>ELCZC</td>\n",
       "    </tr>\n",
       "    <tr>\n",
       "      <th>1204</th>\n",
       "      <td>22.673056</td>\n",
       "      <td>ZAC</td>\n",
       "      <td>ELSZC</td>\n",
       "    </tr>\n",
       "    <tr>\n",
       "      <th>1206</th>\n",
       "      <td>23.173889</td>\n",
       "      <td>ZAC</td>\n",
       "      <td>FREZC</td>\n",
       "    </tr>\n",
       "    <tr>\n",
       "      <th>1207</th>\n",
       "      <td>22.746667</td>\n",
       "      <td>ZAC</td>\n",
       "      <td>GPEZC</td>\n",
       "    </tr>\n",
       "    <tr>\n",
       "      <th>1208</th>\n",
       "      <td>22.487500</td>\n",
       "      <td>ZAC</td>\n",
       "      <td>GRCZC</td>\n",
       "    </tr>\n",
       "    <tr>\n",
       "      <th>1209</th>\n",
       "      <td>24.281667</td>\n",
       "      <td>ZAC</td>\n",
       "      <td>JALZC</td>\n",
       "    </tr>\n",
       "    <tr>\n",
       "      <th>1211</th>\n",
       "      <td>22.642778</td>\n",
       "      <td>ZAC</td>\n",
       "      <td>JERZC</td>\n",
       "    </tr>\n",
       "    <tr>\n",
       "      <th>1212</th>\n",
       "      <td>22.778889</td>\n",
       "      <td>ZAC</td>\n",
       "      <td>LBUZC</td>\n",
       "    </tr>\n",
       "    <tr>\n",
       "      <th>1213</th>\n",
       "      <td>22.686944</td>\n",
       "      <td>ZAC</td>\n",
       "      <td>LFLZC</td>\n",
       "    </tr>\n",
       "    <tr>\n",
       "      <th>1214</th>\n",
       "      <td>22.996944</td>\n",
       "      <td>ZAC</td>\n",
       "      <td>LLBZC</td>\n",
       "    </tr>\n",
       "    <tr>\n",
       "      <th>1215</th>\n",
       "      <td>22.845278</td>\n",
       "      <td>ZAC</td>\n",
       "      <td>LOBZC</td>\n",
       "    </tr>\n",
       "    <tr>\n",
       "      <th>1216</th>\n",
       "      <td>22.264722</td>\n",
       "      <td>ZAC</td>\n",
       "      <td>LORZC</td>\n",
       "    </tr>\n",
       "    <tr>\n",
       "      <th>1217</th>\n",
       "      <td>23.180000</td>\n",
       "      <td>ZAC</td>\n",
       "      <td>LREZC</td>\n",
       "    </tr>\n",
       "    <tr>\n",
       "      <th>1219</th>\n",
       "      <td>22.306944</td>\n",
       "      <td>ZAC</td>\n",
       "      <td>MRSZC</td>\n",
       "    </tr>\n",
       "    <tr>\n",
       "      <th>1221</th>\n",
       "      <td>24.983056</td>\n",
       "      <td>ZAC</td>\n",
       "      <td>NTAZC</td>\n",
       "    </tr>\n",
       "    <tr>\n",
       "      <th>1222</th>\n",
       "      <td>22.347778</td>\n",
       "      <td>ZAC</td>\n",
       "      <td>PALZC</td>\n",
       "    </tr>\n",
       "    <tr>\n",
       "      <th>1223</th>\n",
       "      <td>22.117500</td>\n",
       "      <td>ZAC</td>\n",
       "      <td>PINZC</td>\n",
       "    </tr>\n",
       "    <tr>\n",
       "      <th>1225</th>\n",
       "      <td>23.816944</td>\n",
       "      <td>ZAC</td>\n",
       "      <td>RGRZC</td>\n",
       "    </tr>\n",
       "    <tr>\n",
       "      <th>1226</th>\n",
       "      <td>24.322222</td>\n",
       "      <td>ZAC</td>\n",
       "      <td>SFOZC</td>\n",
       "    </tr>\n",
       "    <tr>\n",
       "      <th>1227</th>\n",
       "      <td>24.288611</td>\n",
       "      <td>ZAC</td>\n",
       "      <td>SGOZC</td>\n",
       "    </tr>\n",
       "    <tr>\n",
       "      <th>1228</th>\n",
       "      <td>23.638889</td>\n",
       "      <td>ZAC</td>\n",
       "      <td>SOMZC</td>\n",
       "    </tr>\n",
       "    <tr>\n",
       "      <th>1229</th>\n",
       "      <td>22.326667</td>\n",
       "      <td>ZAC</td>\n",
       "      <td>STEZC</td>\n",
       "    </tr>\n",
       "    <tr>\n",
       "      <th>1230</th>\n",
       "      <td>22.923611</td>\n",
       "      <td>ZAC</td>\n",
       "      <td>STRZC</td>\n",
       "    </tr>\n",
       "    <tr>\n",
       "      <th>1231</th>\n",
       "      <td>22.120556</td>\n",
       "      <td>ZAC</td>\n",
       "      <td>TAYZC</td>\n",
       "    </tr>\n",
       "    <tr>\n",
       "      <th>1232</th>\n",
       "      <td>23.471944</td>\n",
       "      <td>ZAC</td>\n",
       "      <td>TCHZC</td>\n",
       "    </tr>\n",
       "    <tr>\n",
       "      <th>1236</th>\n",
       "      <td>23.288611</td>\n",
       "      <td>ZAC</td>\n",
       "      <td>VCOZC</td>\n",
       "    </tr>\n",
       "    <tr>\n",
       "      <th>1237</th>\n",
       "      <td>22.520278</td>\n",
       "      <td>ZAC</td>\n",
       "      <td>VGOZC</td>\n",
       "    </tr>\n",
       "    <tr>\n",
       "      <th>1238</th>\n",
       "      <td>22.347500</td>\n",
       "      <td>ZAC</td>\n",
       "      <td>VHGZC</td>\n",
       "    </tr>\n",
       "    <tr>\n",
       "      <th>1240</th>\n",
       "      <td>22.761389</td>\n",
       "      <td>ZAC</td>\n",
       "      <td>ZACZC</td>\n",
       "    </tr>\n",
       "  </tbody>\n",
       "</table>\n",
       "<p>426 rows × 3 columns</p>\n",
       "</div>"
      ],
      "text/plain": [
       "            LAT  EDO CLAVE_SIH\n",
       "0     21.895000  AGS     AGSAG\n",
       "1     22.188611  AGS     ANVAG\n",
       "3     21.849167  AGS  CALVILLO\n",
       "4     21.997500  AGS     CDRAG\n",
       "5     22.007222  AGS     CHOAG\n",
       "6     21.826667  AGS     CLVAG\n",
       "7     21.896389  AGS     CNSAG\n",
       "8     22.362778  AGS     CSOAG\n",
       "9     22.121667  AGS     JCQAG\n",
       "10    21.807500  AGS     MNLAG\n",
       "12    22.020556  AGS     NVLAG\n",
       "13    21.850833  AGS     OBSAG\n",
       "14    22.189167  AGS   P50ANIV\n",
       "15    21.916667  AGS     PALAG\n",
       "16    22.162500  AGS     PBLAG\n",
       "17    22.141111  AGS     PECAG\n",
       "18    22.202778  AGS     PTOAG\n",
       "19    22.235000  AGS     PTRAG\n",
       "20    21.885000  AGS     SNVAG\n",
       "21    21.807778  AGS     TNJAG\n",
       "22    22.097778  AGS     VJZAG\n",
       "23    32.271944   BC     AGHBN\n",
       "24    32.444722   BC     ALRBN\n",
       "25    29.727222   BC  CATAVINA\n",
       "26    32.479444   BC     CRRBN\n",
       "27    32.468056   BC     EFLBN\n",
       "28    31.890278   BC     ELZBN\n",
       "29    32.411111   BC     ENLBN\n",
       "30    32.705000   BC     JMRBN\n",
       "31    32.390000   BC     MXCBN\n",
       "...         ...  ...       ...\n",
       "1202  22.453056  ZAC     CUAZC\n",
       "1203  23.693333  ZAC     ELCZC\n",
       "1204  22.673056  ZAC     ELSZC\n",
       "1206  23.173889  ZAC     FREZC\n",
       "1207  22.746667  ZAC     GPEZC\n",
       "1208  22.487500  ZAC     GRCZC\n",
       "1209  24.281667  ZAC     JALZC\n",
       "1211  22.642778  ZAC     JERZC\n",
       "1212  22.778889  ZAC     LBUZC\n",
       "1213  22.686944  ZAC     LFLZC\n",
       "1214  22.996944  ZAC     LLBZC\n",
       "1215  22.845278  ZAC     LOBZC\n",
       "1216  22.264722  ZAC     LORZC\n",
       "1217  23.180000  ZAC     LREZC\n",
       "1219  22.306944  ZAC     MRSZC\n",
       "1221  24.983056  ZAC     NTAZC\n",
       "1222  22.347778  ZAC     PALZC\n",
       "1223  22.117500  ZAC     PINZC\n",
       "1225  23.816944  ZAC     RGRZC\n",
       "1226  24.322222  ZAC     SFOZC\n",
       "1227  24.288611  ZAC     SGOZC\n",
       "1228  23.638889  ZAC     SOMZC\n",
       "1229  22.326667  ZAC     STEZC\n",
       "1230  22.923611  ZAC     STRZC\n",
       "1231  22.120556  ZAC     TAYZC\n",
       "1232  23.471944  ZAC     TCHZC\n",
       "1236  23.288611  ZAC     VCOZC\n",
       "1237  22.520278  ZAC     VGOZC\n",
       "1238  22.347500  ZAC     VHGZC\n",
       "1240  22.761389  ZAC     ZACZC\n",
       "\n",
       "[426 rows x 3 columns]"
      ]
     },
     "execution_count": 43,
     "metadata": {},
     "output_type": "execute_result"
    }
   ],
   "source": [
    "LLUVIA_2019.loc[LLUVIA_2019.LAT > 21.8, ['LAT', 'EDO', 'CLAVE_SIH']]"
   ]
  },
  {
   "cell_type": "code",
   "execution_count": 45,
   "metadata": {},
   "outputs": [
    {
     "data": {
      "text/html": [
       "<div>\n",
       "<style scoped>\n",
       "    .dataframe tbody tr th:only-of-type {\n",
       "        vertical-align: middle;\n",
       "    }\n",
       "\n",
       "    .dataframe tbody tr th {\n",
       "        vertical-align: top;\n",
       "    }\n",
       "\n",
       "    .dataframe thead th {\n",
       "        text-align: right;\n",
       "    }\n",
       "</style>\n",
       "<table border=\"1\" class=\"dataframe\">\n",
       "  <thead>\n",
       "    <tr style=\"text-align: right;\">\n",
       "      <th></th>\n",
       "      <th>LON</th>\n",
       "      <th>LAT</th>\n",
       "      <th>EDO</th>\n",
       "      <th>CLAVE_SIH</th>\n",
       "      <th>NOMBRE</th>\n",
       "      <th>ENE</th>\n",
       "    </tr>\n",
       "  </thead>\n",
       "  <tbody>\n",
       "    <tr>\n",
       "      <th>0</th>\n",
       "      <td>-102.309722</td>\n",
       "      <td>21.895000</td>\n",
       "      <td>AGS</td>\n",
       "      <td>AGSAG</td>\n",
       "      <td>Aguascalientes, Ags.</td>\n",
       "      <td>6.61</td>\n",
       "    </tr>\n",
       "    <tr>\n",
       "      <th>1</th>\n",
       "      <td>-102.466944</td>\n",
       "      <td>22.188611</td>\n",
       "      <td>AGS</td>\n",
       "      <td>ANVAG</td>\n",
       "      <td>Cincuenta Aniversario, Ags.</td>\n",
       "      <td>10.60</td>\n",
       "    </tr>\n",
       "  </tbody>\n",
       "</table>\n",
       "</div>"
      ],
      "text/plain": [
       "          LON        LAT  EDO CLAVE_SIH                       NOMBRE    ENE\n",
       "0 -102.309722  21.895000  AGS     AGSAG         Aguascalientes, Ags.   6.61\n",
       "1 -102.466944  22.188611  AGS     ANVAG  Cincuenta Aniversario, Ags.  10.60"
      ]
     },
     "execution_count": 45,
     "metadata": {},
     "output_type": "execute_result"
    }
   ],
   "source": [
    "LLUVIA_2019.iloc[0:2]"
   ]
  },
  {
   "cell_type": "markdown",
   "metadata": {},
   "source": [
    "## Operando en datos de Pandas"
   ]
  },
  {
   "cell_type": "markdown",
   "metadata": {},
   "source": [
    "### Ufuncs: preservacion de indices"
   ]
  },
  {
   "cell_type": "markdown",
   "metadata": {},
   "source": [
    "Si aplicamos una Ufunc de numpy en un dataframe, el resultado sera otro objeto de Pandas con los indices preservados:"
   ]
  },
  {
   "cell_type": "code",
   "execution_count": 8,
   "metadata": {},
   "outputs": [
    {
     "data": {
      "text/plain": [
       "0      -102.309722\n",
       "1      -102.466944\n",
       "2      -102.184167\n",
       "3      -102.712222\n",
       "4      -102.676944\n",
       "5      -102.197222\n",
       "6      -102.189167\n",
       "7      -102.000000\n",
       "8      -102.296667\n",
       "9      -102.356944\n",
       "10     -102.788333\n",
       "11     -102.371667\n",
       "12     -102.001944\n",
       "13     -102.290556\n",
       "14     -102.465000\n",
       "15     -101.966667\n",
       "16     -102.291944\n",
       "17     -102.417222\n",
       "18     -102.133333\n",
       "19     -102.437500\n",
       "20     -102.108889\n",
       "21     -102.127778\n",
       "22     -102.067500\n",
       "23     -116.204167\n",
       "24     -116.908333\n",
       "25     -114.719167\n",
       "26     -116.696944\n",
       "27     -116.828333\n",
       "28     -116.602500\n",
       "29     -115.150000\n",
       "           ...    \n",
       "1211   -103.001944\n",
       "1212   -102.566944\n",
       "1213   -103.603056\n",
       "1214   -102.660556\n",
       "1215   -103.382778\n",
       "1216   -101.985556\n",
       "1217   -103.216944\n",
       "1218   -103.363889\n",
       "1219   -103.561667\n",
       "1220   -102.845556\n",
       "1221   -102.615000\n",
       "1222   -102.798056\n",
       "1223   -101.399167\n",
       "1224   -102.903611\n",
       "1225   -103.025833\n",
       "1226   -102.884444\n",
       "1227   -103.506111\n",
       "1228   -103.636667\n",
       "1229   -103.495833\n",
       "1230   -103.108889\n",
       "1231   -102.864167\n",
       "1232   -103.879722\n",
       "1233   -103.461944\n",
       "1234   -102.786389\n",
       "1235   -103.309444\n",
       "1236   -102.344167\n",
       "1237   -101.916944\n",
       "1238   -101.715833\n",
       "1239   -103.337500\n",
       "1240   -102.576667\n",
       "Name: LON, Length: 1241, dtype: float64"
      ]
     },
     "execution_count": 8,
     "metadata": {},
     "output_type": "execute_result"
    }
   ],
   "source": [
    "LLUVIA_2019.LON"
   ]
  },
  {
   "cell_type": "code",
   "execution_count": 7,
   "metadata": {},
   "outputs": [
    {
     "data": {
      "text/plain": [
       "0       3.693621e-45\n",
       "1       3.156252e-45\n",
       "2       4.187744e-45\n",
       "3       2.469726e-45\n",
       "4       2.558408e-45\n",
       "5       4.133428e-45\n",
       "6       4.166858e-45\n",
       "7       5.034575e-45\n",
       "8       3.742157e-45\n",
       "9       3.523255e-45\n",
       "10      2.288728e-45\n",
       "11      3.471762e-45\n",
       "12      5.024798e-45\n",
       "13      3.765095e-45\n",
       "14      3.162394e-45\n",
       "15      5.205221e-45\n",
       "16      3.759873e-45\n",
       "17      3.317154e-45\n",
       "18      4.406127e-45\n",
       "19      3.250566e-45\n",
       "20      4.515158e-45\n",
       "21      4.430672e-45\n",
       "22      4.705957e-45\n",
       "23      3.413277e-51\n",
       "24      1.687936e-51\n",
       "25      1.506950e-50\n",
       "26      2.085265e-51\n",
       "27      1.828520e-51\n",
       "28      2.291805e-51\n",
       "29      9.794684e-51\n",
       "            ...     \n",
       "1211    1.848520e-45\n",
       "1212    2.855895e-45\n",
       "1213    1.013362e-45\n",
       "1214    2.600681e-45\n",
       "1215    1.263077e-45\n",
       "1216    5.107822e-45\n",
       "1217    1.490908e-45\n",
       "1218    1.287163e-45\n",
       "1219    1.056184e-45\n",
       "1220    2.161437e-45\n",
       "1221    2.721897e-45\n",
       "1222    2.266582e-45\n",
       "1223    9.181239e-45\n",
       "1224    2.039528e-45\n",
       "1225    1.804884e-45\n",
       "1226    2.078996e-45\n",
       "1227    1.116522e-45\n",
       "1228    9.798676e-46\n",
       "1229    1.128056e-45\n",
       "1230    1.661034e-45\n",
       "1231    2.121582e-45\n",
       "1232    7.684400e-46\n",
       "1233    1.166940e-45\n",
       "1234    2.293182e-45\n",
       "1235    1.359185e-45\n",
       "1236    3.568560e-45\n",
       "1237    5.470583e-45\n",
       "1238    6.689213e-45\n",
       "1239    1.321582e-45\n",
       "1240    2.828261e-45\n",
       "Name: LON, Length: 1241, dtype: float64"
      ]
     },
     "execution_count": 7,
     "metadata": {},
     "output_type": "execute_result"
    }
   ],
   "source": [
    "\n",
    "np.exp(LLUVIA_2019.LON)"
   ]
  },
  {
   "cell_type": "markdown",
   "metadata": {},
   "source": [
    "### Alimeamineto de indices en series"
   ]
  },
  {
   "cell_type": "markdown",
   "metadata": {},
   "source": [
    "Cuando aplicamos una opracion entre series, esta se aplica entre los valores con los mismos indices en ambos objetos:"
   ]
  },
  {
   "cell_type": "code",
   "execution_count": 12,
   "metadata": {},
   "outputs": [
    {
     "data": {
      "text/plain": [
       "0      -4.672744\n",
       "1      -4.617997\n",
       "2      -4.700584\n",
       "3      -4.700967\n",
       "4      -4.667664\n",
       "5      -4.643804\n",
       "6      -4.681849\n",
       "7      -4.658302\n",
       "8      -4.574417\n",
       "9      -4.627000\n",
       "10     -4.713440\n",
       "11     -4.700260\n",
       "12     -4.632124\n",
       "13     -4.681312\n",
       "14     -4.617794\n",
       "15     -4.652471\n",
       "16     -4.615542\n",
       "17     -4.625659\n",
       "18     -4.600025\n",
       "19     -4.607038\n",
       "20     -4.665702\n",
       "21     -4.683090\n",
       "22     -4.618903\n",
       "23     -3.600780\n",
       "24     -3.603308\n",
       "25     -3.859061\n",
       "26     -3.592948\n",
       "27     -3.598255\n",
       "28     -3.656365\n",
       "29     -3.552794\n",
       "          ...   \n",
       "1211   -4.548998\n",
       "1212   -4.502719\n",
       "1213   -4.566638\n",
       "1214   -4.464096\n",
       "1215   -4.525346\n",
       "1216   -4.580590\n",
       "1217   -4.452845\n",
       "1218   -4.872782\n",
       "1219   -4.642575\n",
       "1220   -4.815430\n",
       "1221   -4.107384\n",
       "1222   -4.599923\n",
       "1223   -4.584567\n",
       "1224   -4.739675\n",
       "1225   -4.325737\n",
       "1226   -4.230059\n",
       "1227   -4.261508\n",
       "1228   -4.384160\n",
       "1229   -4.635525\n",
       "1230   -4.497934\n",
       "1231   -4.650162\n",
       "1232   -4.425697\n",
       "1233   -4.819219\n",
       "1234   -4.767335\n",
       "1235   -4.744709\n",
       "1236   -4.394602\n",
       "1237   -4.525563\n",
       "1238   -4.551553\n",
       "1239   -4.786606\n",
       "1240   -4.506608\n",
       "Length: 1241, dtype: float64"
      ]
     },
     "execution_count": 12,
     "metadata": {},
     "output_type": "execute_result"
    }
   ],
   "source": [
    "LLUVIA_2019.LON / LLUVIA_2019.LAT"
   ]
  },
  {
   "cell_type": "markdown",
   "metadata": {},
   "source": [
    "El arreglo final contiene la union de los indices de ambos objetos:"
   ]
  },
  {
   "cell_type": "code",
   "execution_count": 14,
   "metadata": {},
   "outputs": [
    {
     "data": {
      "text/plain": [
       "RangeIndex(start=0, stop=1241, step=1)"
      ]
     },
     "execution_count": 14,
     "metadata": {},
     "output_type": "execute_result"
    }
   ],
   "source": [
    "LLUVIA_2019.LON.index | LLUVIA_2019.LAT.index"
   ]
  },
  {
   "cell_type": "markdown",
   "metadata": {},
   "source": [
    "Si existe un indice que no aparece en uno u otro de los objetos el valor que se obtiene en los valores de los indices inexistentes es un NaN \"Not a Number\":"
   ]
  },
  {
   "cell_type": "code",
   "execution_count": 18,
   "metadata": {},
   "outputs": [
    {
     "data": {
      "text/plain": [
       "0         NaN\n",
       "1         NaN\n",
       "2         NaN\n",
       "3   -4.700967\n",
       "4   -4.667664\n",
       "dtype: float64"
      ]
     },
     "execution_count": 18,
     "metadata": {},
     "output_type": "execute_result"
    }
   ],
   "source": [
    "LLUVIA_2019.LON[:5] / LLUVIA_2019.LAT[3:5]"
   ]
  },
  {
   "cell_type": "markdown",
   "metadata": {},
   "source": [
    "Si se quiere evitar este resultado, se pueden llenar esos valores utilizando metodos apropiados sobre esos objetos. Por ejemplo;"
   ]
  },
  {
   "cell_type": "code",
   "execution_count": 21,
   "metadata": {},
   "outputs": [
    {
     "data": {
      "text/plain": [
       "0   -102.309722\n",
       "1   -102.466944\n",
       "2   -102.184167\n",
       "3    -80.863055\n",
       "4    -80.679444\n",
       "dtype: float64"
      ]
     },
     "execution_count": 21,
     "metadata": {},
     "output_type": "execute_result"
    }
   ],
   "source": [
    "LLUVIA_2019.LON[:5].add(LLUVIA_2019.LAT[3:5], fill_value=0)"
   ]
  },
  {
   "cell_type": "markdown",
   "metadata": {},
   "source": [
    "## Manipulando datos perdidos"
   ]
  },
  {
   "cell_type": "code",
   "execution_count": null,
   "metadata": {},
   "outputs": [],
   "source": []
  },
  {
   "cell_type": "code",
   "execution_count": null,
   "metadata": {},
   "outputs": [],
   "source": []
  },
  {
   "cell_type": "code",
   "execution_count": null,
   "metadata": {},
   "outputs": [],
   "source": []
  },
  {
   "cell_type": "code",
   "execution_count": null,
   "metadata": {},
   "outputs": [],
   "source": []
  },
  {
   "cell_type": "code",
   "execution_count": null,
   "metadata": {},
   "outputs": [],
   "source": []
  },
  {
   "cell_type": "code",
   "execution_count": null,
   "metadata": {},
   "outputs": [],
   "source": []
  },
  {
   "cell_type": "code",
   "execution_count": null,
   "metadata": {},
   "outputs": [],
   "source": []
  },
  {
   "cell_type": "code",
   "execution_count": null,
   "metadata": {},
   "outputs": [],
   "source": []
  },
  {
   "cell_type": "code",
   "execution_count": null,
   "metadata": {},
   "outputs": [],
   "source": []
  },
  {
   "cell_type": "code",
   "execution_count": null,
   "metadata": {},
   "outputs": [],
   "source": []
  },
  {
   "cell_type": "markdown",
   "metadata": {},
   "source": [
    "## Indexado jerarquico"
   ]
  },
  {
   "cell_type": "code",
   "execution_count": null,
   "metadata": {},
   "outputs": [],
   "source": []
  },
  {
   "cell_type": "code",
   "execution_count": null,
   "metadata": {},
   "outputs": [],
   "source": []
  },
  {
   "cell_type": "code",
   "execution_count": null,
   "metadata": {},
   "outputs": [],
   "source": []
  },
  {
   "cell_type": "code",
   "execution_count": null,
   "metadata": {},
   "outputs": [],
   "source": []
  },
  {
   "cell_type": "code",
   "execution_count": null,
   "metadata": {},
   "outputs": [],
   "source": []
  },
  {
   "cell_type": "code",
   "execution_count": null,
   "metadata": {},
   "outputs": [],
   "source": []
  },
  {
   "cell_type": "code",
   "execution_count": null,
   "metadata": {},
   "outputs": [],
   "source": []
  },
  {
   "cell_type": "code",
   "execution_count": null,
   "metadata": {},
   "outputs": [],
   "source": []
  },
  {
   "cell_type": "code",
   "execution_count": null,
   "metadata": {},
   "outputs": [],
   "source": []
  },
  {
   "cell_type": "code",
   "execution_count": null,
   "metadata": {},
   "outputs": [],
   "source": []
  },
  {
   "cell_type": "markdown",
   "metadata": {},
   "source": [
    "## Combinando conjuntos de datos: concat y append"
   ]
  },
  {
   "cell_type": "code",
   "execution_count": null,
   "metadata": {},
   "outputs": [],
   "source": []
  },
  {
   "cell_type": "code",
   "execution_count": null,
   "metadata": {},
   "outputs": [],
   "source": []
  },
  {
   "cell_type": "code",
   "execution_count": null,
   "metadata": {},
   "outputs": [],
   "source": []
  },
  {
   "cell_type": "code",
   "execution_count": null,
   "metadata": {},
   "outputs": [],
   "source": []
  },
  {
   "cell_type": "code",
   "execution_count": null,
   "metadata": {},
   "outputs": [],
   "source": []
  },
  {
   "cell_type": "code",
   "execution_count": null,
   "metadata": {},
   "outputs": [],
   "source": []
  },
  {
   "cell_type": "code",
   "execution_count": null,
   "metadata": {},
   "outputs": [],
   "source": []
  },
  {
   "cell_type": "code",
   "execution_count": null,
   "metadata": {},
   "outputs": [],
   "source": []
  },
  {
   "cell_type": "code",
   "execution_count": null,
   "metadata": {},
   "outputs": [],
   "source": []
  },
  {
   "cell_type": "code",
   "execution_count": null,
   "metadata": {},
   "outputs": [],
   "source": []
  },
  {
   "cell_type": "markdown",
   "metadata": {},
   "source": [
    "## Combinando conjuntos de datos: merge and join"
   ]
  },
  {
   "cell_type": "code",
   "execution_count": null,
   "metadata": {},
   "outputs": [],
   "source": []
  },
  {
   "cell_type": "code",
   "execution_count": null,
   "metadata": {},
   "outputs": [],
   "source": []
  },
  {
   "cell_type": "code",
   "execution_count": null,
   "metadata": {},
   "outputs": [],
   "source": []
  },
  {
   "cell_type": "code",
   "execution_count": null,
   "metadata": {},
   "outputs": [],
   "source": []
  },
  {
   "cell_type": "code",
   "execution_count": null,
   "metadata": {},
   "outputs": [],
   "source": []
  },
  {
   "cell_type": "code",
   "execution_count": null,
   "metadata": {},
   "outputs": [],
   "source": []
  },
  {
   "cell_type": "code",
   "execution_count": null,
   "metadata": {},
   "outputs": [],
   "source": []
  },
  {
   "cell_type": "code",
   "execution_count": null,
   "metadata": {},
   "outputs": [],
   "source": []
  },
  {
   "cell_type": "code",
   "execution_count": null,
   "metadata": {},
   "outputs": [],
   "source": []
  },
  {
   "cell_type": "code",
   "execution_count": null,
   "metadata": {},
   "outputs": [],
   "source": []
  },
  {
   "cell_type": "code",
   "execution_count": null,
   "metadata": {},
   "outputs": [],
   "source": []
  },
  {
   "cell_type": "markdown",
   "metadata": {},
   "source": [
    "## Agregacion y agrupamiento"
   ]
  },
  {
   "cell_type": "code",
   "execution_count": null,
   "metadata": {},
   "outputs": [],
   "source": []
  },
  {
   "cell_type": "code",
   "execution_count": null,
   "metadata": {},
   "outputs": [],
   "source": []
  },
  {
   "cell_type": "code",
   "execution_count": null,
   "metadata": {},
   "outputs": [],
   "source": []
  },
  {
   "cell_type": "code",
   "execution_count": null,
   "metadata": {},
   "outputs": [],
   "source": []
  },
  {
   "cell_type": "code",
   "execution_count": null,
   "metadata": {},
   "outputs": [],
   "source": []
  },
  {
   "cell_type": "code",
   "execution_count": null,
   "metadata": {},
   "outputs": [],
   "source": []
  },
  {
   "cell_type": "code",
   "execution_count": null,
   "metadata": {},
   "outputs": [],
   "source": []
  },
  {
   "cell_type": "code",
   "execution_count": null,
   "metadata": {},
   "outputs": [],
   "source": []
  },
  {
   "cell_type": "code",
   "execution_count": null,
   "metadata": {},
   "outputs": [],
   "source": []
  },
  {
   "cell_type": "code",
   "execution_count": null,
   "metadata": {},
   "outputs": [],
   "source": []
  },
  {
   "cell_type": "code",
   "execution_count": null,
   "metadata": {},
   "outputs": [],
   "source": []
  },
  {
   "cell_type": "code",
   "execution_count": null,
   "metadata": {},
   "outputs": [],
   "source": []
  },
  {
   "cell_type": "markdown",
   "metadata": {},
   "source": [
    "## Tablas pivote"
   ]
  },
  {
   "cell_type": "code",
   "execution_count": null,
   "metadata": {},
   "outputs": [],
   "source": []
  },
  {
   "cell_type": "code",
   "execution_count": null,
   "metadata": {},
   "outputs": [],
   "source": []
  },
  {
   "cell_type": "code",
   "execution_count": null,
   "metadata": {},
   "outputs": [],
   "source": []
  },
  {
   "cell_type": "code",
   "execution_count": null,
   "metadata": {},
   "outputs": [],
   "source": []
  },
  {
   "cell_type": "code",
   "execution_count": null,
   "metadata": {},
   "outputs": [],
   "source": []
  },
  {
   "cell_type": "code",
   "execution_count": null,
   "metadata": {},
   "outputs": [],
   "source": []
  },
  {
   "cell_type": "code",
   "execution_count": null,
   "metadata": {},
   "outputs": [],
   "source": []
  },
  {
   "cell_type": "code",
   "execution_count": null,
   "metadata": {},
   "outputs": [],
   "source": []
  },
  {
   "cell_type": "code",
   "execution_count": null,
   "metadata": {},
   "outputs": [],
   "source": []
  },
  {
   "cell_type": "code",
   "execution_count": null,
   "metadata": {},
   "outputs": [],
   "source": []
  },
  {
   "cell_type": "code",
   "execution_count": null,
   "metadata": {},
   "outputs": [],
   "source": []
  },
  {
   "cell_type": "markdown",
   "metadata": {},
   "source": [
    "## Operaciones con cadenas vectorizadas"
   ]
  },
  {
   "cell_type": "code",
   "execution_count": null,
   "metadata": {},
   "outputs": [],
   "source": []
  },
  {
   "cell_type": "code",
   "execution_count": null,
   "metadata": {},
   "outputs": [],
   "source": []
  },
  {
   "cell_type": "code",
   "execution_count": null,
   "metadata": {},
   "outputs": [],
   "source": []
  },
  {
   "cell_type": "code",
   "execution_count": null,
   "metadata": {},
   "outputs": [],
   "source": []
  },
  {
   "cell_type": "code",
   "execution_count": null,
   "metadata": {},
   "outputs": [],
   "source": []
  },
  {
   "cell_type": "code",
   "execution_count": null,
   "metadata": {},
   "outputs": [],
   "source": []
  },
  {
   "cell_type": "code",
   "execution_count": null,
   "metadata": {},
   "outputs": [],
   "source": []
  },
  {
   "cell_type": "code",
   "execution_count": null,
   "metadata": {},
   "outputs": [],
   "source": []
  },
  {
   "cell_type": "code",
   "execution_count": null,
   "metadata": {},
   "outputs": [],
   "source": []
  },
  {
   "cell_type": "code",
   "execution_count": null,
   "metadata": {},
   "outputs": [],
   "source": []
  },
  {
   "cell_type": "code",
   "execution_count": null,
   "metadata": {},
   "outputs": [],
   "source": []
  },
  {
   "cell_type": "markdown",
   "metadata": {},
   "source": [
    "## Trabajando con series de tiempo"
   ]
  },
  {
   "cell_type": "code",
   "execution_count": null,
   "metadata": {},
   "outputs": [],
   "source": []
  },
  {
   "cell_type": "code",
   "execution_count": null,
   "metadata": {},
   "outputs": [],
   "source": []
  },
  {
   "cell_type": "code",
   "execution_count": null,
   "metadata": {},
   "outputs": [],
   "source": []
  },
  {
   "cell_type": "code",
   "execution_count": null,
   "metadata": {},
   "outputs": [],
   "source": []
  },
  {
   "cell_type": "code",
   "execution_count": null,
   "metadata": {},
   "outputs": [],
   "source": []
  },
  {
   "cell_type": "code",
   "execution_count": null,
   "metadata": {},
   "outputs": [],
   "source": []
  },
  {
   "cell_type": "code",
   "execution_count": null,
   "metadata": {},
   "outputs": [],
   "source": []
  },
  {
   "cell_type": "code",
   "execution_count": null,
   "metadata": {},
   "outputs": [],
   "source": []
  },
  {
   "cell_type": "code",
   "execution_count": null,
   "metadata": {},
   "outputs": [],
   "source": []
  },
  {
   "cell_type": "code",
   "execution_count": null,
   "metadata": {},
   "outputs": [],
   "source": []
  },
  {
   "cell_type": "code",
   "execution_count": null,
   "metadata": {},
   "outputs": [],
   "source": []
  },
  {
   "cell_type": "code",
   "execution_count": null,
   "metadata": {},
   "outputs": [],
   "source": []
  },
  {
   "cell_type": "markdown",
   "metadata": {},
   "source": [
    "## Pandas de alto rendimiento: eval() y query()"
   ]
  },
  {
   "cell_type": "code",
   "execution_count": null,
   "metadata": {},
   "outputs": [],
   "source": []
  },
  {
   "cell_type": "code",
   "execution_count": null,
   "metadata": {},
   "outputs": [],
   "source": []
  },
  {
   "cell_type": "code",
   "execution_count": null,
   "metadata": {},
   "outputs": [],
   "source": []
  },
  {
   "cell_type": "code",
   "execution_count": null,
   "metadata": {},
   "outputs": [],
   "source": []
  },
  {
   "cell_type": "code",
   "execution_count": null,
   "metadata": {},
   "outputs": [],
   "source": []
  },
  {
   "cell_type": "code",
   "execution_count": null,
   "metadata": {},
   "outputs": [],
   "source": []
  },
  {
   "cell_type": "code",
   "execution_count": null,
   "metadata": {},
   "outputs": [],
   "source": []
  },
  {
   "cell_type": "code",
   "execution_count": null,
   "metadata": {},
   "outputs": [],
   "source": []
  },
  {
   "cell_type": "code",
   "execution_count": null,
   "metadata": {},
   "outputs": [],
   "source": []
  },
  {
   "cell_type": "code",
   "execution_count": null,
   "metadata": {},
   "outputs": [],
   "source": []
  },
  {
   "cell_type": "code",
   "execution_count": null,
   "metadata": {},
   "outputs": [],
   "source": []
  },
  {
   "cell_type": "code",
   "execution_count": null,
   "metadata": {},
   "outputs": [],
   "source": []
  },
  {
   "cell_type": "markdown",
   "metadata": {},
   "source": [
    "## Mas recursos"
   ]
  },
  {
   "cell_type": "code",
   "execution_count": null,
   "metadata": {},
   "outputs": [],
   "source": []
  },
  {
   "cell_type": "code",
   "execution_count": null,
   "metadata": {},
   "outputs": [],
   "source": []
  },
  {
   "cell_type": "code",
   "execution_count": null,
   "metadata": {},
   "outputs": [],
   "source": []
  },
  {
   "cell_type": "code",
   "execution_count": null,
   "metadata": {},
   "outputs": [],
   "source": []
  },
  {
   "cell_type": "code",
   "execution_count": null,
   "metadata": {},
   "outputs": [],
   "source": []
  },
  {
   "cell_type": "code",
   "execution_count": null,
   "metadata": {},
   "outputs": [],
   "source": []
  },
  {
   "cell_type": "code",
   "execution_count": null,
   "metadata": {},
   "outputs": [],
   "source": []
  },
  {
   "cell_type": "code",
   "execution_count": null,
   "metadata": {},
   "outputs": [],
   "source": []
  },
  {
   "cell_type": "code",
   "execution_count": null,
   "metadata": {},
   "outputs": [],
   "source": []
  }
 ],
 "metadata": {
  "kernelspec": {
   "display_name": "Python 3",
   "language": "python",
   "name": "python3"
  },
  "language_info": {
   "codemirror_mode": {
    "name": "ipython",
    "version": 3
   },
   "file_extension": ".py",
   "mimetype": "text/x-python",
   "name": "python",
   "nbconvert_exporter": "python",
   "pygments_lexer": "ipython3",
   "version": "3.6.5"
  }
 },
 "nbformat": 4,
 "nbformat_minor": 2
}
