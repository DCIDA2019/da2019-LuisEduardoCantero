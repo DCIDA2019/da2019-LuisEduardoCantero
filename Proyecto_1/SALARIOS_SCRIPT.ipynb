{
 "cells": [
  {
   "cell_type": "markdown",
   "metadata": {},
   "source": [
    "# ANALISIS DE SALARIOS VIGENTES A PARTIR DEL 1o. DE FEBRERO PARA EL ESTADO DE GUANAJUATO 2019"
   ]
  },
  {
   "cell_type": "code",
   "execution_count": 6,
   "metadata": {},
   "outputs": [],
   "source": [
    "# Impotamos las lbrerias necesarias\n",
    "import numpy as np\n",
    "import math as mt\n",
    "import matplotlib.pyplot as plt\n",
    "import pandas as pd\n",
    "import requests\n",
    "import os"
   ]
  },
  {
   "cell_type": "markdown",
   "metadata": {},
   "source": [
    "### SALARIOS GUANAJUATO"
   ]
  },
  {
   "cell_type": "code",
   "execution_count": 7,
   "metadata": {},
   "outputs": [],
   "source": [
    "#SE CARGAN LOS DATOS DE LOS SALARIOS\n",
    "\n",
    "path = f'/home/luiscantero/anadat/Archivos/Proyecto1/Salarios/tabulador_pe2019.xls'\n",
    "tabulador = pd.read_excel(path, header=9)\n"
   ]
  },
  {
   "cell_type": "code",
   "execution_count": 9,
   "metadata": {},
   "outputs": [
    {
     "data": {
      "text/html": [
       "<div>\n",
       "<style scoped>\n",
       "    .dataframe tbody tr th:only-of-type {\n",
       "        vertical-align: middle;\n",
       "    }\n",
       "\n",
       "    .dataframe tbody tr th {\n",
       "        vertical-align: top;\n",
       "    }\n",
       "\n",
       "    .dataframe thead th {\n",
       "        text-align: right;\n",
       "    }\n",
       "</style>\n",
       "<table border=\"1\" class=\"dataframe\">\n",
       "  <thead>\n",
       "    <tr style=\"text-align: right;\">\n",
       "      <th></th>\n",
       "      <th>NIVEL</th>\n",
       "      <th>TIPO</th>\n",
       "      <th>PUESTO</th>\n",
       "      <th>SUELDO BASE</th>\n",
       "      <th>CUOTAS SEGURIDAD SOCIAL</th>\n",
       "      <th>PREVISIÓN SOCIAL</th>\n",
       "      <th>AYUDA X SERVICIOS</th>\n",
       "      <th>APOYO FAMILIAR</th>\n",
       "      <th>GRATIFICACIÓN QUINCENAL</th>\n",
       "      <th>SUELDO MENSUAL BRUTO</th>\n",
       "      <th>IMPTO MENSUAL</th>\n",
       "      <th>ISSEG</th>\n",
       "      <th>ISSSTE</th>\n",
       "      <th>SUELDO MENSUAL NETO</th>\n",
       "      <th>PRIMA VACACIONAL</th>\n",
       "      <th>AGUINALDO</th>\n",
       "    </tr>\n",
       "  </thead>\n",
       "  <tbody>\n",
       "    <tr>\n",
       "      <th>0</th>\n",
       "      <td>22</td>\n",
       "      <td>NaN</td>\n",
       "      <td>GOBERNADOR/A DEL ESTADO</td>\n",
       "      <td>59804.327930</td>\n",
       "      <td>5843.07</td>\n",
       "      <td>1913.1</td>\n",
       "      <td>25897</td>\n",
       "      <td>64294.837780</td>\n",
       "      <td>75373.99</td>\n",
       "      <td>233126.325711</td>\n",
       "      <td>69584.321342</td>\n",
       "      <td>5082.66</td>\n",
       "      <td>760.41</td>\n",
       "      <td>157698.934369</td>\n",
       "      <td>10 Días por Año</td>\n",
       "      <td>45 Días por Año</td>\n",
       "    </tr>\n",
       "    <tr>\n",
       "      <th>1</th>\n",
       "      <td>20</td>\n",
       "      <td>NaN</td>\n",
       "      <td>SECRETARIO/A DE ESTADO A</td>\n",
       "      <td>49025.945517</td>\n",
       "      <td>5843.07</td>\n",
       "      <td>1913.1</td>\n",
       "      <td>22783</td>\n",
       "      <td>48858.839699</td>\n",
       "      <td>67187.62</td>\n",
       "      <td>195611.575216</td>\n",
       "      <td>56829.306173</td>\n",
       "      <td>5082.66</td>\n",
       "      <td>760.41</td>\n",
       "      <td>132939.199042</td>\n",
       "      <td>10 Días por Año</td>\n",
       "      <td>45 Días por Año</td>\n",
       "    </tr>\n",
       "    <tr>\n",
       "      <th>2</th>\n",
       "      <td>19</td>\n",
       "      <td>NaN</td>\n",
       "      <td>DIRECTOR/A GENERAL PARAESTATAL A</td>\n",
       "      <td>40685.951590</td>\n",
       "      <td>5843.07</td>\n",
       "      <td>1913.1</td>\n",
       "      <td>18805</td>\n",
       "      <td>41397.705456</td>\n",
       "      <td>49230.82</td>\n",
       "      <td>157875.647046</td>\n",
       "      <td>43999.090596</td>\n",
       "      <td>5082.66</td>\n",
       "      <td>760.41</td>\n",
       "      <td>108033.486450</td>\n",
       "      <td>10 Días por Año</td>\n",
       "      <td>45 Días por Año</td>\n",
       "    </tr>\n",
       "    <tr>\n",
       "      <th>3</th>\n",
       "      <td>19</td>\n",
       "      <td>NaN</td>\n",
       "      <td>SECRETARIO/A DE ESTADO B</td>\n",
       "      <td>40685.951590</td>\n",
       "      <td>5843.07</td>\n",
       "      <td>1913.1</td>\n",
       "      <td>18805</td>\n",
       "      <td>41397.705456</td>\n",
       "      <td>49230.82</td>\n",
       "      <td>157875.647046</td>\n",
       "      <td>43999.090596</td>\n",
       "      <td>5082.66</td>\n",
       "      <td>760.41</td>\n",
       "      <td>108033.486450</td>\n",
       "      <td>10 Días por Año</td>\n",
       "      <td>45 Días por Año</td>\n",
       "    </tr>\n",
       "    <tr>\n",
       "      <th>4</th>\n",
       "      <td>18</td>\n",
       "      <td>NaN</td>\n",
       "      <td>SECRETARIO/A DE ESTADO C</td>\n",
       "      <td>37083.708634</td>\n",
       "      <td>5843.07</td>\n",
       "      <td>1913.1</td>\n",
       "      <td>16756</td>\n",
       "      <td>35924.238404</td>\n",
       "      <td>42651.90</td>\n",
       "      <td>140172.017038</td>\n",
       "      <td>37979.856393</td>\n",
       "      <td>5082.66</td>\n",
       "      <td>760.41</td>\n",
       "      <td>96349.090645</td>\n",
       "      <td>10 Días por Año</td>\n",
       "      <td>45 Días por Año</td>\n",
       "    </tr>\n",
       "  </tbody>\n",
       "</table>\n",
       "</div>"
      ],
      "text/plain": [
       "   NIVEL TIPO                            PUESTO   SUELDO BASE  \\\n",
       "0     22  NaN           GOBERNADOR/A DEL ESTADO  59804.327930   \n",
       "1     20  NaN          SECRETARIO/A DE ESTADO A  49025.945517   \n",
       "2     19  NaN  DIRECTOR/A GENERAL PARAESTATAL A  40685.951590   \n",
       "3     19  NaN          SECRETARIO/A DE ESTADO B  40685.951590   \n",
       "4     18  NaN          SECRETARIO/A DE ESTADO C  37083.708634   \n",
       "\n",
       "   CUOTAS SEGURIDAD SOCIAL  PREVISIÓN SOCIAL  AYUDA X SERVICIOS  \\\n",
       "0                  5843.07            1913.1              25897   \n",
       "1                  5843.07            1913.1              22783   \n",
       "2                  5843.07            1913.1              18805   \n",
       "3                  5843.07            1913.1              18805   \n",
       "4                  5843.07            1913.1              16756   \n",
       "\n",
       "   APOYO FAMILIAR  GRATIFICACIÓN QUINCENAL  SUELDO MENSUAL BRUTO  \\\n",
       "0    64294.837780                 75373.99         233126.325711   \n",
       "1    48858.839699                 67187.62         195611.575216   \n",
       "2    41397.705456                 49230.82         157875.647046   \n",
       "3    41397.705456                 49230.82         157875.647046   \n",
       "4    35924.238404                 42651.90         140172.017038   \n",
       "\n",
       "   IMPTO MENSUAL    ISSEG  ISSSTE  SUELDO MENSUAL NETO PRIMA VACACIONAL  \\\n",
       "0   69584.321342  5082.66  760.41        157698.934369  10 Días por Año   \n",
       "1   56829.306173  5082.66  760.41        132939.199042  10 Días por Año   \n",
       "2   43999.090596  5082.66  760.41        108033.486450  10 Días por Año   \n",
       "3   43999.090596  5082.66  760.41        108033.486450  10 Días por Año   \n",
       "4   37979.856393  5082.66  760.41         96349.090645  10 Días por Año   \n",
       "\n",
       "         AGUINALDO  \n",
       "0  45 Días por Año  \n",
       "1  45 Días por Año  \n",
       "2  45 Días por Año  \n",
       "3  45 Días por Año  \n",
       "4  45 Días por Año  "
      ]
     },
     "execution_count": 9,
     "metadata": {},
     "output_type": "execute_result"
    }
   ],
   "source": [
    "tabulador.head()"
   ]
  },
  {
   "cell_type": "markdown",
   "metadata": {},
   "source": [
    "### Codigos para las preguntas de salarios"
   ]
  },
  {
   "cell_type": "markdown",
   "metadata": {},
   "source": [
    "¿Cuál es promedio de las contribuciones del sueldo de un trabajador en esta dependencia?"
   ]
  },
  {
   "cell_type": "code",
   "execution_count": 10,
   "metadata": {},
   "outputs": [
    {
     "data": {
      "text/plain": [
       "49467.37593510606"
      ]
     },
     "execution_count": 10,
     "metadata": {},
     "output_type": "execute_result"
    }
   ],
   "source": [
    "tabulador.describe()['SUELDO MENSUAL BRUTO']['mean']"
   ]
  },
  {
   "cell_type": "code",
   "execution_count": 11,
   "metadata": {},
   "outputs": [
    {
     "data": {
      "text/plain": [
       "35829.35357437967"
      ]
     },
     "execution_count": 11,
     "metadata": {},
     "output_type": "execute_result"
    }
   ],
   "source": [
    "tabulador.describe()['SUELDO MENSUAL NETO']['mean']"
   ]
  },
  {
   "cell_type": "markdown",
   "metadata": {},
   "source": [
    "¿Media y Moda de las contribuciones del sueldo de un trabajador ? Rango interquartil de la distribución."
   ]
  },
  {
   "cell_type": "code",
   "execution_count": 12,
   "metadata": {},
   "outputs": [
    {
     "data": {
      "text/plain": [
       "0    8294.835952\n",
       "1    9609.786902\n",
       "dtype: float64"
      ]
     },
     "execution_count": 12,
     "metadata": {},
     "output_type": "execute_result"
    }
   ],
   "source": [
    "tabulador['SUELDO MENSUAL NETO'].mode()"
   ]
  },
  {
   "cell_type": "code",
   "execution_count": 13,
   "metadata": {},
   "outputs": [
    {
     "data": {
      "text/plain": [
       "25%    10289.592141\n",
       "50%    22078.225282\n",
       "75%    50363.213596\n",
       "Name: SUELDO MENSUAL NETO, dtype: float64"
      ]
     },
     "execution_count": 13,
     "metadata": {},
     "output_type": "execute_result"
    }
   ],
   "source": [
    "tabulador.describe()['SUELDO MENSUAL NETO'].loc['25%':'75%']"
   ]
  },
  {
   "cell_type": "markdown",
   "metadata": {},
   "source": [
    "¿Cuál es la dispersión de sueldos?"
   ]
  },
  {
   "cell_type": "code",
   "execution_count": 14,
   "metadata": {},
   "outputs": [
    {
     "name": "stdout",
     "output_type": "stream",
     "text": [
      "22078.22528193275\n"
     ]
    }
   ],
   "source": [
    "median_sneto = tabulador['SUELDO MENSUAL NETO'].median()\n",
    "print(median_sneto)"
   ]
  },
  {
   "cell_type": "markdown",
   "metadata": {},
   "source": [
    "¿Cuál es el sueldo base máximo?"
   ]
  },
  {
   "cell_type": "code",
   "execution_count": 15,
   "metadata": {},
   "outputs": [
    {
     "data": {
      "text/plain": [
       "59804.3279302758"
      ]
     },
     "execution_count": 15,
     "metadata": {},
     "output_type": "execute_result"
    }
   ],
   "source": [
    "tabulador.describe()['SUELDO BASE'].loc['max']"
   ]
  },
  {
   "cell_type": "markdown",
   "metadata": {},
   "source": [
    "¿Cuál es el sueldo base mínimo?"
   ]
  },
  {
   "cell_type": "code",
   "execution_count": 16,
   "metadata": {},
   "outputs": [
    {
     "data": {
      "text/plain": [
       "3080.4"
      ]
     },
     "execution_count": 16,
     "metadata": {},
     "output_type": "execute_result"
    }
   ],
   "source": [
    "tabulador.describe()['SUELDO BASE'].loc['min']"
   ]
  },
  {
   "cell_type": "markdown",
   "metadata": {},
   "source": [
    "Porcentaje relativo de cada una de las componentes del sueldo mensual neto en cada uno de los puestos"
   ]
  },
  {
   "cell_type": "code",
   "execution_count": 17,
   "metadata": {},
   "outputs": [],
   "source": [
    "tabulador['SUELDO NETO (%)'] = 100 * tabulador['IMPTO MENSUAL']/np.sum(tabulador['IMPTO MENSUAL'])"
   ]
  },
  {
   "cell_type": "code",
   "execution_count": 18,
   "metadata": {},
   "outputs": [
    {
     "data": {
      "text/html": [
       "<div>\n",
       "<style scoped>\n",
       "    .dataframe tbody tr th:only-of-type {\n",
       "        vertical-align: middle;\n",
       "    }\n",
       "\n",
       "    .dataframe tbody tr th {\n",
       "        vertical-align: top;\n",
       "    }\n",
       "\n",
       "    .dataframe thead th {\n",
       "        text-align: right;\n",
       "    }\n",
       "</style>\n",
       "<table border=\"1\" class=\"dataframe\">\n",
       "  <thead>\n",
       "    <tr style=\"text-align: right;\">\n",
       "      <th></th>\n",
       "      <th>PUESTO</th>\n",
       "      <th>SUELDO NETO (%)</th>\n",
       "    </tr>\n",
       "  </thead>\n",
       "  <tbody>\n",
       "    <tr>\n",
       "      <th>0</th>\n",
       "      <td>GOBERNADOR/A DEL ESTADO</td>\n",
       "      <td>7.944592</td>\n",
       "    </tr>\n",
       "    <tr>\n",
       "      <th>1</th>\n",
       "      <td>SECRETARIO/A DE ESTADO A</td>\n",
       "      <td>6.488325</td>\n",
       "    </tr>\n",
       "    <tr>\n",
       "      <th>2</th>\n",
       "      <td>DIRECTOR/A GENERAL PARAESTATAL A</td>\n",
       "      <td>5.023471</td>\n",
       "    </tr>\n",
       "    <tr>\n",
       "      <th>3</th>\n",
       "      <td>SECRETARIO/A DE ESTADO B</td>\n",
       "      <td>5.023471</td>\n",
       "    </tr>\n",
       "    <tr>\n",
       "      <th>4</th>\n",
       "      <td>SECRETARIO/A DE ESTADO C</td>\n",
       "      <td>4.336242</td>\n",
       "    </tr>\n",
       "  </tbody>\n",
       "</table>\n",
       "</div>"
      ],
      "text/plain": [
       "                             PUESTO  SUELDO NETO (%)\n",
       "0           GOBERNADOR/A DEL ESTADO         7.944592\n",
       "1          SECRETARIO/A DE ESTADO A         6.488325\n",
       "2  DIRECTOR/A GENERAL PARAESTATAL A         5.023471\n",
       "3          SECRETARIO/A DE ESTADO B         5.023471\n",
       "4          SECRETARIO/A DE ESTADO C         4.336242"
      ]
     },
     "execution_count": 18,
     "metadata": {},
     "output_type": "execute_result"
    }
   ],
   "source": [
    "tabulador.loc[:,['PUESTO','SUELDO NETO (%)']].head()"
   ]
  },
  {
   "cell_type": "code",
   "execution_count": 19,
   "metadata": {},
   "outputs": [],
   "source": [
    "ruta = \"porc_rel.csv\"\n",
    "tabulador.loc[:,['PUESTO','SUELDO NETO (%)']].to_csv(ruta)"
   ]
  },
  {
   "cell_type": "markdown",
   "metadata": {},
   "source": [
    "¿De cuánto dinero es la diferencia entre el sueldo neto mayor (gobernador del estado) y el sueldo de otros empleados (por ejemplo, alguien de nivel 1, que es el nivel más bajo en la tabla)?\n"
   ]
  },
  {
   "cell_type": "code",
   "execution_count": 20,
   "metadata": {},
   "outputs": [],
   "source": [
    "tabulador['DIFERENCIA'] = np.max(tabulador['SUELDO MENSUAL NETO']) - tabulador['SUELDO MENSUAL NETO']"
   ]
  },
  {
   "cell_type": "code",
   "execution_count": 21,
   "metadata": {},
   "outputs": [
    {
     "data": {
      "text/html": [
       "<div>\n",
       "<style scoped>\n",
       "    .dataframe tbody tr th:only-of-type {\n",
       "        vertical-align: middle;\n",
       "    }\n",
       "\n",
       "    .dataframe tbody tr th {\n",
       "        vertical-align: top;\n",
       "    }\n",
       "\n",
       "    .dataframe thead th {\n",
       "        text-align: right;\n",
       "    }\n",
       "</style>\n",
       "<table border=\"1\" class=\"dataframe\">\n",
       "  <thead>\n",
       "    <tr style=\"text-align: right;\">\n",
       "      <th></th>\n",
       "      <th>PUESTO</th>\n",
       "      <th>SUELDO MENSUAL NETO</th>\n",
       "      <th>DIFERENCIA</th>\n",
       "    </tr>\n",
       "  </thead>\n",
       "  <tbody>\n",
       "    <tr>\n",
       "      <th>0</th>\n",
       "      <td>GOBERNADOR/A DEL ESTADO</td>\n",
       "      <td>157698.934369</td>\n",
       "      <td>0.000000</td>\n",
       "    </tr>\n",
       "    <tr>\n",
       "      <th>1</th>\n",
       "      <td>SECRETARIO/A DE ESTADO A</td>\n",
       "      <td>132939.199042</td>\n",
       "      <td>24759.735327</td>\n",
       "    </tr>\n",
       "    <tr>\n",
       "      <th>2</th>\n",
       "      <td>DIRECTOR/A GENERAL PARAESTATAL A</td>\n",
       "      <td>108033.486450</td>\n",
       "      <td>49665.447919</td>\n",
       "    </tr>\n",
       "    <tr>\n",
       "      <th>3</th>\n",
       "      <td>SECRETARIO/A DE ESTADO B</td>\n",
       "      <td>108033.486450</td>\n",
       "      <td>49665.447919</td>\n",
       "    </tr>\n",
       "    <tr>\n",
       "      <th>4</th>\n",
       "      <td>SECRETARIO/A DE ESTADO C</td>\n",
       "      <td>96349.090645</td>\n",
       "      <td>61349.843724</td>\n",
       "    </tr>\n",
       "  </tbody>\n",
       "</table>\n",
       "</div>"
      ],
      "text/plain": [
       "                             PUESTO  SUELDO MENSUAL NETO    DIFERENCIA\n",
       "0           GOBERNADOR/A DEL ESTADO        157698.934369      0.000000\n",
       "1          SECRETARIO/A DE ESTADO A        132939.199042  24759.735327\n",
       "2  DIRECTOR/A GENERAL PARAESTATAL A        108033.486450  49665.447919\n",
       "3          SECRETARIO/A DE ESTADO B        108033.486450  49665.447919\n",
       "4          SECRETARIO/A DE ESTADO C         96349.090645  61349.843724"
      ]
     },
     "execution_count": 21,
     "metadata": {},
     "output_type": "execute_result"
    }
   ],
   "source": [
    "tabulador.loc[:,['PUESTO','SUELDO MENSUAL NETO','DIFERENCIA']].head()"
   ]
  },
  {
   "cell_type": "code",
   "execution_count": 22,
   "metadata": {},
   "outputs": [],
   "source": [
    "ruta = \"diferencia.csv\"\n",
    "tabulador.loc[:,['PUESTO','SUELDO MENSUAL NETO','DIFERENCIA']].to_csv(ruta)"
   ]
  },
  {
   "cell_type": "markdown",
   "metadata": {},
   "source": [
    "¿Qué porcentaje se da de apoyo en sus diferentes modalidades para cada uno?¶ "
   ]
  },
  {
   "cell_type": "code",
   "execution_count": 23,
   "metadata": {},
   "outputs": [],
   "source": [
    "apoyo = []\n",
    "for i in range(len(tabulador.PUESTO)):\n",
    "    x = np.sum(tabulador.iloc[i][['CUOTAS SEGURIDAD SOCIAL','PREVISIÓN SOCIAL','AYUDA X SERVICIOS','APOYO FAMILIAR','GRATIFICACIÓN QUINCENAL']])\n",
    "    apoyo.append(x)\n",
    "    \n",
    "\n",
    "tabulador['APOYO TOTAL'] = apoyo\n",
    "tabulador['APOYO TOTAL (%)'] = 100*tabulador['APOYO TOTAL']/np.sum(apoyo)"
   ]
  },
  {
   "cell_type": "code",
   "execution_count": 24,
   "metadata": {},
   "outputs": [
    {
     "data": {
      "text/html": [
       "<div>\n",
       "<style scoped>\n",
       "    .dataframe tbody tr th:only-of-type {\n",
       "        vertical-align: middle;\n",
       "    }\n",
       "\n",
       "    .dataframe tbody tr th {\n",
       "        vertical-align: top;\n",
       "    }\n",
       "\n",
       "    .dataframe thead th {\n",
       "        text-align: right;\n",
       "    }\n",
       "</style>\n",
       "<table border=\"1\" class=\"dataframe\">\n",
       "  <thead>\n",
       "    <tr style=\"text-align: right;\">\n",
       "      <th></th>\n",
       "      <th>PUESTO</th>\n",
       "      <th>APOYO TOTAL</th>\n",
       "      <th>APOYO TOTAL (%)</th>\n",
       "    </tr>\n",
       "  </thead>\n",
       "  <tbody>\n",
       "    <tr>\n",
       "      <th>0</th>\n",
       "      <td>GOBERNADOR/A DEL ESTADO</td>\n",
       "      <td>173321.997780</td>\n",
       "      <td>6.261298</td>\n",
       "    </tr>\n",
       "    <tr>\n",
       "      <th>1</th>\n",
       "      <td>SECRETARIO/A DE ESTADO A</td>\n",
       "      <td>146585.629699</td>\n",
       "      <td>5.295441</td>\n",
       "    </tr>\n",
       "    <tr>\n",
       "      <th>2</th>\n",
       "      <td>DIRECTOR/A GENERAL PARAESTATAL A</td>\n",
       "      <td>117189.695456</td>\n",
       "      <td>4.233505</td>\n",
       "    </tr>\n",
       "    <tr>\n",
       "      <th>3</th>\n",
       "      <td>SECRETARIO/A DE ESTADO B</td>\n",
       "      <td>117189.695456</td>\n",
       "      <td>4.233505</td>\n",
       "    </tr>\n",
       "    <tr>\n",
       "      <th>4</th>\n",
       "      <td>SECRETARIO/A DE ESTADO C</td>\n",
       "      <td>103088.308404</td>\n",
       "      <td>3.724090</td>\n",
       "    </tr>\n",
       "  </tbody>\n",
       "</table>\n",
       "</div>"
      ],
      "text/plain": [
       "                             PUESTO    APOYO TOTAL  APOYO TOTAL (%)\n",
       "0           GOBERNADOR/A DEL ESTADO  173321.997780         6.261298\n",
       "1          SECRETARIO/A DE ESTADO A  146585.629699         5.295441\n",
       "2  DIRECTOR/A GENERAL PARAESTATAL A  117189.695456         4.233505\n",
       "3          SECRETARIO/A DE ESTADO B  117189.695456         4.233505\n",
       "4          SECRETARIO/A DE ESTADO C  103088.308404         3.724090"
      ]
     },
     "execution_count": 24,
     "metadata": {},
     "output_type": "execute_result"
    }
   ],
   "source": [
    "tabulador.loc[:,['PUESTO','APOYO TOTAL','APOYO TOTAL (%)']].head()"
   ]
  },
  {
   "cell_type": "code",
   "execution_count": 25,
   "metadata": {},
   "outputs": [],
   "source": [
    "ruta = \"apoyo.csv\"\n",
    "tabulador.loc[:,['PUESTO','APOYO TOTAL','APOYO TOTAL (%)']].to_csv(ruta)"
   ]
  },
  {
   "cell_type": "markdown",
   "metadata": {},
   "source": [
    "¿Cuanto dinero es gastado en es ISSSTE entre todos los puestos?"
   ]
  },
  {
   "cell_type": "code",
   "execution_count": 26,
   "metadata": {},
   "outputs": [
    {
     "data": {
      "text/plain": [
       "29411.26871446277"
      ]
     },
     "execution_count": 26,
     "metadata": {},
     "output_type": "execute_result"
    }
   ],
   "source": [
    "np.sum(tabulador['ISSSTE'])"
   ]
  },
  {
   "cell_type": "code",
   "execution_count": 27,
   "metadata": {},
   "outputs": [
    {
     "data": {
      "text/plain": [
       "172122.23464139525"
      ]
     },
     "execution_count": 27,
     "metadata": {},
     "output_type": "execute_result"
    }
   ],
   "source": [
    "np.sum(tabulador['ISSEG'])"
   ]
  },
  {
   "cell_type": "markdown",
   "metadata": {},
   "source": [
    "##### -¿Cuál es promedio de las contribuciones del sueldo de un trabajador en esta dependencia?"
   ]
  },
  {
   "cell_type": "markdown",
   "metadata": {},
   "source": [
    "Sueldo bruto: $ 49467.37"
   ]
  },
  {
   "cell_type": "markdown",
   "metadata": {},
   "source": [
    "Sueldo neto: $35829.35"
   ]
  },
  {
   "cell_type": "markdown",
   "metadata": {},
   "source": [
    "##### -¿Media y Moda de las contribuciones del sueldo de un trabajador ? Rango interquartil de la distribución."
   ]
  },
  {
   "cell_type": "markdown",
   "metadata": {},
   "source": [
    "Moda: 8294.83, 9609.78"
   ]
  },
  {
   "cell_type": "markdown",
   "metadata": {},
   "source": [
    "Rangos intercuartiles"
   ]
  },
  {
   "cell_type": "markdown",
   "metadata": {},
   "source": [
    "25%    $10289.59"
   ]
  },
  {
   "cell_type": "markdown",
   "metadata": {},
   "source": [
    "50%    $22078.22"
   ]
  },
  {
   "cell_type": "markdown",
   "metadata": {},
   "source": [
    "75%    $50363.21"
   ]
  },
  {
   "cell_type": "markdown",
   "metadata": {},
   "source": [
    "##### -¿Cuál es la dispersión de sueldos?"
   ]
  },
  {
   "cell_type": "code",
   "execution_count": null,
   "metadata": {},
   "outputs": [],
   "source": []
  },
  {
   "cell_type": "markdown",
   "metadata": {},
   "source": [
    "##### -¿Cuál es el sueldo base máximo?"
   ]
  },
  {
   "cell_type": "markdown",
   "metadata": {},
   "source": [
    "$ 59804.32"
   ]
  },
  {
   "cell_type": "markdown",
   "metadata": {},
   "source": [
    "##### -¿Cuál es el sueldo base mínimo?"
   ]
  },
  {
   "cell_type": "markdown",
   "metadata": {},
   "source": [
    "$ 3080.4"
   ]
  },
  {
   "cell_type": "markdown",
   "metadata": {},
   "source": [
    "##### -Porcentaje relativo de cada una de las componentes del sueldo mensual neto en cada uno de los puestos"
   ]
  },
  {
   "cell_type": "code",
   "execution_count": null,
   "metadata": {},
   "outputs": [],
   "source": []
  },
  {
   "cell_type": "markdown",
   "metadata": {},
   "source": [
    "##### -¿De cuánto dinero es la diferencia entre el sueldo neto mayor (gobernador del estado) y el sueldo de otros empleados (por ejemplo, alguien de nivel 1, que es el nivel más bajo en la tabla)?\n"
   ]
  },
  {
   "cell_type": "code",
   "execution_count": null,
   "metadata": {},
   "outputs": [],
   "source": []
  },
  {
   "cell_type": "markdown",
   "metadata": {},
   "source": [
    "##### -¿Qué porcentaje se da de apoyo en sus diferentes modalidades para cada uno?"
   ]
  },
  {
   "cell_type": "code",
   "execution_count": null,
   "metadata": {},
   "outputs": [],
   "source": []
  },
  {
   "cell_type": "markdown",
   "metadata": {},
   "source": [
    "##### -¿Cuanto dinero es gastado en es ISSSTE entre todos los puestos?"
   ]
  },
  {
   "cell_type": "markdown",
   "metadata": {},
   "source": [
    "ISSSTE =  $29411.26"
   ]
  },
  {
   "cell_type": "markdown",
   "metadata": {},
   "source": [
    "ISSEG =  $172122.23"
   ]
  },
  {
   "cell_type": "code",
   "execution_count": null,
   "metadata": {},
   "outputs": [],
   "source": [
    "\n"
   ]
  },
  {
   "cell_type": "code",
   "execution_count": null,
   "metadata": {},
   "outputs": [],
   "source": []
  }
 ],
 "metadata": {
  "kernelspec": {
   "display_name": "Python 3",
   "language": "python",
   "name": "python3"
  },
  "language_info": {
   "codemirror_mode": {
    "name": "ipython",
    "version": 3
   },
   "file_extension": ".py",
   "mimetype": "text/x-python",
   "name": "python",
   "nbconvert_exporter": "python",
   "pygments_lexer": "ipython3",
   "version": "3.6.5"
  }
 },
 "nbformat": 4,
 "nbformat_minor": 2
}
