{
 "cells": [
  {
   "cell_type": "markdown",
   "metadata": {},
   "source": [
    "# Simulacion de transito de vehiculos para la determinar los indices de contaminacion bajo distintos criterios de conduccion"
   ]
  },
  {
   "cell_type": "markdown",
   "metadata": {},
   "source": [
    "Importamos librerias"
   ]
  },
  {
   "cell_type": "code",
   "execution_count": 1,
   "metadata": {},
   "outputs": [],
   "source": [
    "import numpy as np\n",
    "import emcee\n",
    "import matplotlib.pyplot as plt\n",
    "import scipy.stats as st\n",
    "import math\n",
    "from random import randint, uniform,random\n",
    "import random\n",
    "from random import choice\n"
   ]
  },
  {
   "cell_type": "code",
   "execution_count": 2,
   "metadata": {},
   "outputs": [],
   "source": [
    "def puntosiniciales (nautos, tamcalles, ncalles, dursimu, duritera, aprom, velmax, espminimo):\n",
    "    duracionsimulacion = dursimu\n",
    "    duraciondeiteracion = duritera\n",
    "    aceleracionpromedio = aprom\n",
    "    x0 = []\n",
    "    y0 = []\n",
    "    a0 = []\n",
    "    v0 = []    \n",
    "    dir0 = []\n",
    "    niteraciones = duracionsimulacion * 60 * (1 / duraciondeiteracion)\n",
    "    s = (int(niteraciones + 1), nautos)\n",
    "    ss = (3, 1)\n",
    "\n",
    "    sequence1 = [1, 3]\n",
    "    sequence2 = [2, 4]\n",
    "    posicionx = np.zeros(s)\n",
    "    posiciony = np.zeros(s)\n",
    "    aceleracion = np.zeros(s)\n",
    "    velocidad = np.zeros(s)\n",
    "    direccion = np.zeros(s)\n",
    "    tipodecalle = np.zeros(s)\n",
    "    x = np.random.randint(1, ncalles, int(nautos/2))\n",
    "    x = x * tamcalles\n",
    "    y = np.random.rand(int(nautos/2))\n",
    "    y = y * (ncalles * tamcalles )\n",
    "    \n",
    "    tamcaja = (ncalles + 1) * tamcalles\n",
    "    vmax = velmax * (1 / 3600) * (1000) # Velocidad en m/s\n",
    "\n",
    "    u = np.zeros(ss)\n",
    "    ua = np.zeros(ss)\n",
    "    ub = np.zeros(ss)\n",
    "\n",
    "    for i in range(0, int(nautos/2)):\n",
    "        x0.append(x[i])\n",
    "        y0.append(y[i])\n",
    "        dir0.append(choice(sequence1))\n",
    "        v0.append(np.random.rand())\n",
    "        a0.append(np.random.rand())\n",
    "        \n",
    "    y2 = np.random.randint(1, ncalles, int(nautos/2))\n",
    "    y2 = y2 * tamcalles\n",
    "    x2 = np.random.rand(int(nautos/2))\n",
    "    x2 = x2 * (ncalles * tamcalles )\n",
    "\n",
    "    for i in range(0, int(nautos/2)):\n",
    "        x0.append(x2[i])\n",
    "        y0.append(y2[i])\n",
    "        dir0.append(choice(sequence2))\n",
    "        v0.append(np.random.rand())\n",
    "        a0.append(np.random.rand())\n",
    "\n",
    "    for i in range(0, int(nautos)-1):\n",
    "        posicionx[0][i] = x0[i]\n",
    "        posiciony[0][i] = y0[i]\n",
    "        direccion[0][i] = dir0[i]\n",
    "        velocidad[0][i] = v0[i]\n",
    "        aceleracion[0][i] = a0[i]\n",
    "               \n",
    "    return x0, y0, v0, a0, dir0, niteraciones"
   ]
  },
  {
   "cell_type": "code",
   "execution_count": 3,
   "metadata": {},
   "outputs": [],
   "source": [
    "# Parametros iniciales\n",
    "\n",
    "tamcalles = 200\n",
    "nautos = 150\n",
    "ncalles = 20 # No mover \n",
    "dursimu = 1 # minuto\n",
    "duritera = 0.2 # segs\n",
    "aprom = 1 # m/s2\n",
    "espminimo = 6 # m\n",
    "vmax = 60 # km/h\n",
    "\n",
    "\n",
    "x0, y0, v0, a0, dir0, niteraciones = puntosiniciales (nautos, tamcalles, ncalles, dursimu, duritera, aprom, vmax, espminimo)"
   ]
  },
  {
   "cell_type": "code",
   "execution_count": 4,
   "metadata": {},
   "outputs": [
    {
     "data": {
      "text/plain": [
       "[<matplotlib.lines.Line2D at 0x7f371ba5e860>]"
      ]
     },
     "execution_count": 4,
     "metadata": {},
     "output_type": "execute_result"
    },
    {
     "data": {
      "image/png": "[encoded data removed]",
      "text/plain": [
       "<Figure size 720x720 with 1 Axes>"
      ]
     },
     "metadata": {},
     "output_type": "display_data"
    }
   ],
   "source": [
    "\n",
    "x1 = np.linspace(0, tamcalles * ncalles, 2)\n",
    "y1 = [tamcalles, tamcalles]\n",
    "y2 = [tamcalles*2, tamcalles*2]\n",
    "y3 = [tamcalles*3, tamcalles*3]\n",
    "y4 = [tamcalles*4, tamcalles*4]\n",
    "y5 = [tamcalles*5, tamcalles*5]\n",
    "y6 = [tamcalles*6, tamcalles*6]\n",
    "y7 = [tamcalles*7, tamcalles*7]\n",
    "y8 = [tamcalles*8, tamcalles*8]\n",
    "y9 = [tamcalles*9, tamcalles*9]\n",
    "y10 = [tamcalles*10, tamcalles*10]\n",
    "y11 = [tamcalles*11, tamcalles*11]\n",
    "y12 = [tamcalles*12, tamcalles*12]\n",
    "y13 = [tamcalles*13, tamcalles*13]\n",
    "y14 = [tamcalles*14, tamcalles*14]\n",
    "y15 = [tamcalles*15, tamcalles*15]\n",
    "y16 = [tamcalles*16, tamcalles*16]\n",
    "y17 = [tamcalles*17, tamcalles*17]\n",
    "y18 = [tamcalles*18, tamcalles*18]\n",
    "y19 = [tamcalles*19, tamcalles*19]\n",
    "y20 = [tamcalles*20, tamcalles*20]\n",
    "\n",
    "plt.figure(figsize=(10, 10))\n",
    "plt.plot(x1,y1, color = 'g')\n",
    "plt.plot(x1,y2, color = 'g')\n",
    "plt.plot(x1,y3, color = 'g')\n",
    "plt.plot(x1,y4, color = 'g')\n",
    "plt.plot(x1,y5, color = 'g')\n",
    "plt.plot(x1,y6, color = 'g')\n",
    "plt.plot(x1,y7, color = 'g')\n",
    "plt.plot(x1,y8, color = 'g')\n",
    "plt.plot(x1,y9, color = 'g')\n",
    "plt.plot(x1,y10, color = 'g')\n",
    "plt.plot(x1,y11, color = 'g')\n",
    "plt.plot(x1,y12, color = 'g')\n",
    "plt.plot(x1,y13, color = 'g')\n",
    "plt.plot(x1,y14, color = 'g')\n",
    "plt.plot(x1,y15, color = 'g')\n",
    "plt.plot(x1,y16, color = 'g')\n",
    "plt.plot(x1,y17, color = 'g')\n",
    "plt.plot(x1,y18, color = 'g')\n",
    "plt.plot(x1,y19, color = 'g')\n",
    "plt.plot(x1,y20, color = 'g')\n",
    "\n",
    "plt.plot(y1,x1, color = 'g')\n",
    "plt.plot(y2,x1, color = 'g')\n",
    "plt.plot(y3,x1, color = 'g')\n",
    "plt.plot(y4,x1, color = 'g')\n",
    "plt.plot(y5,x1, color = 'g')\n",
    "plt.plot(y6,x1, color = 'g')\n",
    "plt.plot(y7,x1, color = 'g')\n",
    "plt.plot(y8,x1, color = 'g')\n",
    "plt.plot(y9,x1, color = 'g')\n",
    "plt.plot(y10,x1, color = 'g')\n",
    "plt.plot(y11,x1, color = 'g')\n",
    "plt.plot(y12,x1, color = 'g')\n",
    "plt.plot(y13,x1, color = 'g')\n",
    "plt.plot(y14,x1, color = 'g')\n",
    "plt.plot(y15,x1, color = 'g')\n",
    "plt.plot(y16,x1, color = 'g')\n",
    "plt.plot(y17,x1, color = 'g')\n",
    "plt.plot(y18,x1, color = 'g')\n",
    "plt.plot(y19,x1, color = 'g')\n",
    "plt.plot(y20,x1, color = 'g')\n",
    "\n",
    "plt.plot(x0,y0, \"bo\")"
   ]
  },
  {
   "cell_type": "code",
   "execution_count": 8,
   "metadata": {},
   "outputs": [
    {
     "ename": "NameError",
     "evalue": "name 'distanciacirculo' is not defined",
     "output_type": "error",
     "traceback": [
      "\u001b[0;31m---------------------------------------------------------------------------\u001b[0m",
      "\u001b[0;31mNameError\u001b[0m                                 Traceback (most recent call last)",
      "\u001b[0;32m<ipython-input-8-9a68cd72242d>\u001b[0m in \u001b[0;36m<module>\u001b[0;34m()\u001b[0m\n\u001b[1;32m     65\u001b[0m                                 \u001b[0mu\u001b[0m\u001b[0;34m[\u001b[0m\u001b[0;36m2\u001b[0m\u001b[0;34m]\u001b[0m\u001b[0;34m=\u001b[0m\u001b[0mvelocidad\u001b[0m\u001b[0;34m[\u001b[0m\u001b[0mk\u001b[0m\u001b[0;34m]\u001b[0m\u001b[0;34m\u001b[0m\u001b[0m\n\u001b[1;32m     66\u001b[0m \u001b[0;34m\u001b[0m\u001b[0m\n\u001b[0;32m---> 67\u001b[0;31m             \u001b[0mdistanciacirculo\u001b[0m\u001b[0;34m[\u001b[0m\u001b[0mj\u001b[0m\u001b[0;34m]\u001b[0m\u001b[0;34m=\u001b[0m\u001b[0mmin\u001b[0m\u001b[0;34m(\u001b[0m\u001b[0mua\u001b[0m\u001b[0;34m[\u001b[0m\u001b[0;36m0\u001b[0m\u001b[0;34m]\u001b[0m\u001b[0;34m,\u001b[0m\u001b[0mub\u001b[0m\u001b[0;34m[\u001b[0m\u001b[0;36m0\u001b[0m\u001b[0;34m]\u001b[0m\u001b[0;34m)\u001b[0m\u001b[0;34m\u001b[0m\u001b[0m\n\u001b[0m\u001b[1;32m     68\u001b[0m \u001b[0;34m\u001b[0m\u001b[0m\n\u001b[1;32m     69\u001b[0m             \u001b[0;32mif\u001b[0m \u001b[0mdistanciacirculo\u001b[0m\u001b[0;34m[\u001b[0m\u001b[0mj\u001b[0m\u001b[0;34m]\u001b[0m\u001b[0;34m<\u001b[0m\u001b[0;36m0\u001b[0m\u001b[0;34m:\u001b[0m\u001b[0;34m\u001b[0m\u001b[0m\n",
      "\u001b[0;31mNameError\u001b[0m: name 'distanciacirculo' is not defined"
     ]
    }
   ],
   "source": [
    "\n",
    "direccion = dir0\n",
    "posicionx = x0\n",
    "posiciony = y0\n",
    "velocidad = v0\n",
    "\n",
    "tipodecalle = []\n",
    "\n",
    "u=[]\n",
    "ua=[]\n",
    "ub=[]\n",
    "\n",
    "    \n",
    "    \n",
    "for i in range(0, int(niteraciones)):\n",
    "    for j in range(0, int(nautos)):\n",
    "        if ((direccion[j] == 1 or direccion[j]==3 ) and posicionx[j]==tamcalles*10):\n",
    "            tipodecalle.append(1)\n",
    "        if (direccion[j] == 1 or direccion[j]==3 ) and posicionx[j]!=tamcalles*10:\n",
    "             tipodecalle.append(2)\n",
    "        if (direccion[j] == 2 or direccion[j]==4 ) and posiciony[j]==tamcalles*10:\n",
    "            tipodecalle.append(1)\n",
    "        if (direccion[j] == 2 or direccion[j]==4 ) and posiciony[j]!=tamcalles*10:\n",
    "             tipodecalle.append(2)\n",
    "        if velocidad[j] <= 0:\n",
    "            velocidad[j] = 0\n",
    "        if velocidad[j] > vmax:\n",
    "            velocidad[j] = vmax\n",
    "        \n",
    "        \n",
    "        if direccion[j] == 1: # SI EL AUTO SE MUEVE ENDIRECCION NORTE\n",
    "            u=np.array([tamcalles*100,0,0])\n",
    "            ua=np.array([tamcalles*100,0,0])\n",
    "            ub=np.array([tamcalles*100,0,0])\n",
    "            \n",
    "            \n",
    "            for k in range(0, int(nautos)): # DISTANCIA CIRCULAR\n",
    "                if direccion[k] == 2: # verificar que esten en direcciones perpendiculares(VER. DIRECCION ESTE)\n",
    "                    if posiciony[k] - posiciony[j] > 0: # verificar que esten cerca hacia arriba\n",
    "                        if posiciony[k] - posiciony[j] < 10: # verificar que se encuentre al menos a 10 m hacia arriba\n",
    "                            if posicionx[j]-posicionx[k] < 7: # verificar que esten al menos 7 m separados horizontalmente\n",
    "                                if posicionx[j]-posicionx[k] > 0:\n",
    "                                    ua[1] = posicionx[j] - posicionx[k] # guardar el valor de esa distancia de lado\n",
    "                                    if ua[1] <= ua[0]: # verificar que esa distancia sea menor que la iteracion pasada\n",
    "                                        ua[0] = ua[1] #  la distancia menor se va  guardando en ua(1,1)\n",
    "                                        ua[2] = posiciony[k]-posiciony[j]\n",
    "                if direccion[k] == 4: #verificar que esten en direcciones perpendiculares (VER. DIRECCION OESTE)\n",
    "                    if posiciony[k]-posiciony[j]>0: #verificar que esten cerca hacia arriba\n",
    "                        if posiciony[k]-posiciony[j]<10: # verificar que se encuentre al menos a 10 m hacia arriba\n",
    "                            if posicionx[k]-posicionx[j]<7: #verificar que esten al menos 7 m separados horizontalmente\n",
    "                                if posicionx[k]-posicionx[j]>0: #\n",
    "                                    ub[1]=posicionx[k]-posicionx[j]# guardar el valor de esa distancia de lado\n",
    "                                    if ub[1]<ub[0]: #verificar que esa distancia sea menor que la iteracion pasada\n",
    "                                        ub[0]=ub[1] # la distancia menor se va  guardando en ub(1,1)\n",
    "                                        ub[2]=posiciony[k]-posiciony[j] #la distancia vertical entre los autos se guarda\n",
    "                                \n",
    "\n",
    "            for k in range(0, int(nautos)):     #DETERMINAR DISTANCIA DE AUTO DE FRENTE\n",
    "                if direccion[k] == 1: # verificar cuales estan en la misma direccion\n",
    "                    if abs(posicionx[j] - posicionx[k]) < 0.1 : #verificar que esten en la misma coordenada X\n",
    "                        if posiciony[k] - posiciony[j] > 0: #verificar que se encuentre en frente\n",
    "                            u[1]=posiciony[k] - posiciony[j]\n",
    "                            if [1]<= u[0] & u[1] > 0:\n",
    "                                u[0]=u[1]\n",
    "                                u[2]=velocidad[k]\n",
    "            \n",
    "            distanciacirculo=min(ua[0],ub[0])\n",
    "            \n",
    "            if distanciacirculo<0:\n",
    "                distanciacirculo =100\n",
    "            if min(ua[0],ub[0])== ua[0]:\n",
    "                ud= ua[2]\n",
    "            if min(ua[0],ub[0])== ub[0]:\n",
    "                ud= ub[2]\n",
    "                \n",
    "            distanciafrente=u[1]\n",
    " ############################################################################3           \n",
    "            distanciaesquina=tamcalles-modulo(posiciony[j],tamcalles)\n",
    "            \n",
    "            posiciony[i+1,j]=posiciony[i,j]+velocidad[i,j]*duraciondeiteracion+(aceleracion[i,j]*duraciondeiteracion^2)/2\n",
    "            \n",
    "            if posiciony[i+1,j]<posiciony[i,j]:\n",
    "                posiciony[i+1,j]=posiciony[i,j]\n",
    "            \n",
    "            posicionx[i+1,j]=posicionx[i,j]\n",
    "            \n",
    "            if tipodecalle[i,j]==1 :\n",
    "                if distanciafrente[i,j]<espminimo :\n",
    "                    velocidad[i+1,j]=u[3,1]\n",
    "                    aceleracion[i+1,j]=0\n",
    "                if distanciafrente[i,j]>=espminimo :\n",
    "                    aceleracion[i+1,j]=aceleracionpromedio\n",
    "                    velocidad[i+1,j]=velocidad[i,j]+aceleracionpromedio*duraciondeiteracion\n",
    "\n",
    "            if tipodecalle[i,j]==2 :\n",
    "                if min(distanciacirculo[i,j],distanciafrente[i,j])==distanciafrente[i,j] :\n",
    "                    if distanciafrente[i,j]<espminimo :\n",
    "                        velocidad[i+1,j]=u[3,1]\n",
    "                        aceleracion[i+1,j]=0\n",
    "                    if distanciafrente[i,j]>=espminimo :\n",
    "                        aceleracion[i+1,j]=aceleracionpromedio\n",
    "                        velocidad[i+1,j]=velocidad[i,j]+aceleracionpromedio*duraciondeiteracion\n",
    "\n",
    "                if min(distanciacirculo[i,j],distanciafrente[i,j])== distanciacirculo[i,j] :\n",
    "                    if distanciaesquina[i,j]<=14 & distanciaesquina[i,j] >5 :\n",
    "                        aceleracion[i+1,j]=aceleracionpromedio*(-.5)\n",
    "                        velocidad[i+1,j]=velocidad[i,j]+aceleracionpromedio*duraciondeiteracion\n",
    "                  \n",
    "                    if distanciaesquina[i,j]<=5 & distanciaesquina[i,j] >3 :\n",
    "                        aceleracion[i+1,j]=aceleracionpromedio*(-2)\n",
    "                        velocidad[i+1,j]=velocidad[i,j]+aceleracionpromedio*duraciondeiteracion\n",
    "                  \n",
    "                    if distanciaesquina[i,j]<=3 & distanciaesquina[i,j] >.5 :\n",
    "                        aceleracion[i+1,j]=aceleracionpromedio*(-4)\n",
    "                        velocidad[i+1,j]=velocidad[i,j]+aceleracionpromedio*duraciondeiteracion\n",
    "                  \n",
    "                    if distanciaesquina[i,j]<=.5 & distanciaesquina[i,j] >0 :\n",
    "                        aceleracion[i+1,j]=0\n",
    "                        velocidad[i+1,j]=0\n",
    "                  \n",
    "            direccion[i+1,j]=direccion[i,j]\n",
    "            if distanciaesquina[i,j]<1 :\n",
    "                m=rand[1,1]\n",
    "                if m[1,1]>=.5 :\n",
    "                    direccion[i+1,j]= 1\n",
    "                    posicionx[i+1,j]=posicionx[i,j]\n",
    "              \n",
    "                if m[1,1]<.5 & m[1,1]>=.25 :\n",
    "                    direccion[i+1,j]= 2\n",
    "                    posicionx[i+1,j]=posicionx[i,j]\n",
    "                    posiciony[i+1,j]=(modulo(posiciony[i,j],1)-1)*(-1)+posiciony[i,j]\n",
    "                    velocidad[i+1,j]=2\n",
    "              \n",
    "                if m[1,1]<.25 & m[1,1]>=0 :\n",
    "                    direccion[i+1,j]= 4\n",
    "                    posicionx[i+1,j]=posicionx[i,j]\n",
    "                    posiciony[i+1,j]=(modulo(posiciony[i,j],1)-1)*(-1)+posiciony[i,j]\n",
    "                    velocidad[i+1,j]=2\n",
    "                    \n",
    "    "
   ]
  },
  {
   "cell_type": "code",
   "execution_count": null,
   "metadata": {},
   "outputs": [],
   "source": [
    "\n",
    "w = np.zeros(2,1)"
   ]
  },
  {
   "cell_type": "code",
   "execution_count": null,
   "metadata": {},
   "outputs": [],
   "source": [
    "a = np.zeros((5, 2))"
   ]
  },
  {
   "cell_type": "code",
   "execution_count": null,
   "metadata": {},
   "outputs": [],
   "source": [
    "a = [[8., 1.],\n",
    "       [9., 2.],\n",
    "       [10., 3.],\n",
    "       [11., 4.],\n",
    "       [12., 5.]]\n"
   ]
  },
  {
   "cell_type": "code",
   "execution_count": 134,
   "metadata": {},
   "outputs": [
    {
     "data": {
      "text/plain": [
       "5.0"
      ]
     },
     "execution_count": 134,
     "metadata": {},
     "output_type": "execute_result"
    }
   ],
   "source": [
    "a[4][1]"
   ]
  },
  {
   "cell_type": "code",
   "execution_count": 77,
   "metadata": {},
   "outputs": [
    {
     "data": {
      "text/plain": [
       "203.84282301302594"
      ]
     },
     "execution_count": 77,
     "metadata": {},
     "output_type": "execute_result"
    }
   ],
   "source": [
    "x[1][6]"
   ]
  },
  {
   "cell_type": "code",
   "execution_count": 100,
   "metadata": {},
   "outputs": [
    {
     "data": {
      "text/plain": [
       "0.8620155128554533"
      ]
     },
     "execution_count": 100,
     "metadata": {},
     "output_type": "execute_result"
    }
   ],
   "source": [
    "np.random.rand()"
   ]
  },
  {
   "cell_type": "code",
   "execution_count": 88,
   "metadata": {},
   "outputs": [],
   "source": [
    "x0 = [3]"
   ]
  },
  {
   "cell_type": "code",
   "execution_count": 148,
   "metadata": {},
   "outputs": [
    {
     "data": {
      "text/plain": [
       "[0.5862335186093596,\n",
       " 0.733390713201411,\n",
       " 0.19581777807227185,\n",
       " 0.06412506803719642,\n",
       " 0.9833580106504942,\n",
       " 0.17349374187420297,\n",
       " 0.4436696140829339,\n",
       " 0.8752887707968245,\n",
       " 0.5277352190857204,\n",
       " 0.4226469222161061,\n",
       " 0.8018163206670713,\n",
       " 0.2403812461646514,\n",
       " 0.9545692553892328,\n",
       " 0.5508693082730906,\n",
       " 0.6535267528869336,\n",
       " 0.6886313938869761,\n",
       " 0.8450713460743705,\n",
       " 0.5757891225594061,\n",
       " 0.22524154296366938,\n",
       " 0.3214920585918134,\n",
       " 0.7243721604102389,\n",
       " 0.656520152655134,\n",
       " 0.2634013935127304,\n",
       " 0.4520226351189608,\n",
       " 0.11929919526817712,\n",
       " 0.020219065289345584,\n",
       " 0.13221629476179353,\n",
       " 0.4606918500911329,\n",
       " 0.9278305760000112,\n",
       " 0.4669468899201783,\n",
       " 0.6741257578208384,\n",
       " 0.8268241699616883,\n",
       " 0.05467722702918576,\n",
       " 0.5391242880682978,\n",
       " 0.6124630483401631,\n",
       " 0.2633096339467941,\n",
       " 0.4679377775846103,\n",
       " 0.05092253041787953,\n",
       " 0.4556001276879239,\n",
       " 0.49191895557629395,\n",
       " 0.7569616498934495,\n",
       " 0.6090230678713657,\n",
       " 0.4152715409879604,\n",
       " 0.7654339733707555,\n",
       " 0.4530450055105627,\n",
       " 0.9781437329151669,\n",
       " 0.1829026891604394,\n",
       " 0.5361122341198697,\n",
       " 0.3076372403947104,\n",
       " 0.737065506481239,\n",
       " 0.3013170350613166,\n",
       " 0.3923229239379682,\n",
       " 0.463166030055703,\n",
       " 0.8354000166855438,\n",
       " 0.5529592362002675,\n",
       " 0.9348589703708851,\n",
       " 0.19147158297526268,\n",
       " 0.5556381151301644,\n",
       " 0.7422022691237876,\n",
       " 0.16377734975021552,\n",
       " 0.16287904185796376,\n",
       " 0.934166365277922,\n",
       " 0.12774224885267083,\n",
       " 0.7185035981709669,\n",
       " 0.2645231296535463,\n",
       " 0.5211574835819939,\n",
       " 0.10439536978790476,\n",
       " 0.86365221303619,\n",
       " 0.1712519118864907,\n",
       " 0.1942510979512161,\n",
       " 0.8972425974934273,\n",
       " 0.5631002895445705,\n",
       " 0.5190528167382292,\n",
       " 0.2781021621684452,\n",
       " 0.9695698656675104,\n",
       " 0.9231035994449555,\n",
       " 0.8387634136578154,\n",
       " 0.03995315897232821,\n",
       " 0.36939350061121534,\n",
       " 0.5781814067334511,\n",
       " 0.039881453250418475,\n",
       " 0.7217473253441793,\n",
       " 0.6076349178059538,\n",
       " 0.5342829226475699,\n",
       " 0.4232275152726497,\n",
       " 0.9933786778752773,\n",
       " 0.6539549005693306,\n",
       " 0.328251816043568,\n",
       " 0.17336242726217554,\n",
       " 0.0022693418313705083,\n",
       " 0.6849877131319198,\n",
       " 0.9210088728075798,\n",
       " 0.3878285996802028,\n",
       " 0.5814905062432923,\n",
       " 0.6335711357210343,\n",
       " 0.6839241338214244,\n",
       " 0.7697181810262481,\n",
       " 0.24746163742855765,\n",
       " 0.3591250579618126,\n",
       " 0.2633504543944053]"
      ]
     },
     "execution_count": 148,
     "metadata": {},
     "output_type": "execute_result"
    }
   ],
   "source": [
    "a"
   ]
  }
 ],
 "metadata": {
  "kernelspec": {
   "display_name": "Python 3",
   "language": "python",
   "name": "python3"
  },
  "language_info": {
   "codemirror_mode": {
    "name": "ipython",
    "version": 3
   },
   "file_extension": ".py",
   "mimetype": "text/x-python",
   "name": "python",
   "nbconvert_exporter": "python",
   "pygments_lexer": "ipython3",
   "version": "3.6.5"
  }
 },
 "nbformat": 4,
 "nbformat_minor": 2
}
