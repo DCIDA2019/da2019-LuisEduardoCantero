{
 "cells": [
  {
   "cell_type": "markdown",
   "metadata": {},
   "source": [
    "# Simulacion de transito de vehiculos para la determinar los indices de contaminacion bajo distintos criterios de conduccion"
   ]
  },
  {
   "cell_type": "markdown",
   "metadata": {},
   "source": [
    "Importamos librerias"
   ]
  },
  {
   "cell_type": "code",
   "execution_count": 21,
   "metadata": {},
   "outputs": [],
   "source": [
    "import numpy as np\n",
    "import emcee\n",
    "import matplotlib.pyplot as plt\n",
    "import scipy.stats as st\n",
    "import math\n",
    "from random import randint, uniform,random\n",
    "import random\n",
    "from random import choice\n",
    "import csv"
   ]
  },
  {
   "cell_type": "code",
   "execution_count": 170,
   "metadata": {},
   "outputs": [],
   "source": [
    "x = np.arange(tamcalles/2, tamcalles*(ncalles-1)+tamcalles/2,(tamcalles*(ncalles)-tamcalles)/(nautos/2))"
   ]
  },
  {
   "cell_type": "code",
   "execution_count": 171,
   "metadata": {},
   "outputs": [
    {
     "data": {
      "text/plain": [
       "array([ 100.,  138.,  176.,  214.,  252.,  290.,  328.,  366.,  404.,\n",
       "        442.,  480.,  518.,  556.,  594.,  632.,  670.,  708.,  746.,\n",
       "        784.,  822.,  860.,  898.,  936.,  974., 1012., 1050., 1088.,\n",
       "       1126., 1164., 1202., 1240., 1278., 1316., 1354., 1392., 1430.,\n",
       "       1468., 1506., 1544., 1582., 1620., 1658., 1696., 1734., 1772.,\n",
       "       1810., 1848., 1886., 1924., 1962., 2000., 2038., 2076., 2114.,\n",
       "       2152., 2190., 2228., 2266., 2304., 2342., 2380., 2418., 2456.,\n",
       "       2494., 2532., 2570., 2608., 2646., 2684., 2722., 2760., 2798.,\n",
       "       2836., 2874., 2912., 2950., 2988., 3026., 3064., 3102., 3140.,\n",
       "       3178., 3216., 3254., 3292., 3330., 3368., 3406., 3444., 3482.,\n",
       "       3520., 3558., 3596., 3634., 3672., 3710., 3748., 3786., 3824.,\n",
       "       3862.])"
      ]
     },
     "execution_count": 171,
     "metadata": {},
     "output_type": "execute_result"
    }
   ],
   "source": [
    "x"
   ]
  },
  {
   "cell_type": "code",
   "execution_count": 193,
   "metadata": {},
   "outputs": [
    {
     "data": {
      "text/plain": [
       "20"
      ]
     },
     "execution_count": 193,
     "metadata": {},
     "output_type": "execute_result"
    }
   ],
   "source": [
    "ncalles"
   ]
  },
  {
   "cell_type": "code",
   "execution_count": 249,
   "metadata": {},
   "outputs": [],
   "source": [
    "def puntosiniciales (nautos, tamcalles, ncalles, dursimu, duritera, aprom, velmax, espminimo):\n",
    "    duracionsimulacion = dursimu\n",
    "    duraciondeiteracion = duritera\n",
    "    aceleracionpromedio = aprom\n",
    "    x0 = []\n",
    "    y0 = []\n",
    "    a0 = []\n",
    "    v0 = []    \n",
    "    dir0 = []\n",
    "    niteraciones = duracionsimulacion * 60 * (1 / duraciondeiteracion)\n",
    "    s = (int(niteraciones + 1), nautos)\n",
    "    ss = (3, 1)\n",
    "\n",
    "    sequence1 = [1, 3]\n",
    "    sequence2 = [2, 4]\n",
    "\n",
    "    tamcaja = (ncalles + 1) * tamcalles\n",
    "    vmax = velmax * (1 / 3600) * (1000) # Velocidad en m/s\n",
    "    \n",
    "\n",
    "    for i in range(0, int(ncalles)):\n",
    "        for j in range(0, int(nautos/2/ncalles)):\n",
    "            x0.append(tamcalles*ncalles/(nautos/2/ncalles)*(j+1)-tamcalles/2)\n",
    "            y0.append(tamcalles*(i+1))\n",
    "            dir0.append(choice(sequence2))\n",
    "            v0.append(np.random.rand())\n",
    "            a0.append(np.random.rand())\n",
    "\n",
    "    y2 = np.arange(tamcalles/2, tamcalles*(ncalles-1)+tamcalles/2,(tamcalles*(ncalles)-tamcalles)/(nautos/2))\n",
    "    x2 =  np.arange(tamcalles, tamcalles*(ncalles+1), tamcalles)\n",
    "\n",
    "    for i in range(0, int(ncalles)):\n",
    "        for j in range(0, int(nautos/2/ncalles)):\n",
    "            y0.append(tamcalles*ncalles/(nautos/2/ncalles)*(j+1)-tamcalles/2)\n",
    "            x0.append(tamcalles*(i+1))\n",
    "            dir0.append(choice(sequence1))\n",
    "            v0.append(np.random.rand())\n",
    "            a0.append(np.random.rand())\n",
    "\n",
    "    return x0, y0, v0, a0, dir0"
   ]
  },
  {
   "cell_type": "code",
   "execution_count": null,
   "metadata": {},
   "outputs": [],
   "source": []
  },
  {
   "cell_type": "code",
   "execution_count": 246,
   "metadata": {},
   "outputs": [
    {
     "data": {
      "text/plain": [
       "200"
      ]
     },
     "execution_count": 246,
     "metadata": {},
     "output_type": "execute_result"
    }
   ],
   "source": [
    "len(x0)"
   ]
  },
  {
   "cell_type": "code",
   "execution_count": 286,
   "metadata": {
    "scrolled": true
   },
   "outputs": [],
   "source": [
    "# Parametros iniciales\n",
    "\n",
    "tamcalles = 50\n",
    "nautos = 200\n",
    "ncalles = 10 # No mover de 20\n",
    "dursimu = 3 # minuto\n",
    "duritera = 0.2 # segs\n",
    "duraciondeiteracion = duritera\n",
    "aprom = 1 # m/s2\n",
    "espminimo = 6 # m\n",
    "vmax = 50 # km/h\n",
    "vmax=vmax*(1/3600)*(1000)\n",
    "aceleracionpromedio=1\n",
    "\n",
    "niteraciones = dursimu * 60 * (1 / duritera)\n",
    "\n",
    "posicionx = np.arange(niteraciones*nautos)\n",
    "posiciony = np.arange(niteraciones*nautos)\n",
    "velocidad = np.arange(niteraciones*nautos)\n",
    "aceleracion = np.arange(niteraciones*nautos)\n",
    "direccion = np.arange(niteraciones*nautos)\n",
    "tipodecalle = np.arange(niteraciones*nautos)\n",
    "\n",
    "posicionx.shape = (int(niteraciones),int(nautos))\n",
    "posiciony.shape = (int(niteraciones),int(nautos))\n",
    "velocidad.shape = (int(niteraciones),int(nautos))\n",
    "aceleracion.shape = (int(niteraciones),int(nautos))\n",
    "direccion.shape = (int(niteraciones),int(nautos))\n",
    "tipodecalle.shape = (int(niteraciones),int(nautos))\n",
    "\n",
    "x0, y0, v0, a0, dir0 = puntosiniciales (nautos, tamcalles, ncalles, dursimu, duritera, aprom, vmax, espminimo)\n",
    "\n",
    "for i in range(0, int(nautos)-1):\n",
    "    posicionx[0][i] = x0[i]\n",
    "    posiciony[0][i] = y0[i]\n",
    "    direccion[0][i] = dir0[i]\n",
    "    velocidad[0][i] = v0[i]\n",
    "    aceleracion[0][i] = a0[i]"
   ]
  },
  {
   "cell_type": "code",
   "execution_count": 287,
   "metadata": {},
   "outputs": [
    {
     "data": {
      "text/plain": [
       "[<matplotlib.lines.Line2D at 0x7fb485a2d3c8>]"
      ]
     },
     "execution_count": 287,
     "metadata": {},
     "output_type": "execute_result"
    },
    {
     "data": {
      "image/png": "[encoded data removed]",
      "text/plain": [
       "<Figure size 720x720 with 1 Axes>"
      ]
     },
     "metadata": {},
     "output_type": "display_data"
    }
   ],
   "source": [
    "\n",
    "x1 = np.linspace(0, tamcalles * ncalles+tamcalles, 2)\n",
    "y1 = [tamcalles, tamcalles]\n",
    "y2 = [tamcalles*2, tamcalles*2]\n",
    "y3 = [tamcalles*3, tamcalles*3]\n",
    "y4 = [tamcalles*4, tamcalles*4]\n",
    "y5 = [tamcalles*5, tamcalles*5]\n",
    "y6 = [tamcalles*6, tamcalles*6]\n",
    "y7 = [tamcalles*7, tamcalles*7]\n",
    "y8 = [tamcalles*8, tamcalles*8]\n",
    "y9 = [tamcalles*9, tamcalles*9]\n",
    "y10 = [tamcalles*10, tamcalles*10]\n",
    "y11 = [tamcalles*11, tamcalles*11]\n",
    "y12 = [tamcalles*12, tamcalles*12]\n",
    "y13 = [tamcalles*13, tamcalles*13]\n",
    "y14 = [tamcalles*14, tamcalles*14]\n",
    "y15 = [tamcalles*15, tamcalles*15]\n",
    "y16 = [tamcalles*16, tamcalles*16]\n",
    "y17 = [tamcalles*17, tamcalles*17]\n",
    "y18 = [tamcalles*18, tamcalles*18]\n",
    "y19 = [tamcalles*19, tamcalles*19]\n",
    "y20 = [tamcalles*20, tamcalles*20]\n",
    "y21 = [tamcalles*21, tamcalles*21]\n",
    "\n",
    "\n",
    "plt.figure(figsize=(10, 10))\n",
    "plt.plot(x1,y1, color = 'g')\n",
    "plt.plot(x1,y2, color = 'g')\n",
    "plt.plot(x1,y3, color = 'g')\n",
    "plt.plot(x1,y4, color = 'g')\n",
    "plt.plot(x1,y5, color = 'g')\n",
    "plt.plot(x1,y6, color = 'g')\n",
    "plt.plot(x1,y7, color = 'g')\n",
    "plt.plot(x1,y8, color = 'g')\n",
    "plt.plot(x1,y9, color = 'g')\n",
    "plt.plot(x1,y10, color = 'g')\n",
    "plt.plot(x1,y11, color = 'g')\n",
    "plt.plot(x1,y12, color = 'g')\n",
    "plt.plot(x1,y13, color = 'g')\n",
    "plt.plot(x1,y14, color = 'g')\n",
    "plt.plot(x1,y15, color = 'g')\n",
    "plt.plot(x1,y16, color = 'g')\n",
    "plt.plot(x1,y17, color = 'g')\n",
    "plt.plot(x1,y18, color = 'g')\n",
    "plt.plot(x1,y19, color = 'g')\n",
    "plt.plot(x1,y20, color = 'g')\n",
    "\n",
    "plt.plot(y1,x1, color = 'g')\n",
    "plt.plot(y2,x1, color = 'g')\n",
    "plt.plot(y3,x1, color = 'g')\n",
    "plt.plot(y4,x1, color = 'g')\n",
    "plt.plot(y5,x1, color = 'g')\n",
    "plt.plot(y6,x1, color = 'g')\n",
    "plt.plot(y7,x1, color = 'g')\n",
    "plt.plot(y8,x1, color = 'g')\n",
    "plt.plot(y9,x1, color = 'g')\n",
    "plt.plot(y10,x1, color = 'g')\n",
    "plt.plot(y11,x1, color = 'g')\n",
    "plt.plot(y12,x1, color = 'g')\n",
    "plt.plot(y13,x1, color = 'g')\n",
    "plt.plot(y14,x1, color = 'g')\n",
    "plt.plot(y15,x1, color = 'g')\n",
    "plt.plot(y16,x1, color = 'g')\n",
    "plt.plot(y17,x1, color = 'g')\n",
    "plt.plot(y18,x1, color = 'g')\n",
    "plt.plot(y19,x1, color = 'g')\n",
    "plt.plot(y20,x1, color = 'g')\n",
    "\n",
    "plt.plot(x0,y0, \"bo\")"
   ]
  },
  {
   "cell_type": "code",
   "execution_count": 281,
   "metadata": {},
   "outputs": [
    {
     "data": {
      "text/plain": [
       "25.0"
      ]
     },
     "execution_count": 281,
     "metadata": {},
     "output_type": "execute_result"
    }
   ],
   "source": [
    "posicionx[0][20]"
   ]
  },
  {
   "cell_type": "code",
   "execution_count": 282,
   "metadata": {},
   "outputs": [
    {
     "data": {
      "text/plain": [
       "150.0"
      ]
     },
     "execution_count": 282,
     "metadata": {},
     "output_type": "execute_result"
    }
   ],
   "source": [
    "posiciony[0][20]"
   ]
  },
  {
   "cell_type": "code",
   "execution_count": 283,
   "metadata": {},
   "outputs": [
    {
     "data": {
      "text/plain": [
       "4.0"
      ]
     },
     "execution_count": 283,
     "metadata": {},
     "output_type": "execute_result"
    }
   ],
   "source": [
    "direccion[0][20]"
   ]
  },
  {
   "cell_type": "code",
   "execution_count": 304,
   "metadata": {},
   "outputs": [
    {
     "data": {
      "text/plain": [
       "0.0"
      ]
     },
     "execution_count": 304,
     "metadata": {},
     "output_type": "execute_result"
    }
   ],
   "source": [
    "min(aceleracion[:][10])"
   ]
  },
  {
   "cell_type": "code",
   "execution_count": 285,
   "metadata": {},
   "outputs": [
    {
     "data": {
      "text/plain": [
       "0.6450843811055009"
      ]
     },
     "execution_count": 285,
     "metadata": {},
     "output_type": "execute_result"
    }
   ],
   "source": [
    "aceleracion[0][20]"
   ]
  },
  {
   "cell_type": "code",
   "execution_count": 275,
   "metadata": {},
   "outputs": [
    {
     "data": {
      "text/plain": [
       "array([5000,    0,    0])"
      ]
     },
     "execution_count": 275,
     "metadata": {},
     "output_type": "execute_result"
    }
   ],
   "source": [
    "np.array([tamcalles*100,0,0])"
   ]
  },
  {
   "cell_type": "code",
   "execution_count": 324,
   "metadata": {},
   "outputs": [],
   "source": [
    "\n",
    "\n",
    "tamcaja = tamcalles*ncalles\n",
    "u=[]\n",
    "ua=[]\n",
    "ub=[]\n",
    "  \n",
    "for i in range(0, int(niteraciones-1)):\n",
    "    for j in range(0, int(nautos)):\n",
    "        if ((direccion[i][j] == 1 or direccion[i][j]==3 ) and np.mod(posicionx[i][j],tamcalles)==0):\n",
    "            tipodecalle[i][j]=1\n",
    "        else:\n",
    "             tipodecalle[i][j]=2\n",
    "        \n",
    "        if velocidad[i][j] < 0:\n",
    "            velocidad[i][j] = 0\n",
    "        if velocidad[i][j] > vmax:\n",
    "            velocidad[i][j] = vmax\n",
    "        \n",
    "########################################################################################################        \n",
    "        if direccion[i][j] == 1: # SI EL AUTO SE MUEVE ENDIRECCION NORTE\n",
    "            u=np.array([tamcalles*100,0,0])\n",
    "            ua=np.array([tamcalles*100,0,0])\n",
    "            ub=np.array([tamcalles*100,0,0])  \n",
    "            \n",
    "            for k in range(0, int(nautos)): # DISTANCIA CIRCULAR\n",
    "                if direccion[i][k] == 2: # verificar que esten en direcciones perpendiculares(VER. DIRECCION ESTE)\n",
    "                    if posiciony[i][k] - posiciony[i][j] > 0: # verificar que esten cerca hacia arriba\n",
    "                        if posiciony[i][k] - posiciony[i][j] < 10: # verificar que se encuentre al menos a 10 m hacia arriba\n",
    "                            if posicionx[i][j]-posicionx[i][k] < 7: # verificar que esten al menos 7 m separados horizontalmente\n",
    "                                if posicionx[i][j]-posicionx[i][k] > 0:\n",
    "                                    ua[1] = posicionx[i][j] - posicionx[i][k] # guardar el valor de esa distancia de lado\n",
    "                                    if ua[1] <= ua[0]: # verificar que esa distancia sea menor que la iteracion pasada\n",
    "                                        ua[0] = ua[1] #  la distancia menor se va  guardando en ua(1,1)\n",
    "                                        ua[2] = posiciony[i][k]-posiciony[i][j]\n",
    "                if direccion[i][k] == 4: #verificar que esten en direcciones perpendiculares (VER. DIRECCION OESTE)\n",
    "                    if posiciony[i][k]-posiciony[i][j]>0: #verificar que esten cerca hacia arriba\n",
    "                        if posiciony[i][k]-posiciony[i][j]<10: # verificar que se encuentre al menos a 10 m hacia arriba\n",
    "                            if posicionx[i][k]-posicionx[i][j]<7: #verificar que esten al menos 7 m separados horizontalmente\n",
    "                                if posicionx[i][k]-posicionx[i][j]>0: #\n",
    "                                    ub[1]=posicionx[i][k]-posicionx[i][j]# guardar el valor de esa distancia de lado\n",
    "                                    if ub[1]<ub[0]: #verificar que esa distancia sea menor que la iteracion pasada\n",
    "                                        ub[0]=ub[1] # la distancia menor se va  guardando en ub(1,1)\n",
    "                                        ub[2]=posiciony[i][k]-posiciony[i][j] #la distancia vertical entre los autos se guarda\n",
    "                                \n",
    "\n",
    "            for k in range(0, int(nautos)):     #DETERMINAR DISTANCIA DE AUTO DE FRENTE\n",
    "                if direccion[i][k] == 1: # verificar cuales estan en la misma direccion\n",
    "                    if abs(posicionx[i][j] - posicionx[i][k]) < 1 : #verificar que esten en la misma coordenada X\n",
    "                        if posiciony[i][k] - posiciony[i][j] > 0: #verificar que se encuentre en frente\n",
    "                            u[1]=posiciony[i][k] - posiciony[i][j]\n",
    "                            if u[1]<= u[0] and u[1] > 0:\n",
    "                                u[0]=u[1]\n",
    "                                u[2]=velocidad[i][k]\n",
    "            \n",
    "            distanciacirculo=min(ua[0],ub[0])\n",
    "            \n",
    "            if distanciacirculo<0:\n",
    "                distanciacirculo =100\n",
    "            if min(ua[0],ub[0])== ua[0]:\n",
    "                ud= ua[2]\n",
    "            if min(ua[0],ub[0])== ub[0]:\n",
    "                ud= ub[2]\n",
    "                \n",
    "            distanciafrente=u[0]         \n",
    "            distanciaesquina=tamcalles-np.mod(posiciony[i][j],tamcalles)\n",
    "            er=i\n",
    "            posiciony[i+1][j]=posiciony[i][j]+velocidad[i][j]*duraciondeiteracion+(aceleracion[i][j]*duraciondeiteracion**2)/2\n",
    "                    \n",
    "            #if posiciony[i+1][j]<posiciony[i][j]:\n",
    "                #posiciony[i+1][j]=posiciony[i][j]\n",
    "                \n",
    "            if posiciony[i+1][j]>=tamcaja+tamcalles/2:\n",
    "                posiciony[i+1][j]=tamcalles/2\n",
    "  \n",
    "            \n",
    "            posicionx[i+1][j]=posicionx[i][j]\n",
    "            \n",
    "            if tipodecalle[i][j]==1 :\n",
    "                if distanciafrente<espminimo :\n",
    "                    velocidad[i+1][j]=u[2]\n",
    "                    aceleracion[i+1][j]=0\n",
    "                if distanciafrente>=espminimo :\n",
    "                    aceleracion[i+1][j]=aceleracionpromedio\n",
    "                    velocidad[i+1][j]=velocidad[i][j]+aceleracionpromedio*duraciondeiteracion\n",
    "\n",
    "            if tipodecalle[i][j]==2 :\n",
    "                if min(distanciacirculo,distanciafrente)==distanciafrente :\n",
    "                    if distanciafrente<espminimo :\n",
    "                        velocidad[i+1][j]=u[2]\n",
    "                        aceleracion[i+1][j]=0\n",
    "                    if distanciafrente>=espminimo :\n",
    "                        aceleracion[i+1][j]=aceleracionpromedio\n",
    "                        velocidad[i+1][j]=velocidad[i][j]+aceleracionpromedio*duraciondeiteracion\n",
    "\n",
    "                if min(distanciacirculo,distanciafrente)== distanciacirculo :\n",
    "                    if distanciaesquina<=14 and distanciaesquina >5 :\n",
    "                        aceleracion[i+1][j]=aceleracionpromedio*(-.5)\n",
    "                        velocidad[i+1][j]=velocidad[i][j]+ aceleracion[i+1][j]*duraciondeiteracion\n",
    "                  \n",
    "                    if distanciaesquina<=5 and distanciaesquina >3 :\n",
    "                        aceleracion[i+1][j]=aceleracionpromedio*(-2)\n",
    "                        velocidad[i+1][j]=velocidad[i][j]+ aceleracion[i+1][j]*duraciondeiteracion\n",
    "                  \n",
    "                    if distanciaesquina<=3 and distanciaesquina >.5 :\n",
    "                        aceleracion[i+1][j]=aceleracionpromedio*(-4)\n",
    "                        velocidad[i+1][j]=velocidad[i][j]+ aceleracion[i+1][j]*duraciondeiteracion\n",
    "                  \n",
    "                    if distanciaesquina<=.5 and distanciaesquina >0 :\n",
    "                        aceleracion[i+1][j]=0\n",
    "                        velocidad[i+1][j]=0\n",
    "                  \n",
    "            direccion[i+1][j]=direccion[i][j]\n",
    "            if distanciaesquina<0.5 :\n",
    "                m=np.random.rand()\n",
    "                if m>=.5 :\n",
    "                    direccion[i+1][j]= 1\n",
    "                    posicionx[i+1][j]=posicionx[i][j]\n",
    "              \n",
    "                if m<.5 and m>=.25 :\n",
    "                    direccion[i+1][j]= 2\n",
    "                    posicionx[i+1][j]=posicionx[i][j]\n",
    "                    posiciony[i+1][j]=int((np.mod(posiciony[i][j],1)-1)*(-1)+posiciony[i][j])\n",
    "                    velocidad[i+1][j]=2\n",
    "              \n",
    "                if m<.25 and m>=0 :\n",
    "                    direccion[i+1][j]= 4\n",
    "                    posicionx[i+1][j]=posicionx[i][j]\n",
    "                    posiciony[i+1][j]=int((np.mod(posiciony[i][j],1)-1)*(-1)+posiciony[i][j])\n",
    "                    velocidad[i+1][j]=2\n",
    "                    \n",
    "########################################################################################################        \n",
    "        if direccion[i][j] == 3: # SI EL AUTO SE MUEVE ENDIRECCION SUR\n",
    "            u=np.array([tamcalles*100,0,0])\n",
    "            ua=np.array([tamcalles*100,0,0])\n",
    "            ub=np.array([tamcalles*100,0,0])\n",
    "            \n",
    "            for k in range(0, int(nautos)): # DISTANCIA CIRCULAR\n",
    "                if direccion[i][k] == 2: # verificar que esten en direcciones perpendiculares(VER. DIRECCION ESTE)\n",
    "                    if posiciony[i][j] - posiciony[i][k] > 0: # verificar que esten cerca hacia arriba\n",
    "                        if posiciony[i][j] - posiciony[i][k] < 10: # verificar que se encuentre al menos a 10 m hacia arriba\n",
    "                            if posicionx[i][j]-posicionx[i][k] < 7: # verificar que esten al menos 7 m separados horizontalmente\n",
    "                                if posicionx[i][j]-posicionx[i][k] > 0:\n",
    "                                    ua[1] = posicionx[i][j] - posicionx[i][k] # guardar el valor de esa distancia de lado\n",
    "                                    if ua[1] <= ua[0]: # verificar que esa distancia sea menor que la iteracion pasada\n",
    "                                        ua[0] = ua[1] #  la distancia menor se va  guardando en ua(1,1)\n",
    "                                        ua[2] = -posiciony[i][k]+posiciony[i][j]\n",
    "                if direccion[i][k] == 4: #verificar que esten en direcciones perpendiculares (VER. DIRECCION OESTE)\n",
    "                    if posiciony[i][j]-posiciony[i][k]>0: #verificar que esten cerca hacia arriba\n",
    "                        if posiciony[i][j]-posiciony[i][k]<10: # verificar que se encuentre al menos a 10 m hacia arriba\n",
    "                            if posicionx[i][k]-posicionx[i][j]<7: #verificar que esten al menos 7 m separados horizontalmente\n",
    "                                if posicionx[i][k]-posicionx[i][j]>0: #\n",
    "                                    ub[1]=posicionx[i][k]-posicionx[i][j]# guardar el valor de esa distancia de lado\n",
    "                                    if ub[1]<ub[0]: #verificar que esa distancia sea menor que la iteracion pasada\n",
    "                                        ub[0]=ub[1] # la distancia menor se va  guardando en ub(1,1)\n",
    "                                        ub[2]=-posiciony[i][k]+posiciony[i][j] #la distancia vertical entre los autos se guarda\n",
    "                                \n",
    "\n",
    "            for k in range(0, int(nautos)):     #DETERMINAR DISTANCIA DE AUTO DE FRENTE\n",
    "                if direccion[i][k] == 3: # verificar cuales estan en la misma direccion\n",
    "                    if abs(posicionx[i][k] - posicionx[i][j]) < 1 : #verificar que esten en la misma coordenada X\n",
    "                        if posiciony[i][j] - posiciony[i][k] > 0: #verificar que se encuentre en frente\n",
    "                            u[1]=posiciony[i][j] - posiciony[i][k]\n",
    "                            if u[1]<= u[0] and u[1] > 0:\n",
    "                                u[0]=u[1]\n",
    "                                u[2]=velocidad[i][k]\n",
    "            \n",
    "            distanciacirculo=min(ua[0],ub[0])\n",
    "            \n",
    "            if distanciacirculo<0:\n",
    "                distanciacirculo =100\n",
    "            if min(ua[0],ub[0])== ua[0]:\n",
    "                ud= ua[2]\n",
    "            if min(ua[0],ub[0])== ub[0]:\n",
    "                ud= ub[2]\n",
    "                \n",
    "            distanciafrente=u[0]         \n",
    "            distanciaesquina=np.mod(posiciony[i][j],tamcalles)\n",
    "            er=i\n",
    "            posiciony[i+1][j]=posiciony[i][j]-(velocidad[i][j]*duraciondeiteracion+(aceleracion[i][j]*duraciondeiteracion**2)/2)\n",
    "                    \n",
    "            #if posiciony[i+1][j]>posiciony[i][j]:\n",
    "               # posiciony[i+1][j]=posiciony[i][j]\n",
    "\n",
    "            if posiciony[i+1][j]<=tamcalles/2:\n",
    "                posiciony[i+1][j]=tamcaja+tamcalles/2    \n",
    "            \n",
    "            posicionx[i+1][j]=posicionx[i][j]\n",
    "            \n",
    "            if tipodecalle[i][j]==1 :\n",
    "                if distanciafrente<espminimo :\n",
    "                    velocidad[i+1][j]=u[2]\n",
    "                    aceleracion[i+1][j]=0\n",
    "                if distanciafrente>=espminimo :\n",
    "                    aceleracion[i+1][j]=aceleracionpromedio\n",
    "                    velocidad[i+1][j]=velocidad[i][j]+aceleracionpromedio*duraciondeiteracion\n",
    "\n",
    "            if tipodecalle[i][j]==2 :\n",
    "                if min(distanciacirculo,distanciafrente)==distanciafrente :\n",
    "                    if distanciafrente<espminimo :\n",
    "                        velocidad[i+1][j]=u[2]\n",
    "                        aceleracion[i+1][j]=0\n",
    "                    if distanciafrente>=espminimo :\n",
    "                        aceleracion[i+1][j]=aceleracionpromedio\n",
    "                        velocidad[i+1][j]=velocidad[i][j]+aceleracionpromedio*duraciondeiteracion\n",
    "\n",
    "                if min(distanciacirculo,distanciafrente)== distanciacirculo :\n",
    "                    if distanciaesquina<=14 and distanciaesquina >5 :\n",
    "                        aceleracion[i+1][j]=aceleracionpromedio*(-.5)\n",
    "                        velocidad[i+1][j]=velocidad[i][j]+ aceleracion[i+1][j]*duraciondeiteracion\n",
    "                  \n",
    "                    if distanciaesquina<=5 and distanciaesquina >3 :\n",
    "                        aceleracion[i+1][j]=aceleracionpromedio*(-2)\n",
    "                        velocidad[i+1][j]=velocidad[i][j]+ aceleracion[i+1][j]*duraciondeiteracion\n",
    "                  \n",
    "                    if distanciaesquina<=3 and distanciaesquina >.5 :\n",
    "                        aceleracion[i+1][j]=aceleracionpromedio*(-4)\n",
    "                        velocidad[i+1][j]=velocidad[i][j]+ aceleracion[i+1][j]*duraciondeiteracion\n",
    "                  \n",
    "                    if distanciaesquina<=.5 and distanciaesquina >0 :\n",
    "                        aceleracion[i+1][j]=0\n",
    "                        velocidad[i+1][j]=0\n",
    "                  \n",
    "            direccion[i+1][j]=direccion[i][j]\n",
    "            if distanciaesquina<0.5 :\n",
    "                m=np.random.rand()\n",
    "                if m>=.5 :\n",
    "                    direccion[i+1][j]= 3\n",
    "                    posicionx[i+1][j]=posicionx[i][j]\n",
    "              \n",
    "                if m<.5 and m>=.25 :\n",
    "                    direccion[i+1][j]= 2\n",
    "                    posicionx[i+1][j]=posicionx[i][j]\n",
    "                    posiciony[i+1][j]=int(posiciony[i][j]-(np.mod(posiciony[i][j],tamcalles)-1))\n",
    "                    velocidad[i+1][j]=2\n",
    "              \n",
    "                if m<.25 and m>=0 :\n",
    "                    direccion[i+1][j]= 4\n",
    "                    posicionx[i+1][j]=posicionx[i][j]\n",
    "                    posiciony[i+1][j]=int(posiciony[i][j]-(np.mod(posiciony[i][j],tamcalles)-1))\n",
    "                    velocidad[i+1][j]=2\n",
    "\n",
    "########################################################################################################        \n",
    "        if direccion[i][j] == 2: # SI EL AUTO SE MUEVE ENDIRECCION ESTE\n",
    "            u=np.array([tamcalles*100,0,0])\n",
    "            ua=np.array([tamcalles*100,0,0])\n",
    "            ub=np.array([tamcalles*100,0,0])  \n",
    "            \n",
    "            for k in range(0, int(nautos)): # DISTANCIA CIRCULAR\n",
    "                if direccion[i][k] == 1: # verificar que esten en direcciones perpendiculares(VER. DIRECCION ESTE)\n",
    "                    if posicionx[i][k] - posicionx[i][j] > 0: # verificar que esten cerca hacia derecha\n",
    "                        if posicionx[i][k] - posicionx[i][j] < 10: # verificar que se encuentre al menos a 10 m hacia derecha\n",
    "                            if posiciony[i][j]-posiciony[i][k] < 7: # verificar que esten al menos 7 m separados verticalmente\n",
    "                                if posiciony[i][j]-posiciony[i][k] > 0:\n",
    "                                    ua[1] = posiciony[i][j] - posiciony[i][k] # guardar el valor de esa distancia de lado\n",
    "                                    if ua[1] <= ua[0]: # verificar que esa distancia sea menor que la iteracion pasada\n",
    "                                        ua[0] = ua[1] #  la distancia menor se va  guardando en ua(1,1)\n",
    "                                        ua[2] = posicionx[i][k]-posicionx[i][j]\n",
    "                if direccion[i][k] == 3: #verificar que esten en direcciones perpendiculares (VER. DIRECCION OESTE)\n",
    "                    if posicionx[i][k]-posicionx[i][j]>0: #verificar que esten cerca hacia arriba\n",
    "                        if posicionx[i][k]-posicionx[i][j]<10: # verificar que se encuentre al menos a 10 m hacia arriba\n",
    "                            if posiciony[i][k]-posiciony[i][j]<7: #verificar que esten al menos 7 m separados horizontalmente\n",
    "                                if posiciony[i][k]-posiciony[i][j]>0: #\n",
    "                                    ub[1]=posiciony[i][k]-posiciony[i][j]# guardar el valor de esa distancia de lado\n",
    "                                    if ub[1]<ub[0]: #verificar que esa distancia sea menor que la iteracion pasada\n",
    "                                        ub[0]=ub[1] # la distancia menor se va  guardando en ub(1,1)\n",
    "                                        ub[2]=posicionx[i][k]-posicionx[i][j] #la distancia vertical entre los autos se guarda\n",
    "                                \n",
    "\n",
    "            for k in range(0, int(nautos)):     #DETERMINAR DISTANCIA DE AUTO DE FRENTE\n",
    "                if direccion[i][k] == 2: # verificar cuales estan en la misma direccion\n",
    "                    if abs(posiciony[i][j] - posiciony[i][k]) < 1 : #verificar que esten en la misma coordenada X\n",
    "                        if posicionx[i][k] - posicionx[i][j] > 0: #verificar que se encuentre en frente\n",
    "                            u[1]=posicionx[i][k] - posicionx[i][j]\n",
    "                            if u[1]<= u[0] and u[1] > 0:\n",
    "                                u[0]=u[1]\n",
    "                                u[2]=velocidad[i][k]\n",
    "            \n",
    "            distanciacirculo=min(ua[0],ub[0])\n",
    "            \n",
    "            if distanciacirculo<0:\n",
    "                distanciacirculo =100\n",
    "            if min(ua[0],ub[0])== ua[0]:\n",
    "                ud= ua[2]\n",
    "            if min(ua[0],ub[0])== ub[0]:\n",
    "                ud= ub[2]\n",
    "                \n",
    "            distanciafrente=u[0]         \n",
    "            distanciaesquina=tamcalles-np.mod(posicionx[i][j],tamcalles)\n",
    "            er=i\n",
    "            posicionx[i+1][j]=posicionx[i][j]+velocidad[i][j]*duraciondeiteracion+(aceleracion[i][j]*duraciondeiteracion**2)/2\n",
    "                    \n",
    "            #if posicionx[i+1][j]<posicionx[i][j]:\n",
    "                #posicionx[i+1][j]=posicionx[i][j]\n",
    "                \n",
    "            if posicionx[i+1][j]>=tamcaja+tamcalles/2:\n",
    "                posicionx[i+1][j]=tamcalles/2\n",
    "  \n",
    "            \n",
    "            posiciony[i+1][j]=posiciony[i][j]\n",
    "            \n",
    "            if tipodecalle[i][j]==1 :\n",
    "                if distanciafrente<espminimo :\n",
    "                    velocidad[i+1][j]=u[2]\n",
    "                    aceleracion[i+1][j]=0\n",
    "                if distanciafrente>=espminimo :\n",
    "                    aceleracion[i+1][j]=aceleracionpromedio\n",
    "                    velocidad[i+1][j]=velocidad[i][j]+aceleracionpromedio*duraciondeiteracion\n",
    "\n",
    "            if tipodecalle[i][j]==2 :\n",
    "                if min(distanciacirculo,distanciafrente)==distanciafrente :\n",
    "                    if distanciafrente<espminimo :\n",
    "                        velocidad[i+1][j]=u[2]\n",
    "                        aceleracion[i+1][j]=0\n",
    "                    if distanciafrente>=espminimo :\n",
    "                        aceleracion[i+1][j]=aceleracionpromedio\n",
    "                        velocidad[i+1][j]=velocidad[i][j]+aceleracionpromedio*duraciondeiteracion\n",
    "\n",
    "                if min(distanciacirculo,distanciafrente)== distanciacirculo :\n",
    "                    if distanciaesquina<=14 and distanciaesquina >5 :\n",
    "                        aceleracion[i+1][j]=aceleracionpromedio*(-.5)\n",
    "                        velocidad[i+1][j]=velocidad[i][j]+ aceleracion[i+1][j]*duraciondeiteracion\n",
    "                  \n",
    "                    if distanciaesquina<=5 and distanciaesquina >3 :\n",
    "                        aceleracion[i+1][j]=aceleracionpromedio*(-2)\n",
    "                        velocidad[i+1][j]=velocidad[i][j]+ aceleracion[i+1][j]*duraciondeiteracion\n",
    "                  \n",
    "                    if distanciaesquina<=3 and distanciaesquina >.5 :\n",
    "                        aceleracion[i+1][j]=aceleracionpromedio*(-4)\n",
    "                        velocidad[i+1][j]=velocidad[i][j]+ aceleracion[i+1][j]*duraciondeiteracion\n",
    "                  \n",
    "                    if distanciaesquina<=.5 and distanciaesquina >0 :\n",
    "                        aceleracion[i+1][j]=0\n",
    "                        velocidad[i+1][j]=0\n",
    "                  \n",
    "            direccion[i+1][j]=direccion[i][j]\n",
    "            if distanciaesquina<0.5 :\n",
    "                m=np.random.rand()\n",
    "                if m>=.5 :\n",
    "                    direccion[i+1][j]= 2\n",
    "                    posiciony[i+1][j]=posiciony[i][j]\n",
    "              \n",
    "                if m<.5 and m>=.25 :\n",
    "                    direccion[i+1][j]= 1\n",
    "                    posiciony[i+1][j]=posiciony[i][j]\n",
    "                    posicionx[i+1][j]=int((np.mod(posicionx[i][j],1)-1)*(-1)+posicionx[i][j])\n",
    "                    velocidad[i+1][j]=2\n",
    "              \n",
    "                if m<.25 and m>=0 :\n",
    "                    direccion[i+1][j]= 3\n",
    "                    posiciony[i+1][j]=posiciony[i][j]\n",
    "                    posicionx[i+1][j]=int((np.mod(posicionx[i][j],1)-1)*(-1)+posicionx[i][j])\n",
    "                    velocidad[i+1][j]=2\n",
    "\n",
    "                    ########################################################################################################        \n",
    "        if direccion[i][j] == 4: # SI EL AUTO SE MUEVE ENDIRECCION OESTE\n",
    "            u=np.array([tamcalles*100,0,0])\n",
    "            ua=np.array([tamcalles*100,0,0])\n",
    "            ub=np.array([tamcalles*100,0,0])\n",
    "            \n",
    "            for k in range(0, int(nautos)): # DISTANCIA CIRCULAR\n",
    "                if direccion[i][k] == 1: # verificar que esten en direcciones perpendiculares(VER. DIRECCION ESTE)\n",
    "                    if posicionx[i][j] - posicionx[i][k] > 0: # verificar que esten cerca hacia \n",
    "                        if posicionx[i][j] - posicionx[i][k] < 10: # verificar que se encuentre al menos a 10 m \n",
    "                            if posiciony[i][j]-posiciony[i][k] < 7: # verificar que esten al menos 7 m separados\n",
    "                                if posiciony[i][j]-posiciony[i][k] > 0:\n",
    "                                    ua[1] = posiciony[i][j] - posiciony[i][k] # guardar el valor de esa distancia de lado\n",
    "                                    if ua[1] <= ua[0]: # verificar que esa distancia sea menor que la iteracion pasada\n",
    "                                        ua[0] = ua[1] #  la distancia menor se va  guardando en ua(1,1)\n",
    "                                        ua[2] = -posicionx[i][k]+posicionx[i][j]\n",
    "                if direccion[i][k] == 3: #verificar que esten en direcciones perpendiculares (VER. DIRECCION OESTE)\n",
    "                    if posicionx[i][j]-posicionx[i][k]>0: #verificar que esten cerca hacia arrba\n",
    "                        if posicionx[i][j]-posicionx[i][k]<10: # verificar que se encuentre al menos a 10 m hacia \n",
    "                            if posiciony[i][k]-posiciony[i][j]<7: #verificar que esten al menos 7 m separados \n",
    "                                if posiciony[i][k]-posiciony[i][j]>0: #\n",
    "                                    ub[1]=posiciony[i][k]-posiciony[i][j]# guardar el valor de esa distancia de lado\n",
    "                                    if ub[1]<ub[0]: #verificar que esa distancia sea menor que la iteracion pasada\n",
    "                                        ub[0]=ub[1] # la distancia menor se va  guardando en ub(1,1)\n",
    "                                        ub[2]=-posicionx[i][k]+posicionx[i][j] #la distancia vertical entre los autos se guarda\n",
    "                                \n",
    "\n",
    "            for k in range(0, int(nautos)):     #DETERMINAR DISTANCIA DE AUTO DE FRENTE\n",
    "                if direccion[i][k] == 4: # verificar cuales estan en la misma direccion\n",
    "                    if abs(posiciony[i][k] - posiciony[i][j]) < 1 : #verificar que esten en la misma coordenada X\n",
    "                        if posicionx[i][j] - posicionx[i][k] > 0: #verificar que se encuentre en frente\n",
    "                            u[1]=posicionx[i][j] - posicionx[i][k]\n",
    "                            if u[1]<= u[0] and u[1] > 0:\n",
    "                                u[0]=u[1]\n",
    "                                u[2]=velocidad[i][k]\n",
    "            \n",
    "            distanciacirculo=min(ua[0],ub[0])\n",
    "            \n",
    "            if distanciacirculo<0:\n",
    "                distanciacirculo =100\n",
    "            if min(ua[0],ub[0])== ua[0]:\n",
    "                ud= ua[2]\n",
    "            if min(ua[0],ub[0])== ub[0]:\n",
    "                ud= ub[2]\n",
    "                \n",
    "            distanciafrente=u[0]         \n",
    "            distanciaesquina=np.mod(posicionx[i][j],tamcalles)\n",
    "            er=i\n",
    "            posicionx[i+1][j]=posicionx[i][j]-(velocidad[i][j]*duraciondeiteracion+(aceleracion[i][j]*duraciondeiteracion**2)/2)\n",
    "                    \n",
    "            #if posicionx[i+1][j]>posicionx[i][j]:\n",
    "                #posicionx[i+1][j]=posicionx[i][j]\n",
    "                \n",
    "            if posicionx[i+1][j]<=tamcalles/2:\n",
    "                posicionx[i+1][j]=tamcaja+tamcalles/2   \n",
    "            \n",
    "            posiciony[i+1][j]=posiciony[i][j]\n",
    "            \n",
    "            if tipodecalle[i][j]==1 :\n",
    "                if distanciafrente<espminimo :\n",
    "                    velocidad[i+1][j]=u[2]\n",
    "                    aceleracion[i+1][j]=0\n",
    "                if distanciafrente>=espminimo :\n",
    "                    aceleracion[i+1][j]=aceleracionpromedio\n",
    "                    velocidad[i+1][j]=velocidad[i][j]+aceleracionpromedio*duraciondeiteracion\n",
    "\n",
    "            if tipodecalle[i][j]==2 :\n",
    "                if min(distanciacirculo,distanciafrente)==distanciafrente :\n",
    "                    if distanciafrente<espminimo :\n",
    "                        velocidad[i+1][j]=u[2]\n",
    "                        aceleracion[i+1][j]=0\n",
    "                    if distanciafrente>=espminimo :\n",
    "                        aceleracion[i+1][j]=aceleracionpromedio\n",
    "                        velocidad[i+1][j]=velocidad[i][j]+aceleracionpromedio*duraciondeiteracion\n",
    "\n",
    "                if min(distanciacirculo,distanciafrente)== distanciacirculo :\n",
    "                    if distanciaesquina<=14 and distanciaesquina >5 :\n",
    "                        aceleracion[i+1][j]=aceleracionpromedio*(-.5)\n",
    "                        velocidad[i+1][j]=velocidad[i][j]+ aceleracion[i+1][j]*duraciondeiteracion\n",
    "                  \n",
    "                    if distanciaesquina<=5 and distanciaesquina >3 :\n",
    "                        aceleracion[i+1][j]=aceleracionpromedio*(-2)\n",
    "                        velocidad[i+1][j]=velocidad[i][j]+ aceleracion[i+1][j]*duraciondeiteracion\n",
    "                  \n",
    "                    if distanciaesquina<=3 and distanciaesquina >.5 :\n",
    "                        aceleracion[i+1][j]=aceleracionpromedio*(-4)\n",
    "                        velocidad[i+1][j]=velocidad[i][j]+ aceleracion[i+1][j]*duraciondeiteracion\n",
    "                  \n",
    "                    if distanciaesquina<=.5 and distanciaesquina >0 :\n",
    "                        aceleracion[i+1][j]=0\n",
    "                        velocidad[i+1][j]=0\n",
    "                  \n",
    "            direccion[i+1][j]=direccion[i][j]\n",
    "            if distanciaesquina<0.5 :\n",
    "                m=np.random.rand()\n",
    "                if m>=.5 :\n",
    "                    direccion[i+1][j]= 4\n",
    "                    posiciony[i+1][j]=posiciony[i][j]\n",
    "              \n",
    "                if m<.5 and m>=.25 :\n",
    "                    direccion[i+1][j]= 1\n",
    "                    posiciony[i+1][j]=posiciony[i][j]\n",
    "                    posicionx[i+1][j]=int(posicionx[i][j]-(np.mod(posicionx[i][j],tamcalles)-1))\n",
    "                    velocidad[i+1][j]=2\n",
    "              \n",
    "                if m<.25 and m>=0 :\n",
    "                    direccion[i+1][j]= 3\n",
    "                    posiciony[i+1][j]=posiciony[i][j]\n",
    "                    posicionx[i+1][j]=int(posicionx[i][j]-(np.mod(posicionx[i][j],tamcalles)-1))\n",
    "                    velocidad[i+1][j]=2\n"
   ]
  },
  {
   "cell_type": "code",
   "execution_count": 394,
   "metadata": {},
   "outputs": [],
   "source": [
    "vx = np.arange(niteraciones*nautos)\n",
    "vx.shape = (int(niteraciones),int(nautos))\n",
    "\n",
    "ax = np.arange(niteraciones*nautos)\n",
    "ax.shape = (int(niteraciones),int(nautos))\n",
    "\n",
    "vsp = np.arange(niteraciones*nautos)\n",
    "vsp.shape = (int(niteraciones),int(nautos))\n"
   ]
  },
  {
   "cell_type": "code",
   "execution_count": 364,
   "metadata": {},
   "outputs": [
    {
     "data": {
      "text/plain": [
       "0.0"
      ]
     },
     "execution_count": 364,
     "metadata": {},
     "output_type": "execute_result"
    }
   ],
   "source": [
    "vx[0][0]"
   ]
  },
  {
   "cell_type": "code",
   "execution_count": 365,
   "metadata": {},
   "outputs": [],
   "source": [
    "for k in range(0,nautos):\n",
    "    for i in range (1,int(niteraciones)):\n",
    "        d=pow((posicionx[i][k]-posicionx[i-1][k])**2+(posiciony[i][k]-posiciony[i-1][k])**2,0.5)\n",
    "        vx[i][k]=(d/duritera)\n",
    "        \n",
    "for k in range(0,nautos):\n",
    "    for i in range (1,int(niteraciones-1)):\n",
    "        a=(vx[i][k]-vx[i-1][k])/duritera\n",
    "        ax[i][k]=(a)\n",
    "        "
   ]
  },
  {
   "cell_type": "code",
   "execution_count": 369,
   "metadata": {},
   "outputs": [
    {
     "data": {
      "text/plain": [
       "array([[ 0.00000000e+00,  1.00000000e+00,  4.00000000e+00, ...,\n",
       "         3.88090000e+04,  3.92040000e+04,  3.96010000e+04],\n",
       "       [ 3.12500000e+07, -5.55394976e-01, -4.98240740e+00, ...,\n",
       "        -1.82260342e+02, -9.46051201e+02,  8.59285751e+06],\n",
       "       [-1.51440806e+04,  1.59937897e+00,  1.27337931e+00, ...,\n",
       "         4.27788359e-01,  1.85589518e+00,  0.00000000e+00],\n",
       "       ...,\n",
       "       [ 0.00000000e+00,  0.00000000e+00,  0.00000000e+00, ...,\n",
       "         0.00000000e+00,  0.00000000e+00,  0.00000000e+00],\n",
       "       [ 0.00000000e+00,  0.00000000e+00,  0.00000000e+00, ...,\n",
       "         0.00000000e+00,  0.00000000e+00,  0.00000000e+00],\n",
       "       [ 0.00000000e+00,  1.67588288e+06,  1.67589687e+06, ...,\n",
       "         1.67862470e+06,  0.00000000e+00,  1.69704213e+08]])"
      ]
     },
     "execution_count": 369,
     "metadata": {},
     "output_type": "execute_result"
    }
   ],
   "source": [
    "vx*ax"
   ]
  },
  {
   "cell_type": "code",
   "execution_count": 395,
   "metadata": {},
   "outputs": [
    {
     "ename": "IndentationError",
     "evalue": "expected an indented block (<ipython-input-395-125f7c62dbed>, line 5)",
     "output_type": "error",
     "traceback": [
      "\u001b[0;36m  File \u001b[0;32m\"<ipython-input-395-125f7c62dbed>\"\u001b[0;36m, line \u001b[0;32m5\u001b[0m\n\u001b[0;31m    vsp = vx*(1.1*ax+0.132) + 0.0000302*vx**3\u001b[0m\n\u001b[0m                                             ^\u001b[0m\n\u001b[0;31mIndentationError\u001b[0m\u001b[0;31m:\u001b[0m expected an indented block\n"
     ]
    }
   ],
   "source": [
    " for i in range(0,nautos):\n",
    "    for j in range (1,int(niteraciones-1)):\n",
    "\n",
    "        vsp[i][j] = vx*(1.1*ax+0.132) + 0.0000302*vx**3\n"
   ]
  },
  {
   "cell_type": "code",
   "execution_count": 391,
   "metadata": {},
   "outputs": [
    {
     "data": {
      "text/plain": [
       "200"
      ]
     },
     "execution_count": 391,
     "metadata": {},
     "output_type": "execute_result"
    }
   ],
   "source": [
    "len(vsp[:][1])"
   ]
  },
  {
   "cell_type": "code",
   "execution_count": 354,
   "metadata": {},
   "outputs": [
    {
     "data": {
      "text/plain": [
       "[<matplotlib.lines.Line2D at 0x7fb4855bee10>]"
      ]
     },
     "execution_count": 354,
     "metadata": {},
     "output_type": "execute_result"
    },
    {
     "data": {
      "image/png": "[encoded data removed]",
      "text/plain": [
       "<Figure size 432x288 with 1 Axes>"
      ]
     },
     "metadata": {},
     "output_type": "display_data"
    }
   ],
   "source": [
    "plt.plot(vx)"
   ]
  },
  {
   "cell_type": "code",
   "execution_count": 338,
   "metadata": {},
   "outputs": [
    {
     "data": {
      "text/plain": [
       "array([1414.21356237, 1414.21356237, 1414.21356237, 1414.21356237,\n",
       "       1414.21356237, 1414.21356237, 1414.21356237, 1414.21356237,\n",
       "       1414.21356237, 1414.21356237, 1414.21356237, 1414.21356237,\n",
       "       1414.21356237, 1414.21356237, 1414.21356237, 1414.21356237,\n",
       "       1414.21356237, 1414.21356237, 1414.21356237, 1414.21356237,\n",
       "       1414.21356237, 1414.21356237, 1414.21356237, 1414.21356237,\n",
       "       1414.21356237, 1414.21356237, 1414.21356237, 1414.21356237,\n",
       "       1414.21356237, 1414.21356237, 1414.21356237, 1414.21356237,\n",
       "       1414.21356237, 1414.21356237, 1414.21356237, 1414.21356237,\n",
       "       1414.21356237, 1414.21356237, 1414.21356237, 1414.21356237,\n",
       "       1414.21356237, 1414.21356237, 1414.21356237, 1414.21356237,\n",
       "       1414.21356237, 1414.21356237, 1414.21356237, 1414.21356237,\n",
       "       1414.21356237, 1414.21356237, 1414.21356237, 1414.21356237,\n",
       "       1414.21356237, 1414.21356237, 1414.21356237, 1414.21356237,\n",
       "       1414.21356237, 1414.21356237, 1414.21356237, 1414.21356237,\n",
       "       1414.21356237, 1414.21356237, 1414.21356237, 1414.21356237,\n",
       "       1414.21356237, 1414.21356237, 1414.21356237, 1414.21356237,\n",
       "       1414.21356237, 1414.21356237, 1414.21356237, 1414.21356237,\n",
       "       1414.21356237, 1414.21356237, 1414.21356237, 1414.21356237,\n",
       "       1414.21356237, 1414.21356237, 1414.21356237, 1414.21356237,\n",
       "       1414.21356237, 1414.21356237, 1414.21356237, 1414.21356237,\n",
       "       1414.21356237, 1414.21356237, 1414.21356237, 1414.21356237,\n",
       "       1414.21356237, 1414.21356237, 1414.21356237, 1414.21356237,\n",
       "       1414.21356237, 1414.21356237, 1414.21356237, 1414.21356237,\n",
       "       1414.21356237, 1414.21356237, 1414.21356237, 1414.21356237,\n",
       "       1414.21356237, 1414.21356237, 1414.21356237, 1414.21356237,\n",
       "       1414.21356237, 1414.21356237, 1414.21356237, 1414.21356237,\n",
       "       1414.21356237, 1414.21356237, 1414.21356237, 1414.21356237,\n",
       "       1414.21356237, 1414.21356237, 1414.21356237, 1414.21356237,\n",
       "       1414.21356237, 1414.21356237, 1414.21356237, 1414.21356237,\n",
       "       1414.21356237, 1414.21356237, 1414.21356237, 1414.21356237,\n",
       "       1414.21356237, 1414.21356237, 1414.21356237, 1414.21356237,\n",
       "       1414.21356237, 1414.21356237, 1414.21356237, 1414.21356237,\n",
       "       1414.21356237, 1414.21356237, 1414.21356237, 1414.21356237,\n",
       "       1414.21356237, 1414.21356237, 1414.21356237, 1414.21356237,\n",
       "       1414.21356237, 1414.21356237, 1414.21356237, 1414.21356237,\n",
       "       1414.21356237, 1414.21356237, 1414.21356237, 1414.21356237,\n",
       "       1414.21356237, 1414.21356237, 1414.21356237, 1414.21356237,\n",
       "       1414.21356237, 1414.21356237, 1414.21356237, 1414.21356237,\n",
       "       1414.21356237, 1414.21356237, 1414.21356237, 1414.21356237,\n",
       "       1414.21356237, 1414.21356237, 1414.21356237, 1414.21356237,\n",
       "       1414.21356237, 1414.21356237, 1414.21356237, 1414.21356237,\n",
       "       1414.21356237, 1414.21356237, 1414.21356237, 1414.21356237,\n",
       "       1414.21356237, 1414.21356237, 1414.21356237, 1414.21356237,\n",
       "       1414.21356237, 1414.21356237, 1414.21356237, 1414.21356237,\n",
       "       1414.21356237, 1414.21356237, 1414.21356237, 1414.21356237,\n",
       "       1414.21356237, 1414.21356237, 1414.21356237, 1414.21356237,\n",
       "       1414.21356237, 1414.21356237, 1414.21356237, 1414.21356237,\n",
       "       1414.21356237, 1414.21356237, 1414.21356237, 1414.21356237,\n",
       "       1414.21356237, 1414.21356237, 1414.21356237, 1414.21356237,\n",
       "       1414.21356237, 1414.21356237, 1414.21356237, 1414.21356237,\n",
       "       1414.21356237, 1414.21356237, 1414.21356237, 1414.21356237,\n",
       "       1414.21356237, 1414.21356237, 1414.21356237, 1414.21356237,\n",
       "       1414.21356237, 1414.21356237, 1414.21356237, 1414.21356237,\n",
       "       1414.21356237, 1414.21356237, 1414.21356237, 1414.21356237,\n",
       "       1414.21356237, 1414.21356237, 1414.21356237, 1414.21356237,\n",
       "       1414.21356237, 1414.21356237, 1414.21356237, 1414.21356237,\n",
       "       1414.21356237, 1414.21356237, 1414.21356237, 1414.21356237,\n",
       "       1414.21356237, 1414.21356237, 1414.21356237, 1414.21356237,\n",
       "       1414.21356237, 1414.21356237, 1414.21356237, 1414.21356237,\n",
       "       1414.21356237, 1414.21356237, 1414.21356237, 1414.21356237,\n",
       "       1414.21356237, 1414.21356237, 1414.21356237, 1414.21356237,\n",
       "       1414.21356237, 1414.21356237, 1414.21356237, 1414.21356237,\n",
       "       1414.21356237, 1414.21356237, 1414.21356237, 1414.21356237,\n",
       "       1414.21356237, 1414.21356237, 1414.21356237, 1414.21356237,\n",
       "       1414.21356237, 1414.21356237, 1414.21356237, 1414.21356237,\n",
       "       1414.21356237, 1414.21356237, 1414.21356237, 1414.21356237,\n",
       "       1414.21356237, 1414.21356237, 1414.21356237, 1414.21356237,\n",
       "       1414.21356237, 1414.21356237, 1414.21356237, 1414.21356237,\n",
       "       1414.21356237, 1414.21356237, 1414.21356237, 1414.21356237,\n",
       "       1414.21356237, 1414.21356237, 1414.21356237, 1414.21356237,\n",
       "       1414.21356237, 1414.21356237, 1414.21356237, 1414.21356237,\n",
       "       1414.21356237, 1414.21356237, 1414.21356237, 1414.21356237,\n",
       "       1414.21356237, 1414.21356237, 1414.21356237, 1414.21356237,\n",
       "       1414.21356237, 1414.21356237, 1414.21356237, 1414.21356237,\n",
       "       1414.21356237, 1414.21356237, 1414.21356237, 1414.21356237,\n",
       "       1414.21356237, 1414.21356237, 1414.21356237, 1414.21356237,\n",
       "       1414.21356237, 1414.21356237, 1414.21356237, 1414.21356237,\n",
       "       1414.21356237, 1414.21356237, 1414.21356237, 1414.21356237,\n",
       "       1414.21356237, 1414.21356237, 1414.21356237, 1414.21356237,\n",
       "       1414.21356237, 1414.21356237, 1414.21356237, 1414.21356237,\n",
       "       1414.21356237, 1414.21356237, 1414.21356237, 1414.21356237,\n",
       "       1414.21356237, 1414.21356237, 1414.21356237, 1414.21356237,\n",
       "       1414.21356237, 1414.21356237, 1414.21356237, 1414.21356237,\n",
       "       1414.21356237, 1414.21356237, 1414.21356237, 1414.21356237,\n",
       "       1414.21356237, 1414.21356237, 1414.21356237, 1414.21356237,\n",
       "       1414.21356237, 1414.21356237, 1414.21356237, 1414.21356237,\n",
       "       1414.21356237, 1414.21356237, 1414.21356237, 1414.21356237,\n",
       "       1414.21356237, 1414.21356237, 1414.21356237, 1414.21356237,\n",
       "       1414.21356237, 1414.21356237, 1414.21356237, 1414.21356237,\n",
       "       1414.21356237, 1414.21356237, 1414.21356237, 1414.21356237,\n",
       "       1414.21356237, 1414.21356237, 1414.21356237, 1414.21356237,\n",
       "       1414.21356237, 1414.21356237, 1414.21356237, 1414.21356237,\n",
       "       1414.21356237, 1414.21356237, 1414.21356237, 1414.21356237,\n",
       "       1414.21356237, 1414.21356237, 1414.21356237, 1414.21356237,\n",
       "       1414.21356237, 1414.21356237, 1414.21356237, 1414.21356237,\n",
       "       1414.21356237, 1414.21356237, 1414.21356237, 1414.21356237,\n",
       "       1414.21356237, 1414.21356237, 1414.21356237, 1414.21356237,\n",
       "       1414.21356237, 1414.21356237, 1414.21356237, 1414.21356237,\n",
       "       1414.21356237, 1414.21356237, 1414.21356237, 1414.21356237,\n",
       "       1414.21356237, 1414.21356237, 1414.21356237, 1414.21356237,\n",
       "       1414.21356237, 1414.21356237, 1414.21356237, 1414.21356237,\n",
       "       1414.21356237, 1414.21356237, 1414.21356237, 1414.21356237,\n",
       "       1414.21356237, 1414.21356237, 1414.21356237, 1414.21356237,\n",
       "       1414.21356237, 1414.21356237, 1414.21356237, 1414.21356237,\n",
       "       1414.21356237, 1414.21356237, 1414.21356237, 1414.21356237,\n",
       "       1414.21356237, 1414.21356237, 1414.21356237, 1414.21356237,\n",
       "       1414.21356237, 1414.21356237, 1414.21356237, 1414.21356237,\n",
       "       1414.21356237, 1414.21356237, 1414.21356237, 1414.21356237,\n",
       "       1414.21356237, 1414.21356237, 1414.21356237, 1414.21356237,\n",
       "       1414.21356237, 1414.21356237, 1414.21356237, 1414.21356237,\n",
       "       1414.21356237, 1414.21356237, 1414.21356237, 1414.21356237,\n",
       "       1414.21356237, 1414.21356237, 1414.21356237, 1414.21356237,\n",
       "       1414.21356237, 1414.21356237, 1414.21356237, 1414.21356237,\n",
       "       1414.21356237, 1414.21356237, 1414.21356237, 1414.21356237,\n",
       "       1414.21356237, 1414.21356237, 1414.21356237, 1414.21356237,\n",
       "       1414.21356237, 1414.21356237, 1414.21356237, 1414.21356237,\n",
       "       1414.21356237, 1414.21356237, 1414.21356237, 1414.21356237,\n",
       "       1414.21356237, 1414.21356237, 1414.21356237, 1414.21356237,\n",
       "       1414.21356237, 1414.21356237, 1414.21356237, 1414.21356237,\n",
       "       1414.21356237, 1414.21356237, 1414.21356237, 1414.21356237,\n",
       "       1414.21356237, 1414.21356237, 1414.21356237, 1414.21356237,\n",
       "       1414.21356237, 1414.21356237, 1414.21356237, 1414.21356237,\n",
       "       1414.21356237, 1414.21356237, 1414.21356237, 1414.21356237,\n",
       "       1414.21356237, 1414.21356237, 1414.21356237, 1414.21356237,\n",
       "       1414.21356237, 1414.21356237, 1414.21356237, 1414.21356237,\n",
       "       1414.21356237, 1414.21356237, 1414.21356237, 1414.21356237,\n",
       "       1414.21356237, 1414.21356237, 1414.21356237, 1414.21356237,\n",
       "       1414.21356237, 1414.21356237, 1414.21356237, 1414.21356237,\n",
       "       1414.21356237, 1414.21356237, 1414.21356237, 1414.21356237,\n",
       "       1414.21356237, 1414.21356237, 1414.21356237, 1414.21356237,\n",
       "       1414.21356237, 1414.21356237, 1414.21356237, 1414.21356237,\n",
       "       1414.21356237, 1414.21356237, 1414.21356237, 1414.21356237,\n",
       "       1414.21356237, 1414.21356237, 1414.21356237, 1414.21356237,\n",
       "       1414.21356237, 1414.21356237, 1414.21356237, 1414.21356237,\n",
       "       1414.21356237, 1414.21356237, 1414.21356237, 1414.21356237,\n",
       "       1414.21356237, 1414.21356237, 1414.21356237, 1414.21356237,\n",
       "       1414.21356237, 1414.21356237, 1414.21356237, 1414.21356237,\n",
       "       1414.21356237, 1414.21356237, 1414.21356237, 1414.21356237,\n",
       "       1414.21356237, 1414.21356237, 1414.21356237, 1414.21356237,\n",
       "       1414.21356237, 1414.21356237, 1414.21356237, 1414.21356237,\n",
       "       1414.21356237, 1414.21356237, 1414.21356237, 1414.21356237,\n",
       "       1414.21356237, 1414.21356237, 1414.21356237, 1414.21356237,\n",
       "       1414.21356237, 1414.21356237, 1414.21356237, 1414.21356237,\n",
       "       1414.21356237, 1414.21356237, 1414.21356237, 1414.21356237,\n",
       "       1414.21356237, 1414.21356237, 1414.21356237, 1414.21356237,\n",
       "       1414.21356237, 1414.21356237, 1414.21356237, 1414.21356237,\n",
       "       1414.21356237, 1414.21356237, 1414.21356237, 1414.21356237,\n",
       "       1414.21356237, 1414.21356237, 1414.21356237, 1414.21356237,\n",
       "       1414.21356237, 1414.21356237])"
      ]
     },
     "execution_count": 338,
     "metadata": {},
     "output_type": "execute_result"
    }
   ],
   "source": [
    "vx"
   ]
  },
  {
   "cell_type": "code",
   "execution_count": 393,
   "metadata": {},
   "outputs": [
    {
     "data": {
      "text/plain": [
       "(array([3., 4., 5., 3., 4., 4., 3., 5., 5., 0., 0., 0., 0., 0., 0., 0., 0.,\n",
       "        0., 0., 0.]),\n",
       " array([-80., -71., -62., -53., -44., -35., -26., -17.,  -8.,   1.,  10.,\n",
       "         19.,  28.,  37.,  46.,  55.,  64.,  73.,  82.,  91., 100.]),\n",
       " <a list of 20 Patch objects>)"
      ]
     },
     "execution_count": 393,
     "metadata": {},
     "output_type": "execute_result"
    },
    {
     "data": {
      "image/png": "[encoded data removed]",
      "text/plain": [
       "<Figure size 432x288 with 1 Axes>"
      ]
     },
     "metadata": {},
     "output_type": "display_data"
    }
   ],
   "source": [
    "plt.hist(vsp[1][:], bins=20, range=(-80,100), color = 'm' , alpha =0.4)"
   ]
  },
  {
   "cell_type": "code",
   "execution_count": 13,
   "metadata": {},
   "outputs": [],
   "source": [
    "h=40"
   ]
  },
  {
   "cell_type": "code",
   "execution_count": 14,
   "metadata": {},
   "outputs": [
    {
     "data": {
      "text/plain": [
       "50.0"
      ]
     },
     "execution_count": 14,
     "metadata": {},
     "output_type": "execute_result"
    }
   ],
   "source": [
    "posicionx[h][1]"
   ]
  },
  {
   "cell_type": "code",
   "execution_count": 9,
   "metadata": {},
   "outputs": [
    {
     "data": {
      "text/plain": [
       "33.242828593037345"
      ]
     },
     "execution_count": 9,
     "metadata": {},
     "output_type": "execute_result"
    }
   ],
   "source": [
    "posiciony[h][1]"
   ]
  },
  {
   "cell_type": "code",
   "execution_count": 325,
   "metadata": {},
   "outputs": [],
   "source": [
    "with open('posicionesx.csv', mode = 'w') as file:\n",
    "    writer = csv.writer(file)\n",
    "    for i in range(0, nautos):\n",
    "        writer.writerow(posicionx[:][i])\n",
    "        \n",
    "with open('posicionesy.csv', mode = 'w') as file:\n",
    "    writer = csv.writer(file)\n",
    "    for i in range(0, nautos):\n",
    "        writer.writerow(posiciony[:][i])\n",
    "        "
   ]
  },
  {
   "cell_type": "code",
   "execution_count": null,
   "metadata": {},
   "outputs": [],
   "source": []
  }
 ],
 "metadata": {
  "kernelspec": {
   "display_name": "Python 3",
   "language": "python",
   "name": "python3"
  },
  "language_info": {
   "codemirror_mode": {
    "name": "ipython",
    "version": 3
   },
   "file_extension": ".py",
   "mimetype": "text/x-python",
   "name": "python",
   "nbconvert_exporter": "python",
   "pygments_lexer": "ipython3",
   "version": "3.6.5"
  }
 },
 "nbformat": 4,
 "nbformat_minor": 2
}
