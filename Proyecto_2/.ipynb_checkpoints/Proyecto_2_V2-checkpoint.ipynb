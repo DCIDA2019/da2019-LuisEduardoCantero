{
 "cells": [
  {
   "cell_type": "markdown",
   "metadata": {},
   "source": [
    "# Proyecto 2"
   ]
  },
  {
   "cell_type": "markdown",
   "metadata": {},
   "source": [
    "Importamos librerias"
   ]
  },
  {
   "cell_type": "code",
   "execution_count": 302,
   "metadata": {},
   "outputs": [
    {
     "data": {
      "text/plain": [
       "'\\nimport numpy as np\\nimport emcee\\nimport matplotlib.pyplot as plt\\nimport scipy.stats as st\\nimport math\\nfrom random import randint, uniform,random\\nimport random\\nfrom random import choice\\nimport csv'"
      ]
     },
     "execution_count": 302,
     "metadata": {},
     "output_type": "execute_result"
    }
   ],
   "source": [
    "'''\n",
    "import numpy as np\n",
    "import emcee\n",
    "import matplotlib.pyplot as plt\n",
    "import scipy.stats as st\n",
    "import math\n",
    "from random import randint, uniform,random\n",
    "import random\n",
    "from random import choice\n",
    "import csv'''"
   ]
  },
  {
   "cell_type": "markdown",
   "metadata": {},
   "source": [
    "Se define una funcion para acomodar los autos de forma regular en la cuadricula que representara las calles de la region de simulacion"
   ]
  },
  {
   "cell_type": "code",
   "execution_count": 303,
   "metadata": {},
   "outputs": [
    {
     "data": {
      "text/plain": [
       "'def puntosiniciales (nautos, tamcalles, ncalles, dursimu, duritera, aprom, velmax, espminimo):\\n    duracionsimulacion = dursimu\\n    duraciondeiteracion = duritera\\n    aceleracionpromedio = aprom\\n    x0 = []\\n    y0 = []\\n    a0 = []\\n    v0 = []    \\n    dir0 = []\\n    niteraciones = duracionsimulacion * 60 * (1 / duraciondeiteracion)\\n    s = (int(niteraciones + 1), nautos)\\n    ss = (3, 1)\\n\\n    sequence1 = [1, 3]\\n    sequence2 = [2, 4]\\n\\n    tamcaja = (ncalles + 1) * tamcalles\\n    vmax = velmax * (1 / 3600) * (1000) # Velocidad en m/s\\n    \\n\\n    for i in range(0, int(ncalles)):\\n        for j in range(0, int(nautos/2/ncalles)):\\n            x0.append(tamcalles*ncalles/(nautos/2/ncalles)*(j+1)-tamcalles/2)\\n            y0.append(tamcalles*(i+1))\\n            dir0.append(choice(sequence2))\\n            v0.append(np.random.rand())\\n            a0.append(np.random.rand())\\n\\n    y2 = np.arange(tamcalles/2, tamcalles*(ncalles-1)+tamcalles/2,(tamcalles*(ncalles)-tamcalles)/(nautos/2))\\n    x2 =  np.arange(tamcalles, tamcalles*(ncalles+1), tamcalles)\\n\\n    for i in range(0, int(ncalles)):\\n        for j in range(0, int(nautos/2/ncalles)):\\n            y0.append(tamcalles*ncalles/(nautos/2/ncalles)*(j+1)-tamcalles/2)\\n            x0.append(tamcalles*(i+1))\\n            dir0.append(choice(sequence1))\\n            v0.append(np.random.rand())\\n            a0.append(np.random.rand())\\n\\n    return x0, y0, v0, a0, dir0'"
      ]
     },
     "execution_count": 303,
     "metadata": {},
     "output_type": "execute_result"
    }
   ],
   "source": [
    "'''def puntosiniciales (nautos, tamcalles, ncalles, dursimu, duritera, aprom, velmax, espminimo):\n",
    "    duracionsimulacion = dursimu\n",
    "    duraciondeiteracion = duritera\n",
    "    aceleracionpromedio = aprom\n",
    "    x0 = []\n",
    "    y0 = []\n",
    "    a0 = []\n",
    "    v0 = []    \n",
    "    dir0 = []\n",
    "    niteraciones = duracionsimulacion * 60 * (1 / duraciondeiteracion)\n",
    "    s = (int(niteraciones + 1), nautos)\n",
    "    ss = (3, 1)\n",
    "\n",
    "    sequence1 = [1, 3]\n",
    "    sequence2 = [2, 4]\n",
    "\n",
    "    tamcaja = (ncalles + 1) * tamcalles\n",
    "    vmax = velmax * (1 / 3600) * (1000) # Velocidad en m/s\n",
    "    \n",
    "\n",
    "    for i in range(0, int(ncalles)):\n",
    "        for j in range(0, int(nautos/2/ncalles)):\n",
    "            x0.append(tamcalles*ncalles/(nautos/2/ncalles)*(j+1)-tamcalles/2)\n",
    "            y0.append(tamcalles*(i+1))\n",
    "            dir0.append(choice(sequence2))\n",
    "            v0.append(np.random.rand())\n",
    "            a0.append(np.random.rand())\n",
    "\n",
    "    y2 = np.arange(tamcalles/2, tamcalles*(ncalles-1)+tamcalles/2,(tamcalles*(ncalles)-tamcalles)/(nautos/2))\n",
    "    x2 =  np.arange(tamcalles, tamcalles*(ncalles+1), tamcalles)\n",
    "\n",
    "    for i in range(0, int(ncalles)):\n",
    "        for j in range(0, int(nautos/2/ncalles)):\n",
    "            y0.append(tamcalles*ncalles/(nautos/2/ncalles)*(j+1)-tamcalles/2)\n",
    "            x0.append(tamcalles*(i+1))\n",
    "            dir0.append(choice(sequence1))\n",
    "            v0.append(np.random.rand())\n",
    "            a0.append(np.random.rand())\n",
    "\n",
    "    return x0, y0, v0, a0, dir0'''"
   ]
  },
  {
   "cell_type": "markdown",
   "metadata": {},
   "source": [
    "Se definen  los parametros iniciales y se calculan las posiciones, velocidades, aceleraciones y direccion inicial de cada auto"
   ]
  },
  {
   "cell_type": "code",
   "execution_count": 304,
   "metadata": {
    "scrolled": true
   },
   "outputs": [],
   "source": [
    "# Parametros principales\n",
    "\n",
    "vmax = 30 # Velocidad maxima permitida de movimiento en km/h \n",
    "tamcalles = 200 #Tamaño de las calles\n",
    "ncalles = 10 # Numero de calles en ambos sentidos\n",
    "dursimu = 4 # duracion de la simulacion en minutos\n",
    "nautos = 200 # Numero de autos\n",
    "\n",
    "# Parametros secundarios\n",
    "\n",
    "duritera = 0.2 # duracion de cada iteracion en segundos\n",
    "duraciondeiteracion = duritera\n",
    "aprom = 1 # aceleracion promedio para los autos en m/s2 (Se obtuvo de Instituto Mexicano del Transporte %%Referencia%%)    \n",
    "espminimo = 6 # m # Espaciamiento minimo entre los autos que circulan en la misma calle y en el mismo sentido\n",
    "vmax=vmax*(1/3600)*(1000) # Velocidad maxima\n",
    "aceleracionpromedio=aprom\n",
    "\n",
    "niteraciones = dursimu * 60 * (1 / duritera)  # Numero de iteraciones total\n",
    "\n",
    "posicionx = np.arange(niteraciones*nautos)\n",
    "posiciony = np.arange(niteraciones*nautos)\n",
    "velocidad = np.arange(niteraciones*nautos)\n",
    "aceleracion = np.arange(niteraciones*nautos)\n",
    "direccion = np.arange(niteraciones*nautos)\n",
    "tipodecalle = np.arange(niteraciones*nautos)\n",
    "\n",
    "posicionx.shape = (int(niteraciones),int(nautos))\n",
    "posiciony.shape = (int(niteraciones),int(nautos))\n",
    "velocidad.shape = (int(niteraciones),int(nautos))\n",
    "aceleracion.shape = (int(niteraciones),int(nautos))\n",
    "direccion.shape = (int(niteraciones),int(nautos))\n",
    "tipodecalle.shape = (int(niteraciones),int(nautos))\n",
    "\n",
    "#Evaluacion de los parametros iniciales\n",
    "x0, y0, v0, a0, dir0 = puntosiniciales (nautos, tamcalles, ncalles, dursimu, duritera, aprom, vmax, espminimo)\n",
    "\n",
    "for i in range(0, int(nautos)-1):\n",
    "    posicionx[0][i] = x0[i]\n",
    "    posiciony[0][i] = y0[i]\n",
    "    direccion[0][i] = dir0[i]\n",
    "    velocidad[0][i] = v0[i]\n",
    "    aceleracion[0][i] = a0[i]"
   ]
  },
  {
   "cell_type": "markdown",
   "metadata": {},
   "source": [
    "Como ejemplo,  grafica la posicion inicial de cada auto"
   ]
  },
  {
   "cell_type": "code",
   "execution_count": 305,
   "metadata": {},
   "outputs": [
    {
     "data": {
      "text/plain": [
       "'\\nx1 = np.linspace(0, tamcalles * ncalles+tamcalles, 2)\\ny1 = [tamcalles, tamcalles]\\ny2 = [tamcalles*2, tamcalles*2]\\ny3 = [tamcalles*3, tamcalles*3]\\ny4 = [tamcalles*4, tamcalles*4]\\ny5 = [tamcalles*5, tamcalles*5]\\ny6 = [tamcalles*6, tamcalles*6]\\ny7 = [tamcalles*7, tamcalles*7]\\ny8 = [tamcalles*8, tamcalles*8]\\ny9 = [tamcalles*9, tamcalles*9]\\ny10 = [tamcalles*10, tamcalles*10]\\ny11 = [tamcalles*11, tamcalles*11]\\ny12 = [tamcalles*12, tamcalles*12]\\ny13 = [tamcalles*13, tamcalles*13]\\ny14 = [tamcalles*14, tamcalles*14]\\ny15 = [tamcalles*15, tamcalles*15]\\ny16 = [tamcalles*16, tamcalles*16]\\ny17 = [tamcalles*17, tamcalles*17]\\ny18 = [tamcalles*18, tamcalles*18]\\ny19 = [tamcalles*19, tamcalles*19]\\ny20 = [tamcalles*20, tamcalles*20]\\ny21 = [tamcalles*21, tamcalles*21]\\n\\n\\nplt.figure(figsize=(10, 10))\\nplt.plot(x1,y1, color = \\'g\\')\\nplt.plot(x1,y2, color = \\'g\\')\\nplt.plot(x1,y3, color = \\'g\\')\\nplt.plot(x1,y4, color = \\'g\\')\\nplt.plot(x1,y5, color = \\'g\\')\\nplt.plot(x1,y6, color = \\'g\\')\\nplt.plot(x1,y7, color = \\'g\\')\\nplt.plot(x1,y8, color = \\'g\\')\\nplt.plot(x1,y9, color = \\'g\\')\\nplt.plot(x1,y10, color = \\'g\\')\\nplt.plot(x1,y11, color = \\'g\\')\\nplt.plot(x1,y12, color = \\'g\\')\\nplt.plot(x1,y13, color = \\'g\\')\\nplt.plot(x1,y14, color = \\'g\\')\\nplt.plot(x1,y15, color = \\'g\\')\\nplt.plot(x1,y16, color = \\'g\\')\\nplt.plot(x1,y17, color = \\'g\\')\\nplt.plot(x1,y18, color = \\'g\\')\\nplt.plot(x1,y19, color = \\'g\\')\\nplt.plot(x1,y20, color = \\'g\\')\\n\\nplt.plot(y1,x1, color = \\'g\\')\\nplt.plot(y2,x1, color = \\'g\\')\\nplt.plot(y3,x1, color = \\'g\\')\\nplt.plot(y4,x1, color = \\'g\\')\\nplt.plot(y5,x1, color = \\'g\\')\\nplt.plot(y6,x1, color = \\'g\\')\\nplt.plot(y7,x1, color = \\'g\\')\\nplt.plot(y8,x1, color = \\'g\\')\\nplt.plot(y9,x1, color = \\'g\\')\\nplt.plot(y10,x1, color = \\'g\\')\\nplt.plot(y11,x1, color = \\'g\\')\\nplt.plot(y12,x1, color = \\'g\\')\\nplt.plot(y13,x1, color = \\'g\\')\\nplt.plot(y14,x1, color = \\'g\\')\\nplt.plot(y15,x1, color = \\'g\\')\\nplt.plot(y16,x1, color = \\'g\\')\\nplt.plot(y17,x1, color = \\'g\\')\\nplt.plot(y18,x1, color = \\'g\\')\\nplt.plot(y19,x1, color = \\'g\\')\\nplt.plot(y20,x1, color = \\'g\\')\\n\\nplt.plot(x0,y0, \"bo\")'"
      ]
     },
     "execution_count": 305,
     "metadata": {},
     "output_type": "execute_result"
    }
   ],
   "source": [
    "'''\n",
    "x1 = np.linspace(0, tamcalles * ncalles+tamcalles, 2)\n",
    "y1 = [tamcalles, tamcalles]\n",
    "y2 = [tamcalles*2, tamcalles*2]\n",
    "y3 = [tamcalles*3, tamcalles*3]\n",
    "y4 = [tamcalles*4, tamcalles*4]\n",
    "y5 = [tamcalles*5, tamcalles*5]\n",
    "y6 = [tamcalles*6, tamcalles*6]\n",
    "y7 = [tamcalles*7, tamcalles*7]\n",
    "y8 = [tamcalles*8, tamcalles*8]\n",
    "y9 = [tamcalles*9, tamcalles*9]\n",
    "y10 = [tamcalles*10, tamcalles*10]\n",
    "y11 = [tamcalles*11, tamcalles*11]\n",
    "y12 = [tamcalles*12, tamcalles*12]\n",
    "y13 = [tamcalles*13, tamcalles*13]\n",
    "y14 = [tamcalles*14, tamcalles*14]\n",
    "y15 = [tamcalles*15, tamcalles*15]\n",
    "y16 = [tamcalles*16, tamcalles*16]\n",
    "y17 = [tamcalles*17, tamcalles*17]\n",
    "y18 = [tamcalles*18, tamcalles*18]\n",
    "y19 = [tamcalles*19, tamcalles*19]\n",
    "y20 = [tamcalles*20, tamcalles*20]\n",
    "y21 = [tamcalles*21, tamcalles*21]\n",
    "\n",
    "\n",
    "plt.figure(figsize=(10, 10))\n",
    "plt.plot(x1,y1, color = 'g')\n",
    "plt.plot(x1,y2, color = 'g')\n",
    "plt.plot(x1,y3, color = 'g')\n",
    "plt.plot(x1,y4, color = 'g')\n",
    "plt.plot(x1,y5, color = 'g')\n",
    "plt.plot(x1,y6, color = 'g')\n",
    "plt.plot(x1,y7, color = 'g')\n",
    "plt.plot(x1,y8, color = 'g')\n",
    "plt.plot(x1,y9, color = 'g')\n",
    "plt.plot(x1,y10, color = 'g')\n",
    "plt.plot(x1,y11, color = 'g')\n",
    "plt.plot(x1,y12, color = 'g')\n",
    "plt.plot(x1,y13, color = 'g')\n",
    "plt.plot(x1,y14, color = 'g')\n",
    "plt.plot(x1,y15, color = 'g')\n",
    "plt.plot(x1,y16, color = 'g')\n",
    "plt.plot(x1,y17, color = 'g')\n",
    "plt.plot(x1,y18, color = 'g')\n",
    "plt.plot(x1,y19, color = 'g')\n",
    "plt.plot(x1,y20, color = 'g')\n",
    "\n",
    "plt.plot(y1,x1, color = 'g')\n",
    "plt.plot(y2,x1, color = 'g')\n",
    "plt.plot(y3,x1, color = 'g')\n",
    "plt.plot(y4,x1, color = 'g')\n",
    "plt.plot(y5,x1, color = 'g')\n",
    "plt.plot(y6,x1, color = 'g')\n",
    "plt.plot(y7,x1, color = 'g')\n",
    "plt.plot(y8,x1, color = 'g')\n",
    "plt.plot(y9,x1, color = 'g')\n",
    "plt.plot(y10,x1, color = 'g')\n",
    "plt.plot(y11,x1, color = 'g')\n",
    "plt.plot(y12,x1, color = 'g')\n",
    "plt.plot(y13,x1, color = 'g')\n",
    "plt.plot(y14,x1, color = 'g')\n",
    "plt.plot(y15,x1, color = 'g')\n",
    "plt.plot(y16,x1, color = 'g')\n",
    "plt.plot(y17,x1, color = 'g')\n",
    "plt.plot(y18,x1, color = 'g')\n",
    "plt.plot(y19,x1, color = 'g')\n",
    "plt.plot(y20,x1, color = 'g')\n",
    "\n",
    "plt.plot(x0,y0, \"bo\")'''"
   ]
  },
  {
   "cell_type": "markdown",
   "metadata": {},
   "source": [
    "Se ejecuta la simulacion. Este codigo mueve los autos de acuerdo a los parametros de entrada establecidos anteriormente. Cada calle es de doble sentido y de un solo carril para cada sentido de simulacion. Los autos evitan revasar a un auto que va frente a ellos con una menor velocidad; las calles verticales tienen preferencia de circulacion, por lo tanto, los autos que se mueven en direccion oeste o este deben frenar en las esquinas hasta que no este pasando un auto en la calle perpenduclar a su recorrido. Los autos de mueven de acuerdo a un movimiento de \"Vuelo de Levy\", que consiste en recorrer pocos tramos largos y una cantidad mayor de tramos cortos en determinado lapso de tiempo."
   ]
  },
  {
   "cell_type": "code",
   "execution_count": 306,
   "metadata": {},
   "outputs": [],
   "source": [
    "\n",
    "\n",
    "tamcaja = tamcalles*ncalles\n",
    "u=[]\n",
    "ua=[]\n",
    "ub=[]\n",
    "  \n",
    "for i in range(0, int(niteraciones-1)):\n",
    "    for j in range(0, int(nautos)):\n",
    "        if ((direccion[i][j] == 1 or direccion[i][j]==3 ) and np.mod(posicionx[i][j],tamcalles)==0):\n",
    "            tipodecalle[i][j]=1\n",
    "        else:\n",
    "             tipodecalle[i][j]=2\n",
    "        \n",
    "        if velocidad[i][j] < 0:\n",
    "            velocidad[i][j] = 0\n",
    "        if velocidad[i][j] > vmax:\n",
    "            velocidad[i][j] = vmax\n",
    "        \n",
    "########################################################################################################        \n",
    "        if direccion[i][j] == 1: # SI EL AUTO SE MUEVE ENDIRECCION NORTE\n",
    "            u=np.array([tamcalles*100,0,0])\n",
    "            ua=np.array([tamcalles*100,0,0])\n",
    "            ub=np.array([tamcalles*100,0,0])  \n",
    "            \n",
    "            for k in range(0, int(nautos)): # DISTANCIA CIRCULAR\n",
    "                if direccion[i][k] == 2: # verificar que esten en direcciones perpendiculares(VER. DIRECCION ESTE)\n",
    "                    if posiciony[i][k] - posiciony[i][j] > 0: # verificar que esten cerca hacia arriba\n",
    "                        if posiciony[i][k] - posiciony[i][j] < 10: # verificar que se encuentre al menos a 10 m hacia arriba\n",
    "                            if posicionx[i][j]-posicionx[i][k] < 7: # verificar que esten al menos 7 m separados horizontalmente\n",
    "                                if posicionx[i][j]-posicionx[i][k] > 0:\n",
    "                                    ua[1] = posicionx[i][j] - posicionx[i][k] # guardar el valor de esa distancia de lado\n",
    "                                    if ua[1] <= ua[0]: # verificar que esa distancia sea menor que la iteracion pasada\n",
    "                                        ua[0] = ua[1] #  la distancia menor se va  guardando en ua(1,1)\n",
    "                                        ua[2] = posiciony[i][k]-posiciony[i][j]\n",
    "                if direccion[i][k] == 4: #verificar que esten en direcciones perpendiculares (VER. DIRECCION OESTE)\n",
    "                    if posiciony[i][k]-posiciony[i][j]>0: #verificar que esten cerca hacia arriba\n",
    "                        if posiciony[i][k]-posiciony[i][j]<10: # verificar que se encuentre al menos a 10 m hacia arriba\n",
    "                            if posicionx[i][k]-posicionx[i][j]<7: #verificar que esten al menos 7 m separados horizontalmente\n",
    "                                if posicionx[i][k]-posicionx[i][j]>0: #\n",
    "                                    ub[1]=posicionx[i][k]-posicionx[i][j]# guardar el valor de esa distancia de lado\n",
    "                                    if ub[1]<ub[0]: #verificar que esa distancia sea menor que la iteracion pasada\n",
    "                                        ub[0]=ub[1] # la distancia menor se va  guardando en ub(1,1)\n",
    "                                        ub[2]=posiciony[i][k]-posiciony[i][j] #la distancia vertical entre los autos se guarda\n",
    "                                \n",
    "\n",
    "            for k in range(0, int(nautos)):     #DETERMINAR DISTANCIA DE AUTO DE FRENTE\n",
    "                if direccion[i][k] == 1: # verificar cuales estan en la misma direccion\n",
    "                    if abs(posicionx[i][j] - posicionx[i][k]) < 1 : #verificar que esten en la misma coordenada X\n",
    "                        if posiciony[i][k] - posiciony[i][j] > 0: #verificar que se encuentre en frente\n",
    "                            u[1]=posiciony[i][k] - posiciony[i][j]\n",
    "                            if u[1]<= u[0] and u[1] > 0:\n",
    "                                u[0]=u[1]\n",
    "                                u[2]=velocidad[i][k]\n",
    "            \n",
    "            distanciacirculo=min(ua[0],ub[0])\n",
    "            \n",
    "            if distanciacirculo<0:\n",
    "                distanciacirculo =100\n",
    "            if min(ua[0],ub[0])== ua[0]:\n",
    "                ud= ua[2]\n",
    "            if min(ua[0],ub[0])== ub[0]:\n",
    "                ud= ub[2]\n",
    "                \n",
    "            distanciafrente=u[0]         \n",
    "            distanciaesquina=tamcalles-np.mod(posiciony[i][j],tamcalles)\n",
    "            er=i\n",
    "            posiciony[i+1][j]=posiciony[i][j]+velocidad[i][j]*duraciondeiteracion+(aceleracion[i][j]*duraciondeiteracion**2)/2\n",
    "                    \n",
    "            #if posiciony[i+1][j]<posiciony[i][j]:\n",
    "                #posiciony[i+1][j]=posiciony[i][j]\n",
    "                \n",
    "            if posiciony[i+1][j]>=tamcaja+tamcalles/2:\n",
    "                posiciony[i+1][j]=tamcalles/2\n",
    "  \n",
    "            \n",
    "            posicionx[i+1][j]=posicionx[i][j]\n",
    "            \n",
    "            if tipodecalle[i][j]==1 :\n",
    "                if distanciafrente<espminimo :\n",
    "                    velocidad[i+1][j]=u[2]\n",
    "                    aceleracion[i+1][j]=0\n",
    "                if distanciafrente>=espminimo :\n",
    "                    aceleracion[i+1][j]=aceleracionpromedio\n",
    "                    velocidad[i+1][j]=velocidad[i][j]+aceleracionpromedio*duraciondeiteracion\n",
    "\n",
    "            if tipodecalle[i][j]==2 :\n",
    "                if min(distanciacirculo,distanciafrente)==distanciafrente :\n",
    "                    if distanciafrente<espminimo :\n",
    "                        velocidad[i+1][j]=u[2]\n",
    "                        aceleracion[i+1][j]=0\n",
    "                    if distanciafrente>=espminimo :\n",
    "                        aceleracion[i+1][j]=aceleracionpromedio\n",
    "                        velocidad[i+1][j]=velocidad[i][j]+aceleracionpromedio*duraciondeiteracion\n",
    "\n",
    "                if min(distanciacirculo,distanciafrente)== distanciacirculo :\n",
    "                    if distanciaesquina<=14 and distanciaesquina >5 :\n",
    "                        aceleracion[i+1][j]=aceleracionpromedio*(-.5)\n",
    "                        velocidad[i+1][j]=velocidad[i][j]+ aceleracion[i+1][j]*duraciondeiteracion\n",
    "                  \n",
    "                    if distanciaesquina<=5 and distanciaesquina >3 :\n",
    "                        aceleracion[i+1][j]=aceleracionpromedio*(-2)\n",
    "                        velocidad[i+1][j]=velocidad[i][j]+ aceleracion[i+1][j]*duraciondeiteracion\n",
    "                  \n",
    "                    if distanciaesquina<=3 and distanciaesquina >.5 :\n",
    "                        aceleracion[i+1][j]=aceleracionpromedio*(-4)\n",
    "                        velocidad[i+1][j]=velocidad[i][j]+ aceleracion[i+1][j]*duraciondeiteracion\n",
    "                  \n",
    "                    if distanciaesquina<=.5 and distanciaesquina >0 :\n",
    "                        aceleracion[i+1][j]=0\n",
    "                        velocidad[i+1][j]=0\n",
    "                  \n",
    "            direccion[i+1][j]=direccion[i][j]\n",
    "            if distanciaesquina<0.5 :\n",
    "                m=np.random.rand()\n",
    "                if m>=.5 :\n",
    "                    direccion[i+1][j]= 1\n",
    "                    posicionx[i+1][j]=posicionx[i][j]\n",
    "              \n",
    "                if m<.5 and m>=.25 :\n",
    "                    direccion[i+1][j]= 2\n",
    "                    posicionx[i+1][j]=posicionx[i][j]\n",
    "                    posiciony[i+1][j]=int((np.mod(posiciony[i][j],1)-1)*(-1)+posiciony[i][j])\n",
    "                    velocidad[i+1][j]=2\n",
    "              \n",
    "                if m<.25 and m>=0 :\n",
    "                    direccion[i+1][j]= 4\n",
    "                    posicionx[i+1][j]=posicionx[i][j]\n",
    "                    posiciony[i+1][j]=int((np.mod(posiciony[i][j],1)-1)*(-1)+posiciony[i][j])\n",
    "                    velocidad[i+1][j]=2\n",
    "                    \n",
    "########################################################################################################        \n",
    "        if direccion[i][j] == 3: # SI EL AUTO SE MUEVE ENDIRECCION SUR\n",
    "            u=np.array([tamcalles*100,0,0])\n",
    "            ua=np.array([tamcalles*100,0,0])\n",
    "            ub=np.array([tamcalles*100,0,0])\n",
    "            \n",
    "            for k in range(0, int(nautos)): # DISTANCIA CIRCULAR\n",
    "                if direccion[i][k] == 2: # verificar que esten en direcciones perpendiculares(VER. DIRECCION ESTE)\n",
    "                    if posiciony[i][j] - posiciony[i][k] > 0: # verificar que esten cerca hacia arriba\n",
    "                        if posiciony[i][j] - posiciony[i][k] < 10: # verificar que se encuentre al menos a 10 m hacia arriba\n",
    "                            if posicionx[i][j]-posicionx[i][k] < 7: # verificar que esten al menos 7 m separados horizontalmente\n",
    "                                if posicionx[i][j]-posicionx[i][k] > 0:\n",
    "                                    ua[1] = posicionx[i][j] - posicionx[i][k] # guardar el valor de esa distancia de lado\n",
    "                                    if ua[1] <= ua[0]: # verificar que esa distancia sea menor que la iteracion pasada\n",
    "                                        ua[0] = ua[1] #  la distancia menor se va  guardando en ua(1,1)\n",
    "                                        ua[2] = -posiciony[i][k]+posiciony[i][j]\n",
    "                if direccion[i][k] == 4: #verificar que esten en direcciones perpendiculares (VER. DIRECCION OESTE)\n",
    "                    if posiciony[i][j]-posiciony[i][k]>0: #verificar que esten cerca hacia arriba\n",
    "                        if posiciony[i][j]-posiciony[i][k]<10: # verificar que se encuentre al menos a 10 m hacia arriba\n",
    "                            if posicionx[i][k]-posicionx[i][j]<7: #verificar que esten al menos 7 m separados horizontalmente\n",
    "                                if posicionx[i][k]-posicionx[i][j]>0: #\n",
    "                                    ub[1]=posicionx[i][k]-posicionx[i][j]# guardar el valor de esa distancia de lado\n",
    "                                    if ub[1]<ub[0]: #verificar que esa distancia sea menor que la iteracion pasada\n",
    "                                        ub[0]=ub[1] # la distancia menor se va  guardando en ub(1,1)\n",
    "                                        ub[2]=-posiciony[i][k]+posiciony[i][j] #la distancia vertical entre los autos se guarda\n",
    "                                \n",
    "\n",
    "            for k in range(0, int(nautos)):     #DETERMINAR DISTANCIA DE AUTO DE FRENTE\n",
    "                if direccion[i][k] == 3: # verificar cuales estan en la misma direccion\n",
    "                    if abs(posicionx[i][k] - posicionx[i][j]) < 1 : #verificar que esten en la misma coordenada X\n",
    "                        if posiciony[i][j] - posiciony[i][k] > 0: #verificar que se encuentre en frente\n",
    "                            u[1]=posiciony[i][j] - posiciony[i][k]\n",
    "                            if u[1]<= u[0] and u[1] > 0:\n",
    "                                u[0]=u[1]\n",
    "                                u[2]=velocidad[i][k]\n",
    "            \n",
    "            distanciacirculo=min(ua[0],ub[0])\n",
    "            \n",
    "            if distanciacirculo<0:\n",
    "                distanciacirculo =100\n",
    "            if min(ua[0],ub[0])== ua[0]:\n",
    "                ud= ua[2]\n",
    "            if min(ua[0],ub[0])== ub[0]:\n",
    "                ud= ub[2]\n",
    "                \n",
    "            distanciafrente=u[0]         \n",
    "            distanciaesquina=np.mod(posiciony[i][j],tamcalles)\n",
    "            er=i\n",
    "            posiciony[i+1][j]=posiciony[i][j]-(velocidad[i][j]*duraciondeiteracion+(aceleracion[i][j]*duraciondeiteracion**2)/2)\n",
    "                    \n",
    "            #if posiciony[i+1][j]>posiciony[i][j]:\n",
    "               # posiciony[i+1][j]=posiciony[i][j]\n",
    "\n",
    "            if posiciony[i+1][j]<=tamcalles/2:\n",
    "                posiciony[i+1][j]=tamcaja+tamcalles/2    \n",
    "            \n",
    "            posicionx[i+1][j]=posicionx[i][j]\n",
    "            \n",
    "            if tipodecalle[i][j]==1 :\n",
    "                if distanciafrente<espminimo :\n",
    "                    velocidad[i+1][j]=u[2]\n",
    "                    aceleracion[i+1][j]=0\n",
    "                if distanciafrente>=espminimo :\n",
    "                    aceleracion[i+1][j]=aceleracionpromedio\n",
    "                    velocidad[i+1][j]=velocidad[i][j]+aceleracionpromedio*duraciondeiteracion\n",
    "\n",
    "            if tipodecalle[i][j]==2 :\n",
    "                if min(distanciacirculo,distanciafrente)==distanciafrente :\n",
    "                    if distanciafrente<espminimo :\n",
    "                        velocidad[i+1][j]=u[2]\n",
    "                        aceleracion[i+1][j]=0\n",
    "                    if distanciafrente>=espminimo :\n",
    "                        aceleracion[i+1][j]=aceleracionpromedio\n",
    "                        velocidad[i+1][j]=velocidad[i][j]+aceleracionpromedio*duraciondeiteracion\n",
    "\n",
    "                if min(distanciacirculo,distanciafrente)== distanciacirculo :\n",
    "                    if distanciaesquina<=14 and distanciaesquina >5 :\n",
    "                        aceleracion[i+1][j]=aceleracionpromedio*(-.5)\n",
    "                        velocidad[i+1][j]=velocidad[i][j]+ aceleracion[i+1][j]*duraciondeiteracion\n",
    "                  \n",
    "                    if distanciaesquina<=5 and distanciaesquina >3 :\n",
    "                        aceleracion[i+1][j]=aceleracionpromedio*(-2)\n",
    "                        velocidad[i+1][j]=velocidad[i][j]+ aceleracion[i+1][j]*duraciondeiteracion\n",
    "                  \n",
    "                    if distanciaesquina<=3 and distanciaesquina >.5 :\n",
    "                        aceleracion[i+1][j]=aceleracionpromedio*(-4)\n",
    "                        velocidad[i+1][j]=velocidad[i][j]+ aceleracion[i+1][j]*duraciondeiteracion\n",
    "                  \n",
    "                    if distanciaesquina<=.5 and distanciaesquina >0 :\n",
    "                        aceleracion[i+1][j]=0\n",
    "                        velocidad[i+1][j]=0\n",
    "                  \n",
    "            direccion[i+1][j]=direccion[i][j]\n",
    "            if distanciaesquina<0.5 :\n",
    "                m=np.random.rand()\n",
    "                if m>=.5 :\n",
    "                    direccion[i+1][j]= 3\n",
    "                    posicionx[i+1][j]=posicionx[i][j]\n",
    "              \n",
    "                if m<.5 and m>=.25 :\n",
    "                    direccion[i+1][j]= 2\n",
    "                    posicionx[i+1][j]=posicionx[i][j]\n",
    "                    posiciony[i+1][j]=int(posiciony[i][j]-(np.mod(posiciony[i][j],tamcalles)-1))\n",
    "                    velocidad[i+1][j]=2\n",
    "              \n",
    "                if m<.25 and m>=0 :\n",
    "                    direccion[i+1][j]= 4\n",
    "                    posicionx[i+1][j]=posicionx[i][j]\n",
    "                    posiciony[i+1][j]=int(posiciony[i][j]-(np.mod(posiciony[i][j],tamcalles)-1))\n",
    "                    velocidad[i+1][j]=2\n",
    "\n",
    "########################################################################################################        \n",
    "        if direccion[i][j] == 2: # SI EL AUTO SE MUEVE ENDIRECCION ESTE\n",
    "            u=np.array([tamcalles*100,0,0])\n",
    "            ua=np.array([tamcalles*100,0,0])\n",
    "            ub=np.array([tamcalles*100,0,0])  \n",
    "            \n",
    "            for k in range(0, int(nautos)): # DISTANCIA CIRCULAR\n",
    "                if direccion[i][k] == 1: # verificar que esten en direcciones perpendiculares(VER. DIRECCION ESTE)\n",
    "                    if posicionx[i][k] - posicionx[i][j] > 0: # verificar que esten cerca hacia derecha\n",
    "                        if posicionx[i][k] - posicionx[i][j] < 10: # verificar que se encuentre al menos a 10 m hacia derecha\n",
    "                            if posiciony[i][j]-posiciony[i][k] < 7: # verificar que esten al menos 7 m separados verticalmente\n",
    "                                if posiciony[i][j]-posiciony[i][k] > 0:\n",
    "                                    ua[1] = posiciony[i][j] - posiciony[i][k] # guardar el valor de esa distancia de lado\n",
    "                                    if ua[1] <= ua[0]: # verificar que esa distancia sea menor que la iteracion pasada\n",
    "                                        ua[0] = ua[1] #  la distancia menor se va  guardando en ua(1,1)\n",
    "                                        ua[2] = posicionx[i][k]-posicionx[i][j]\n",
    "                if direccion[i][k] == 3: #verificar que esten en direcciones perpendiculares (VER. DIRECCION OESTE)\n",
    "                    if posicionx[i][k]-posicionx[i][j]>0: #verificar que esten cerca hacia arriba\n",
    "                        if posicionx[i][k]-posicionx[i][j]<10: # verificar que se encuentre al menos a 10 m hacia arriba\n",
    "                            if posiciony[i][k]-posiciony[i][j]<7: #verificar que esten al menos 7 m separados horizontalmente\n",
    "                                if posiciony[i][k]-posiciony[i][j]>0: #\n",
    "                                    ub[1]=posiciony[i][k]-posiciony[i][j]# guardar el valor de esa distancia de lado\n",
    "                                    if ub[1]<ub[0]: #verificar que esa distancia sea menor que la iteracion pasada\n",
    "                                        ub[0]=ub[1] # la distancia menor se va  guardando en ub(1,1)\n",
    "                                        ub[2]=posicionx[i][k]-posicionx[i][j] #la distancia vertical entre los autos se guarda\n",
    "                                \n",
    "\n",
    "            for k in range(0, int(nautos)):     #DETERMINAR DISTANCIA DE AUTO DE FRENTE\n",
    "                if direccion[i][k] == 2: # verificar cuales estan en la misma direccion\n",
    "                    if abs(posiciony[i][j] - posiciony[i][k]) < 1 : #verificar que esten en la misma coordenada X\n",
    "                        if posicionx[i][k] - posicionx[i][j] > 0: #verificar que se encuentre en frente\n",
    "                            u[1]=posicionx[i][k] - posicionx[i][j]\n",
    "                            if u[1]<= u[0] and u[1] > 0:\n",
    "                                u[0]=u[1]\n",
    "                                u[2]=velocidad[i][k]\n",
    "            \n",
    "            distanciacirculo=min(ua[0],ub[0])\n",
    "            \n",
    "            if distanciacirculo<0:\n",
    "                distanciacirculo =100\n",
    "            if min(ua[0],ub[0])== ua[0]:\n",
    "                ud= ua[2]\n",
    "            if min(ua[0],ub[0])== ub[0]:\n",
    "                ud= ub[2]\n",
    "                \n",
    "            distanciafrente=u[0]         \n",
    "            distanciaesquina=tamcalles-np.mod(posicionx[i][j],tamcalles)\n",
    "            er=i\n",
    "            posicionx[i+1][j]=posicionx[i][j]+velocidad[i][j]*duraciondeiteracion+(aceleracion[i][j]*duraciondeiteracion**2)/2\n",
    "                    \n",
    "            #if posicionx[i+1][j]<posicionx[i][j]:\n",
    "                #posicionx[i+1][j]=posicionx[i][j]\n",
    "                \n",
    "            if posicionx[i+1][j]>=tamcaja+tamcalles/2:\n",
    "                posicionx[i+1][j]=tamcalles/2\n",
    "  \n",
    "            \n",
    "            posiciony[i+1][j]=posiciony[i][j]\n",
    "            \n",
    "            if tipodecalle[i][j]==1 :\n",
    "                if distanciafrente<espminimo :\n",
    "                    velocidad[i+1][j]=u[2]\n",
    "                    aceleracion[i+1][j]=0\n",
    "                if distanciafrente>=espminimo :\n",
    "                    aceleracion[i+1][j]=aceleracionpromedio\n",
    "                    velocidad[i+1][j]=velocidad[i][j]+aceleracionpromedio*duraciondeiteracion\n",
    "\n",
    "            if tipodecalle[i][j]==2 :\n",
    "                if min(distanciacirculo,distanciafrente)==distanciafrente :\n",
    "                    if distanciafrente<espminimo :\n",
    "                        velocidad[i+1][j]=u[2]\n",
    "                        aceleracion[i+1][j]=0\n",
    "                    if distanciafrente>=espminimo :\n",
    "                        aceleracion[i+1][j]=aceleracionpromedio\n",
    "                        velocidad[i+1][j]=velocidad[i][j]+aceleracionpromedio*duraciondeiteracion\n",
    "\n",
    "                if min(distanciacirculo,distanciafrente)== distanciacirculo :\n",
    "                    if distanciaesquina<=14 and distanciaesquina >5 :\n",
    "                        aceleracion[i+1][j]=aceleracionpromedio*(-.5)\n",
    "                        velocidad[i+1][j]=velocidad[i][j]+ aceleracion[i+1][j]*duraciondeiteracion\n",
    "                  \n",
    "                    if distanciaesquina<=5 and distanciaesquina >3 :\n",
    "                        aceleracion[i+1][j]=aceleracionpromedio*(-2)\n",
    "                        velocidad[i+1][j]=velocidad[i][j]+ aceleracion[i+1][j]*duraciondeiteracion\n",
    "                  \n",
    "                    if distanciaesquina<=3 and distanciaesquina >.5 :\n",
    "                        aceleracion[i+1][j]=aceleracionpromedio*(-4)\n",
    "                        velocidad[i+1][j]=velocidad[i][j]+ aceleracion[i+1][j]*duraciondeiteracion\n",
    "                  \n",
    "                    if distanciaesquina<=.5 and distanciaesquina >0 :\n",
    "                        aceleracion[i+1][j]=0\n",
    "                        velocidad[i+1][j]=0\n",
    "                  \n",
    "            direccion[i+1][j]=direccion[i][j]\n",
    "            if distanciaesquina<0.5 :\n",
    "                m=np.random.rand()\n",
    "                if m>=.5 :\n",
    "                    direccion[i+1][j]= 2\n",
    "                    posiciony[i+1][j]=posiciony[i][j]\n",
    "              \n",
    "                if m<.5 and m>=.25 :\n",
    "                    direccion[i+1][j]= 1\n",
    "                    posiciony[i+1][j]=posiciony[i][j]\n",
    "                    posicionx[i+1][j]=int((np.mod(posicionx[i][j],1)-1)*(-1)+posicionx[i][j])\n",
    "                    velocidad[i+1][j]=2\n",
    "              \n",
    "                if m<.25 and m>=0 :\n",
    "                    direccion[i+1][j]= 3\n",
    "                    posiciony[i+1][j]=posiciony[i][j]\n",
    "                    posicionx[i+1][j]=int((np.mod(posicionx[i][j],1)-1)*(-1)+posicionx[i][j])\n",
    "                    velocidad[i+1][j]=2\n",
    "\n",
    "                    ########################################################################################################        \n",
    "        if direccion[i][j] == 4: # SI EL AUTO SE MUEVE ENDIRECCION OESTE\n",
    "            u=np.array([tamcalles*100,0,0])\n",
    "            ua=np.array([tamcalles*100,0,0])\n",
    "            ub=np.array([tamcalles*100,0,0])\n",
    "            \n",
    "            for k in range(0, int(nautos)): # DISTANCIA CIRCULAR\n",
    "                if direccion[i][k] == 1: # verificar que esten en direcciones perpendiculares(VER. DIRECCION ESTE)\n",
    "                    if posicionx[i][j] - posicionx[i][k] > 0: # verificar que esten cerca hacia \n",
    "                        if posicionx[i][j] - posicionx[i][k] < 10: # verificar que se encuentre al menos a 10 m \n",
    "                            if posiciony[i][j]-posiciony[i][k] < 7: # verificar que esten al menos 7 m separados\n",
    "                                if posiciony[i][j]-posiciony[i][k] > 0:\n",
    "                                    ua[1] = posiciony[i][j] - posiciony[i][k] # guardar el valor de esa distancia de lado\n",
    "                                    if ua[1] <= ua[0]: # verificar que esa distancia sea menor que la iteracion pasada\n",
    "                                        ua[0] = ua[1] #  la distancia menor se va  guardando en ua(1,1)\n",
    "                                        ua[2] = -posicionx[i][k]+posicionx[i][j]\n",
    "                if direccion[i][k] == 3: #verificar que esten en direcciones perpendiculares (VER. DIRECCION OESTE)\n",
    "                    if posicionx[i][j]-posicionx[i][k]>0: #verificar que esten cerca hacia arrba\n",
    "                        if posicionx[i][j]-posicionx[i][k]<10: # verificar que se encuentre al menos a 10 m hacia \n",
    "                            if posiciony[i][k]-posiciony[i][j]<7: #verificar que esten al menos 7 m separados \n",
    "                                if posiciony[i][k]-posiciony[i][j]>0: #\n",
    "                                    ub[1]=posiciony[i][k]-posiciony[i][j]# guardar el valor de esa distancia de lado\n",
    "                                    if ub[1]<ub[0]: #verificar que esa distancia sea menor que la iteracion pasada\n",
    "                                        ub[0]=ub[1] # la distancia menor se va  guardando en ub(1,1)\n",
    "                                        ub[2]=-posicionx[i][k]+posicionx[i][j] #la distancia vertical entre los autos se guarda\n",
    "                                \n",
    "\n",
    "            for k in range(0, int(nautos)):     #DETERMINAR DISTANCIA DE AUTO DE FRENTE\n",
    "                if direccion[i][k] == 4: # verificar cuales estan en la misma direccion\n",
    "                    if abs(posiciony[i][k] - posiciony[i][j]) < 1 : #verificar que esten en la misma coordenada X\n",
    "                        if posicionx[i][j] - posicionx[i][k] > 0: #verificar que se encuentre en frente\n",
    "                            u[1]=posicionx[i][j] - posicionx[i][k]\n",
    "                            if u[1]<= u[0] and u[1] > 0:\n",
    "                                u[0]=u[1]\n",
    "                                u[2]=velocidad[i][k]\n",
    "            \n",
    "            distanciacirculo=min(ua[0],ub[0])\n",
    "            \n",
    "            if distanciacirculo<0:\n",
    "                distanciacirculo =100\n",
    "            if min(ua[0],ub[0])== ua[0]:\n",
    "                ud= ua[2]\n",
    "            if min(ua[0],ub[0])== ub[0]:\n",
    "                ud= ub[2]\n",
    "                \n",
    "            distanciafrente=u[0]         \n",
    "            distanciaesquina=np.mod(posicionx[i][j],tamcalles)\n",
    "            er=i\n",
    "            posicionx[i+1][j]=posicionx[i][j]-(velocidad[i][j]*duraciondeiteracion+(aceleracion[i][j]*duraciondeiteracion**2)/2)\n",
    "                    \n",
    "            #if posicionx[i+1][j]>posicionx[i][j]:\n",
    "                #posicionx[i+1][j]=posicionx[i][j]\n",
    "                \n",
    "            if posicionx[i+1][j]<=tamcalles/2:\n",
    "                posicionx[i+1][j]=tamcaja+tamcalles/2   \n",
    "            \n",
    "            posiciony[i+1][j]=posiciony[i][j]\n",
    "            \n",
    "            if tipodecalle[i][j]==1 :\n",
    "                if distanciafrente<espminimo :\n",
    "                    velocidad[i+1][j]=u[2]\n",
    "                    aceleracion[i+1][j]=0\n",
    "                if distanciafrente>=espminimo :\n",
    "                    aceleracion[i+1][j]=aceleracionpromedio\n",
    "                    velocidad[i+1][j]=velocidad[i][j]+aceleracionpromedio*duraciondeiteracion\n",
    "\n",
    "            if tipodecalle[i][j]==2 :\n",
    "                if min(distanciacirculo,distanciafrente)==distanciafrente :\n",
    "                    if distanciafrente<espminimo :\n",
    "                        velocidad[i+1][j]=u[2]\n",
    "                        aceleracion[i+1][j]=0\n",
    "                    if distanciafrente>=espminimo :\n",
    "                        aceleracion[i+1][j]=aceleracionpromedio\n",
    "                        velocidad[i+1][j]=velocidad[i][j]+aceleracionpromedio*duraciondeiteracion\n",
    "\n",
    "                if min(distanciacirculo,distanciafrente)== distanciacirculo :\n",
    "                    if distanciaesquina<=14 and distanciaesquina >5 :\n",
    "                        aceleracion[i+1][j]=aceleracionpromedio*(-.5)\n",
    "                        velocidad[i+1][j]=velocidad[i][j]+ aceleracion[i+1][j]*duraciondeiteracion\n",
    "                  \n",
    "                    if distanciaesquina<=5 and distanciaesquina >3 :\n",
    "                        aceleracion[i+1][j]=aceleracionpromedio*(-2)\n",
    "                        velocidad[i+1][j]=velocidad[i][j]+ aceleracion[i+1][j]*duraciondeiteracion\n",
    "                  \n",
    "                    if distanciaesquina<=3 and distanciaesquina >.5 :\n",
    "                        aceleracion[i+1][j]=aceleracionpromedio*(-4)\n",
    "                        velocidad[i+1][j]=velocidad[i][j]+ aceleracion[i+1][j]*duraciondeiteracion\n",
    "                  \n",
    "                    if distanciaesquina<=.5 and distanciaesquina >0 :\n",
    "                        aceleracion[i+1][j]=0\n",
    "                        velocidad[i+1][j]=0\n",
    "                  \n",
    "            direccion[i+1][j]=direccion[i][j]\n",
    "            if distanciaesquina<0.5 :\n",
    "                m=np.random.rand()\n",
    "                if m>=.5 :\n",
    "                    direccion[i+1][j]= 4\n",
    "                    posiciony[i+1][j]=posiciony[i][j]\n",
    "              \n",
    "                if m<.5 and m>=.25 :\n",
    "                    direccion[i+1][j]= 1\n",
    "                    posiciony[i+1][j]=posiciony[i][j]\n",
    "                    posicionx[i+1][j]=int(posicionx[i][j]-(np.mod(posicionx[i][j],tamcalles)-1))\n",
    "                    velocidad[i+1][j]=2\n",
    "              \n",
    "                if m<.25 and m>=0 :\n",
    "                    direccion[i+1][j]= 3\n",
    "                    posiciony[i+1][j]=posiciony[i][j]\n",
    "                    posicionx[i+1][j]=int(posicionx[i][j]-(np.mod(posicionx[i][j],tamcalles)-1))\n",
    "                    velocidad[i+1][j]=2\n"
   ]
  },
  {
   "cell_type": "markdown",
   "metadata": {},
   "source": [
    "Se generan arreglos para guardar la velocidad y aceleracion de cada auto en cada iteracion de la simulacion"
   ]
  },
  {
   "cell_type": "code",
   "execution_count": 307,
   "metadata": {},
   "outputs": [],
   "source": [
    "vx = np.arange(niteraciones*nautos)\n",
    "vx.shape = (int(niteraciones),int(nautos))\n",
    "\n",
    "ax = np.arange(niteraciones*nautos)\n",
    "ax.shape = (int(niteraciones),int(nautos))\n"
   ]
  },
  {
   "cell_type": "markdown",
   "metadata": {},
   "source": [
    "Se calcula la velocidad y la aceleracion de cada auto de acuerdo al arreglo que contiene la informacion de la posicion de los autos en cada instante de la simulacion"
   ]
  },
  {
   "cell_type": "code",
   "execution_count": 308,
   "metadata": {},
   "outputs": [],
   "source": [
    "for k in range(0,nautos):\n",
    "    for i in range (1,int(niteraciones)):\n",
    "        d=pow((posicionx[i][k]-posicionx[i-1][k])**2+(posiciony[i][k]-posiciony[i-1][k])**2,0.5)\n",
    "        if d>tamcalles:\n",
    "            d=.1\n",
    "        vx[i-1][k]=d/duritera\n",
    "        \n",
    "for k in range(0,nautos):\n",
    "    for i in range (1,int(niteraciones-1)):\n",
    "        a=abs((vx[i][k]-vx[i-1][k]))/duritera\n",
    "        ax[i-1][k]=(a)\n",
    "        "
   ]
  },
  {
   "cell_type": "markdown",
   "metadata": {},
   "source": [
    "Se crea una funcion para obtener el Indice de Revoluciones por minuto del modelo IVE"
   ]
  },
  {
   "cell_type": "code",
   "execution_count": 309,
   "metadata": {},
   "outputs": [],
   "source": [
    "def irpm(v, vsp):\n",
    "    c = 0.9\n",
    "    if v>=0 and v<5.4 :\n",
    "        c = 3\n",
    "    if v>=5.4 and v<8.5 and vsp>=-20 and vsp <16:\n",
    "        c = 5\n",
    "    if v>=5.4 and v<8.5 and vsp>=16 and vsp <400:\n",
    "        c = 3\n",
    "    if v>=8.5 and v<12.5 and vsp>=-20 and vsp <16:\n",
    "        c = 7\n",
    "    if v>=8.5 and v<12.5 and vsp>=16 and vsp <400:\n",
    "        c = 5\n",
    "    if v>=12.5 and v<50 and vsp>=-20 and vsp <16:\n",
    "        c = 13\n",
    "    if v>=12.5 and v<50 and vsp>=16 and vsp <400:\n",
    "        c = 5\n",
    "    return c\n",
    "        \n",
    "\n",
    "        "
   ]
  },
  {
   "cell_type": "markdown",
   "metadata": {},
   "source": [
    "Se evalua el VSP para cada auto en cada instante de la simulacion y se guarda en un arreglo, se obtiene el promedio de este arreglo y, ademas, se promedia con los demas valores promedio de VSP de los demas autos. Se hace el mismo procedimiento con el valor del Stress calculado."
   ]
  },
  {
   "cell_type": "code",
   "execution_count": 310,
   "metadata": {},
   "outputs": [],
   "source": [
    "vsp = []\n",
    "st = []\n",
    "for i in range(0,nautos):\n",
    "    vspind = vx[:][i]*(1.1*ax[:][i]+0.132) + 0.0000302*vx[:][i]**3\n",
    "    hola = np.mean(vspind)\n",
    "    if hola>100:\n",
    "        hola=100\n",
    "    vsp.append(hola)\n",
    "    \n",
    "    stress2=[]\n",
    "    \n",
    "    for j in range(0,len(vspind)-25):\n",
    "        potprom = np.mean(vspind[j:24+j])\n",
    "        indicerpm = vx[j][i]*irpm(vx[j][i],potprom)\n",
    "        stress = indicerpm + 0.08*potprom\n",
    "        stress2.append(stress)\n",
    "        \n",
    "    s = np.mean(stress2)\n",
    "    st.append(s)"
   ]
  },
  {
   "cell_type": "markdown",
   "metadata": {},
   "source": [
    "Como ejemplo, graficamos el histograma del VSP para un solo vehiculo en un histograma de 20 bins de -80 a 100, como señala el modelo IVE."
   ]
  },
  {
   "cell_type": "code",
   "execution_count": 311,
   "metadata": {},
   "outputs": [],
   "source": [
    "i=0"
   ]
  },
  {
   "cell_type": "code",
   "execution_count": 312,
   "metadata": {},
   "outputs": [],
   "source": [
    "cd = vx[:][i]*(1.1*ax[:][i]+0.132) + 0.0000302*vx[:][i]**3"
   ]
  },
  {
   "cell_type": "code",
   "execution_count": 313,
   "metadata": {},
   "outputs": [
    {
     "data": {
      "text/plain": [
       "(array([  0.,   0.,   0.,   0.,   0.,   0.,   0.,   0., 123.,  77.,   0.,\n",
       "          0.,   0.,   0.,   0.,   0.,   0.,   0.,   0.,   0.]),\n",
       " array([-80., -71., -62., -53., -44., -35., -26., -17.,  -8.,   1.,  10.,\n",
       "         19.,  28.,  37.,  46.,  55.,  64.,  73.,  82.,  91., 100.]),\n",
       " <a list of 20 Patch objects>)"
      ]
     },
     "execution_count": 313,
     "metadata": {},
     "output_type": "execute_result"
    },
    {
     "data": {
      "image/png": "[encoded data removed]",
      "text/plain": [
       "<Figure size 432x288 with 1 Axes>"
      ]
     },
     "metadata": {},
     "output_type": "display_data"
    }
   ],
   "source": [
    "plt.hist(cd, bins=20, color = 'c', range=[-80, 100])"
   ]
  },
  {
   "cell_type": "markdown",
   "metadata": {},
   "source": [
    "Como ejemplo, graficamos el histograma de Stress de un solo vehiculo dividido en 60 bins de -1.6 a 12.6, como señala el modelo IVE."
   ]
  },
  {
   "cell_type": "code",
   "execution_count": 314,
   "metadata": {
    "scrolled": true
   },
   "outputs": [
    {
     "data": {
      "text/plain": [
       "(array([ 0.,  0.,  0.,  0.,  0.,  0.,  0.,  0.,  0.,  0.,  0.,  0.,  0.,\n",
       "        59., 41., 26.,  7., 18.,  0.,  0., 17.,  7.,  0.,  0.,  0.,  0.,\n",
       "         0.,  0.,  0.,  0.,  0.,  0.,  0.,  0.,  0.,  0.,  0.,  0.,  0.,\n",
       "         0.,  0.,  0.,  0.,  0.,  0.,  0.,  0.,  0.,  0.,  0.,  0.,  0.,\n",
       "         0.,  0.,  0.,  0.,  0.,  0.,  0.,  0.]),\n",
       " array([-1.6       , -1.36333333, -1.12666667, -0.89      , -0.65333333,\n",
       "        -0.41666667, -0.18      ,  0.05666667,  0.29333333,  0.53      ,\n",
       "         0.76666667,  1.00333333,  1.24      ,  1.47666667,  1.71333333,\n",
       "         1.95      ,  2.18666667,  2.42333333,  2.66      ,  2.89666667,\n",
       "         3.13333333,  3.37      ,  3.60666667,  3.84333333,  4.08      ,\n",
       "         4.31666667,  4.55333333,  4.79      ,  5.02666667,  5.26333333,\n",
       "         5.5       ,  5.73666667,  5.97333333,  6.21      ,  6.44666667,\n",
       "         6.68333333,  6.92      ,  7.15666667,  7.39333333,  7.63      ,\n",
       "         7.86666667,  8.10333333,  8.34      ,  8.57666667,  8.81333333,\n",
       "         9.05      ,  9.28666667,  9.52333333,  9.76      ,  9.99666667,\n",
       "        10.23333333, 10.47      , 10.70666667, 10.94333333, 11.18      ,\n",
       "        11.41666667, 11.65333333, 11.89      , 12.12666667, 12.36333333,\n",
       "        12.6       ]),\n",
       " <a list of 60 Patch objects>)"
      ]
     },
     "execution_count": 314,
     "metadata": {},
     "output_type": "execute_result"
    },
    {
     "data": {
      "image/png": "[encoded data removed]",
      "text/plain": [
       "<Figure size 432x288 with 1 Axes>"
      ]
     },
     "metadata": {},
     "output_type": "display_data"
    }
   ],
   "source": [
    "plt.hist(stress2, bins=60, color = 'c', range=[-1.6, 12.6])"
   ]
  },
  {
   "cell_type": "markdown",
   "metadata": {},
   "source": [
    "Este histograma tambien se puede dividir en tres rangos que corresponden al nivel de estres Bajo, Medio o Alto,"
   ]
  },
  {
   "cell_type": "code",
   "execution_count": 315,
   "metadata": {},
   "outputs": [
    {
     "data": {
      "text/plain": [
       "(array([151.,  24.,   0.]),\n",
       " array([-1.6       ,  3.13333333,  7.86666667, 12.6       ]),\n",
       " <a list of 3 Patch objects>)"
      ]
     },
     "execution_count": 315,
     "metadata": {},
     "output_type": "execute_result"
    },
    {
     "data": {
      "image/png": "[encoded data removed]",
      "text/plain": [
       "<Figure size 432x288 with 1 Axes>"
      ]
     },
     "metadata": {},
     "output_type": "display_data"
    }
   ],
   "source": [
    "plt.hist(stress2, bins=3, color = 'm', range=[-1.6, 12.6])"
   ]
  },
  {
   "cell_type": "markdown",
   "metadata": {},
   "source": [
    "Promedio del VSP para la simulacion"
   ]
  },
  {
   "cell_type": "code",
   "execution_count": 316,
   "metadata": {},
   "outputs": [
    {
     "data": {
      "text/plain": [
       "3.280747665814659"
      ]
     },
     "execution_count": 316,
     "metadata": {},
     "output_type": "execute_result"
    }
   ],
   "source": [
    "np.mean(vsp)\n"
   ]
  },
  {
   "cell_type": "markdown",
   "metadata": {},
   "source": [
    "Promedio del Stress para la simulacion"
   ]
  },
  {
   "cell_type": "code",
   "execution_count": 336,
   "metadata": {},
   "outputs": [
    {
     "data": {
      "text/plain": [
       "35.59860173216177"
      ]
     },
     "execution_count": 336,
     "metadata": {},
     "output_type": "execute_result"
    }
   ],
   "source": [
    "np.mean(st[0:len(st)-1])"
   ]
  },
  {
   "cell_type": "markdown",
   "metadata": {},
   "source": [
    "Como ejemplo, se grafica las medias del VSP para cada vehiculo en una simulacion"
   ]
  },
  {
   "cell_type": "code",
   "execution_count": 318,
   "metadata": {},
   "outputs": [
    {
     "data": {
      "text/plain": [
       "[<matplotlib.lines.Line2D at 0x7f65a2450780>]"
      ]
     },
     "execution_count": 318,
     "metadata": {},
     "output_type": "execute_result"
    },
    {
     "data": {
      "image/png": "[encoded data removed]",
      "text/plain": [
       "<Figure size 432x288 with 1 Axes>"
      ]
     },
     "metadata": {},
     "output_type": "display_data"
    }
   ],
   "source": [
    "plt.plot(vsp)"
   ]
  },
  {
   "cell_type": "markdown",
   "metadata": {},
   "source": [
    "Como ejemplo, se grafica las medias del Stress para cada vehiculo en una simulacion"
   ]
  },
  {
   "cell_type": "code",
   "execution_count": 333,
   "metadata": {},
   "outputs": [
    {
     "data": {
      "text/plain": [
       "[<matplotlib.lines.Line2D at 0x7f65a2308da0>]"
      ]
     },
     "execution_count": 333,
     "metadata": {},
     "output_type": "execute_result"
    },
    {
     "data": {
      "image/png": "[encoded data removed]",
      "text/plain": [
       "<Figure size 432x288 with 1 Axes>"
      ]
     },
     "metadata": {},
     "output_type": "display_data"
    }
   ],
   "source": [
    "plt.plot(st[0:len(st)-1])"
   ]
  },
  {
   "cell_type": "markdown",
   "metadata": {},
   "source": [
    "A continuacion se guardan los valores arrojados para VSP y Stress promedio de cada simulacion para comparar la influencia del cambio de parametros en cada simulacion. "
   ]
  },
  {
   "cell_type": "markdown",
   "metadata": {},
   "source": [
    "### Para un numero de calles de 10 en ambos sentidos"
   ]
  },
  {
   "cell_type": "markdown",
   "metadata": {},
   "source": [
    "Velocidades maximas de analisis"
   ]
  },
  {
   "cell_type": "code",
   "execution_count": 320,
   "metadata": {},
   "outputs": [],
   "source": [
    "velocidades = [10, 20, 30, 40, 50, 60, 70] # km/hr"
   ]
  },
  {
   "cell_type": "markdown",
   "metadata": {},
   "source": [
    "Tamaño de calles en la simulacion"
   ]
  },
  {
   "cell_type": "code",
   "execution_count": 321,
   "metadata": {},
   "outputs": [],
   "source": [
    "tamcalles= 50"
   ]
  },
  {
   "cell_type": "markdown",
   "metadata": {},
   "source": [
    "Se guardan los calores del VSP y Stress promedio de las simulaciones"
   ]
  },
  {
   "cell_type": "code",
   "execution_count": 322,
   "metadata": {},
   "outputs": [],
   "source": [
    "vsp0 = [0.7834511349361981, 3.3442723070353453, 5.395927759309825, 9.778574436580435, 11.128549878793715, 17.25075014836979]"
   ]
  },
  {
   "cell_type": "code",
   "execution_count": 323,
   "metadata": {},
   "outputs": [],
   "source": [
    "vsp1 = [0.8083438730082773, 4.443982271650376, 5.040142349848319, 9.918684554749927, 11.015369264396025, 14.63529775754434, 17.45023881644676]"
   ]
  },
  {
   "cell_type": "code",
   "execution_count": 324,
   "metadata": {},
   "outputs": [],
   "source": [
    "stress1 = [6.971184607301808, 19.064455442083503, 27.05302169271442, 40.15376065619378, 68.96579086567971, 76.6792828697022, 80.52989116625264]"
   ]
  },
  {
   "cell_type": "markdown",
   "metadata": {},
   "source": [
    "tamcalles=200"
   ]
  },
  {
   "cell_type": "code",
   "execution_count": 325,
   "metadata": {},
   "outputs": [],
   "source": [
    "vsp02 = [0.6981081737687731, 1.61955572548649, 3.24016369816487, 5.238046976011572, 7.45981231609558, 12.77613096975363]"
   ]
  },
  {
   "cell_type": "code",
   "execution_count": 326,
   "metadata": {},
   "outputs": [],
   "source": [
    "vsp2 = [0.6764428012413103, 1.5950695816303142, 3.280747665814659]"
   ]
  },
  {
   "cell_type": "code",
   "execution_count": 327,
   "metadata": {},
   "outputs": [],
   "source": [
    "stress2 = [8.33505798652144, 23.456659612335535, 35.59860173216177]"
   ]
  },
  {
   "cell_type": "markdown",
   "metadata": {},
   "source": [
    "Se generan las graficas finales de comparacion"
   ]
  },
  {
   "cell_type": "code",
   "execution_count": 328,
   "metadata": {
    "scrolled": true
   },
   "outputs": [
    {
     "data": {
      "text/plain": [
       "'plt.plot(velocidades, vsp0)\\nplt.plot(velocidades, vsp1, label = \"VSP\")\\nplt.plot(velocidades, stress1, label = \"Stress\")\\nplt.legend()'"
      ]
     },
     "execution_count": 328,
     "metadata": {},
     "output_type": "execute_result"
    }
   ],
   "source": [
    "'''plt.plot(velocidades, vsp0)\n",
    "plt.plot(velocidades, vsp1, label = \"VSP\")\n",
    "plt.plot(velocidades, stress1, label = \"Stress\")\n",
    "plt.legend()'''"
   ]
  },
  {
   "cell_type": "code",
   "execution_count": 329,
   "metadata": {},
   "outputs": [
    {
     "data": {
      "text/plain": [
       "\"\\nwith open('posicionesx.csv', mode = 'w') as file:\\n    writer = csv.writer(file)\\n    for i in range(0, nautos):\\n        writer.writerow(posicionx[:][i])\\n        \\nwith open('posicionesy.csv', mode = 'w') as file:\\n    writer = csv.writer(file)\\n    for i in range(0, nautos):\\n        writer.writerow(posiciony[:][i])    \\n        \""
      ]
     },
     "execution_count": 329,
     "metadata": {},
     "output_type": "execute_result"
    }
   ],
   "source": [
    "'''\n",
    "with open('posicionesx.csv', mode = 'w') as file:\n",
    "    writer = csv.writer(file)\n",
    "    for i in range(0, nautos):\n",
    "        writer.writerow(posicionx[:][i])\n",
    "        \n",
    "with open('posicionesy.csv', mode = 'w') as file:\n",
    "    writer = csv.writer(file)\n",
    "    for i in range(0, nautos):\n",
    "        writer.writerow(posiciony[:][i])    \n",
    "        '''"
   ]
  }
 ],
 "metadata": {
  "kernelspec": {
   "display_name": "Python 3",
   "language": "python",
   "name": "python3"
  },
  "language_info": {
   "codemirror_mode": {
    "name": "ipython",
    "version": 3
   },
   "file_extension": ".py",
   "mimetype": "text/x-python",
   "name": "python",
   "nbconvert_exporter": "python",
   "pygments_lexer": "ipython3",
   "version": "3.6.5"
  }
 },
 "nbformat": 4,
 "nbformat_minor": 2
}
