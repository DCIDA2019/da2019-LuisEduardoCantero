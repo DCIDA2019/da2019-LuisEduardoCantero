{
 "cells": [
  {
   "cell_type": "markdown",
   "metadata": {},
   "source": [
    "# Simulacion de transito de vehiculos para la determinar los indices de contaminacion bajo distintos criterios de conduccion"
   ]
  },
  {
   "cell_type": "markdown",
   "metadata": {},
   "source": [
    "Importamos librerias"
   ]
  },
  {
   "cell_type": "code",
   "execution_count": 58,
   "metadata": {},
   "outputs": [],
   "source": [
    "import numpy as np\n",
    "import emcee\n",
    "import matplotlib.pyplot as plt\n",
    "import scipy.stats as st\n",
    "import math\n",
    "from random import randint, uniform,random\n",
    "import random\n",
    "from random import choice\n",
    "import csv"
   ]
  },
  {
   "cell_type": "markdown",
   "metadata": {},
   "source": [
    "Se define una funcion para acomodar los autos de forma regular en la cuadricula que representara las calles de la region de simulacion"
   ]
  },
  {
   "cell_type": "code",
   "execution_count": 59,
   "metadata": {},
   "outputs": [],
   "source": [
    "def puntosiniciales (nautos, tamcalles, ncalles, dursimu, duritera, aprom, velmax, espminimo):\n",
    "    duracionsimulacion = dursimu\n",
    "    duraciondeiteracion = duritera\n",
    "    aceleracionpromedio = aprom\n",
    "    x0 = []\n",
    "    y0 = []\n",
    "    a0 = []\n",
    "    v0 = []    \n",
    "    dir0 = []\n",
    "    niteraciones = duracionsimulacion * 60 * (1 / duraciondeiteracion)\n",
    "    s = (int(niteraciones + 1), nautos)\n",
    "    ss = (3, 1)\n",
    "\n",
    "    sequence1 = [1, 3]\n",
    "    sequence2 = [2, 4]\n",
    "\n",
    "    tamcaja = (ncalles + 1) * tamcalles\n",
    "    vmax = velmax * (1 / 3600) * (1000) # Velocidad en m/s\n",
    "    \n",
    "\n",
    "    for i in range(0, int(ncalles)):\n",
    "        for j in range(0, int(nautos/2/ncalles)):\n",
    "            x0.append(tamcalles*ncalles/(nautos/2/ncalles)*(j+1)-tamcalles/2)\n",
    "            y0.append(tamcalles*(i+1))\n",
    "            dir0.append(choice(sequence2))\n",
    "            v0.append(np.random.rand())\n",
    "            a0.append(np.random.rand())\n",
    "\n",
    "    y2 = np.arange(tamcalles/2, tamcalles*(ncalles-1)+tamcalles/2,(tamcalles*(ncalles)-tamcalles)/(nautos/2))\n",
    "    x2 =  np.arange(tamcalles, tamcalles*(ncalles+1), tamcalles)\n",
    "\n",
    "    for i in range(0, int(ncalles)):\n",
    "        for j in range(0, int(nautos/2/ncalles)):\n",
    "            y0.append(tamcalles*ncalles/(nautos/2/ncalles)*(j+1)-tamcalles/2)\n",
    "            x0.append(tamcalles*(i+1))\n",
    "            dir0.append(choice(sequence1))\n",
    "            v0.append(np.random.rand())\n",
    "            a0.append(np.random.rand())\n",
    "\n",
    "    return x0, y0, v0, a0, dir0"
   ]
  },
  {
   "cell_type": "markdown",
   "metadata": {},
   "source": [
    "Se definen  los parametros iniciales y se calculan las posiciones, velocidades, aceleraciones y direccion inicial de cada auto"
   ]
  },
  {
   "cell_type": "code",
   "execution_count": 60,
   "metadata": {
    "scrolled": true
   },
   "outputs": [],
   "source": [
    "# Parametros iniciales\n",
    "\n",
    "tamcalles = 50\n",
    "nautos = 200\n",
    "ncalles = 10 # No mover de 20\n",
    "\n",
    "dursimu = 4 # minutos\n",
    "\n",
    "duritera = 0.2 # segs\n",
    "duraciondeiteracion = duritera\n",
    "aprom = 1 # m/s2\n",
    "espminimo = 6 # m\n",
    "\n",
    "vmax = 10 # km/h\n",
    "\n",
    "vmax=vmax*(1/3600)*(1000)\n",
    "aceleracionpromedio=1\n",
    "\n",
    "niteraciones = dursimu * 60 * (1 / duritera)\n",
    "\n",
    "posicionx = np.arange(niteraciones*nautos)\n",
    "posiciony = np.arange(niteraciones*nautos)\n",
    "velocidad = np.arange(niteraciones*nautos)\n",
    "aceleracion = np.arange(niteraciones*nautos)\n",
    "direccion = np.arange(niteraciones*nautos)\n",
    "tipodecalle = np.arange(niteraciones*nautos)\n",
    "\n",
    "posicionx.shape = (int(niteraciones),int(nautos))\n",
    "posiciony.shape = (int(niteraciones),int(nautos))\n",
    "velocidad.shape = (int(niteraciones),int(nautos))\n",
    "aceleracion.shape = (int(niteraciones),int(nautos))\n",
    "direccion.shape = (int(niteraciones),int(nautos))\n",
    "tipodecalle.shape = (int(niteraciones),int(nautos))\n",
    "\n",
    "x0, y0, v0, a0, dir0 = puntosiniciales (nautos, tamcalles, ncalles, dursimu, duritera, aprom, vmax, espminimo)\n",
    "\n",
    "for i in range(0, int(nautos)-1):\n",
    "    posicionx[0][i] = x0[i]\n",
    "    posiciony[0][i] = y0[i]\n",
    "    direccion[0][i] = dir0[i]\n",
    "    velocidad[0][i] = v0[i]\n",
    "    aceleracion[0][i] = a0[i]"
   ]
  },
  {
   "cell_type": "markdown",
   "metadata": {},
   "source": [
    "Se grafica la posicion inicial de cada auto"
   ]
  },
  {
   "cell_type": "code",
   "execution_count": 61,
   "metadata": {},
   "outputs": [
    {
     "data": {
      "text/plain": [
       "[<matplotlib.lines.Line2D at 0x7ff20d8db550>]"
      ]
     },
     "execution_count": 61,
     "metadata": {},
     "output_type": "execute_result"
    },
    {
     "data": {
      "image/png": "[encoded data removed]",
      "text/plain": [
       "<Figure size 720x720 with 1 Axes>"
      ]
     },
     "metadata": {},
     "output_type": "display_data"
    }
   ],
   "source": [
    "\n",
    "x1 = np.linspace(0, tamcalles * ncalles+tamcalles, 2)\n",
    "y1 = [tamcalles, tamcalles]\n",
    "y2 = [tamcalles*2, tamcalles*2]\n",
    "y3 = [tamcalles*3, tamcalles*3]\n",
    "y4 = [tamcalles*4, tamcalles*4]\n",
    "y5 = [tamcalles*5, tamcalles*5]\n",
    "y6 = [tamcalles*6, tamcalles*6]\n",
    "y7 = [tamcalles*7, tamcalles*7]\n",
    "y8 = [tamcalles*8, tamcalles*8]\n",
    "y9 = [tamcalles*9, tamcalles*9]\n",
    "y10 = [tamcalles*10, tamcalles*10]\n",
    "y11 = [tamcalles*11, tamcalles*11]\n",
    "y12 = [tamcalles*12, tamcalles*12]\n",
    "y13 = [tamcalles*13, tamcalles*13]\n",
    "y14 = [tamcalles*14, tamcalles*14]\n",
    "y15 = [tamcalles*15, tamcalles*15]\n",
    "y16 = [tamcalles*16, tamcalles*16]\n",
    "y17 = [tamcalles*17, tamcalles*17]\n",
    "y18 = [tamcalles*18, tamcalles*18]\n",
    "y19 = [tamcalles*19, tamcalles*19]\n",
    "y20 = [tamcalles*20, tamcalles*20]\n",
    "y21 = [tamcalles*21, tamcalles*21]\n",
    "\n",
    "\n",
    "plt.figure(figsize=(10, 10))\n",
    "plt.plot(x1,y1, color = 'g')\n",
    "plt.plot(x1,y2, color = 'g')\n",
    "plt.plot(x1,y3, color = 'g')\n",
    "plt.plot(x1,y4, color = 'g')\n",
    "plt.plot(x1,y5, color = 'g')\n",
    "plt.plot(x1,y6, color = 'g')\n",
    "plt.plot(x1,y7, color = 'g')\n",
    "plt.plot(x1,y8, color = 'g')\n",
    "plt.plot(x1,y9, color = 'g')\n",
    "plt.plot(x1,y10, color = 'g')\n",
    "plt.plot(x1,y11, color = 'g')\n",
    "plt.plot(x1,y12, color = 'g')\n",
    "plt.plot(x1,y13, color = 'g')\n",
    "plt.plot(x1,y14, color = 'g')\n",
    "plt.plot(x1,y15, color = 'g')\n",
    "plt.plot(x1,y16, color = 'g')\n",
    "plt.plot(x1,y17, color = 'g')\n",
    "plt.plot(x1,y18, color = 'g')\n",
    "plt.plot(x1,y19, color = 'g')\n",
    "plt.plot(x1,y20, color = 'g')\n",
    "\n",
    "plt.plot(y1,x1, color = 'g')\n",
    "plt.plot(y2,x1, color = 'g')\n",
    "plt.plot(y3,x1, color = 'g')\n",
    "plt.plot(y4,x1, color = 'g')\n",
    "plt.plot(y5,x1, color = 'g')\n",
    "plt.plot(y6,x1, color = 'g')\n",
    "plt.plot(y7,x1, color = 'g')\n",
    "plt.plot(y8,x1, color = 'g')\n",
    "plt.plot(y9,x1, color = 'g')\n",
    "plt.plot(y10,x1, color = 'g')\n",
    "plt.plot(y11,x1, color = 'g')\n",
    "plt.plot(y12,x1, color = 'g')\n",
    "plt.plot(y13,x1, color = 'g')\n",
    "plt.plot(y14,x1, color = 'g')\n",
    "plt.plot(y15,x1, color = 'g')\n",
    "plt.plot(y16,x1, color = 'g')\n",
    "plt.plot(y17,x1, color = 'g')\n",
    "plt.plot(y18,x1, color = 'g')\n",
    "plt.plot(y19,x1, color = 'g')\n",
    "plt.plot(y20,x1, color = 'g')\n",
    "\n",
    "plt.plot(x0,y0, \"bo\")"
   ]
  },
  {
   "cell_type": "markdown",
   "metadata": {},
   "source": [
    "Se ejecuta la simulacion. Este codigo mueve los autos de acuerdo a los parametros de entrada establecidos anteriormente. Cada calle es de doble sentido y de un solo carril para cada sentido de simulacion. Los autos evitan revasar a un auto que va frente a ellos con una menor velocidad; las calles verticales tienen preferencia de circulacion, por lo tanto, los autos que se mueven en direccion oeste o este deben frenar en las esquinas hasta que no este pasando un auto en la calle perpenduclar a su recorrido. Los autos de mueven de acuerdo a un movimiento de \"Vuelo de Levy\", que consiste en recorrer pocos tramos largos y una cantidad mayor de tramos cortos en determinado lapso de tiempo."
   ]
  },
  {
   "cell_type": "code",
   "execution_count": 1,
   "metadata": {},
   "outputs": [
    {
     "ename": "NameError",
     "evalue": "name 'tamcalles' is not defined",
     "output_type": "error",
     "traceback": [
      "\u001b[0;31m---------------------------------------------------------------------------\u001b[0m",
      "\u001b[0;31mNameError\u001b[0m                                 Traceback (most recent call last)",
      "\u001b[0;32m<ipython-input-1-c6bbda51f7de>\u001b[0m in \u001b[0;36m<module>\u001b[0;34m()\u001b[0m\n\u001b[1;32m      1\u001b[0m \u001b[0;34m\u001b[0m\u001b[0m\n\u001b[1;32m      2\u001b[0m \u001b[0;34m\u001b[0m\u001b[0m\n\u001b[0;32m----> 3\u001b[0;31m \u001b[0mtamcaja\u001b[0m \u001b[0;34m=\u001b[0m \u001b[0mtamcalles\u001b[0m\u001b[0;34m*\u001b[0m\u001b[0mncalles\u001b[0m\u001b[0;34m\u001b[0m\u001b[0m\n\u001b[0m\u001b[1;32m      4\u001b[0m \u001b[0mu\u001b[0m\u001b[0;34m=\u001b[0m\u001b[0;34m[\u001b[0m\u001b[0;34m]\u001b[0m\u001b[0;34m\u001b[0m\u001b[0m\n\u001b[1;32m      5\u001b[0m \u001b[0mua\u001b[0m\u001b[0;34m=\u001b[0m\u001b[0;34m[\u001b[0m\u001b[0;34m]\u001b[0m\u001b[0;34m\u001b[0m\u001b[0m\n",
      "\u001b[0;31mNameError\u001b[0m: name 'tamcalles' is not defined"
     ]
    }
   ],
   "source": [
    "\n",
    "\n",
    "tamcaja = tamcalles*ncalles\n",
    "u=[]\n",
    "ua=[]\n",
    "ub=[]\n",
    "  \n",
    "for i in range(0, int(niteraciones-1)):\n",
    "    for j in range(0, int(nautos)):\n",
    "        if ((direccion[i][j] == 1 or direccion[i][j]==3 ) and np.mod(posicionx[i][j],tamcalles)==0):\n",
    "            tipodecalle[i][j]=1\n",
    "        else:\n",
    "             tipodecalle[i][j]=2\n",
    "        \n",
    "        if velocidad[i][j] < 0:\n",
    "            velocidad[i][j] = 0\n",
    "        if velocidad[i][j] > vmax:\n",
    "            velocidad[i][j] = vmax\n",
    "        \n",
    "########################################################################################################        \n",
    "        if direccion[i][j] == 1: # SI EL AUTO SE MUEVE ENDIRECCION NORTE\n",
    "            u=np.array([tamcalles*100,0,0])\n",
    "            ua=np.array([tamcalles*100,0,0])\n",
    "            ub=np.array([tamcalles*100,0,0])  \n",
    "            \n",
    "            for k in range(0, int(nautos)): # DISTANCIA CIRCULAR\n",
    "                if direccion[i][k] == 2: # verificar que esten en direcciones perpendiculares(VER. DIRECCION ESTE)\n",
    "                    if posiciony[i][k] - posiciony[i][j] > 0: # verificar que esten cerca hacia arriba\n",
    "                        if posiciony[i][k] - posiciony[i][j] < 10: # verificar que se encuentre al menos a 10 m hacia arriba\n",
    "                            if posicionx[i][j]-posicionx[i][k] < 7: # verificar que esten al menos 7 m separados horizontalmente\n",
    "                                if posicionx[i][j]-posicionx[i][k] > 0:\n",
    "                                    ua[1] = posicionx[i][j] - posicionx[i][k] # guardar el valor de esa distancia de lado\n",
    "                                    if ua[1] <= ua[0]: # verificar que esa distancia sea menor que la iteracion pasada\n",
    "                                        ua[0] = ua[1] #  la distancia menor se va  guardando en ua(1,1)\n",
    "                                        ua[2] = posiciony[i][k]-posiciony[i][j]\n",
    "                if direccion[i][k] == 4: #verificar que esten en direcciones perpendiculares (VER. DIRECCION OESTE)\n",
    "                    if posiciony[i][k]-posiciony[i][j]>0: #verificar que esten cerca hacia arriba\n",
    "                        if posiciony[i][k]-posiciony[i][j]<10: # verificar que se encuentre al menos a 10 m hacia arriba\n",
    "                            if posicionx[i][k]-posicionx[i][j]<7: #verificar que esten al menos 7 m separados horizontalmente\n",
    "                                if posicionx[i][k]-posicionx[i][j]>0: #\n",
    "                                    ub[1]=posicionx[i][k]-posicionx[i][j]# guardar el valor de esa distancia de lado\n",
    "                                    if ub[1]<ub[0]: #verificar que esa distancia sea menor que la iteracion pasada\n",
    "                                        ub[0]=ub[1] # la distancia menor se va  guardando en ub(1,1)\n",
    "                                        ub[2]=posiciony[i][k]-posiciony[i][j] #la distancia vertical entre los autos se guarda\n",
    "                                \n",
    "\n",
    "            for k in range(0, int(nautos)):     #DETERMINAR DISTANCIA DE AUTO DE FRENTE\n",
    "                if direccion[i][k] == 1: # verificar cuales estan en la misma direccion\n",
    "                    if abs(posicionx[i][j] - posicionx[i][k]) < 1 : #verificar que esten en la misma coordenada X\n",
    "                        if posiciony[i][k] - posiciony[i][j] > 0: #verificar que se encuentre en frente\n",
    "                            u[1]=posiciony[i][k] - posiciony[i][j]\n",
    "                            if u[1]<= u[0] and u[1] > 0:\n",
    "                                u[0]=u[1]\n",
    "                                u[2]=velocidad[i][k]\n",
    "            \n",
    "            distanciacirculo=min(ua[0],ub[0])\n",
    "            \n",
    "            if distanciacirculo<0:\n",
    "                distanciacirculo =100\n",
    "            if min(ua[0],ub[0])== ua[0]:\n",
    "                ud= ua[2]\n",
    "            if min(ua[0],ub[0])== ub[0]:\n",
    "                ud= ub[2]\n",
    "                \n",
    "            distanciafrente=u[0]         \n",
    "            distanciaesquina=tamcalles-np.mod(posiciony[i][j],tamcalles)\n",
    "            er=i\n",
    "            posiciony[i+1][j]=posiciony[i][j]+velocidad[i][j]*duraciondeiteracion+(aceleracion[i][j]*duraciondeiteracion**2)/2\n",
    "                    \n",
    "            #if posiciony[i+1][j]<posiciony[i][j]:\n",
    "                #posiciony[i+1][j]=posiciony[i][j]\n",
    "                \n",
    "            if posiciony[i+1][j]>=tamcaja+tamcalles/2:\n",
    "                posiciony[i+1][j]=tamcalles/2\n",
    "  \n",
    "            \n",
    "            posicionx[i+1][j]=posicionx[i][j]\n",
    "            \n",
    "            if tipodecalle[i][j]==1 :\n",
    "                if distanciafrente<espminimo :\n",
    "                    velocidad[i+1][j]=u[2]\n",
    "                    aceleracion[i+1][j]=0\n",
    "                if distanciafrente>=espminimo :\n",
    "                    aceleracion[i+1][j]=aceleracionpromedio\n",
    "                    velocidad[i+1][j]=velocidad[i][j]+aceleracionpromedio*duraciondeiteracion\n",
    "\n",
    "            if tipodecalle[i][j]==2 :\n",
    "                if min(distanciacirculo,distanciafrente)==distanciafrente :\n",
    "                    if distanciafrente<espminimo :\n",
    "                        velocidad[i+1][j]=u[2]\n",
    "                        aceleracion[i+1][j]=0\n",
    "                    if distanciafrente>=espminimo :\n",
    "                        aceleracion[i+1][j]=aceleracionpromedio\n",
    "                        velocidad[i+1][j]=velocidad[i][j]+aceleracionpromedio*duraciondeiteracion\n",
    "\n",
    "                if min(distanciacirculo,distanciafrente)== distanciacirculo :\n",
    "                    if distanciaesquina<=14 and distanciaesquina >5 :\n",
    "                        aceleracion[i+1][j]=aceleracionpromedio*(-.5)\n",
    "                        velocidad[i+1][j]=velocidad[i][j]+ aceleracion[i+1][j]*duraciondeiteracion\n",
    "                  \n",
    "                    if distanciaesquina<=5 and distanciaesquina >3 :\n",
    "                        aceleracion[i+1][j]=aceleracionpromedio*(-2)\n",
    "                        velocidad[i+1][j]=velocidad[i][j]+ aceleracion[i+1][j]*duraciondeiteracion\n",
    "                  \n",
    "                    if distanciaesquina<=3 and distanciaesquina >.5 :\n",
    "                        aceleracion[i+1][j]=aceleracionpromedio*(-4)\n",
    "                        velocidad[i+1][j]=velocidad[i][j]+ aceleracion[i+1][j]*duraciondeiteracion\n",
    "                  \n",
    "                    if distanciaesquina<=.5 and distanciaesquina >0 :\n",
    "                        aceleracion[i+1][j]=0\n",
    "                        velocidad[i+1][j]=0\n",
    "                  \n",
    "            direccion[i+1][j]=direccion[i][j]\n",
    "            if distanciaesquina<0.5 :\n",
    "                m=np.random.rand()\n",
    "                if m>=.5 :\n",
    "                    direccion[i+1][j]= 1\n",
    "                    posicionx[i+1][j]=posicionx[i][j]\n",
    "              \n",
    "                if m<.5 and m>=.25 :\n",
    "                    direccion[i+1][j]= 2\n",
    "                    posicionx[i+1][j]=posicionx[i][j]\n",
    "                    posiciony[i+1][j]=int((np.mod(posiciony[i][j],1)-1)*(-1)+posiciony[i][j])\n",
    "                    velocidad[i+1][j]=2\n",
    "              \n",
    "                if m<.25 and m>=0 :\n",
    "                    direccion[i+1][j]= 4\n",
    "                    posicionx[i+1][j]=posicionx[i][j]\n",
    "                    posiciony[i+1][j]=int((np.mod(posiciony[i][j],1)-1)*(-1)+posiciony[i][j])\n",
    "                    velocidad[i+1][j]=2\n",
    "                    \n",
    "########################################################################################################        \n",
    "        if direccion[i][j] == 3: # SI EL AUTO SE MUEVE ENDIRECCION SUR\n",
    "            u=np.array([tamcalles*100,0,0])\n",
    "            ua=np.array([tamcalles*100,0,0])\n",
    "            ub=np.array([tamcalles*100,0,0])\n",
    "            \n",
    "            for k in range(0, int(nautos)): # DISTANCIA CIRCULAR\n",
    "                if direccion[i][k] == 2: # verificar que esten en direcciones perpendiculares(VER. DIRECCION ESTE)\n",
    "                    if posiciony[i][j] - posiciony[i][k] > 0: # verificar que esten cerca hacia arriba\n",
    "                        if posiciony[i][j] - posiciony[i][k] < 10: # verificar que se encuentre al menos a 10 m hacia arriba\n",
    "                            if posicionx[i][j]-posicionx[i][k] < 7: # verificar que esten al menos 7 m separados horizontalmente\n",
    "                                if posicionx[i][j]-posicionx[i][k] > 0:\n",
    "                                    ua[1] = posicionx[i][j] - posicionx[i][k] # guardar el valor de esa distancia de lado\n",
    "                                    if ua[1] <= ua[0]: # verificar que esa distancia sea menor que la iteracion pasada\n",
    "                                        ua[0] = ua[1] #  la distancia menor se va  guardando en ua(1,1)\n",
    "                                        ua[2] = -posiciony[i][k]+posiciony[i][j]\n",
    "                if direccion[i][k] == 4: #verificar que esten en direcciones perpendiculares (VER. DIRECCION OESTE)\n",
    "                    if posiciony[i][j]-posiciony[i][k]>0: #verificar que esten cerca hacia arriba\n",
    "                        if posiciony[i][j]-posiciony[i][k]<10: # verificar que se encuentre al menos a 10 m hacia arriba\n",
    "                            if posicionx[i][k]-posicionx[i][j]<7: #verificar que esten al menos 7 m separados horizontalmente\n",
    "                                if posicionx[i][k]-posicionx[i][j]>0: #\n",
    "                                    ub[1]=posicionx[i][k]-posicionx[i][j]# guardar el valor de esa distancia de lado\n",
    "                                    if ub[1]<ub[0]: #verificar que esa distancia sea menor que la iteracion pasada\n",
    "                                        ub[0]=ub[1] # la distancia menor se va  guardando en ub(1,1)\n",
    "                                        ub[2]=-posiciony[i][k]+posiciony[i][j] #la distancia vertical entre los autos se guarda\n",
    "                                \n",
    "\n",
    "            for k in range(0, int(nautos)):     #DETERMINAR DISTANCIA DE AUTO DE FRENTE\n",
    "                if direccion[i][k] == 3: # verificar cuales estan en la misma direccion\n",
    "                    if abs(posicionx[i][k] - posicionx[i][j]) < 1 : #verificar que esten en la misma coordenada X\n",
    "                        if posiciony[i][j] - posiciony[i][k] > 0: #verificar que se encuentre en frente\n",
    "                            u[1]=posiciony[i][j] - posiciony[i][k]\n",
    "                            if u[1]<= u[0] and u[1] > 0:\n",
    "                                u[0]=u[1]\n",
    "                                u[2]=velocidad[i][k]\n",
    "            \n",
    "            distanciacirculo=min(ua[0],ub[0])\n",
    "            \n",
    "            if distanciacirculo<0:\n",
    "                distanciacirculo =100\n",
    "            if min(ua[0],ub[0])== ua[0]:\n",
    "                ud= ua[2]\n",
    "            if min(ua[0],ub[0])== ub[0]:\n",
    "                ud= ub[2]\n",
    "                \n",
    "            distanciafrente=u[0]         \n",
    "            distanciaesquina=np.mod(posiciony[i][j],tamcalles)\n",
    "            er=i\n",
    "            posiciony[i+1][j]=posiciony[i][j]-(velocidad[i][j]*duraciondeiteracion+(aceleracion[i][j]*duraciondeiteracion**2)/2)\n",
    "                    \n",
    "            #if posiciony[i+1][j]>posiciony[i][j]:\n",
    "               # posiciony[i+1][j]=posiciony[i][j]\n",
    "\n",
    "            if posiciony[i+1][j]<=tamcalles/2:\n",
    "                posiciony[i+1][j]=tamcaja+tamcalles/2    \n",
    "            \n",
    "            posicionx[i+1][j]=posicionx[i][j]\n",
    "            \n",
    "            if tipodecalle[i][j]==1 :\n",
    "                if distanciafrente<espminimo :\n",
    "                    velocidad[i+1][j]=u[2]\n",
    "                    aceleracion[i+1][j]=0\n",
    "                if distanciafrente>=espminimo :\n",
    "                    aceleracion[i+1][j]=aceleracionpromedio\n",
    "                    velocidad[i+1][j]=velocidad[i][j]+aceleracionpromedio*duraciondeiteracion\n",
    "\n",
    "            if tipodecalle[i][j]==2 :\n",
    "                if min(distanciacirculo,distanciafrente)==distanciafrente :\n",
    "                    if distanciafrente<espminimo :\n",
    "                        velocidad[i+1][j]=u[2]\n",
    "                        aceleracion[i+1][j]=0\n",
    "                    if distanciafrente>=espminimo :\n",
    "                        aceleracion[i+1][j]=aceleracionpromedio\n",
    "                        velocidad[i+1][j]=velocidad[i][j]+aceleracionpromedio*duraciondeiteracion\n",
    "\n",
    "                if min(distanciacirculo,distanciafrente)== distanciacirculo :\n",
    "                    if distanciaesquina<=14 and distanciaesquina >5 :\n",
    "                        aceleracion[i+1][j]=aceleracionpromedio*(-.5)\n",
    "                        velocidad[i+1][j]=velocidad[i][j]+ aceleracion[i+1][j]*duraciondeiteracion\n",
    "                  \n",
    "                    if distanciaesquina<=5 and distanciaesquina >3 :\n",
    "                        aceleracion[i+1][j]=aceleracionpromedio*(-2)\n",
    "                        velocidad[i+1][j]=velocidad[i][j]+ aceleracion[i+1][j]*duraciondeiteracion\n",
    "                  \n",
    "                    if distanciaesquina<=3 and distanciaesquina >.5 :\n",
    "                        aceleracion[i+1][j]=aceleracionpromedio*(-4)\n",
    "                        velocidad[i+1][j]=velocidad[i][j]+ aceleracion[i+1][j]*duraciondeiteracion\n",
    "                  \n",
    "                    if distanciaesquina<=.5 and distanciaesquina >0 :\n",
    "                        aceleracion[i+1][j]=0\n",
    "                        velocidad[i+1][j]=0\n",
    "                  \n",
    "            direccion[i+1][j]=direccion[i][j]\n",
    "            if distanciaesquina<0.5 :\n",
    "                m=np.random.rand()\n",
    "                if m>=.5 :\n",
    "                    direccion[i+1][j]= 3\n",
    "                    posicionx[i+1][j]=posicionx[i][j]\n",
    "              \n",
    "                if m<.5 and m>=.25 :\n",
    "                    direccion[i+1][j]= 2\n",
    "                    posicionx[i+1][j]=posicionx[i][j]\n",
    "                    posiciony[i+1][j]=int(posiciony[i][j]-(np.mod(posiciony[i][j],tamcalles)-1))\n",
    "                    velocidad[i+1][j]=2\n",
    "              \n",
    "                if m<.25 and m>=0 :\n",
    "                    direccion[i+1][j]= 4\n",
    "                    posicionx[i+1][j]=posicionx[i][j]\n",
    "                    posiciony[i+1][j]=int(posiciony[i][j]-(np.mod(posiciony[i][j],tamcalles)-1))\n",
    "                    velocidad[i+1][j]=2\n",
    "\n",
    "########################################################################################################        \n",
    "        if direccion[i][j] == 2: # SI EL AUTO SE MUEVE ENDIRECCION ESTE\n",
    "            u=np.array([tamcalles*100,0,0])\n",
    "            ua=np.array([tamcalles*100,0,0])\n",
    "            ub=np.array([tamcalles*100,0,0])  \n",
    "            \n",
    "            for k in range(0, int(nautos)): # DISTANCIA CIRCULAR\n",
    "                if direccion[i][k] == 1: # verificar que esten en direcciones perpendiculares(VER. DIRECCION ESTE)\n",
    "                    if posicionx[i][k] - posicionx[i][j] > 0: # verificar que esten cerca hacia derecha\n",
    "                        if posicionx[i][k] - posicionx[i][j] < 10: # verificar que se encuentre al menos a 10 m hacia derecha\n",
    "                            if posiciony[i][j]-posiciony[i][k] < 7: # verificar que esten al menos 7 m separados verticalmente\n",
    "                                if posiciony[i][j]-posiciony[i][k] > 0:\n",
    "                                    ua[1] = posiciony[i][j] - posiciony[i][k] # guardar el valor de esa distancia de lado\n",
    "                                    if ua[1] <= ua[0]: # verificar que esa distancia sea menor que la iteracion pasada\n",
    "                                        ua[0] = ua[1] #  la distancia menor se va  guardando en ua(1,1)\n",
    "                                        ua[2] = posicionx[i][k]-posicionx[i][j]\n",
    "                if direccion[i][k] == 3: #verificar que esten en direcciones perpendiculares (VER. DIRECCION OESTE)\n",
    "                    if posicionx[i][k]-posicionx[i][j]>0: #verificar que esten cerca hacia arriba\n",
    "                        if posicionx[i][k]-posicionx[i][j]<10: # verificar que se encuentre al menos a 10 m hacia arriba\n",
    "                            if posiciony[i][k]-posiciony[i][j]<7: #verificar que esten al menos 7 m separados horizontalmente\n",
    "                                if posiciony[i][k]-posiciony[i][j]>0: #\n",
    "                                    ub[1]=posiciony[i][k]-posiciony[i][j]# guardar el valor de esa distancia de lado\n",
    "                                    if ub[1]<ub[0]: #verificar que esa distancia sea menor que la iteracion pasada\n",
    "                                        ub[0]=ub[1] # la distancia menor se va  guardando en ub(1,1)\n",
    "                                        ub[2]=posicionx[i][k]-posicionx[i][j] #la distancia vertical entre los autos se guarda\n",
    "                                \n",
    "\n",
    "            for k in range(0, int(nautos)):     #DETERMINAR DISTANCIA DE AUTO DE FRENTE\n",
    "                if direccion[i][k] == 2: # verificar cuales estan en la misma direccion\n",
    "                    if abs(posiciony[i][j] - posiciony[i][k]) < 1 : #verificar que esten en la misma coordenada X\n",
    "                        if posicionx[i][k] - posicionx[i][j] > 0: #verificar que se encuentre en frente\n",
    "                            u[1]=posicionx[i][k] - posicionx[i][j]\n",
    "                            if u[1]<= u[0] and u[1] > 0:\n",
    "                                u[0]=u[1]\n",
    "                                u[2]=velocidad[i][k]\n",
    "            \n",
    "            distanciacirculo=min(ua[0],ub[0])\n",
    "            \n",
    "            if distanciacirculo<0:\n",
    "                distanciacirculo =100\n",
    "            if min(ua[0],ub[0])== ua[0]:\n",
    "                ud= ua[2]\n",
    "            if min(ua[0],ub[0])== ub[0]:\n",
    "                ud= ub[2]\n",
    "                \n",
    "            distanciafrente=u[0]         \n",
    "            distanciaesquina=tamcalles-np.mod(posicionx[i][j],tamcalles)\n",
    "            er=i\n",
    "            posicionx[i+1][j]=posicionx[i][j]+velocidad[i][j]*duraciondeiteracion+(aceleracion[i][j]*duraciondeiteracion**2)/2\n",
    "                    \n",
    "            #if posicionx[i+1][j]<posicionx[i][j]:\n",
    "                #posicionx[i+1][j]=posicionx[i][j]\n",
    "                \n",
    "            if posicionx[i+1][j]>=tamcaja+tamcalles/2:\n",
    "                posicionx[i+1][j]=tamcalles/2\n",
    "  \n",
    "            \n",
    "            posiciony[i+1][j]=posiciony[i][j]\n",
    "            \n",
    "            if tipodecalle[i][j]==1 :\n",
    "                if distanciafrente<espminimo :\n",
    "                    velocidad[i+1][j]=u[2]\n",
    "                    aceleracion[i+1][j]=0\n",
    "                if distanciafrente>=espminimo :\n",
    "                    aceleracion[i+1][j]=aceleracionpromedio\n",
    "                    velocidad[i+1][j]=velocidad[i][j]+aceleracionpromedio*duraciondeiteracion\n",
    "\n",
    "            if tipodecalle[i][j]==2 :\n",
    "                if min(distanciacirculo,distanciafrente)==distanciafrente :\n",
    "                    if distanciafrente<espminimo :\n",
    "                        velocidad[i+1][j]=u[2]\n",
    "                        aceleracion[i+1][j]=0\n",
    "                    if distanciafrente>=espminimo :\n",
    "                        aceleracion[i+1][j]=aceleracionpromedio\n",
    "                        velocidad[i+1][j]=velocidad[i][j]+aceleracionpromedio*duraciondeiteracion\n",
    "\n",
    "                if min(distanciacirculo,distanciafrente)== distanciacirculo :\n",
    "                    if distanciaesquina<=14 and distanciaesquina >5 :\n",
    "                        aceleracion[i+1][j]=aceleracionpromedio*(-.5)\n",
    "                        velocidad[i+1][j]=velocidad[i][j]+ aceleracion[i+1][j]*duraciondeiteracion\n",
    "                  \n",
    "                    if distanciaesquina<=5 and distanciaesquina >3 :\n",
    "                        aceleracion[i+1][j]=aceleracionpromedio*(-2)\n",
    "                        velocidad[i+1][j]=velocidad[i][j]+ aceleracion[i+1][j]*duraciondeiteracion\n",
    "                  \n",
    "                    if distanciaesquina<=3 and distanciaesquina >.5 :\n",
    "                        aceleracion[i+1][j]=aceleracionpromedio*(-4)\n",
    "                        velocidad[i+1][j]=velocidad[i][j]+ aceleracion[i+1][j]*duraciondeiteracion\n",
    "                  \n",
    "                    if distanciaesquina<=.5 and distanciaesquina >0 :\n",
    "                        aceleracion[i+1][j]=0\n",
    "                        velocidad[i+1][j]=0\n",
    "                  \n",
    "            direccion[i+1][j]=direccion[i][j]\n",
    "            if distanciaesquina<0.5 :\n",
    "                m=np.random.rand()\n",
    "                if m>=.5 :\n",
    "                    direccion[i+1][j]= 2\n",
    "                    posiciony[i+1][j]=posiciony[i][j]\n",
    "              \n",
    "                if m<.5 and m>=.25 :\n",
    "                    direccion[i+1][j]= 1\n",
    "                    posiciony[i+1][j]=posiciony[i][j]\n",
    "                    posicionx[i+1][j]=int((np.mod(posicionx[i][j],1)-1)*(-1)+posicionx[i][j])\n",
    "                    velocidad[i+1][j]=2\n",
    "              \n",
    "                if m<.25 and m>=0 :\n",
    "                    direccion[i+1][j]= 3\n",
    "                    posiciony[i+1][j]=posiciony[i][j]\n",
    "                    posicionx[i+1][j]=int((np.mod(posicionx[i][j],1)-1)*(-1)+posicionx[i][j])\n",
    "                    velocidad[i+1][j]=2\n",
    "\n",
    "                    ########################################################################################################        \n",
    "        if direccion[i][j] == 4: # SI EL AUTO SE MUEVE ENDIRECCION OESTE\n",
    "            u=np.array([tamcalles*100,0,0])\n",
    "            ua=np.array([tamcalles*100,0,0])\n",
    "            ub=np.array([tamcalles*100,0,0])\n",
    "            \n",
    "            for k in range(0, int(nautos)): # DISTANCIA CIRCULAR\n",
    "                if direccion[i][k] == 1: # verificar que esten en direcciones perpendiculares(VER. DIRECCION ESTE)\n",
    "                    if posicionx[i][j] - posicionx[i][k] > 0: # verificar que esten cerca hacia \n",
    "                        if posicionx[i][j] - posicionx[i][k] < 10: # verificar que se encuentre al menos a 10 m \n",
    "                            if posiciony[i][j]-posiciony[i][k] < 7: # verificar que esten al menos 7 m separados\n",
    "                                if posiciony[i][j]-posiciony[i][k] > 0:\n",
    "                                    ua[1] = posiciony[i][j] - posiciony[i][k] # guardar el valor de esa distancia de lado\n",
    "                                    if ua[1] <= ua[0]: # verificar que esa distancia sea menor que la iteracion pasada\n",
    "                                        ua[0] = ua[1] #  la distancia menor se va  guardando en ua(1,1)\n",
    "                                        ua[2] = -posicionx[i][k]+posicionx[i][j]\n",
    "                if direccion[i][k] == 3: #verificar que esten en direcciones perpendiculares (VER. DIRECCION OESTE)\n",
    "                    if posicionx[i][j]-posicionx[i][k]>0: #verificar que esten cerca hacia arrba\n",
    "                        if posicionx[i][j]-posicionx[i][k]<10: # verificar que se encuentre al menos a 10 m hacia \n",
    "                            if posiciony[i][k]-posiciony[i][j]<7: #verificar que esten al menos 7 m separados \n",
    "                                if posiciony[i][k]-posiciony[i][j]>0: #\n",
    "                                    ub[1]=posiciony[i][k]-posiciony[i][j]# guardar el valor de esa distancia de lado\n",
    "                                    if ub[1]<ub[0]: #verificar que esa distancia sea menor que la iteracion pasada\n",
    "                                        ub[0]=ub[1] # la distancia menor se va  guardando en ub(1,1)\n",
    "                                        ub[2]=-posicionx[i][k]+posicionx[i][j] #la distancia vertical entre los autos se guarda\n",
    "                                \n",
    "\n",
    "            for k in range(0, int(nautos)):     #DETERMINAR DISTANCIA DE AUTO DE FRENTE\n",
    "                if direccion[i][k] == 4: # verificar cuales estan en la misma direccion\n",
    "                    if abs(posiciony[i][k] - posiciony[i][j]) < 1 : #verificar que esten en la misma coordenada X\n",
    "                        if posicionx[i][j] - posicionx[i][k] > 0: #verificar que se encuentre en frente\n",
    "                            u[1]=posicionx[i][j] - posicionx[i][k]\n",
    "                            if u[1]<= u[0] and u[1] > 0:\n",
    "                                u[0]=u[1]\n",
    "                                u[2]=velocidad[i][k]\n",
    "            \n",
    "            distanciacirculo=min(ua[0],ub[0])\n",
    "            \n",
    "            if distanciacirculo<0:\n",
    "                distanciacirculo =100\n",
    "            if min(ua[0],ub[0])== ua[0]:\n",
    "                ud= ua[2]\n",
    "            if min(ua[0],ub[0])== ub[0]:\n",
    "                ud= ub[2]\n",
    "                \n",
    "            distanciafrente=u[0]         \n",
    "            distanciaesquina=np.mod(posicionx[i][j],tamcalles)\n",
    "            er=i\n",
    "            posicionx[i+1][j]=posicionx[i][j]-(velocidad[i][j]*duraciondeiteracion+(aceleracion[i][j]*duraciondeiteracion**2)/2)\n",
    "                    \n",
    "            #if posicionx[i+1][j]>posicionx[i][j]:\n",
    "                #posicionx[i+1][j]=posicionx[i][j]\n",
    "                \n",
    "            if posicionx[i+1][j]<=tamcalles/2:\n",
    "                posicionx[i+1][j]=tamcaja+tamcalles/2   \n",
    "            \n",
    "            posiciony[i+1][j]=posiciony[i][j]\n",
    "            \n",
    "            if tipodecalle[i][j]==1 :\n",
    "                if distanciafrente<espminimo :\n",
    "                    velocidad[i+1][j]=u[2]\n",
    "                    aceleracion[i+1][j]=0\n",
    "                if distanciafrente>=espminimo :\n",
    "                    aceleracion[i+1][j]=aceleracionpromedio\n",
    "                    velocidad[i+1][j]=velocidad[i][j]+aceleracionpromedio*duraciondeiteracion\n",
    "\n",
    "            if tipodecalle[i][j]==2 :\n",
    "                if min(distanciacirculo,distanciafrente)==distanciafrente :\n",
    "                    if distanciafrente<espminimo :\n",
    "                        velocidad[i+1][j]=u[2]\n",
    "                        aceleracion[i+1][j]=0\n",
    "                    if distanciafrente>=espminimo :\n",
    "                        aceleracion[i+1][j]=aceleracionpromedio\n",
    "                        velocidad[i+1][j]=velocidad[i][j]+aceleracionpromedio*duraciondeiteracion\n",
    "\n",
    "                if min(distanciacirculo,distanciafrente)== distanciacirculo :\n",
    "                    if distanciaesquina<=14 and distanciaesquina >5 :\n",
    "                        aceleracion[i+1][j]=aceleracionpromedio*(-.5)\n",
    "                        velocidad[i+1][j]=velocidad[i][j]+ aceleracion[i+1][j]*duraciondeiteracion\n",
    "                  \n",
    "                    if distanciaesquina<=5 and distanciaesquina >3 :\n",
    "                        aceleracion[i+1][j]=aceleracionpromedio*(-2)\n",
    "                        velocidad[i+1][j]=velocidad[i][j]+ aceleracion[i+1][j]*duraciondeiteracion\n",
    "                  \n",
    "                    if distanciaesquina<=3 and distanciaesquina >.5 :\n",
    "                        aceleracion[i+1][j]=aceleracionpromedio*(-4)\n",
    "                        velocidad[i+1][j]=velocidad[i][j]+ aceleracion[i+1][j]*duraciondeiteracion\n",
    "                  \n",
    "                    if distanciaesquina<=.5 and distanciaesquina >0 :\n",
    "                        aceleracion[i+1][j]=0\n",
    "                        velocidad[i+1][j]=0\n",
    "                  \n",
    "            direccion[i+1][j]=direccion[i][j]\n",
    "            if distanciaesquina<0.5 :\n",
    "                m=np.random.rand()\n",
    "                if m>=.5 :\n",
    "                    direccion[i+1][j]= 4\n",
    "                    posiciony[i+1][j]=posiciony[i][j]\n",
    "              \n",
    "                if m<.5 and m>=.25 :\n",
    "                    direccion[i+1][j]= 1\n",
    "                    posiciony[i+1][j]=posiciony[i][j]\n",
    "                    posicionx[i+1][j]=int(posicionx[i][j]-(np.mod(posicionx[i][j],tamcalles)-1))\n",
    "                    velocidad[i+1][j]=2\n",
    "              \n",
    "                if m<.25 and m>=0 :\n",
    "                    direccion[i+1][j]= 3\n",
    "                    posiciony[i+1][j]=posiciony[i][j]\n",
    "                    posicionx[i+1][j]=int(posicionx[i][j]-(np.mod(posicionx[i][j],tamcalles)-1))\n",
    "                    velocidad[i+1][j]=2\n"
   ]
  },
  {
   "cell_type": "markdown",
   "metadata": {},
   "source": [
    "Se generan arreglos para guardar la velocidad y aceleracion de cada auto en cada iteracion de la simulacion"
   ]
  },
  {
   "cell_type": "code",
   "execution_count": 63,
   "metadata": {},
   "outputs": [],
   "source": [
    "vx = np.arange(niteraciones*nautos)\n",
    "vx.shape = (int(niteraciones),int(nautos))\n",
    "\n",
    "ax = np.arange(niteraciones*nautos)\n",
    "ax.shape = (int(niteraciones),int(nautos))\n"
   ]
  },
  {
   "cell_type": "markdown",
   "metadata": {},
   "source": [
    "Se calcula la velocidad y la aceleracion de cada auto de acuerdo al arreglo que contiene la informacion de la posicion de los autos en cada instante de la simulacion"
   ]
  },
  {
   "cell_type": "code",
   "execution_count": 64,
   "metadata": {},
   "outputs": [],
   "source": [
    "for k in range(0,nautos):\n",
    "    for i in range (1,int(niteraciones)):\n",
    "        d=pow((posicionx[i][k]-posicionx[i-1][k])**2+(posiciony[i][k]-posiciony[i-1][k])**2,0.5)\n",
    "        if d>tamcalles:\n",
    "            d=.1\n",
    "        vx[i-1][k]=d/duritera\n",
    "        \n",
    "for k in range(0,nautos):\n",
    "    for i in range (1,int(niteraciones-1)):\n",
    "        a=abs((vx[i][k]-vx[i-1][k]))/duritera\n",
    "        ax[i-1][k]=(a)\n",
    "        "
   ]
  },
  {
   "cell_type": "markdown",
   "metadata": {},
   "source": [
    "Se crea una funcion para obtener el Indice de Revoluciones por minuto del modelo IVE"
   ]
  },
  {
   "cell_type": "code",
   "execution_count": 68,
   "metadata": {},
   "outputs": [],
   "source": [
    "def irpm(v, vsp):\n",
    "    c = 0.9\n",
    "    if v>=0 and v<5.4 :\n",
    "        c = 3\n",
    "    if v>=5.4 and v<8.5 and vsp>=-20 and vsp <16:\n",
    "        c = 5\n",
    "    if v>=5.4 and v<8.5 and vsp>=16 and vsp <400:\n",
    "        c = 3\n",
    "    if v>=8.5 and v<12.5 and vsp>=-20 and vsp <16:\n",
    "        c = 7\n",
    "    if v>=8.5 and v<12.5 and vsp>=16 and vsp <400:\n",
    "        c = 5\n",
    "    if v>=12.5 and v<50 and vsp>=-20 and vsp <16:\n",
    "        c = 13\n",
    "    if v>=12.5 and v<50 and vsp>=16 and vsp <400:\n",
    "        c = 5\n",
    "    return c\n",
    "        \n",
    "\n",
    "        "
   ]
  },
  {
   "cell_type": "markdown",
   "metadata": {},
   "source": [
    "Se evalua el VSP para cada auto en cada instante de la simulacion y se guarda en un arreglo, se obtiene el promedio de este arreglo y, ademas, se promedia con los demas valores promedio de VSP de los demas autos. Se hace el mismo procedimiento con el valor del Stress calculado."
   ]
  },
  {
   "cell_type": "code",
   "execution_count": 69,
   "metadata": {},
   "outputs": [],
   "source": [
    "vsp = []\n",
    "st = []\n",
    "for i in range(0,nautos):\n",
    "    vspind = vx[:][i]*(1.1*ax[:][i]+0.132) + 0.0000302*vx[:][i]**3\n",
    "    hola = np.mean(vspind)\n",
    "    if hola>100:\n",
    "        hola=100\n",
    "    vsp.append(hola)\n",
    "    \n",
    "    stress2=[]\n",
    "    \n",
    "    for j in range(0,len(vspind)-25):\n",
    "        potprom = np.mean(vspind[j:24+j])\n",
    "        indicerpm = vx[j][i]*irpm(vx[j][i],potprom)\n",
    "        stress = indicerpm + 0.08*potprom\n",
    "        stress2.append(stress)\n",
    "        \n",
    "    s = np.mean(stress2)\n",
    "    st.append(s)"
   ]
  },
  {
   "cell_type": "markdown",
   "metadata": {},
   "source": [
    "Como ejemplo, graficamos el histograma del VSP para un solo vehiculo en un histograma de 20 bins de -80 a 100, como señala el modelo IVE."
   ]
  },
  {
   "cell_type": "code",
   "execution_count": 65,
   "metadata": {},
   "outputs": [],
   "source": [
    "i=0"
   ]
  },
  {
   "cell_type": "code",
   "execution_count": 66,
   "metadata": {},
   "outputs": [],
   "source": [
    "cd = vx[:][i]*(1.1*ax[:][i]+0.132) + 0.0000302*vx[:][i]**3"
   ]
  },
  {
   "cell_type": "code",
   "execution_count": 2,
   "metadata": {},
   "outputs": [
    {
     "ename": "NameError",
     "evalue": "name 'plt' is not defined",
     "output_type": "error",
     "traceback": [
      "\u001b[0;31m---------------------------------------------------------------------------\u001b[0m",
      "\u001b[0;31mNameError\u001b[0m                                 Traceback (most recent call last)",
      "\u001b[0;32m<ipython-input-2-0fe0a41359a6>\u001b[0m in \u001b[0;36m<module>\u001b[0;34m()\u001b[0m\n\u001b[0;32m----> 1\u001b[0;31m \u001b[0mplt\u001b[0m\u001b[0;34m.\u001b[0m\u001b[0mhist\u001b[0m\u001b[0;34m(\u001b[0m\u001b[0mcd\u001b[0m\u001b[0;34m,\u001b[0m \u001b[0mbins\u001b[0m\u001b[0;34m=\u001b[0m\u001b[0;36m20\u001b[0m\u001b[0;34m,\u001b[0m \u001b[0mcolor\u001b[0m \u001b[0;34m=\u001b[0m \u001b[0;34m'c'\u001b[0m\u001b[0;34m,\u001b[0m \u001b[0mrange\u001b[0m\u001b[0;34m=\u001b[0m\u001b[0;34m[\u001b[0m\u001b[0;34m-\u001b[0m\u001b[0;36m80\u001b[0m\u001b[0;34m,\u001b[0m \u001b[0;36m100\u001b[0m\u001b[0;34m]\u001b[0m\u001b[0;34m)\u001b[0m\u001b[0;34m\u001b[0m\u001b[0m\n\u001b[0m",
      "\u001b[0;31mNameError\u001b[0m: name 'plt' is not defined"
     ]
    }
   ],
   "source": [
    "plt.hist(cd, bins=20, color = 'c', range=[-80, 100])"
   ]
  },
  {
   "cell_type": "markdown",
   "metadata": {},
   "source": [
    "Como ejemplo, graficamos el histograma de Stress de un solo vehiculo dividido en 60 bins de -1.6 a 12.6, como señala el modelo IVE."
   ]
  },
  {
   "cell_type": "code",
   "execution_count": 72,
   "metadata": {
    "scrolled": true
   },
   "outputs": [
    {
     "data": {
      "text/plain": [
       "(array([68., 83., 24.]),\n",
       " array([1.51295021, 1.52278223, 1.53261424, 1.54244625]),\n",
       " <a list of 3 Patch objects>)"
      ]
     },
     "execution_count": 72,
     "metadata": {},
     "output_type": "execute_result"
    },
    {
     "data": {
      "image/png": "[encoded data removed]",
      "text/plain": [
       "<Figure size 432x288 with 1 Axes>"
      ]
     },
     "metadata": {},
     "output_type": "display_data"
    }
   ],
   "source": [
    "plt.hist(stress2, bins=60, color = 'c', range=[-1.6, 12.6])"
   ]
  },
  {
   "cell_type": "markdown",
   "metadata": {},
   "source": [
    "Este histograma tambien se puede dividir en tres rangos que corresponden al nivel de estres Bajo, Medio o Alto,"
   ]
  },
  {
   "cell_type": "code",
   "execution_count": null,
   "metadata": {},
   "outputs": [],
   "source": [
    "plt.hist(stress2, bins=3, color = 'm', range=[-1.6, 12.6])"
   ]
  },
  {
   "cell_type": "markdown",
   "metadata": {},
   "source": [
    "Promedio del VSP para la simulacion"
   ]
  },
  {
   "cell_type": "code",
   "execution_count": 70,
   "metadata": {},
   "outputs": [
    {
     "data": {
      "text/plain": [
       "0.8240146856890536"
      ]
     },
     "execution_count": 70,
     "metadata": {},
     "output_type": "execute_result"
    }
   ],
   "source": [
    "np.mean(vsp)\n"
   ]
  },
  {
   "cell_type": "markdown",
   "metadata": {},
   "source": [
    "Promedio del Stress para la simulacion"
   ]
  },
  {
   "cell_type": "code",
   "execution_count": 71,
   "metadata": {},
   "outputs": [
    {
     "data": {
      "text/plain": [
       "7.0540348332409675"
      ]
     },
     "execution_count": 71,
     "metadata": {},
     "output_type": "execute_result"
    }
   ],
   "source": [
    "np.mean(st)"
   ]
  },
  {
   "cell_type": "markdown",
   "metadata": {},
   "source": [
    "Como ejemplo, se grafica las medias del VSP para cada vehiculo en una simulacion"
   ]
  },
  {
   "cell_type": "code",
   "execution_count": 73,
   "metadata": {},
   "outputs": [
    {
     "data": {
      "text/plain": [
       "[<matplotlib.lines.Line2D at 0x7ff20d839dd8>]"
      ]
     },
     "execution_count": 73,
     "metadata": {},
     "output_type": "execute_result"
    },
    {
     "data": {
      "image/png": "[encoded data removed]",
      "text/plain": [
       "<Figure size 432x288 with 1 Axes>"
      ]
     },
     "metadata": {},
     "output_type": "display_data"
    }
   ],
   "source": [
    "plt.plot(vsp)"
   ]
  },
  {
   "cell_type": "markdown",
   "metadata": {},
   "source": [
    "Como ejemplo, se grafica las medias del Stress para cada vehiculo en una simulacion"
   ]
  },
  {
   "cell_type": "code",
   "execution_count": 74,
   "metadata": {},
   "outputs": [
    {
     "data": {
      "text/plain": [
       "[<matplotlib.lines.Line2D at 0x7ff20d721a20>]"
      ]
     },
     "execution_count": 74,
     "metadata": {},
     "output_type": "execute_result"
    },
    {
     "data": {
      "image/png": "[encoded data removed]",
      "text/plain": [
       "<Figure size 432x288 with 1 Axes>"
      ]
     },
     "metadata": {},
     "output_type": "display_data"
    }
   ],
   "source": [
    "plt.plot(st)"
   ]
  },
  {
   "cell_type": "markdown",
   "metadata": {},
   "source": [
    "A continuacion se guardan los valores arrojados para VSP y Stress promedio de cada simulacion para comparar la influencia del cambio de parametros en cada simulacion. "
   ]
  },
  {
   "cell_type": "markdown",
   "metadata": {},
   "source": [
    "### Para un numero de calles de 10 en ambos sentidos"
   ]
  },
  {
   "cell_type": "markdown",
   "metadata": {},
   "source": [
    "Velocidades maximas de analisis"
   ]
  },
  {
   "cell_type": "code",
   "execution_count": 75,
   "metadata": {},
   "outputs": [],
   "source": [
    "velocidades = [10, 20, 30, 40, 50, 70] # km/hr"
   ]
  },
  {
   "cell_type": "markdown",
   "metadata": {},
   "source": [
    "Tamaño de calles en la simulacion"
   ]
  },
  {
   "cell_type": "code",
   "execution_count": null,
   "metadata": {},
   "outputs": [],
   "source": [
    "tamcalles= 50"
   ]
  },
  {
   "cell_type": "markdown",
   "metadata": {},
   "source": [
    "Se guardan los calores del VSP y Stress promedio de las simulaciones"
   ]
  },
  {
   "cell_type": "code",
   "execution_count": 76,
   "metadata": {},
   "outputs": [],
   "source": [
    "vsp0 = [0.7834511349361981, 3.3442723070353453, 5.395927759309825, 9.778574436580435, 11.128549878793715, 17.25075014836979]"
   ]
  },
  {
   "cell_type": "code",
   "execution_count": 77,
   "metadata": {},
   "outputs": [],
   "source": [
    "vsp1 = [0.82]"
   ]
  },
  {
   "cell_type": "code",
   "execution_count": 78,
   "metadata": {},
   "outputs": [],
   "source": [
    "stress1 = [7.05]"
   ]
  },
  {
   "cell_type": "markdown",
   "metadata": {},
   "source": [
    "tamcalles=200"
   ]
  },
  {
   "cell_type": "code",
   "execution_count": 79,
   "metadata": {},
   "outputs": [],
   "source": [
    "vsp02 = [0.6981081737687731, 1.61955572548649, 3.24016369816487, 5.238046976011572, 7.45981231609558, 12.77613096975363]"
   ]
  },
  {
   "cell_type": "code",
   "execution_count": 80,
   "metadata": {},
   "outputs": [],
   "source": [
    "vsp2 = []"
   ]
  },
  {
   "cell_type": "code",
   "execution_count": 81,
   "metadata": {},
   "outputs": [],
   "source": [
    "stress2 = []"
   ]
  },
  {
   "cell_type": "markdown",
   "metadata": {},
   "source": [
    "Se generan las graficas finales de comparacion"
   ]
  },
  {
   "cell_type": "code",
   "execution_count": 82,
   "metadata": {
    "scrolled": true
   },
   "outputs": [
    {
     "data": {
      "text/plain": [
       "'plt.plot(velocidades, vsp)\\nplt.plot(velocidades2, vsp2)'"
      ]
     },
     "execution_count": 82,
     "metadata": {},
     "output_type": "execute_result"
    }
   ],
   "source": [
    "'''plt.plot(velocidades, vsp)\n",
    "plt.plot(velocidades2, vsp2)'''"
   ]
  },
  {
   "cell_type": "code",
   "execution_count": 83,
   "metadata": {},
   "outputs": [
    {
     "data": {
      "text/plain": [
       "\"\\nwith open('posicionesx.csv', mode = 'w') as file:\\n    writer = csv.writer(file)\\n    for i in range(0, nautos):\\n        writer.writerow(posicionx[:][i])\\n        \\nwith open('posicionesy.csv', mode = 'w') as file:\\n    writer = csv.writer(file)\\n    for i in range(0, nautos):\\n        writer.writerow(posiciony[:][i])    \\n        \""
      ]
     },
     "execution_count": 83,
     "metadata": {},
     "output_type": "execute_result"
    }
   ],
   "source": [
    "'''\n",
    "with open('posicionesx.csv', mode = 'w') as file:\n",
    "    writer = csv.writer(file)\n",
    "    for i in range(0, nautos):\n",
    "        writer.writerow(posicionx[:][i])\n",
    "        \n",
    "with open('posicionesy.csv', mode = 'w') as file:\n",
    "    writer = csv.writer(file)\n",
    "    for i in range(0, nautos):\n",
    "        writer.writerow(posiciony[:][i])    \n",
    "        '''"
   ]
  }
 ],
 "metadata": {
  "kernelspec": {
   "display_name": "Python 3",
   "language": "python",
   "name": "python3"
  },
  "language_info": {
   "codemirror_mode": {
    "name": "ipython",
    "version": 3
   },
   "file_extension": ".py",
   "mimetype": "text/x-python",
   "name": "python",
   "nbconvert_exporter": "python",
   "pygments_lexer": "ipython3",
   "version": "3.6.5"
  }
 },
 "nbformat": 4,
 "nbformat_minor": 2
}
