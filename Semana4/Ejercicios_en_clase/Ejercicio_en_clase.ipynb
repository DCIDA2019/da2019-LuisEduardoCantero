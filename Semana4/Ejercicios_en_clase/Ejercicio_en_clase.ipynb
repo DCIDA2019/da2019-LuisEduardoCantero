{
 "cells": [
  {
   "cell_type": "markdown",
   "metadata": {},
   "source": [
    "# Semana 4"
   ]
  },
  {
   "cell_type": "code",
   "execution_count": 3,
   "metadata": {},
   "outputs": [],
   "source": [
    "# Aqui cargamos las liberias a usar\n",
    "\n",
    "import matplotlib.pyplot as plt\n",
    "import scipy.special\n",
    "import numpy as np\n",
    "import math\n",
    "%matplotlib inline"
   ]
  },
  {
   "cell_type": "markdown",
   "metadata": {},
   "source": [
    "## Distribucion de Poisson"
   ]
  },
  {
   "cell_type": "markdown",
   "metadata": {},
   "source": [
    "Guardamos 3 diferentes valores del parametro λ y tres valores diferentes de la variable 'x' para generar 3 graficas diferentes de la funcion de Poisson."
   ]
  },
  {
   "cell_type": "code",
   "execution_count": 16,
   "metadata": {},
   "outputs": [],
   "source": [
    "mu1 = 4\n",
    "xf = 25"
   ]
  },
  {
   "cell_type": "markdown",
   "metadata": {},
   "source": [
    "Para la variable 'x' generamos un arreglo discreto con valores enteros. Tambien generamos un arreglo 'a' que contiene la evaluacion de la funcion de probabilidad de Poisson y un arreglo 'y' que contiene la funcion acumulada de la funcion de probabilidad de Possion de su correspondiente valor de media."
   ]
  },
  {
   "cell_type": "code",
   "execution_count": 17,
   "metadata": {},
   "outputs": [],
   "source": [
    "x=np.arange(0, xf, 1)\n",
    "a1 = np.empty(xf)\n",
    "y1 = np.empty(xf)\n"
   ]
  },
  {
   "cell_type": "markdown",
   "metadata": {},
   "source": [
    "Evaluamos la funcion de probabilidad de Poisson y la funcion acumulada."
   ]
  },
  {
   "cell_type": "code",
   "execution_count": 18,
   "metadata": {},
   "outputs": [],
   "source": [
    "for i in range(0, xf):\n",
    "    a1[i] = math.exp(-mu1)*math.pow(mu1,x[i])/math.factorial(x[i])"
   ]
  },
  {
   "cell_type": "code",
   "execution_count": null,
   "metadata": {},
   "outputs": [],
   "source": []
  },
  {
   "cell_type": "code",
   "execution_count": 20,
   "metadata": {},
   "outputs": [
    {
     "data": {
      "text/plain": [
       "Text(0,0.5,'ACUMULADO')"
      ]
     },
     "execution_count": 20,
     "metadata": {},
     "output_type": "execute_result"
    },
    {
     "data": {
      "image/png": "[encoded data removed]",
      "text/plain": [
       "<Figure size 432x288 with 1 Axes>"
      ]
     },
     "metadata": {},
     "output_type": "display_data"
    }
   ],
   "source": [
    "plt.plot(x,y1, \"*\", label=\"CDF POISSON\")\n",
    "plt.plot(x,a1, \"*\", label=\"PDF POISSON λ = 4\")\n",
    "plt.legend()\n",
    "plt.xlabel(\"EJE X\")\n",
    "plt.ylabel(\"ACUMULADO\")"
   ]
  },
  {
   "cell_type": "markdown",
   "metadata": {},
   "source": [
    "## Distribucion Binomial"
   ]
  },
  {
   "cell_type": "markdown",
   "metadata": {},
   "source": [
    "Guardamos 3 valores distintos de 'n' (numero de pruebas) y de 'p' (probabilidad de ocurrencia) para realizar tres diferenctes graficas"
   ]
  },
  {
   "cell_type": "code",
   "execution_count": 21,
   "metadata": {},
   "outputs": [],
   "source": [
    "n1 = 20\n",
    "p1 = 0.7"
   ]
  },
  {
   "cell_type": "code",
   "execution_count": 22,
   "metadata": {},
   "outputs": [],
   "source": [
    "xf4 = n1 + 1\n",
    "x4 = np.arange(0, xf4, 1)\n",
    "a4 = np.empty(xf4)\n",
    "y4 = np.empty(xf4)\n"
   ]
  },
  {
   "cell_type": "markdown",
   "metadata": {},
   "source": [
    "Definimos la funcion 'comb' que genera las combinaciones de 'n' en 'x'. Para poder evaluar el factorial debemos de haber discretizado la variable 'x' en numeros enteros."
   ]
  },
  {
   "cell_type": "code",
   "execution_count": 23,
   "metadata": {},
   "outputs": [],
   "source": [
    "def comb(n, k):\n",
    "    c = math.factorial(n) / (math.factorial(k) * math.factorial((n-k)))\n",
    "    return c"
   ]
  },
  {
   "cell_type": "markdown",
   "metadata": {},
   "source": [
    "Evaluamos la funcion de probabilidad Binomial y la funcion acumulada."
   ]
  },
  {
   "cell_type": "code",
   "execution_count": 24,
   "metadata": {},
   "outputs": [],
   "source": [
    "for i in range(0, xf4):\n",
    "    a4[i] = comb(n1,x4[i]) * math.pow(p1, x4[i]) * math.pow((1 - p1), (n1 - x4[i]))"
   ]
  },
  {
   "cell_type": "code",
   "execution_count": 25,
   "metadata": {},
   "outputs": [],
   "source": [
    "y4[0] = 0\n",
    "for j in range(1, xf4):\n",
    "    y4[j] =  a4[j] + y4[j - 1]"
   ]
  },
  {
   "cell_type": "markdown",
   "metadata": {},
   "source": [
    "Graficamos el CDF y PDF de la funcion de probabilidad Binomial"
   ]
  },
  {
   "cell_type": "code",
   "execution_count": 26,
   "metadata": {},
   "outputs": [
    {
     "data": {
      "text/plain": [
       "Text(0,0.5,'ACUMULADO')"
      ]
     },
     "execution_count": 26,
     "metadata": {},
     "output_type": "execute_result"
    },
    {
     "data": {
      "image/png": "[encoded data removed]",
      "text/plain": [
       "<Figure size 432x288 with 1 Axes>"
      ]
     },
     "metadata": {},
     "output_type": "display_data"
    }
   ],
   "source": [
    "plt.plot(x4,y4, \"*\", label=\"CDF BINOMIAL\")\n",
    "plt.plot(x4,a4, \"*\", label=\"PDF BINOMIAL p = 0.7, n = 20\")\n",
    "plt.legend()\n",
    "plt.xlabel(\"EJE X\")\n",
    "plt.ylabel(\"ACUMULADO\")"
   ]
  },
  {
   "cell_type": "markdown",
   "metadata": {},
   "source": [
    "## Distribucion Beta"
   ]
  },
  {
   "cell_type": "markdown",
   "metadata": {},
   "source": [
    "Generamos tres arreglos 'x' entre (0<𝑥<1) para el eje de las abscisas, tres arreglos 'a' para guardar la evaluacion de la funcion de probabilidad Beta y tres arreglos 'y' para guardar la funcion acumulada."
   ]
  },
  {
   "cell_type": "code",
   "execution_count": 31,
   "metadata": {},
   "outputs": [],
   "source": [
    "x7 = np.arange(0.01,1,0.001)\n",
    "a7 = np.empty(len(x7))\n",
    "y7 = np.empty(len(x7))"
   ]
  },
  {
   "cell_type": "code",
   "execution_count": 32,
   "metadata": {},
   "outputs": [],
   "source": [
    "alfa1 = 0.5\n",
    "beta1 = 0.5"
   ]
  },
  {
   "cell_type": "code",
   "execution_count": 33,
   "metadata": {},
   "outputs": [],
   "source": [
    "for i in range(0, len(x7)):\n",
    "    a7[i] = (scipy.special.gamma(alfa1 + beta1)/(scipy.special.gamma(alfa1) * scipy.special.gamma(beta1))) * math.pow(x7[i], alfa1 - 1) * math.pow((1 - x7[i]), beta1 - 1)"
   ]
  },
  {
   "cell_type": "code",
   "execution_count": 34,
   "metadata": {},
   "outputs": [],
   "source": [
    "y7[0] = 0\n",
    "for j in range(1, len(x7)):\n",
    "    y7[j] =  (a7[j - 1] + a7[j])/2 *0.001 + y7[j - 1] "
   ]
  },
  {
   "cell_type": "markdown",
   "metadata": {},
   "source": [
    "Graficamos el CDF y PDF de la funcion de probabilidad Beta"
   ]
  },
  {
   "cell_type": "code",
   "execution_count": 35,
   "metadata": {},
   "outputs": [
    {
     "data": {
      "text/plain": [
       "Text(0,0.5,'ACUMULADO')"
      ]
     },
     "execution_count": 35,
     "metadata": {},
     "output_type": "execute_result"
    },
    {
     "data": {
      "image/png": "[encoded data removed]",
      "text/plain": [
       "<Figure size 432x288 with 1 Axes>"
      ]
     },
     "metadata": {},
     "output_type": "display_data"
    }
   ],
   "source": [
    "plt.plot(x7,y7, 'green', label=\"CDF BETA\")\n",
    "plt.plot(x7,a7, 'black', label=\"PDF BETA α = 0.5 y β = 0.5\")\n",
    "plt.legend()\n",
    "plt.xlabel(\"EJE X\")\n",
    "plt.ylabel(\"ACUMULADO\")"
   ]
  },
  {
   "cell_type": "markdown",
   "metadata": {},
   "source": [
    "## Distribucion $X^2$"
   ]
  },
  {
   "cell_type": "markdown",
   "metadata": {},
   "source": [
    "Guardamos tres valores diferentes del parametro 'k'."
   ]
  },
  {
   "cell_type": "code",
   "execution_count": 36,
   "metadata": {},
   "outputs": [],
   "source": [
    "k1 = 1"
   ]
  },
  {
   "cell_type": "markdown",
   "metadata": {},
   "source": [
    "Generamos tres arreglos 'x' para el eje de las abscisas, tres arreglos 'a' para guardar la evaluacion de la funcion de probabilidad 𝑥2 y tres arreglos 'y' para guardar la funcion acumulada."
   ]
  },
  {
   "cell_type": "code",
   "execution_count": 37,
   "metadata": {},
   "outputs": [],
   "source": [
    "x10 = np.arange(0.01, 10, 0.01)\n",
    "a10 = np.empty(len(x10))\n",
    "y10 = np.empty(len(x10))"
   ]
  },
  {
   "cell_type": "markdown",
   "metadata": {},
   "source": [
    "Evaluamos la funcion de probabilidad 𝑥2, aqui tambien usaremos la libreria 'scipy.special' para evaluar la funcion gamma. Tambien evaluamos la funcion acumulada."
   ]
  },
  {
   "cell_type": "code",
   "execution_count": 38,
   "metadata": {},
   "outputs": [],
   "source": [
    "for i in range(0, len(x10)):\n",
    "    a10[i] = (1 / (math.pow(2, k1 / 2) * scipy.special.gamma(k1 / 2))) * math.pow(x10[i], k1/2 - 1) * math.pow(math.e, -x10[i]/2)"
   ]
  },
  {
   "cell_type": "code",
   "execution_count": 39,
   "metadata": {},
   "outputs": [],
   "source": [
    "y10[0] = 0\n",
    "for j in range(1, len(x10)):\n",
    "    y10[j] =  (a10[j - 1] + a10[j])/2 *0.01 + y10[j - 1] "
   ]
  },
  {
   "cell_type": "markdown",
   "metadata": {},
   "source": [
    "Graficamos el CDF y PDF de la funcion de probabilidad $x^2$"
   ]
  },
  {
   "cell_type": "code",
   "execution_count": 40,
   "metadata": {},
   "outputs": [
    {
     "data": {
      "text/plain": [
       "Text(0,0.5,'ACUMULADO')"
      ]
     },
     "execution_count": 40,
     "metadata": {},
     "output_type": "execute_result"
    },
    {
     "data": {
      "image/png": "[encoded data removed]",
      "text/plain": [
       "<Figure size 432x288 with 1 Axes>"
      ]
     },
     "metadata": {},
     "output_type": "display_data"
    }
   ],
   "source": [
    "plt.plot(x10,y10, 'green', label=\"CDF $x^2$\")\n",
    "plt.plot(x10,a10, 'black', label=\"PDF $x^2$ k = 1\")\n",
    "plt.legend()\n",
    "plt.xlabel(\"EJE X\")\n",
    "plt.ylabel(\"ACUMULADO\")"
   ]
  },
  {
   "cell_type": "markdown",
   "metadata": {},
   "source": [
    "## Distribucion normal"
   ]
  },
  {
   "cell_type": "markdown",
   "metadata": {},
   "source": [
    "Guardamos diferentes valores de media y desviacion estandar (μ y σ):"
   ]
  },
  {
   "cell_type": "code",
   "execution_count": 78,
   "metadata": {},
   "outputs": [],
   "source": [
    "mu1 = 70\n",
    "\n",
    "sig1 = math.sqrt(2)\n"
   ]
  },
  {
   "cell_type": "code",
   "execution_count": 79,
   "metadata": {},
   "outputs": [],
   "source": [
    "x13 = np.arange(64, 76, 0.01)\n",
    "a13 = np.empty(len(x13))\n",
    "y13 = np.empty(len(x13))"
   ]
  },
  {
   "cell_type": "code",
   "execution_count": 80,
   "metadata": {},
   "outputs": [],
   "source": [
    "for i in range(0, len(x13)):\n",
    "    a13[i] = (1/(sig1*math.sqrt(2*math.pi)))*math.pow(math.e,-1 * math.pow(x13[i]-mu1,2)/(2 * math.pow(sig1,2)))"
   ]
  },
  {
   "cell_type": "code",
   "execution_count": 81,
   "metadata": {},
   "outputs": [],
   "source": [
    "y13[0] = 0\n",
    "for j in range(1, len(x13)):\n",
    "    y13[j] =  (a13[j - 1] + a13[j])/2 *0.01 + y13[j - 1] "
   ]
  },
  {
   "cell_type": "code",
   "execution_count": 82,
   "metadata": {},
   "outputs": [
    {
     "data": {
      "text/plain": [
       "Text(0,0.5,'F(H0)')"
      ]
     },
     "execution_count": 82,
     "metadata": {},
     "output_type": "execute_result"
    },
    {
     "data": {
      "image/png": "[encoded data removed]",
      "text/plain": [
       "<Figure size 432x288 with 1 Axes>"
      ]
     },
     "metadata": {},
     "output_type": "display_data"
    }
   ],
   "source": [
    "plt.plot(x13,a13, 'black', label=\"PDF NORMAL $μ = 70, σ = 2$\")\n",
    "plt.legend()\n",
    "plt.xlabel(\"H0\")\n",
    "plt.ylabel(\"F(H0)\")"
   ]
  },
  {
   "cell_type": "code",
   "execution_count": 85,
   "metadata": {},
   "outputs": [
    {
     "data": {
      "text/plain": [
       "Text(0,0.5,'ACUMULADO')"
      ]
     },
     "execution_count": 85,
     "metadata": {},
     "output_type": "execute_result"
    },
    {
     "data": {
      "image/png": "[encoded data removed]",
      "text/plain": [
       "<Figure size 432x288 with 1 Axes>"
      ]
     },
     "metadata": {},
     "output_type": "display_data"
    }
   ],
   "source": [
    "plt.plot(x13,y13, 'green', label=\"CDF NORMAL\")\n",
    "plt.legend()\n",
    "plt.xlabel(\"EJE X\")\n",
    "plt.ylabel(\"ACUMULADO\")"
   ]
  },
  {
   "cell_type": "markdown",
   "metadata": {},
   "source": [
    "Ahora usamos la funcion inversa para regresar a la distribucion normal:"
   ]
  },
  {
   "cell_type": "code",
   "execution_count": null,
   "metadata": {},
   "outputs": [],
   "source": []
  },
  {
   "cell_type": "code",
   "execution_count": null,
   "metadata": {},
   "outputs": [],
   "source": []
  },
  {
   "cell_type": "code",
   "execution_count": null,
   "metadata": {},
   "outputs": [],
   "source": []
  },
  {
   "cell_type": "code",
   "execution_count": null,
   "metadata": {},
   "outputs": [],
   "source": []
  }
 ],
 "metadata": {
  "kernelspec": {
   "display_name": "Python 3",
   "language": "python",
   "name": "python3"
  },
  "language_info": {
   "codemirror_mode": {
    "name": "ipython",
    "version": 3
   },
   "file_extension": ".py",
   "mimetype": "text/x-python",
   "name": "python",
   "nbconvert_exporter": "python",
   "pygments_lexer": "ipython3",
   "version": "3.6.5"
  }
 },
 "nbformat": 4,
 "nbformat_minor": 2
}
