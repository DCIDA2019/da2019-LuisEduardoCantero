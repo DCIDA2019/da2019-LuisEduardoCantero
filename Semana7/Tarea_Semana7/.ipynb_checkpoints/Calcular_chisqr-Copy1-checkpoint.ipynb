{
 "cells": [
  {
   "cell_type": "markdown",
   "metadata": {},
   "source": [
    "# Ejemplo para determinar el mejor ajuste usando $\\chi^2$"
   ]
  },
  {
   "cell_type": "code",
   "execution_count": 1,
   "metadata": {},
   "outputs": [],
   "source": [
    "import numpy as np\n",
    "import math as mt\n",
    "import matplotlib.pyplot as plt"
   ]
  },
  {
   "cell_type": "markdown",
   "metadata": {},
   "source": [
    "1- A partir de la recta y=3x+2 generar 15 puntos y sociar un error relativo de aproximadamente 0.2. Graficar y guardar en un archivo."
   ]
  },
  {
   "cell_type": "code",
   "execution_count": 2,
   "metadata": {},
   "outputs": [],
   "source": [
    "a = 3\n",
    "b = 2\n",
    "n = 15\n",
    "xor = np.linspace(0,2,15)\n",
    "yor = a*xor + b"
   ]
  },
  {
   "cell_type": "code",
   "execution_count": 3,
   "metadata": {},
   "outputs": [
    {
     "data": {
      "text/plain": [
       "[<matplotlib.lines.Line2D at 0x7f00b56ffc18>]"
      ]
     },
     "execution_count": 3,
     "metadata": {},
     "output_type": "execute_result"
    },
    {
     "data": {
      "image/png": "[encoded data removed]",
      "text/plain": [
       "<Figure size 432x288 with 1 Axes>"
      ]
     },
     "metadata": {},
     "output_type": "display_data"
    }
   ],
   "source": [
    "plt.plot(xor, yor, '*', c='green')"
   ]
  },
  {
   "cell_type": "code",
   "execution_count": 4,
   "metadata": {},
   "outputs": [],
   "source": [
    "sigma = 0.2\n",
    "error = np.random.uniform(low=-sigma, high=sigma, size=15)"
   ]
  },
  {
   "cell_type": "code",
   "execution_count": 5,
   "metadata": {},
   "outputs": [],
   "source": [
    "ydat = yor + error"
   ]
  },
  {
   "cell_type": "code",
   "execution_count": 6,
   "metadata": {},
   "outputs": [
    {
     "data": {
      "text/plain": [
       "<function matplotlib.pyplot.show(*args, **kw)>"
      ]
     },
     "execution_count": 6,
     "metadata": {},
     "output_type": "execute_result"
    },
    {
     "data": {
      "image/png": "[encoded data removed]",
      "text/plain": [
       "<Figure size 432x288 with 1 Axes>"
      ]
     },
     "metadata": {},
     "output_type": "display_data"
    }
   ],
   "source": [
    "fig, ax = plt.subplots()\n",
    "ax.errorbar(xor, ydat, yerr=sigma,fmt='o')\n",
    "plt.plot(xor, yor, c='blue', label='ORIGINAL')\n",
    "plt.xlabel('X')\n",
    "plt.ylabel('Y')\n",
    "plt.show"
   ]
  },
  {
   "cell_type": "code",
   "execution_count": 7,
   "metadata": {},
   "outputs": [],
   "source": [
    "aran = np.random.uniform(low=a - sigma, high=a + sigma, size=15)\n",
    "bran = np.random.uniform(low=b - sigma, high=b + sigma, size=15)"
   ]
  },
  {
   "cell_type": "code",
   "execution_count": 8,
   "metadata": {},
   "outputs": [
    {
     "data": {
      "text/plain": [
       "15"
      ]
     },
     "execution_count": 8,
     "metadata": {},
     "output_type": "execute_result"
    }
   ],
   "source": [
    "len(xor)"
   ]
  },
  {
   "cell_type": "markdown",
   "metadata": {},
   "source": [
    "2- Definir una funcion y = ax + b"
   ]
  },
  {
   "cell_type": "code",
   "execution_count": 9,
   "metadata": {},
   "outputs": [],
   "source": [
    "# DATOS\n",
    "def line(x, m, b):\n",
    "    return(m*x + b)"
   ]
  },
  {
   "cell_type": "markdown",
   "metadata": {},
   "source": [
    "3- GENERAR LAS MUESTRAS"
   ]
  },
  {
   "cell_type": "code",
   "execution_count": 10,
   "metadata": {},
   "outputs": [],
   "source": [
    "a0, sigma_a0 = 2.9, 0.1\n",
    "b0, sigma_b0 = 2.1, 0.1\n",
    "\n",
    "a_sample = sigma_a0 * np.random.randn(1000) + a0\n",
    "b_sample = sigma_b0 * np.random.randn(1000) + b0\n"
   ]
  },
  {
   "cell_type": "code",
   "execution_count": 11,
   "metadata": {},
   "outputs": [
    {
     "data": {
      "text/plain": [
       "<matplotlib.legend.Legend at 0x7f00b55cde10>"
      ]
     },
     "execution_count": 11,
     "metadata": {},
     "output_type": "execute_result"
    },
    {
     "data": {
      "image/png": "[encoded data removed]",
      "text/plain": [
       "<Figure size 432x288 with 1 Axes>"
      ]
     },
     "metadata": {},
     "output_type": "display_data"
    }
   ],
   "source": [
    "plt.hist(a_sample, alpha = 0.5, label = 'a')\n",
    "plt.hist(b_sample, alpha = 0.5, label = 'b')\n",
    "plt.axvline(a)\n",
    "plt.axvline(b)\n",
    "plt.legend()"
   ]
  },
  {
   "cell_type": "code",
   "execution_count": 12,
   "metadata": {},
   "outputs": [],
   "source": [
    "def chisqr(theta, data):\n",
    "    x = data[0]\n",
    "    y = data[1]\n",
    "    yerr = data[2]\n",
    "    # Lo que sigue depende del modelo\n",
    "    model = line(x, theta[0], theta[1])\n",
    "    \n",
    "    chisqr = (y-model) ** 2 / (yerr**2)\n",
    "    return chisqr.sum()\n",
    "    "
   ]
  },
  {
   "cell_type": "code",
   "execution_count": 13,
   "metadata": {},
   "outputs": [],
   "source": [
    "def chisqr(theta, data):\n",
    "    x = xor\n",
    "    y = ydat\n",
    "    yerr = sigma\n",
    "    # Lo que sigue depende del modelo\n",
    "    model = line(x, theta[0], theta[1])\n",
    "    \n",
    "    chisqr = (y-model) ** 2 / (yerr**2)\n",
    "    return chisqr.sum()"
   ]
  },
  {
   "cell_type": "code",
   "execution_count": 14,
   "metadata": {},
   "outputs": [],
   "source": [
    "chisqr_ = np.zeros_like(a_sample)\n",
    "for i in range(len(a_sample)):\n",
    "    chisqr_[i] = chisqr((a_sample[i], b_sample[i]), [ydat, xor, sigma])"
   ]
  },
  {
   "cell_type": "code",
   "execution_count": 15,
   "metadata": {
    "scrolled": false
   },
   "outputs": [],
   "source": [
    "mini = np.min(chisqr_)\n",
    "a_best, b_best = a_sample[np.where(chisqr_==mini)],  b_sample[np.where(chisqr_==mini)]"
   ]
  },
  {
   "cell_type": "code",
   "execution_count": 16,
   "metadata": {},
   "outputs": [
    {
     "data": {
      "text/plain": [
       "array([2.90935345])"
      ]
     },
     "execution_count": 16,
     "metadata": {},
     "output_type": "execute_result"
    }
   ],
   "source": [
    "a_best"
   ]
  },
  {
   "cell_type": "code",
   "execution_count": 107,
   "metadata": {},
   "outputs": [
    {
     "data": {
      "text/plain": [
       "array([1.92897764])"
      ]
     },
     "execution_count": 107,
     "metadata": {},
     "output_type": "execute_result"
    }
   ],
   "source": [
    "b_best"
   ]
  }
 ],
 "metadata": {
  "kernelspec": {
   "display_name": "Python 3",
   "language": "python",
   "name": "python3"
  },
  "language_info": {
   "codemirror_mode": {
    "name": "ipython",
    "version": 3
   },
   "file_extension": ".py",
   "mimetype": "text/x-python",
   "name": "python",
   "nbconvert_exporter": "python",
   "pygments_lexer": "ipython3",
   "version": "3.6.5"
  }
 },
 "nbformat": 4,
 "nbformat_minor": 2
}
