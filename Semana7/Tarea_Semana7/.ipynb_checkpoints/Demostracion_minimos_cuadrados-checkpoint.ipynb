{
 "cells": [
  {
   "cell_type": "markdown",
   "metadata": {},
   "source": [
    "# Ajuste de minimos cuadrados"
   ]
  },
  {
   "cell_type": "markdown",
   "metadata": {},
   "source": [
    "El ajuste de minimos cuadrados es un procedimiento matematico para encontrar la curva que mejor se ajusta a un conjunto de puntos minimizando la suma de los cuadrados de los desplazamientos de los puntos de la curva. La suma de los cuadrados de los desplazamientos se utiliza en lugar de los valores absolutos de desplazamiento porque esto permite que los residuos se traten como una cantidad diferenciable continua. Sin embargo, debido a que se utilizan cuadrados de los desplazamientos, los puntos perifericos pueden tener un efecto desproporcionado en el ajuste, una propiedad que puede o no ser deseable dependiendo del problema en cuestion."
   ]
  },
  {
   "cell_type": "markdown",
   "metadata": {},
   "source": [
    "En la práctica, los desplazamientos verticales de una línea (polinomio, superficie, hiperplano, etc.) casi siempre se minimizan en lugar de los desplazamientos perpendiculares. Esto proporciona una función de ajuste para la variable independiente $X$ que estima $y$ para un determinado $x$, permite que las incertidumbres de los puntos de datos a lo largo de los ejes $x$ y $y$ se incorporen de manera simple, y también proporciona una forma analítica mucho más simple para los parámetros de ajuste que se obtendrian usando un ajuste basado en desplazamientos perpendiculares. Ademas, la tecnica de ajuste se puede generalizar facilmente desde una línea de mejor ajuste a un polinomio de mejor ajuste cuando se utilizan sumas de distancias verticales. En cualquier caso, para un número razonable de puntos de datos ruidosos, la diferencia entre ajustes verticales y perpendiculares es bastante pequeña."
   ]
  },
  {
   "cell_type": "markdown",
   "metadata": {},
   "source": [
    "La técnica de ajuste lineal de mínimos cuadrados es la forma más simple y más comúnmente aplicada de regresión lineal y proporciona una solución al problema de encontrar la mejor línea recta de ajuste a través de un conjunto de puntos. De hecho, si se conoce la relación funcional entre las dos cantidades que se grafican dentro de constantes aditivas o multiplicativas, es una práctica común transformar los datos de tal manera que la línea resultante sea una línea recta, digamos al trazar $T$ vs. $l^{1/2}$ en lugar de  $T$ vs. $l$ en el caso de analizar el período de un péndulo en función de su longitud. Por esta razón, las formas estándar de las leyes exponenciales, logarítmicas y de potencia a menudo se calculan explícitamente. Las fórmulas para el ajuste lineal de mínimos cuadrados fueron derivadas independientemente por Gauss y Legendre."
   ]
  },
  {
   "cell_type": "markdown",
   "metadata": {},
   "source": [
    "Para el ajuste de mínimos cuadrados no lineales a una serie de parámetros desconocidos, el ajuste de mínimos cuadrados lineales puede aplicarse iterativamente a una forma linealizada de la función hasta que se logre la convergencia. Sin embargo, a menudo también es posible linealizar una función no lineal desde el principio y seguir utilizando métodos lineales para determinar los parámetros de ajuste sin recurrir a procedimientos iterativos. Este enfoque viola comúnmente la suposición implícita de que la distribución de errores es normal, pero a menudo aún da resultados aceptables usando ecuaciones normales, un pseudoinverso, etc. Dependiendo del tipo de ajuste y los parámetros iniciales elegidos, el ajuste no lineal puede ser bueno o malo. Propiedades de convergencia. Si se dan incertidumbres (en el caso más general, puntos suspensivos de error) para los puntos, los puntos se pueden ponderar de manera diferente para dar mayor peso a los puntos de alta calidad."
   ]
  },
  {
   "cell_type": "markdown",
   "metadata": {},
   "source": [
    "El ajuste vertical de mínimos cuadrados procede al encontrar la suma de los cuadrados de las desviaciones verticales, $R^2$ de un conjunto de $n$ puntos de datos de una funcion $f$"
   ]
  },
  {
   "cell_type": "markdown",
   "metadata": {},
   "source": [
    "$R^2 \\equiv \\sum [y_{i}-f(x_{i},a_{1},a_{2}...,a_{n})]^2,$"
   ]
  },
  {
   "cell_type": "markdown",
   "metadata": {},
   "source": [
    "Tenga en cuenta que este procedimiento no minimiza las desviaciones reales de la línea (que se mediría perpendicularmente a la función dada). Además, aunque la suma no cuadrada de distancias puede parecer una cantidad más apropiada para minimizar, el uso del valor absoluto da como resultado derivados discontinuos que no pueden tratarse analíticamente. Por lo tanto, las desviaciones cuadradas de cada punto se suman, y el residuo resultante se minimiza para encontrar la mejor línea de ajuste. Este procedimiento da como resultado que los puntos periféricos reciban una ponderación desproporcionadamente grande.La condición para ser mínimo es que"
   ]
  },
  {
   "cell_type": "markdown",
   "metadata": {},
   "source": [
    "$\\dfrac{\\partial(R^2)}{\\partial(a_{i})}=0$"
   ]
  },
  {
   "cell_type": "markdown",
   "metadata": {},
   "source": [
    "para i = 1,...,n. Para un ajuste lineal, "
   ]
  },
  {
   "cell_type": "markdown",
   "metadata": {},
   "source": [
    "$f(a, b) = a + bx$"
   ]
  },
  {
   "cell_type": "markdown",
   "metadata": {},
   "source": [
    "por lo tanto:"
   ]
  },
  {
   "cell_type": "markdown",
   "metadata": {},
   "source": [
    "$R^2(a, b) \\equiv \\sum [y_{i}-(a + bx_{i}))]^2,$"
   ]
  },
  {
   "cell_type": "markdown",
   "metadata": {},
   "source": [
    "$\\dfrac{\\partial(R^2)}{\\partial(b)} = -2\\sum [y_{i}-(a + bx_{i})]x_{i} = 0$"
   ]
  },
  {
   "cell_type": "markdown",
   "metadata": {},
   "source": [
    "Eso lleva a las siguientes ecuaciones:"
   ]
  },
  {
   "cell_type": "code",
   "execution_count": null,
   "metadata": {},
   "outputs": [],
   "source": []
  },
  {
   "cell_type": "code",
   "execution_count": null,
   "metadata": {},
   "outputs": [],
   "source": []
  },
  {
   "cell_type": "code",
   "execution_count": null,
   "metadata": {},
   "outputs": [],
   "source": []
  },
  {
   "cell_type": "code",
   "execution_count": null,
   "metadata": {},
   "outputs": [],
   "source": []
  },
  {
   "cell_type": "code",
   "execution_count": null,
   "metadata": {},
   "outputs": [],
   "source": []
  },
  {
   "cell_type": "code",
   "execution_count": null,
   "metadata": {},
   "outputs": [],
   "source": []
  },
  {
   "cell_type": "code",
   "execution_count": null,
   "metadata": {},
   "outputs": [],
   "source": []
  }
 ],
 "metadata": {
  "kernelspec": {
   "display_name": "Python 3",
   "language": "python",
   "name": "python3"
  },
  "language_info": {
   "codemirror_mode": {
    "name": "ipython",
    "version": 3
   },
   "file_extension": ".py",
   "mimetype": "text/x-python",
   "name": "python",
   "nbconvert_exporter": "python",
   "pygments_lexer": "ipython3",
   "version": "3.6.5"
  }
 },
 "nbformat": 4,
 "nbformat_minor": 2
}
