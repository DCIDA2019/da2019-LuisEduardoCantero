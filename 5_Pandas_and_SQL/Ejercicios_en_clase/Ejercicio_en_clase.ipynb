{
 "cells": [
  {
   "cell_type": "code",
   "execution_count": 1,
   "metadata": {},
   "outputs": [],
   "source": [
    "# Impotamos las lbrerias necesarias\n",
    "import numpy as np\n",
    "import math as mt\n",
    "import matplotlib.pyplot as plt\n",
    "import pandas as pd\n",
    "import requests\n",
    "import os"
   ]
  },
  {
   "cell_type": "code",
   "execution_count": 2,
   "metadata": {},
   "outputs": [],
   "source": [
    "# SE CARGAN LOS ARCHIVOS DE DATOS DE 2018\n",
    "LLUVIA_2018 = pd.read_csv('201801010000Lluv.csv',encoding='latin-1')\n",
    "TMAX_2018 = pd.read_csv('201801010000TMax.csv',encoding='latin-1')\n",
    "TMIN_2018 = pd.read_csv('201801010000TMin.csv',encoding='latin-1')\n",
    "TMED_2018 = pd.read_csv('201801010000TMed.csv',encoding='latin-1')"
   ]
  },
  {
   "cell_type": "code",
   "execution_count": 3,
   "metadata": {},
   "outputs": [],
   "source": [
    "# SE CARGAN LOS ARCHIVOS DE DATOS DE 2019\n",
    "LLUVIA_2019 = pd.read_csv('201901010000Lluv.csv',encoding='latin-1')\n",
    "TMAX_2019 = pd.read_csv('201901010000TMax.csv',encoding='latin-1')\n",
    "TMIN_2019 = pd.read_csv('201901010000TMin.csv',encoding='latin-1')\n",
    "TMED_2019 = pd.read_csv('201901010000TMed.csv',encoding='latin-1')"
   ]
  },
  {
   "cell_type": "markdown",
   "metadata": {},
   "source": [
    "Se unen en una sola "
   ]
  },
  {
   "cell_type": "code",
   "execution_count": 4,
   "metadata": {},
   "outputs": [],
   "source": [
    "LLUVIA = pd.merge(LLUVIA_2018, LLUVIA_2019.iloc[:, 3:6], on='CLAVE_SIH')\n",
    "TMAX = pd.merge(TMAX_2018, TMAX_2019.iloc[:, 2:6], on='Clave')\n",
    "TMED = pd.merge(TMED_2018, TMED_2019.iloc[:, 2:6], on='Clave')\n",
    "TMIN = pd.merge(TMIN_2018, TMIN_2019.iloc[:, 2:6], on='Clave')"
   ]
  },
  {
   "cell_type": "code",
   "execution_count": 5,
   "metadata": {},
   "outputs": [
    {
     "name": "stdout",
     "output_type": "stream",
     "text": [
      "Index(['LON', 'LAT', 'ESTADO', 'CLAVE_SIH', 'NOMBRE', 'ENE'], dtype='object')\n"
     ]
    }
   ],
   "source": [
    "print(LLUVIA_2018.keys())"
   ]
  },
  {
   "cell_type": "code",
   "execution_count": 6,
   "metadata": {},
   "outputs": [
    {
     "name": "stdout",
     "output_type": "stream",
     "text": [
      "Index(['LON', 'LAT', 'EDO', 'CLAVE_SIH', 'NOMBRE', 'ENE'], dtype='object')\n"
     ]
    }
   ],
   "source": [
    "print(LLUVIA_2019.keys())"
   ]
  },
  {
   "cell_type": "code",
   "execution_count": 7,
   "metadata": {},
   "outputs": [],
   "source": [
    "LLUVIA_2018 = LLUVIA_2018.rename(columns={\"ESTADO\":\"EDO\"})"
   ]
  },
  {
   "cell_type": "code",
   "execution_count": 8,
   "metadata": {},
   "outputs": [
    {
     "data": {
      "text/plain": [
       "array(['AGS', 'BC', 'BCS', 'CAMP', 'CHIH', 'CHIS', 'COAH', 'COL', 'DF',\n",
       "       'DGO', 'GRO', 'GTO', 'HGO', 'JAL', 'MEX', 'MICH', 'MOR', 'NAY',\n",
       "       'NL', 'OAX', 'PUE', 'QRO', 'QROO', 'SIN', 'SLP', 'SON', 'TAB',\n",
       "       'TAMS', 'TLAX', 'VER', 'YUC', 'ZAC'], dtype=object)"
      ]
     },
     "execution_count": 8,
     "metadata": {},
     "output_type": "execute_result"
    }
   ],
   "source": [
    "edos2018 = np.unique(LLUVIA_2018['EDO'])\n",
    "edos2018\n",
    "edos2019 = np.unique(LLUVIA_2019['EDO'])\n",
    "edos2019"
   ]
  },
  {
   "cell_type": "code",
   "execution_count": 9,
   "metadata": {},
   "outputs": [
    {
     "name": "stdout",
     "output_type": "stream",
     "text": [
      "[ True  True  True  True  True  True  True  True  True  True  True  True\n",
      "  True  True  True  True  True  True  True  True  True  True  True  True\n",
      "  True  True  True  True  True  True  True  True]\n",
      "[ True  True  True  True  True  True  True  True  True  True  True  True\n",
      "  True  True  True  True  True  True  True  True  True  True  True  True\n",
      "  True  True  True  True  True  True  True  True]\n"
     ]
    }
   ],
   "source": [
    "print(edos2018==edos2019)\n",
    "print(np.in1d(edos2018, edos2019))"
   ]
  },
  {
   "cell_type": "code",
   "execution_count": 10,
   "metadata": {},
   "outputs": [
    {
     "data": {
      "text/plain": [
       "0      6.61\n",
       "1     10.60\n",
       "2     10.50\n",
       "3     18.17\n",
       "4     16.70\n",
       "5     17.30\n",
       "6      9.20\n",
       "7     13.20\n",
       "8      7.20\n",
       "9      6.30\n",
       "10    24.30\n",
       "11     5.51\n",
       "12    15.50\n",
       "13     8.71\n",
       "14    10.40\n",
       "15    11.00\n",
       "16     6.80\n",
       "17     6.00\n",
       "18    11.53\n",
       "19    17.41\n",
       "20     6.00\n",
       "21    11.00\n",
       "22    22.20\n",
       "Name: ENE, dtype: float64"
      ]
     },
     "execution_count": 10,
     "metadata": {},
     "output_type": "execute_result"
    }
   ],
   "source": [
    "w = LLUVIA_2019['EDO']=='AGS'\n",
    "w2 = LLUVIA_2019['EDO']=='AGS'\n",
    "\n",
    "LLUVIA_2019[w]['ENE']"
   ]
  },
  {
   "cell_type": "code",
   "execution_count": 11,
   "metadata": {},
   "outputs": [
    {
     "data": {
      "text/plain": [
       "11.83217391304348"
      ]
     },
     "execution_count": 11,
     "metadata": {},
     "output_type": "execute_result"
    }
   ],
   "source": [
    "LLUVIA_2019[w]['ENE'].mean()"
   ]
  },
  {
   "cell_type": "code",
   "execution_count": 12,
   "metadata": {},
   "outputs": [],
   "source": [
    "mean2018_edo_ene = []\n",
    "mean2019_edo_ene = []\n",
    "\n",
    "for edo in edos2019:\n",
    "    w = LLUVIA_2019['EDO']==edo\n",
    "    w2 = LLUVIA_2018['EDO']==edo\n",
    "    mean2019_edo_ene.append(LLUVIA_2019[w]['ENE'].mean())\n",
    "    mean2018_edo_ene.append(LLUVIA_2018[w2]['ENE'].mean())\n",
    "    \n"
   ]
  },
  {
   "cell_type": "code",
   "execution_count": 13,
   "metadata": {},
   "outputs": [
    {
     "name": "stdout",
     "output_type": "stream",
     "text": [
      "AGS 11.83217391304348\n",
      "BC 25.49\n",
      "BCS 11.754999999999999\n",
      "CAMP 22.060526315789474\n",
      "CHIH 18.677727272727267\n",
      "CHIS 40.742957746478886\n",
      "COAH 5.731481481481483\n",
      "COL 2.336315789473684\n",
      "DF 5.908970588235294\n",
      "DGO 5.645882352941176\n",
      "GRO 1.172340425531915\n",
      "GTO 2.735454545454546\n",
      "HGO 13.343809523809522\n",
      "JAL 8.719272727272726\n",
      "MEX 4.6706666666666665\n",
      "MICH 7.173333333333332\n",
      "MOR 0.42911111111111117\n",
      "NAY 0.5825\n",
      "NL 26.570857142857143\n",
      "OAX 28.508750000000003\n",
      "PUE 12.75016129032258\n",
      "QRO 2.085714285714286\n",
      "QROO 101.29714285714284\n",
      "SIN 8.102978723404256\n",
      "SLP 29.77318181818182\n",
      "SON 19.13021739130435\n",
      "TAB 132.25318181818182\n",
      "TAMS 29.56677419354839\n",
      "TLAX 0.565\n",
      "VER 46.25061224489798\n",
      "YUC 35.9608\n",
      "ZAC 12.004883720930234\n"
     ]
    }
   ],
   "source": [
    "for i in range(len(edos2019)):\n",
    "    print(edos2019[i], mean2019_edo_ene[i])\n",
    "    \n",
    "min_ene=min(mean2019_edo_ene)\n",
    "max_ene=max(mean2019_edo_ene)\n",
    "indx_min = np.where(mean2019_edo_ene==min(mean2019_edo_ene))\n",
    "indx_max = np.where(mean2019_edo_ene==max(mean2019_edo_ene))\n",
    "\n",
    "#print(\"Estado con menor precipitacion promedio:\", edos2019[indx_min[0]][0], min(mean2019_edo_ene))"
   ]
  },
  {
   "cell_type": "code",
   "execution_count": null,
   "metadata": {},
   "outputs": [],
   "source": []
  },
  {
   "cell_type": "code",
   "execution_count": null,
   "metadata": {},
   "outputs": [],
   "source": []
  }
 ],
 "metadata": {
  "kernelspec": {
   "display_name": "Python 3 (ipykernel)",
   "language": "python",
   "name": "python3"
  },
  "language_info": {
   "codemirror_mode": {
    "name": "ipython",
    "version": 3
   },
   "file_extension": ".py",
   "mimetype": "text/x-python",
   "name": "python",
   "nbconvert_exporter": "python",
   "pygments_lexer": "ipython3",
   "version": "3.8.10"
  }
 },
 "nbformat": 4,
 "nbformat_minor": 2
}
