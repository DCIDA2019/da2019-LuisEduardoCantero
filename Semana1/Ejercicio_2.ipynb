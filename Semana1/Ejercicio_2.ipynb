{
 "cells": [
  {
   "cell_type": "markdown",
   "metadata": {},
   "source": [
    "## Buscar otro tutorial de Python y hacer ejercicios usando numpy y funciones. Hacer un notebook. Resaltar las diferencias entre tipos de variables, listas y arreglos, etc."
   ]
  },
  {
   "cell_type": "code",
   "execution_count": 2,
   "metadata": {},
   "outputs": [],
   "source": [
    "import matplotlib.pyplot as plt\n",
    "import numpy as np\n",
    "%matplotlib inline"
   ]
  },
  {
   "cell_type": "markdown",
   "metadata": {},
   "source": [
    "### Graficando la funcion $y=x^2$"
   ]
  },
  {
   "cell_type": "code",
   "execution_count": 7,
   "metadata": {},
   "outputs": [],
   "source": [
    "# Se crean las variables x en el rango (-5,5) y $y=x^2$\n",
    "\n",
    "x=np.linspace(-5,5,30)\n",
    "x2=np.arange(-5,5,0.2)\n",
    "y=x**2\n",
    "y2=x2**3\n"
   ]
  },
  {
   "cell_type": "code",
   "execution_count": 6,
   "metadata": {},
   "outputs": [
    {
     "data": {
      "text/plain": [
       "Text(0,0.5,'Eje Y')"
      ]
     },
     "execution_count": 6,
     "metadata": {},
     "output_type": "execute_result"
    },
    {
     "data": {
      "image/png": "[encoded data removed]",
      "text/plain": [
       "<Figure size 432x288 with 1 Axes>"
      ]
     },
     "metadata": {},
     "output_type": "display_data"
    }
   ],
   "source": [
    "# Graficar las funciones creadas e indicar nombres a los ejes, etiqueta y cambiarla de color\n",
    "\n",
    "plt.plot(x,y, 'green', label=\"$y=x^2$\")\n",
    "plt.plot(x2,y2, 'blue', label=\"y=x^3$\")\n",
    "plt.legend()\n",
    "plt.xlabel(\"Eje X\")\n",
    "plt.ylabel(\"Eje Y\")"
   ]
  },
  {
   "cell_type": "code",
   "execution_count": 11,
   "metadata": {},
   "outputs": [
    {
     "data": {
      "text/plain": [
       "Text(0,0.5,'Eje Y')"
      ]
     },
     "execution_count": 11,
     "metadata": {},
     "output_type": "execute_result"
    },
    {
     "data": {
      "image/png": "[encoded data removed]",
      "text/plain": [
       "<Figure size 432x288 with 1 Axes>"
      ]
     },
     "metadata": {},
     "output_type": "display_data"
    }
   ],
   "source": [
    "# Aqui s grafican las mismas funciones pero con otro estilo de punto\n",
    "\n",
    "plt.plot(x,y, 'or', color = 'green', label=\"$y=x^2$\")\n",
    "plt.plot(x2,y2, 'or', color = 'blue', label=\"y=x^3$\")\n",
    "plt.xlabel(\"Eje X\")\n",
    "plt.ylabel(\"Eje Y\")"
   ]
  },
  {
   "cell_type": "code",
   "execution_count": null,
   "metadata": {},
   "outputs": [],
   "source": [
    "### Esta parte crea una grafica para obtener la temperatura reducida 𝑇∗ como una funcion de 𝜆 para D = 1 a 5. Se incluye una funcion para integrar numericamente Este es un ejercicio que hice en la clase de simulacion molecular."
   ]
  },
  {
   "cell_type": "code",
   "execution_count": null,
   "metadata": {},
   "outputs": [],
   "source": [
    "dx = 0.00001 # funciona mejor con 0.00001 para 2, 3, 4 y 5 D. 0.00001 para D = 1.\n",
    "\n",
    "def integra(expresion):\n",
    "    u = 0\n",
    "    for j in range(1, len(expresion)-1):\n",
    "        are = (expresion[j] + expresion[j+1])/2 * dx\n",
    "        u += are\n",
    "    return u + 2 * (expresion[1])/2 * dx\n",
    "\n",
    "def area(t, lamb, d):\n",
    "    x = np.longdouble(np.arange(0.000001, lamb / (lamb - 1), dx)) #np.float128\n",
    "    tred = t\n",
    "    a = lamb * np.power(lamb / (lamb - 1), lamb - 1)\n",
    "    b = lamb / (lamb - 1)\n",
    "    expon = np.exp(-(1/tred) * (a * (np.power((1/x), lamb) - np.power((1/x), (lamb - 1))) + 1))\n",
    "    expresion = np.power(x, d - 1) * (expon - 1)\n",
    "    return integra(expresion) * d + 1\n",
    "\n",
    "def raiz(t, des, lamb, d):\n",
    "    while np.absolute(area(t, lamb, d)) > 0.00000001:#funciona con 0.000001 en D= 2, 3, 4, y 5. 0.0000001 en D= 1.\n",
    "        a2 = area(t, lamb, d)\n",
    "        a1 = area(t+des, lamb, d)\n",
    "        m = (a2 - a1) / (-des)\n",
    "        b = a2 - m * t\n",
    "        t = -b / m   \n",
    "    return t\n",
    " \n",
    "def tred(d):\n",
    "    f = []\n",
    "    for lamb in range(10, 1000, 10):\n",
    "        t = 1.46\n",
    "        f.append(raiz(t, 0.00001, lamb, d))\n",
    "    return f"
   ]
  },
  {
   "cell_type": "code",
   "execution_count": null,
   "metadata": {},
   "outputs": [],
   "source": [
    "f1 = tred(1)\n",
    "xx = np.arange(10, 1000, 10)"
   ]
  },
  {
   "cell_type": "code",
   "execution_count": null,
   "metadata": {},
   "outputs": [],
   "source": [
    "plt.rcParams[\"figure.figsize\"] = (8,8)\n",
    "plt.xlim(10, 1000)\n",
    "plt.ylim(1.43, 1.65)\n",
    "plt.xlabel(\"$\\lambda$\")\n",
    "plt.ylabel(\"$T^{*}$\")\n",
    "plt.semilogx(xx, f1, \"-\", color = 'k', label = \"D = 1\")\n",
    "plt.semilogx(xx, f2, \"-\", color = 'r', label = \"D = 2\")\n",
    "plt.semilogx(xx, f3, \"-\", color = 'b', label = \"D = 3\")\n",
    "plt.semilogx(xx, f4, \"-\", color = 'g', label = \"D = 4\")\n",
    "plt.semilogx(xx, f5, \"-\", color = 'm', label = \"D = 5\")\n",
    "plt.grid(b=None, which='major', axis='both')\n",
    "plt.legend()"
   ]
  },
  {
   "cell_type": "code",
   "execution_count": null,
   "metadata": {},
   "outputs": [],
   "source": []
  },
  {
   "cell_type": "markdown",
   "metadata": {},
   "source": [
    "### Manejo de arreglos con el paquete numpy"
   ]
  },
  {
   "cell_type": "markdown",
   "metadata": {},
   "source": [
    "Para crear un array la forma mas directa es pasarle una secuencia a la funcion np.array. Ejemplo:"
   ]
  },
  {
   "cell_type": "code",
   "execution_count": 13,
   "metadata": {},
   "outputs": [
    {
     "data": {
      "text/plain": [
       "array([  1,   2,   3,  23, 235,  23,   4])"
      ]
     },
     "execution_count": 13,
     "metadata": {},
     "output_type": "execute_result"
    }
   ],
   "source": [
    "np.array([1, 2, 3, 23, 235, 23, 4])"
   ]
  },
  {
   "cell_type": "markdown",
   "metadata": {},
   "source": [
    "#### Notas:"
   ]
  },
  {
   "cell_type": "markdown",
   "metadata": {},
   "source": [
    "1.-Utilizar arreglos es mas eficiente que utilizar bucles. 2.-Eliminar bucles y usar arreglos significa vectorizar operaciones. 3.-Los bucles se ejecutan en Python, las operaciones vectorizadas en C. 4.-Las operaciones entre arrays de numpy se realizan elemento a elemento."
   ]
  },
  {
   "cell_type": "code",
   "execution_count": 14,
   "metadata": {},
   "outputs": [],
   "source": [
    "N, M = 100,100\n",
    "a = np.empty(10000).reshape(N,M)\n",
    "b = np.random.rand(10000).reshape(N, M)\n",
    "c = np.random.rand(10000).reshape(N, M)"
   ]
  },
  {
   "cell_type": "code",
   "execution_count": 15,
   "metadata": {},
   "outputs": [
    {
     "name": "stdout",
     "output_type": "stream",
     "text": [
      "8.83 ms ± 1.2 ms per loop (mean ± std. dev. of 7 runs, 100 loops each)\n"
     ]
    }
   ],
   "source": [
    "%%timeit\n",
    "for i in range(N):\n",
    "    for j in range(M):\n",
    "        a[i, j] = b[i, j] + c[i, j]"
   ]
  },
  {
   "cell_type": "code",
   "execution_count": 16,
   "metadata": {},
   "outputs": [
    {
     "name": "stdout",
     "output_type": "stream",
     "text": [
      "11.3 µs ± 511 ns per loop (mean ± std. dev. of 7 runs, 100000 loops each)\n"
     ]
    }
   ],
   "source": [
    "%%timeit\n",
    "a = b + c"
   ]
  },
  {
   "cell_type": "markdown",
   "metadata": {},
   "source": [
    "Como podemos ver, para este ejemplo la diferencia de tiempo entre usar un bucle y una suma vectorizada es de un orden 1000 veces menor. Numpy tiene estructuras muy optimizadas para realizar las mismas operaciones en un menor tiempo que python."
   ]
  },
  {
   "cell_type": "code",
   "execution_count": null,
   "metadata": {},
   "outputs": [],
   "source": []
  },
  {
   "cell_type": "code",
   "execution_count": null,
   "metadata": {},
   "outputs": [],
   "source": []
  },
  {
   "cell_type": "code",
   "execution_count": null,
   "metadata": {},
   "outputs": [],
   "source": []
  },
  {
   "cell_type": "code",
   "execution_count": null,
   "metadata": {},
   "outputs": [],
   "source": []
  },
  {
   "cell_type": "code",
   "execution_count": null,
   "metadata": {},
   "outputs": [],
   "source": []
  }
 ],
 "metadata": {
  "kernelspec": {
   "display_name": "Python 3",
   "language": "python",
   "name": "python3"
  },
  "language_info": {
   "codemirror_mode": {
    "name": "ipython",
    "version": 3
   },
   "file_extension": ".py",
   "mimetype": "text/x-python",
   "name": "python",
   "nbconvert_exporter": "python",
   "pygments_lexer": "ipython3",
   "version": "3.6.5"
  }
 },
 "nbformat": 4,
 "nbformat_minor": 2
}
